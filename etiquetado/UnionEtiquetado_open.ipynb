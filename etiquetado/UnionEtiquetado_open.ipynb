{
  "cells": [
    {
      "cell_type": "markdown",
      "metadata": {
        "id": "_-KarOQNArIt"
      },
      "source": [
        "[![Abrir en Colab](https://colab.research.google.com/assets/colab-badge.svg)](https://colab.research.google.com/github/pugapatricia/gestion-documentaria-para-pymes/blob/main/etiquetado/UnionEtiquetado_open.ipynb)\n",
        "\n",
        "[![Ver en GitHub](https://img.shields.io/badge/GitHub-Repo-black?logo=github)](https://github.com/pugapatricia/gestion-documentaria-para-pymes/tree/main/etiquetado)"
      ]
    },
    {
      "cell_type": "markdown",
      "metadata": {
        "id": "lPOn6tibIKxm"
      },
      "source": [
        "#Importaciones"
      ]
    },
    {
      "cell_type": "code",
      "execution_count": 84,
      "metadata": {
        "colab": {
          "base_uri": "https://localhost:8080/"
        },
        "id": "q_rAOUDjdz8D",
        "outputId": "87979996-24bd-4d32-8bf8-6b8de3d6262f"
      },
      "outputs": [
        {
          "output_type": "stream",
          "name": "stdout",
          "text": [
            "\u001b[?25l   \u001b[90m━━━━━━━━━━━━━━━━━━━━━━━━━━━━━━━━━━━━━━━━\u001b[0m \u001b[32m0.0/235.8 kB\u001b[0m \u001b[31m?\u001b[0m eta \u001b[36m-:--:--\u001b[0m\r\u001b[2K   \u001b[91m━━━━━━━━━━━━━━━━━━━━━━━━━━━━━━━━━━━━━━━\u001b[0m\u001b[91m╸\u001b[0m \u001b[32m235.5/235.8 kB\u001b[0m \u001b[31m8.7 MB/s\u001b[0m eta \u001b[36m0:00:01\u001b[0m\r\u001b[2K   \u001b[90m━━━━━━━━━━━━━━━━━━━━━━━━━━━━━━━━━━━━━━━━\u001b[0m \u001b[32m235.8/235.8 kB\u001b[0m \u001b[31m5.1 MB/s\u001b[0m eta \u001b[36m0:00:00\u001b[0m\n",
            "\u001b[?25h"
          ]
        }
      ],
      "source": [
        "!pip install -q requests msal python-docx PyPDF2 pandas openpyxl python-pptx openai unidecode\n"
      ]
    },
    {
      "cell_type": "code",
      "execution_count": 85,
      "metadata": {
        "id": "fJ1Ko6i0cNaP"
      },
      "outputs": [],
      "source": [
        "import requests\n",
        "import msal\n",
        "from docx import Document\n",
        "import PyPDF2\n",
        "import pandas as pd\n",
        "from pptx import Presentation\n",
        "import os\n",
        "import spacy\n",
        "import torch\n",
        "from openai import OpenAI\n",
        "import re\n",
        "import getpass\n",
        "import io, os, re, requests\n",
        "import pandas as pd\n",
        "import PyPDF2, openpyxl\n",
        "from pptx import Presentation\n",
        "from docx import Document\n",
        "import unidecode"
      ]
    },
    {
      "cell_type": "markdown",
      "metadata": {
        "id": "P0E-lCnBdT9w"
      },
      "source": [
        "# Configuración"
      ]
    },
    {
      "cell_type": "code",
      "execution_count": 140,
      "metadata": {
        "colab": {
          "base_uri": "https://localhost:8080/"
        },
        "id": "ukAIZ3q6q5zq",
        "outputId": "577931f1-3309-4bff-f53f-0618b7814d46"
      },
      "outputs": [
        {
          "name": "stdout",
          "output_type": "stream",
          "text": [
            "Introduce tu OpenAI API Key: ··········\n"
          ]
        }
      ],
      "source": [
        "api_key = getpass.getpass(\"Introduce tu OpenAI API Key: \")\n",
        "client = OpenAI(api_key=api_key)"
      ]
    },
    {
      "cell_type": "code",
      "execution_count": 141,
      "metadata": {
        "id": "USm2IuiscQIt"
      },
      "outputs": [],
      "source": [
        "CLIENT_ID = \"e3f2393e-7348-47d1-9c64-8d8efe6a5e95\"\n",
        "AUTHORITY = \"https://login.microsoftonline.com/consumers\"\n",
        "SCOPE = [\"User.Read\", \"Files.ReadWrite.All\"]\n",
        "ext_permitidas = {\"pdf\", \"docx\", \"xlsx\", \"xls\", \"pptx\", \"txt\", \"csv\"}\n",
        "url = \"https://graph.microsoft.com/v1.0/me/drive/root:/Etiquetados:/children\"\n"
      ]
    },
    {
      "cell_type": "markdown",
      "metadata": {
        "id": "E1uxqbv6eEsp"
      },
      "source": [
        "# Conección con OneDrive"
      ]
    },
    {
      "cell_type": "code",
      "execution_count": 142,
      "metadata": {
        "id": "fSR-s8KvbuPf",
        "colab": {
          "base_uri": "https://localhost:8080/"
        },
        "outputId": "9309068e-e632-4d1b-bb7f-6271f74a899a"
      },
      "outputs": [
        {
          "output_type": "stream",
          "name": "stdout",
          "text": [
            "To sign in, use a web browser to open the page https://www.microsoft.com/link and enter the code T2KWS8HE to authenticate.\n"
          ]
        }
      ],
      "source": [
        "app = msal.PublicClientApplication(CLIENT_ID, authority=AUTHORITY)\n",
        "\n",
        "flow = app.initiate_device_flow(scopes=SCOPE)\n",
        "if \"user_code\" not in flow:\n",
        "    raise Exception(\"No se pudo iniciar el device flow. Revisa tu configuración en Azure.\")\n",
        "\n",
        "print(flow[\"message\"])  # 👉 Copia el código en https://microsoft.com/devicelogin\n",
        "result = app.acquire_token_by_device_flow(flow)\n",
        "\n",
        "if \"access_token\" not in result:\n",
        "    raise Exception(f\"Error autenticación: {result.get('error_description')}\")\n",
        "\n",
        "access_token = result[\"access_token\"]\n",
        "headers = {\"Authorization\": f\"Bearer {access_token}\"}\n",
        "\n",
        "# Llamada a la API con tu token de acceso\n",
        "resp = requests.get(url, headers=headers)\n",
        "if resp.status_code != 200:\n",
        "    raise Exception(f\"Error al obtener archivos: {resp.text}\")\n",
        "data = resp.json()\n"
      ]
    },
    {
      "cell_type": "markdown",
      "metadata": {
        "id": "O_nDVZvpeU4D"
      },
      "source": [
        "# Funciones"
      ]
    },
    {
      "cell_type": "markdown",
      "metadata": {
        "id": "F-wlPBMaFlMo"
      },
      "source": [
        "Procesamos cada documento de acuerdo con su tipo (PDF, Word, Excel, etc.) para convertirlo en datos estructurados. Este proceso se realiza mediante las siguientes funciones."
      ]
    },
    {
      "cell_type": "code",
      "execution_count": 143,
      "metadata": {
        "id": "XbiD5bBaeTgS"
      },
      "outputs": [],
      "source": [
        "ext_permitidas = {\"pdf\", \"docx\", \"xlsx\", \"xls\", \"csv\", \"txt\", \"pptx\"}\n",
        "\n",
        "def leer_pdf(file_path_or_bytes):\n",
        "    text = \"\"\n",
        "    if isinstance(file_path_or_bytes, bytes):\n",
        "        reader = PyPDF2.PdfReader(io.BytesIO(file_path_or_bytes))\n",
        "    else:\n",
        "        reader = PyPDF2.PdfReader(file_path_or_bytes)\n",
        "    for page in reader.pages:\n",
        "        text += page.extract_text() or \"\"\n",
        "    return text\n",
        "\n",
        "def leer_docx(file_path_or_bytes):\n",
        "    if isinstance(file_path_or_bytes, bytes):\n",
        "        doc = Document(io.BytesIO(file_path_or_bytes))\n",
        "    else:\n",
        "        doc = Document(file_path_or_bytes)\n",
        "    return \"\\n\".join([p.text for p in doc.paragraphs])\n",
        "\n",
        "def leer_excel(file_path_or_bytes):\n",
        "    texto = []\n",
        "\n",
        "    # Detectar extensión si es archivo en disco\n",
        "    ext = None\n",
        "    if isinstance(file_path_or_bytes, str):\n",
        "        ext = file_path_or_bytes.split(\".\")[-1].lower()\n",
        "    elif isinstance(file_path_or_bytes, bytes):\n",
        "        # Por simplicidad asumimos .xlsx si no hay extensión\n",
        "        ext = \"xlsx\"\n",
        "\n",
        "    if ext == \"xls\":\n",
        "        # Usar xlrd para archivos antiguos\n",
        "        temp_file = \"temp.xls\"\n",
        "        with open(temp_file, \"wb\") as f:\n",
        "            if isinstance(file_path_or_bytes, bytes):\n",
        "                f.write(file_path_or_bytes)\n",
        "            else:\n",
        "                with open(file_path_or_bytes, \"rb\") as orig:\n",
        "                    f.write(orig.read())\n",
        "        wb = xlrd.open_workbook(temp_file)\n",
        "        for sheet in wb.sheets():\n",
        "            texto.append(f\"\\n--- Hoja: {sheet.name} ---\\n\")\n",
        "            for row_idx in range(sheet.nrows):\n",
        "                row = sheet.row_values(row_idx)\n",
        "                row_text = \" \".join([str(c) for c in row if c])\n",
        "                if row_text.strip():\n",
        "                    texto.append(row_text)\n",
        "        os.remove(temp_file)\n",
        "\n",
        "    else:\n",
        "        # Usar openpyxl para .xlsx\n",
        "        if isinstance(file_path_or_bytes, bytes):\n",
        "            wb = openpyxl.load_workbook(io.BytesIO(file_path_or_bytes), data_only=True, read_only=True)\n",
        "        else:\n",
        "            wb = openpyxl.load_workbook(file_path_or_bytes, data_only=True, read_only=True)\n",
        "        for sheet in wb.worksheets:\n",
        "            texto.append(f\"\\n--- Hoja: {sheet.title} ---\\n\")\n",
        "            for row in sheet.iter_rows(values_only=True):\n",
        "                row_text = \" \".join([str(c) for c in row if c is not None])\n",
        "                if row_text.strip():\n",
        "                    texto.append(row_text)\n",
        "\n",
        "    return \"\\n\".join(texto)\n",
        "\n",
        "def leer_csv(file_path_or_bytes):\n",
        "    if isinstance(file_path_or_bytes, bytes):\n",
        "        df = pd.read_csv(io.BytesIO(file_path_or_bytes))\n",
        "    else:\n",
        "        df = pd.read_csv(file_path_or_bytes)\n",
        "    return df.to_string()\n",
        "\n",
        "def leer_txt(file_path_or_bytes):\n",
        "    if isinstance(file_path_or_bytes, bytes):\n",
        "        return file_path_or_bytes.decode(\"utf-8\", errors=\"ignore\")\n",
        "    with open(file_path_or_bytes, \"r\", encoding=\"utf-8\", errors=\"ignore\") as f:\n",
        "        return f.read()\n",
        "\n",
        "def leer_pptx(file_path_or_bytes):\n",
        "    texto = []\n",
        "    if isinstance(file_path_or_bytes, bytes):\n",
        "        prs = Presentation(io.BytesIO(file_path_or_bytes))\n",
        "    else:\n",
        "        prs = Presentation(file_path_or_bytes)\n",
        "    for i, slide in enumerate(prs.slides, 1):\n",
        "        texto.append(f\"\\n--- Diapositiva {i} ---\\n\")\n",
        "        for shape in slide.shapes:\n",
        "            if hasattr(shape, \"text\") and shape.text.strip():\n",
        "                texto.append(shape.text)\n",
        "    return \"\\n\".join(texto)\n",
        "\n",
        "def leer_archivo(item):\n",
        "    nombre = item.get(\"name\")\n",
        "    ext = nombre.split(\".\")[-1].lower()\n",
        "    if ext not in ext_permitidas:\n",
        "        return \"\"\n",
        "\n",
        "    tmp_path = f\"/tmp/{nombre}\"\n",
        "    try:\n",
        "        # Descargar archivo si no tenemos los bytes\n",
        "        if \"contenido\" in item:\n",
        "            contenido = item[\"contenido\"]\n",
        "            if isinstance(contenido, bytes):\n",
        "                with open(tmp_path, \"wb\") as f:\n",
        "                    f.write(contenido)\n",
        "        else:\n",
        "            r = requests.get(item[\"@microsoft.graph.downloadUrl\"], stream=True)\n",
        "            r.raise_for_status()\n",
        "            with open(tmp_path, \"wb\") as f:\n",
        "                for chunk in r.iter_content(chunk_size=8192):\n",
        "                    f.write(chunk)\n",
        "\n",
        "        # Leer según extensión\n",
        "        if ext == \"pdf\":\n",
        "            return leer_pdf(tmp_path)\n",
        "        elif ext == \"docx\":\n",
        "            return leer_docx(tmp_path)\n",
        "        elif ext in {\"xlsx\", \"xls\"}:\n",
        "            return leer_excel(tmp_path)\n",
        "        elif ext == \"pptx\":\n",
        "            return leer_pptx(tmp_path)\n",
        "        elif ext == \"txt\":\n",
        "            return leer_txt(tmp_path)\n",
        "        elif ext == \"csv\":\n",
        "            return leer_csv(tmp_path)\n",
        "    except requests.RequestException as e:\n",
        "        print(f\"Error descargando {nombre}: {e}\")\n",
        "    except Exception as e:\n",
        "        print(f\"Error procesando {nombre}: {e}\")\n",
        "    finally:\n",
        "        if os.path.exists(tmp_path):\n",
        "            os.remove(tmp_path)\n",
        "\n",
        "    return \"\""
      ]
    },
    {
      "cell_type": "markdown",
      "metadata": {
        "id": "t3bq9a30FfQK"
      },
      "source": [
        "Función para solicitar a OpenAI la generación de etiquetas/tickers por documento, con un límite máximo"
      ]
    },
    {
      "cell_type": "code",
      "execution_count": 144,
      "metadata": {
        "id": "gHqP9jJ3GFJI"
      },
      "outputs": [],
      "source": [
        "etiquetas_global = set()\n",
        "\n",
        "def sugerir_tickers(texto, max_etiquetas=10):\n",
        "    if not texto.strip():\n",
        "        return []\n",
        "\n",
        "    prompt = f\"\"\"\n",
        "Eres un asistente que recibe un texto de un documento.\n",
        "Devuelve solo las {max_etiquetas} palabras más importantes\n",
        "que podrían usarse como etiquetas del documento, una sola palabra cada una,\n",
        "en una lista separada por comas. No agregues explicaciones, solo las palabras.\n",
        "\n",
        "Texto:\n",
        "{texto}\n",
        "\"\"\"\n",
        "    try:\n",
        "        respuesta = client.chat.completions.create(\n",
        "            model=\"gpt-5-mini\",\n",
        "            messages=[{\"role\": \"user\", \"content\": prompt}],\n",
        "        )\n",
        "\n",
        "        etiquetas = respuesta.choices[0].message.content\n",
        "        etiquetas_lista = [e.strip().lower() for e in re.split(r'[,\\n;]+', etiquetas) if e.strip()]\n",
        "        etiquetas_lista = list(dict.fromkeys(etiquetas_lista))[:max_etiquetas]\n",
        "        etiquetas_global.update(etiquetas_lista)\n",
        "\n",
        "        return etiquetas_lista\n",
        "\n",
        "    except Exception as e:\n",
        "        print(f\"⚠️ Error al generar etiquetas: {e}\")\n",
        "        return []\n"
      ]
    },
    {
      "cell_type": "markdown",
      "metadata": {
        "id": "b55PVyzZGsXI"
      },
      "source": [
        "Descarga un archivo temporal desde una URL, verifica que su extensión esté permitida y lo lee según su tipo, devolviendo su contenido como texto."
      ]
    },
    {
      "cell_type": "markdown",
      "metadata": {
        "id": "aQmIJsSXerQS"
      },
      "source": [
        "# LISTAR Y PROCESAR ARCHIVOS"
      ]
    },
    {
      "cell_type": "code",
      "execution_count": 145,
      "metadata": {
        "id": "t14O58CkepJq",
        "colab": {
          "base_uri": "https://localhost:8080/"
        },
        "outputId": "f1b9282a-650d-45c1-92bf-e454396361bd"
      },
      "outputs": [
        {
          "output_type": "stream",
          "name": "stdout",
          "text": [
            "\n",
            "Tickers finales:\n",
            " ['activos', 'acuerdo', 'alquiler', 'amortización', 'análisis', 'arbitraje', 'archivo', 'arganda', 'arquitectura', 'arrendador', 'arrendamiento', 'arrendatario', 'arte', 'astrofísica', 'autorización', 'bachillerato', 'balance', 'biodiversidad', 'business', 'caja', 'capacitación', 'cauca', 'cervantes', 'cine', 'cláusulas', 'comparación', 'complutense', 'confidencialidad', 'consorcio', 'contabilidad', 'contrato', 'convivencia', 'costos', 'créditos', 'cultivo', 'datascience', 'decisiones', 'depreciación', 'derechos', 'desalojo', 'destrucción', 'devolución', 'divulgación', 'divulgador', 'divulgadora', 'documentación', 'duración', 'económicos', 'empaques', 'empresa', 'endeudamiento', 'estados', 'estancia', 'estrategias', 'estudiantes', 'estudios', 'eva', 'extranjeros', 'extranjería', 'fianza', 'financiera', 'financiero', 'financieros', 'finanzas', 'finca', 'firma', 'flujo', 'geografía', 'guerra', 'habitación', 'historia', 'humanidades', 'idiomas', 'incumplimiento', 'indicadores', 'información', 'ingresos', 'inmueble', 'inquilino', 'interpretación', 'interés', 'inventarios', 'jarama', 'jurisdicción', 'latín', 'lau', 'ley', 'liquidez', 'listado', 'madrid', 'marco', 'master', 'matemáticas', 'materias', 'matrícula', 'mediación', 'medioambiente', 'mendieta', 'morosidad', 'máster', 'métodos', 'nda', 'nie', 'notificaciones', 'obligaciones', 'optativa', 'panama', 'partes', 'pasaporte', 'pasivos', 'patrimonio', 'plazo', 'poesía', 'propiedad', 'propiedadintelectual', 'propietario', 'proyección', 'prórroga', 'puente', 'receptor', 'receptora', 'registro', 'regresión', 'religiones', 'remesas', 'renta', 'rentabilidad', 'rescisión', 'reserva', 'resolución', 'rústica', 'secreto', 'seguro', 'señal', 'silvopastoril', 'simulación', 'solicitud', 'subarrendamiento', 'tasa', 'tauromaquia', 'teatro', 'temporada', 'tir', 'tmar', 'traducción', 'transporte', 'universidad', 'uso', 'valoración', 'van', 'vigilancia', 'visado', 'vivienda']\n"
          ]
        }
      ],
      "source": [
        "etiquetas = set()  # convertir a set\n",
        "\n",
        "for item in data.get(\"value\", []):\n",
        "    if \"folder\" in item:\n",
        "        continue\n",
        "\n",
        "    texto = leer_archivo(item)\n",
        "    if texto.strip():\n",
        "        try:\n",
        "            sugerencias = sugerir_tickers(texto, max_etiquetas=10)\n",
        "            etiquetas.update([s.strip() for s in sugerencias if s.strip()])\n",
        "        except Exception as e:\n",
        "            print(f\"⚠️ Error generando etiquetas para {item.get('name')}: {e}\")\n",
        "\n",
        "print(\"\\nTickers finales:\\n\", sorted(etiquetas))\n"
      ]
    },
    {
      "cell_type": "code",
      "source": [
        "etiquetas = list(etiquetas)\n",
        "etiquetas"
      ],
      "metadata": {
        "colab": {
          "base_uri": "https://localhost:8080/"
        },
        "id": "qDhpsRwPqTjO",
        "outputId": "5850182c-a1b8-45e0-fead-34b44f297464"
      },
      "execution_count": 147,
      "outputs": [
        {
          "output_type": "execute_result",
          "data": {
            "text/plain": [
              "['contabilidad',\n",
              " 'balance',\n",
              " 'activos',\n",
              " 'propiedadintelectual',\n",
              " 'capacitación',\n",
              " 'optativa',\n",
              " 'jurisdicción',\n",
              " 'costos',\n",
              " 'inmueble',\n",
              " 'partes',\n",
              " 'liquidez',\n",
              " 'silvopastoril',\n",
              " 'matrícula',\n",
              " 'divulgador',\n",
              " 'renta',\n",
              " 'extranjería',\n",
              " 'finanzas',\n",
              " 'estudiantes',\n",
              " 'inquilino',\n",
              " 'teatro',\n",
              " 'matemáticas',\n",
              " 'rescisión',\n",
              " 'nie',\n",
              " 'humanidades',\n",
              " 'receptor',\n",
              " 'financiera',\n",
              " 'interés',\n",
              " 'desalojo',\n",
              " 'madrid',\n",
              " 'arrendatario',\n",
              " 'devolución',\n",
              " 'análisis',\n",
              " 'arte',\n",
              " 'derechos',\n",
              " 'finca',\n",
              " 'divulgadora',\n",
              " 'jarama',\n",
              " 'documentación',\n",
              " 'financiero',\n",
              " 'financieros',\n",
              " 'cine',\n",
              " 'solicitud',\n",
              " 'medioambiente',\n",
              " 'rústica',\n",
              " 'divulgación',\n",
              " 'marco',\n",
              " 'morosidad',\n",
              " 'propietario',\n",
              " 'fianza',\n",
              " 'inventarios',\n",
              " 'latín',\n",
              " 'master',\n",
              " 'obligaciones',\n",
              " 'van',\n",
              " 'astrofísica',\n",
              " 'mediación',\n",
              " 'eva',\n",
              " 'proyección',\n",
              " 'tir',\n",
              " 'geografía',\n",
              " 'notificaciones',\n",
              " 'incumplimiento',\n",
              " 'ley',\n",
              " 'acuerdo',\n",
              " 'rentabilidad',\n",
              " 'visado',\n",
              " 'indicadores',\n",
              " 'remesas',\n",
              " 'biodiversidad',\n",
              " 'flujo',\n",
              " 'habitación',\n",
              " 'secreto',\n",
              " 'confidencialidad',\n",
              " 'arquitectura',\n",
              " 'créditos',\n",
              " 'nda',\n",
              " 'extranjeros',\n",
              " 'poesía',\n",
              " 'estados',\n",
              " 'transporte',\n",
              " 'pasaporte',\n",
              " 'business',\n",
              " 'panama',\n",
              " 'pasivos',\n",
              " 'subarrendamiento',\n",
              " 'temporada',\n",
              " 'arganda',\n",
              " 'guerra',\n",
              " 'empresa',\n",
              " 'propiedad',\n",
              " 'resolución',\n",
              " 'estudios',\n",
              " 'arbitraje',\n",
              " 'simulación',\n",
              " 'archivo',\n",
              " 'información',\n",
              " 'mendieta',\n",
              " 'listado',\n",
              " 'interpretación',\n",
              " 'consorcio',\n",
              " 'datascience',\n",
              " 'valoración',\n",
              " 'lau',\n",
              " 'estrategias',\n",
              " 'puente',\n",
              " 'regresión',\n",
              " 'idiomas',\n",
              " 'cláusulas',\n",
              " 'cauca',\n",
              " 'historia',\n",
              " 'depreciación',\n",
              " 'caja',\n",
              " 'tasa',\n",
              " 'estancia',\n",
              " 'convivencia',\n",
              " 'arrendamiento',\n",
              " 'endeudamiento',\n",
              " 'patrimonio',\n",
              " 'destrucción',\n",
              " 'prórroga',\n",
              " 'plazo',\n",
              " 'bachillerato',\n",
              " 'ingresos',\n",
              " 'vivienda',\n",
              " 'receptora',\n",
              " 'autorización',\n",
              " 'económicos',\n",
              " 'amortización',\n",
              " 'uso',\n",
              " 'reserva',\n",
              " 'vigilancia',\n",
              " 'contrato',\n",
              " 'decisiones',\n",
              " 'firma',\n",
              " 'seguro',\n",
              " 'religiones',\n",
              " 'registro',\n",
              " 'métodos',\n",
              " 'arrendador',\n",
              " 'duración',\n",
              " 'cultivo',\n",
              " 'cervantes',\n",
              " 'universidad',\n",
              " 'tmar',\n",
              " 'empaques',\n",
              " 'comparación',\n",
              " 'alquiler',\n",
              " 'traducción',\n",
              " 'complutense',\n",
              " 'materias',\n",
              " 'máster',\n",
              " 'tauromaquia',\n",
              " 'señal']"
            ]
          },
          "metadata": {},
          "execution_count": 147
        }
      ]
    },
    {
      "cell_type": "code",
      "source": [
        "len(etiquetas)"
      ],
      "metadata": {
        "colab": {
          "base_uri": "https://localhost:8080/"
        },
        "id": "aGAfz5tD3ZkS",
        "outputId": "cc40872d-7da0-43bd-9dba-595b73f10656"
      },
      "execution_count": 148,
      "outputs": [
        {
          "output_type": "execute_result",
          "data": {
            "text/plain": [
              "153"
            ]
          },
          "metadata": {},
          "execution_count": 148
        }
      ]
    },
    {
      "cell_type": "markdown",
      "source": [
        "# ETIQUETADO"
      ],
      "metadata": {
        "id": "vUscjPpKWjnC"
      }
    },
    {
      "cell_type": "code",
      "source": [
        "def limpiar_texto(texto: str) -> str:\n",
        "    if not texto:\n",
        "        return \"\"\n",
        "    texto = re.sub(r'\\d+\\n', '', texto)\n",
        "    texto = re.sub(r'\\s+', ' ', texto)\n",
        "    texto = re.sub(r'[^a-zA-Záéíóúüñ0-9\\s,.\\-()/:]', '', texto)\n",
        "    return texto.strip()\n",
        "\n",
        "def etiquetar_texto(texto, etiquetas, max_etiquetas=5, modelo=\"gpt-5-mini\"):\n",
        "    etiquetas_norm = {unidecode.unidecode(e.lower().replace(\" \", \"\")): e for e in etiquetas}\n",
        "\n",
        "    prompt = f\"\"\"\n",
        "Analiza cuidadosamente el siguiente texto y selecciona hasta {max_etiquetas} etiquetas que mejor representen sus temas principales.\n",
        "Usa únicamente las etiquetas de la lista exacta que se proporciona más abajo, no inventes ninguna etiqueta.\n",
        "Lista de etiquetas: {', '.join(etiquetas)}\n",
        "\n",
        "Texto: \\\"\\\"\\\"{texto}\\\"\\\"\\\"\n",
        "\n",
        "Devuelve únicamente las etiquetas seleccionadas, separadas por comas, sin explicaciones ni palabras adicionales.\n",
        "Responde de forma precisa, considerando todo el contenido del texto.\n",
        "\"\"\"\n",
        "\n",
        "    respuesta = client.chat.completions.create(\n",
        "        model=modelo,\n",
        "        messages=[{\"role\": \"user\", \"content\": prompt}],\n",
        "        max_completion_tokens=400\n",
        "    )\n",
        "\n",
        "    raw = re.split(r'[,\\n;]+', respuesta.choices[0].message.content)\n",
        "    resultado = []\n",
        "    for e in raw:\n",
        "        key = unidecode.unidecode(e.strip().lower().replace(\" \", \"\"))\n",
        "        if key in etiquetas_norm:\n",
        "            resultado.append(etiquetas_norm[key])\n",
        "        elif key.endswith(\"s\") and key[:-1] in etiquetas_norm:\n",
        "            resultado.append(etiquetas_norm[key[:-1]])\n",
        "\n",
        "    return resultado[:max_etiquetas]"
      ],
      "metadata": {
        "id": "L9LDb_HAVg58"
      },
      "execution_count": 149,
      "outputs": []
    },
    {
      "cell_type": "code",
      "source": [
        "texto = \"\"\"El contrato de arrendamiento establece claramente la renta, el plazo, las obligaciones del arrendador y arrendatario,\n",
        "y las cláusulas de prórroga y fianza. Además, se menciona la propiedad intelectual relacionada con los proyectos\n",
        "de divulgación científica, literatura y poesía, incluyendo derechos de autor y acuerdos de confidencialidad (NDA).\n",
        "El inmueble objeto del contrato deberá cumplir con las leyes y la jurisdicción aplicable, respetando las normas de\n",
        "financiación y las resoluciones de los organismos competentes. También se contemplan actividades culturales\n",
        "como teatro y arte, así como cursos monográficos de astrofísica y biodiversidad.\n",
        "\"\"\"\n",
        "texto_limpio = limpiar_texto(texto)\n",
        "\n",
        "resultado = etiquetar_texto(texto_limpio, etiquetas, max_etiquetas=3)\n",
        "print(\"Etiquetas detectadas:\", resultado)\n"
      ],
      "metadata": {
        "colab": {
          "base_uri": "https://localhost:8080/"
        },
        "id": "I26kTKP5wS2B",
        "outputId": "83b89bac-a823-4736-dd3f-9d3d5ea7157e"
      },
      "execution_count": 150,
      "outputs": [
        {
          "output_type": "stream",
          "name": "stdout",
          "text": [
            "Etiquetas detectadas: ['arrendamiento', 'propiedadintelectual', 'inmueble']\n"
          ]
        }
      ]
    },
    {
      "cell_type": "code",
      "source": [
        "archivos_permitidos = [\n",
        "    item for item in data.get(\"value\", [])\n",
        "    if \"folder\" not in item and item[\"name\"].split(\".\")[-1].lower() in ext_permitidas\n",
        "]\n",
        "\n",
        "archivos_a_procesar = archivos_permitidos[:3]\n",
        "\n",
        "if archivos_a_procesar:\n",
        "    resultados = {}\n",
        "\n",
        "    for item in archivos_a_procesar:\n",
        "        nombre = item[\"name\"]\n",
        "        download_url = item[\"@microsoft.graph.downloadUrl\"]\n",
        "\n",
        "        print(f\"Procesando archivo: {nombre}\")\n",
        "\n",
        "        file_bytes = requests.get(download_url).content\n",
        "        texto = leer_archivo(item)\n",
        "        texto = limpiar_texto(texto)\n",
        "\n",
        "        if texto:\n",
        "            etiquetas_detectadas = etiquetar_texto(texto,etiquetas)\n",
        "        else:\n",
        "            etiquetas_detectadas = []\n",
        "\n",
        "        resultados[nombre] = etiquetas_detectadas\n",
        "        print(f\"{nombre} → {etiquetas_detectadas}\")\n"
      ],
      "metadata": {
        "colab": {
          "base_uri": "https://localhost:8080/"
        },
        "id": "6e-UdACXhq7Y",
        "outputId": "fffe5c61-fba6-43c0-dbaa-ec7fe5eac43a"
      },
      "execution_count": 151,
      "outputs": [
        {
          "output_type": "stream",
          "name": "stdout",
          "text": [
            "Procesando archivo: 11_07_2019_modelo_orientativo_de_contrato_de_arrendamiento_de_vivienda.pdf\n",
            "11_07_2019_modelo_orientativo_de_contrato_de_arrendamiento_de_vivienda.pdf → []\n",
            "Procesando archivo: 2016-admitidos_Segundo ciclo- Cursos monográficos.xls\n",
            "2016-admitidos_Segundo ciclo- Cursos monográficos.xls → []\n",
            "Procesando archivo: 2023_05-Modelo_Documento_reserva_inmueble_en_alquiler_v.reducida.docx\n",
            "2023_05-Modelo_Documento_reserva_inmueble_en_alquiler_v.reducida.docx → []\n"
          ]
        }
      ]
    }
  ],
  "metadata": {
    "colab": {
      "provenance": []
    },
    "kernelspec": {
      "display_name": "Python 3",
      "name": "python3"
    },
    "language_info": {
      "name": "python"
    }
  },
  "nbformat": 4,
  "nbformat_minor": 0
}