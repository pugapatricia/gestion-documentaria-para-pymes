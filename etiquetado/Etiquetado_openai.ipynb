{
  "cells": [
    {
      "cell_type": "markdown",
      "id": "f3a71b3b",
      "metadata": {
        "id": "f3a71b3b"
      },
      "source": [
        "[![Abrir en Colab](https://colab.research.google.com/assets/colab-badge.svg)](https://colab.research.google.com/github/pugapatricia/gestion-documentaria-para-pymes/blob/main/etiquetado/Etiquetado_openai.ipynb)"
      ]
    },
    {
      "cell_type": "markdown",
      "id": "e5bcb24e",
      "metadata": {
        "id": "e5bcb24e"
      },
      "source": [
        "[![Ver en GitHub](https://img.shields.io/badge/GitHub-Repo-black?logo=github)](https://github.com/pugapatricia/gestion-documentaria-para-pymes/tree/main/etiquetado)"
      ]
    },
    {
      "cell_type": "markdown",
      "source": [
        "#Importaciones"
      ],
      "metadata": {
        "id": "H1Hm8SLMn6sz"
      },
      "id": "H1Hm8SLMn6sz"
    },
    {
      "cell_type": "code",
      "execution_count": 40,
      "id": "3SC0UKYxGlvk",
      "metadata": {
        "id": "3SC0UKYxGlvk"
      },
      "outputs": [],
      "source": [
        "!pip install -q PyPDF2 python-docx openpyxl python-pptx xlrd transformers office365-rest-python-client msal requests"
      ]
    },
    {
      "cell_type": "code",
      "execution_count": 41,
      "id": "mdG952zUC6cM",
      "metadata": {
        "id": "mdG952zUC6cM"
      },
      "outputs": [],
      "source": [
        "import os\n",
        "import io\n",
        "import re\n",
        "import json\n",
        "from pathlib import Path\n",
        "from PyPDF2 import PdfReader\n",
        "import docx\n",
        "import openpyxl\n",
        "from pptx import Presentation\n",
        "import xlrd\n",
        "from transformers import pipeline\n",
        "from office365.sharepoint.client_context import ClientContext\n",
        "from office365.runtime.auth.user_credential import UserCredential\n",
        "import os\n",
        "import requests\n",
        "import msal\n",
        "import csv"
      ]
    },
    {
      "cell_type": "markdown",
      "id": "ptKdGUIiEaHz",
      "metadata": {
        "id": "ptKdGUIiEaHz"
      },
      "source": [
        "# Configuración"
      ]
    },
    {
      "cell_type": "code",
      "execution_count": 42,
      "id": "UAkFWDSoEgGa",
      "metadata": {
        "id": "UAkFWDSoEgGa",
        "colab": {
          "base_uri": "https://localhost:8080/"
        },
        "outputId": "0c2e84f3-b81f-4643-a927-9360a8a1e8bb"
      },
      "outputs": [
        {
          "output_type": "stream",
          "name": "stderr",
          "text": [
            "Device set to use cpu\n"
          ]
        }
      ],
      "source": [
        "CLIENT_ID = \"e3f2393e-7348-47d1-9c64-8d8efe6a5e95\"  # tu nuevo Client ID\n",
        "AUTHORITY = \"https://login.microsoftonline.com/consumers\"\n",
        "SCOPE = [\"User.Read\", \"Files.ReadWrite\"]\n",
        "\n",
        "ext_permitidas = {\"pdf\", \"docx\", \"xlsx\", \"xls\", \"pptx\", \"txt\", \"csv\"}\n",
        "classifier = pipeline(\"zero-shot-classification\",\n",
        "    model=\"typeform/distilbert-base-uncased-mnli\")\n",
        "url = \"https://graph.microsoft.com/v1.0/me/drive/root:/Etiquetados:/children\""
      ]
    },
    {
      "cell_type": "markdown",
      "id": "lKu0-R84Ei__",
      "metadata": {
        "id": "lKu0-R84Ei__"
      },
      "source": [
        "# Conección con OneDrive\n"
      ]
    },
    {
      "cell_type": "code",
      "execution_count": 43,
      "id": "4SfZ6bYUEpzF",
      "metadata": {
        "colab": {
          "base_uri": "https://localhost:8080/"
        },
        "id": "4SfZ6bYUEpzF",
        "outputId": "2a9f0964-82f3-45a1-a973-1e4174d90517"
      },
      "outputs": [
        {
          "output_type": "stream",
          "name": "stdout",
          "text": [
            "To sign in, use a web browser to open the page https://www.microsoft.com/link and enter the code 8RV7LWKM to authenticate.\n"
          ]
        }
      ],
      "source": [
        "app = msal.PublicClientApplication(CLIENT_ID, authority=AUTHORITY)\n",
        "\n",
        "flow = app.initiate_device_flow(scopes=SCOPE)\n",
        "if \"user_code\" not in flow:\n",
        "    raise Exception(\"No se pudo iniciar el device flow. Revisa tu configuración en Azure.\")\n",
        "\n",
        "print(flow[\"message\"])  # 👉 Copia el código en https://microsoft.com/devicelogin\n",
        "result = app.acquire_token_by_device_flow(flow)\n",
        "\n",
        "if \"access_token\" not in result:\n",
        "    raise Exception(f\"Error autenticación: {result.get('error_description')}\")\n",
        "\n",
        "access_token = result[\"access_token\"]\n",
        "headers = {\"Authorization\": f\"Bearer {access_token}\"}\n",
        "\n",
        "# Llamada a la API con tu token de acceso\n",
        "resp = requests.get(url, headers=headers)\n",
        "if resp.status_code != 200:\n",
        "    raise Exception(f\"Error al obtener archivos: {resp.text}\")\n",
        "data = resp.json()"
      ]
    },
    {
      "cell_type": "markdown",
      "source": [
        "#Funciones"
      ],
      "metadata": {
        "id": "IYoSk_6voooa"
      },
      "id": "IYoSk_6voooa"
    },
    {
      "cell_type": "markdown",
      "id": "fGLBYpx2FJqW",
      "metadata": {
        "id": "fGLBYpx2FJqW"
      },
      "source": [
        "Clasificador Hugging Face Zero-Shot\n"
      ]
    },
    {
      "cell_type": "code",
      "execution_count": 48,
      "id": "XqETdx4wFL4e",
      "metadata": {
        "id": "XqETdx4wFL4e"
      },
      "outputs": [],
      "source": [
        "def limpiar_texto(texto: str) -> str:\n",
        "    if not texto:\n",
        "        return \"\"\n",
        "    texto = texto.lower()\n",
        "    texto = re.sub(r\"[\\r\\n\\t]+\", \" \", texto)\n",
        "    texto = re.sub(r\"[^a-záéíóúüñ0-9\\s]\", \"\", texto)\n",
        "    texto = re.sub(r\"\\s+\", \" \", texto)\n",
        "    return texto.strip()\n",
        "\n",
        "def clasificar_texto(texto: str, etiquetas: list, threshold: float = 0.5) -> list:\n",
        "    texto_limpio = limpiar_texto(texto)\n",
        "    result = classifier(\n",
        "        texto_limpio,\n",
        "        candidate_labels=etiquetas,\n",
        "        multi_label=True\n",
        "    )\n",
        "    etiquetas_finales = [\n",
        "        label for label, score in zip(result[\"labels\"], result[\"scores\"]) if score >= threshold\n",
        "    ]\n",
        "    return etiquetas_finales\n"
      ]
    },
    {
      "cell_type": "markdown",
      "source": [
        "Lector de documentos"
      ],
      "metadata": {
        "id": "SVuMqyREoznw"
      },
      "id": "SVuMqyREoznw"
    },
    {
      "cell_type": "code",
      "execution_count": 49,
      "id": "RTR5h05bFUDm",
      "metadata": {
        "id": "RTR5h05bFUDm"
      },
      "outputs": [],
      "source": [
        "def leer_pdf(contenido, limite_palabras):\n",
        "    texto = \"\"\n",
        "    reader = PdfReader(io.BytesIO(contenido))\n",
        "    for page in reader.pages:\n",
        "        if page.extract_text():\n",
        "            texto += page.extract_text() + \"\\n\"\n",
        "            if len(texto.split()) >= limite_palabras:\n",
        "                break\n",
        "    return texto\n",
        "\n",
        "\n",
        "def leer_docx(contenido, limite_palabras):\n",
        "    texto = \"\"\n",
        "    doc = docx.Document(io.BytesIO(contenido))\n",
        "    for p in doc.paragraphs:\n",
        "        if p.text.strip():\n",
        "            texto += p.text + \"\\n\"\n",
        "            if len(texto.split()) >= limite_palabras:\n",
        "                break\n",
        "    return texto\n",
        "\n",
        "\n",
        "def leer_excel(contenido, limite_palabras):\n",
        "    texto = \"\"\n",
        "    wb = openpyxl.load_workbook(io.BytesIO(contenido), data_only=True, read_only=True)\n",
        "    for sheet in wb.worksheets:\n",
        "        for row in sheet.iter_rows(values_only=True):\n",
        "            texto += \" \".join([str(cell) for cell in row if cell]) + \"\\n\"\n",
        "            if len(texto.split()) >= limite_palabras:\n",
        "                break\n",
        "        if len(texto.split()) >= limite_palabras:\n",
        "            break\n",
        "    return texto\n",
        "\n",
        "\n",
        "def leer_xls(contenido, limite_palabras):\n",
        "    texto = \"\"\n",
        "    temp_file = \"temp.xls\"\n",
        "    with open(temp_file, \"wb\") as f:\n",
        "        f.write(contenido)\n",
        "    wb = xlrd.open_workbook(temp_file)\n",
        "    for sheet in wb.sheets():\n",
        "        for row_idx in range(sheet.nrows):\n",
        "            row = sheet.row_values(row_idx)\n",
        "            texto += \" \".join([str(cell) for cell in row if cell]) + \"\\n\"\n",
        "            if len(texto.split()) >= limite_palabras:\n",
        "                break\n",
        "        if len(texto.split()) >= limite_palabras:\n",
        "            break\n",
        "    os.remove(temp_file)\n",
        "    return texto\n",
        "\n",
        "\n",
        "def leer_pptx(contenido, limite_palabras):\n",
        "    texto = \"\"\n",
        "    temp_file = \"temp.pptx\"\n",
        "    with open(temp_file, \"wb\") as f:\n",
        "        f.write(contenido)\n",
        "    prs = Presentation(temp_file)\n",
        "    for slide in prs.slides:\n",
        "        for shape in slide.shapes:\n",
        "            if hasattr(shape, \"text\") and shape.text.strip():\n",
        "                texto += shape.text + \"\\n\"\n",
        "                if len(texto.split()) >= limite_palabras:\n",
        "                    break\n",
        "        if len(texto.split()) >= limite_palabras:\n",
        "            break\n",
        "    os.remove(temp_file)\n",
        "    return texto\n",
        "\n",
        "\n",
        "def leer_txt_csv(contenido, limite_palabras):\n",
        "    texto = contenido.decode(\"utf-8\", errors=\"ignore\")\n",
        "    return \" \".join(texto.split()[:limite_palabras])\n",
        "\n",
        "def leer_archivo(nombre, contenido, limite_palabras=None):\n",
        "    ext = nombre.split(\".\")[-1].lower()\n",
        "    if ext == \"pdf\":\n",
        "        return leer_pdf(contenido, limite_palabras)\n",
        "    elif ext == \"docx\":\n",
        "        return leer_docx(contenido, limite_palabras)\n",
        "    elif ext == \"xlsx\":\n",
        "        return leer_excel(contenido, limite_palabras)\n",
        "    elif ext == \"xls\":\n",
        "        return leer_xls(contenido, limite_palabras)\n",
        "    elif ext == \"pptx\":\n",
        "        return leer_pptx(contenido, limite_palabras)\n",
        "    elif ext in {\"txt\", \"csv\"}:\n",
        "        return leer_txt_csv(contenido, limite_palabras)\n",
        "    return \"\""
      ]
    },
    {
      "cell_type": "markdown",
      "id": "iP-8OQLNFVA_",
      "metadata": {
        "id": "iP-8OQLNFVA_"
      },
      "source": [
        "# 6. Función de etiquetado"
      ]
    },
    {
      "cell_type": "code",
      "execution_count": 50,
      "id": "wPL4R9b-FY-D",
      "metadata": {
        "id": "wPL4R9b-FY-D"
      },
      "outputs": [],
      "source": [
        "etiquetas_OTRAS = [\n",
        "    \"finanzas\", \"contabilidad\", \"facturas emitidas\", \"facturas recibidas\",\n",
        "    \"nóminas\", \"bancos\", \"recursos humanos\", \"contratos\", \"cvs candidatos\",\n",
        "    \"formación\", \"políticas internas\", \"legal\", \"clientes\", \"proveedores\",\n",
        "    \"licencias permisos\", \"operaciones\", \"proyectos\", \"procesos\", \"calidad\"\n",
        "]\n",
        "\n",
        "etiquetas = [\n",
        "    \"contrato\", \"arrendamiento\", \"vivienda\", \"modelo\", \"legal\", \"inmobiliaria\",\n",
        "    \"admitidos\", \"cursos\", \"monográficos\", \"educación\", \"registro\",\n",
        "    \"reserva\", \"inmueble\", \"alquiler\", \"NDA\", \"confidencialidad\", \"acuerdo\", \"plantilla\",\n",
        "    \"unilateral\", \"UE\", \"OEPM\", \"presentación\", \"anexo\", \"personal\", \"informe\",\n",
        "    \"análisis\", \"estados financieros\", \"contabilidad\", \"proyecto\",\n",
        "    \"biblioteca\", \"datos\", \"csv\", \"inventario\", \"opción de compra\", \"freelancer\",\n",
        "    \"formulario\", \"registro\", \"administrativo\", \"prueba\", \"test\", \"justificante\",\n",
        "    \"bachillerato\", \"HH-CCSS\", \"temporada\", \"finca rústica\", \"rescisión\",\n",
        "    \"empresa\", \"académico\", \"prórroga\", \"proyecto\",\n",
        "    \"2010\", \"2011\", \"2012\", \"2013\", \"2014\", \"2015\", \"2016\", \"2017\", \"2018\", \"2019\",\n",
        "    \"2020\", \"2021\", \"2022\", \"2023\", \"2024\", \"2025\", \"2026\", \"2027\", \"2028\", \"2029\", \"2030\"\n",
        "]\n",
        "\n",
        "\n",
        "def etiquetar_texto(texto, umbral=0.4):\n",
        "    res = classifier(texto, candidate_labels=etiquetas, multi_label=True)\n",
        "    # Filtrar etiquetas por score\n",
        "    etiquetas_filtradas = [\n",
        "        label for label, score in zip(res[\"labels\"], res[\"scores\"]) if score >= umbral\n",
        "    ]\n",
        "    return etiquetas_filtradas\n"
      ]
    },
    {
      "cell_type": "markdown",
      "id": "eFJR7GKaFaRk",
      "metadata": {
        "id": "eFJR7GKaFaRk"
      },
      "source": [
        "# Leer archivos de OneDrive"
      ]
    },
    {
      "cell_type": "code",
      "execution_count": 51,
      "id": "r8dBhXbyFfLP",
      "metadata": {
        "colab": {
          "base_uri": "https://localhost:8080/"
        },
        "id": "r8dBhXbyFfLP",
        "outputId": "9578fb97-626e-4404-f9fb-5ed4264e034a"
      },
      "outputs": [
        {
          "output_type": "stream",
          "name": "stdout",
          "text": [
            "11_07_2019_modelo_orientativo_de_contrato_de_arrendamiento_de_vivienda.pdf → ['registro', 'registro', 'inventario', 'educación', 'temporada', 'justificante', 'freelancer', 'legal', 'arrendamiento', 'anexo', 'vivienda', 'proyecto', 'proyecto', 'contrato', 'alquiler', 'UE', 'empresa', 'administrativo', 'cursos', 'OEPM', 'reserva', 'datos', 'HH-CCSS', 'presentación', 'csv', 'NDA', 'prueba', 'confidencialidad', 'informe', 'prórroga', 'test', 'admitidos', 'unilateral', 'bachillerato', '2011', 'personal', '2012', 'formulario', 'inmobiliaria', 'modelo', '2010', 'inmueble', 'contabilidad', 'opción de compra', 'estados financieros', 'acuerdo', '2016', 'finca rústica', 'plantilla', 'académico', 'biblioteca', 'rescisión', '2013', '2018', '2030', '2014', 'análisis', '2015', '2017', 'monográficos', '2027', '2028', '2029', '2019', '2024', '2023', '2022', '2026', '2025', '2021', '2020']\n",
            "2016-admitidos_Segundo ciclo- Cursos monográficos.xls → []\n",
            "2023_05-Modelo_Documento_reserva_inmueble_en_alquiler_v.reducida.docx → ['administrativo', 'reserva', 'cursos', 'legal', 'vivienda', 'test', 'OEPM', 'alquiler', '2011', '2010', 'personal', 'confidencialidad', 'arrendamiento', 'prueba', 'justificante', 'empresa', 'educación', '2012', 'admitidos', 'temporada', 'datos', 'prórroga', 'opción de compra', '2016', 'inmobiliaria', 'registro', 'registro', '2013', '2014', 'formulario', 'estados financieros', 'inventario', 'análisis', 'csv', '2015', 'anexo', '2017', 'acuerdo', 'unilateral', 'finca rústica', 'inmueble', 'contrato', 'NDA', 'UE', 'monográficos', 'informe', 'HH-CCSS', '2018', 'proyecto', 'proyecto', 'contabilidad', 'modelo', '2019', '2030', 'biblioteca', 'bachillerato', 'rescisión', 'presentación', 'académico', 'freelancer', 'plantilla', '2022', '2023', '2025', '2024', '2021', '2020', '2026', '2029', '2027', '2028']\n",
            "660d1bfb7c43622a597a4000_Non-disclosure agreement nda template contract.pdf → ['administrativo', 'justificante', 'arrendamiento', 'inmobiliaria', 'inventario', 'confidencialidad', 'contabilidad', 'opción de compra', 'test', 'estados financieros', 'proyecto', 'proyecto', 'personal', 'inmueble', 'vivienda', 'alquiler', 'monográficos', 'empresa', 'HH-CCSS', 'finca rústica', 'OEPM', 'temporada', 'cursos', 'legal', 'reserva', 'educación', 'biblioteca', 'bachillerato', 'presentación', 'prueba', 'prórroga', 'anexo', 'formulario', '2020', '2018', 'rescisión', '2021', 'análisis', '2012', 'unilateral', 'admitidos', '2010', 'modelo', '2014', 'datos', 'plantilla', '2017', '2016', 'acuerdo', '2011', '2015', '2027', '2013', '2029', '2019', 'NDA', '2028', 'csv', '2026', '2024', 'contrato', 'registro', 'registro', '2030', 'freelancer', '2025', 'informe', '2023', 'académico', '2022', 'UE']\n",
            "Acuerdo_no_Divulgacion_Unilateral_UE.pdf → ['formulario', 'csv', 'registro', 'registro', 'confidencialidad', 'contrato', 'personal', 'temporada', 'unilateral', 'alquiler', 'legal', 'informe', 'educación', 'inmobiliaria', 'arrendamiento', 'freelancer', 'test', 'contabilidad', 'NDA', 'UE', 'administrativo', '2011', 'vivienda', 'HH-CCSS', 'biblioteca', 'inmueble', 'inventario', 'justificante', 'acuerdo', 'opción de compra', 'rescisión', 'OEPM', 'presentación', 'datos', 'monográficos', 'reserva', 'prórroga', '2010', '2014', '2012', 'estados financieros', 'plantilla', '2013', 'admitidos', 'cursos', '2030', 'empresa', 'análisis', 'modelo', 'finca rústica', '2017', 'proyecto', 'proyecto', 'prueba', 'bachillerato', 'anexo', 'académico', '2026', '2016', '2018', '2015', '2024', '2025', '2022', '2019', '2021', '2023', '2029', '2027', '2028', '2020']\n",
            "Acuerdo-de-Confidencialidad-OEPM.pdf → ['2022', 'acuerdo', 'test', 'legal', '2018', '2010', '2011', 'personal', '2012', '2014', '2019', '2016', '2013', '2015', 'csv', 'rescisión', '2017', 'datos', 'temporada', 'registro', 'registro', 'UE', 'freelancer', 'unilateral', 'NDA', 'contrato', 'formulario', '2030', '2029', 'informe', '2021', '2027', 'monográficos', 'empresa', 'presentación', 'inmueble', 'reserva', 'modelo', 'contabilidad', 'OEPM', '2028', 'educación', 'biblioteca', 'cursos', 'anexo', 'plantilla', 'inventario', 'justificante', 'alquiler', 'vivienda', '2025', '2026', '2023', '2020', 'prórroga', '2024', 'académico', 'admitidos', 'análisis', 'proyecto', 'proyecto', 'prueba', 'finca rústica']\n",
            "AnaLiliana_SuarezHerrera_WelmarFernandoRinconTorres_2018_Anexo1.pptx → ['empresa', 'contrato', 'contabilidad', 'análisis', 'legal', 'test', 'arrendamiento', 'administrativo', '2018']\n",
            "Analisis de interpretacion de estados financieros.pptx → ['estados financieros', 'opción de compra', 'registro', 'registro', 'administrativo', 'inventario', 'contabilidad', 'educación', 'empresa', 'análisis', 'confidencialidad', 'arrendamiento', 'alquiler', 'temporada', 'admitidos', 'cursos', 'anexo', 'csv', 'vivienda', 'contrato', 'formulario', 'justificante', 'reserva', 'HH-CCSS', 'unilateral', 'finca rústica', 'test', 'inmobiliaria', 'monográficos', 'biblioteca', 'rescisión', 'prórroga', 'datos', 'inmueble', 'presentación', 'proyecto', 'proyecto', 'acuerdo', 'prueba', 'OEPM', 'informe', 'personal', 'NDA', 'freelancer', 'legal', 'UE', 'modelo', 'plantilla', 'académico', 'bachillerato', '2014', '2011', '2013', '2012', '2015', '2010', '2030', '2016', '2023', '2020', '2021', '2017', '2024', '2018', '2025', '2029', '2028', '2019', '2026', '2027', '2022']\n",
            "Análisis Financiero del Proyecto.xls → ['HH-CCSS', 'OEPM', 'admitidos', 'análisis', 'estados financieros', 'monográficos', 'cursos', 'arrendamiento', 'alquiler', 'opción de compra', 'confidencialidad', 'empresa', 'unilateral', 'reserva', 'educación', 'administrativo', 'inmueble', 'acuerdo', 'prueba', 'inmobiliaria', 'justificante', 'prórroga', 'vivienda', 'biblioteca', 'inventario', 'contabilidad', 'proyecto', 'proyecto', 'datos', 'bachillerato', 'personal', 'UE', 'NDA', 'registro', 'registro', 'csv', '2030', '2029', '2025', '2026', '2028', 'contrato', '2022', '2027', 'rescisión', '2023', '2024', 'legal', 'test', 'freelancer', 'formulario', 'modelo', '2021', 'informe', 'finca rústica', 'temporada', 'plantilla', '2010', '2014', '2019', '2018', '2011', '2020', 'presentación', '2013', '2012', '2015', '2017', '2016', 'académico', 'anexo']\n",
            "ANALISIS FINANCIERO.xls → []\n",
            "biblioteca2-csv.xls → ['HH-CCSS', 'confidencialidad', 'anexo', 'inmueble', 'registro', 'registro', 'plantilla', 'cursos', 'arrendamiento', 'monográficos', 'empresa', 'UE', 'OEPM', 'administrativo', 'alquiler', 'prórroga', 'csv', 'admitidos', 'inventario', 'modelo', 'opción de compra', 'educación', 'contabilidad', 'reserva', 'datos', 'inmobiliaria', 'prueba', 'contrato', 'proyecto', 'proyecto', 'temporada', 'justificante', 'acuerdo', 'freelancer', 'NDA', 'vivienda', 'bachillerato', 'biblioteca', 'formulario', 'unilateral', 'análisis', 'estados financieros', 'finca rústica', '2030', 'legal', 'rescisión', 'personal', 'académico', '2022', 'informe', '2027', '2029', 'test', 'presentación', '2010', '2028', '2024', '2023', '2025', '2018', '2019', '2011', '2026', '2013', '2014', '2012', '2016', '2017', '2015', '2021', '2020']\n",
            "contrato_alquiler_opcion_compra.pdf → ['arrendamiento', 'administrativo', 'inmobiliaria', 'anexo', 'confidencialidad', 'opción de compra', 'vivienda', 'personal', 'OEPM', 'contrato', 'formulario', 'test', 'csv', 'HH-CCSS', 'admitidos', 'contabilidad', 'alquiler', 'empresa', 'reserva', '2010', 'legal', 'NDA', 'educación', 'estados financieros', '2013', '2011', 'monográficos', 'freelancer', '2012', 'UE', 'rescisión', 'temporada', 'registro', 'registro', 'datos', 'análisis', 'justificante', 'cursos', 'modelo', '2014', 'unilateral', 'prueba', '2016', '2017', 'proyecto', 'proyecto', 'biblioteca', 'inventario', 'presentación', 'inmueble', '2018', 'informe', 'prórroga', 'acuerdo', '2015', '2030', '2019', 'bachillerato', '2022', 'plantilla', 'finca rústica', 'académico', '2023', '2024', '2021', '2026', '2025', '2020', '2029', '2027', '2028']\n",
            "ContratoAlquiler_reducido.pdf → ['arrendamiento', 'test', 'confidencialidad', 'estados financieros', 'personal', 'educación', 'legal', 'vivienda', '2010', 'opción de compra', 'HH-CCSS', 'inventario', '2013', '2014', '2012', '2011', '2015', '2016', '2018', 'admitidos', 'justificante', 'temporada', '2019', 'prueba', 'cursos', 'empresa', 'inmobiliaria', '2021', 'anexo', '2017', 'acuerdo', 'OEPM', '2020', 'registro', 'registro', 'presentación', 'reserva', 'administrativo', 'contrato', 'alquiler', 'contabilidad', 'freelancer', 'prórroga', 'análisis', 'proyecto', 'proyecto', '2027', '2030', 'formulario', 'informe', '2026', 'inmueble', 'NDA', '2029', '2028', '2023', 'monográficos', 'datos', 'rescisión', 'csv', 'UE', 'biblioteca', 'unilateral', '2024', '2022', '2025', 'plantilla', 'modelo', 'bachillerato', 'finca rústica', 'académico']\n",
            "contrato-de-confidencialidad-freelancer-plantilla-gratis-word.docx → ['estados financieros', 'datos', 'acuerdo', 'finca rústica', 'confidencialidad', 'registro', 'registro', 'temporada', 'educación', 'opción de compra', 'csv', 'informe', 'freelancer', 'inventario', 'cursos', 'administrativo', 'presentación', 'test', 'contrato', 'formulario', 'personal', 'OEPM', 'empresa', 'proyecto', 'proyecto', 'alquiler', 'vivienda', 'justificante', 'NDA', 'legal', 'arrendamiento', 'inmobiliaria', 'prórroga', 'contabilidad', 'reserva', 'UE', 'rescisión', 'anexo', 'admitidos', '2030', 'HH-CCSS', 'unilateral', 'académico', 'modelo', 'análisis', 'inmueble', 'prueba', '2011', '2026', 'monográficos', 'biblioteca', '2013', '2010', 'bachillerato', '2024', '2012', '2014', '2022', '2023', 'plantilla', '2016', '2021', '2018', '2029', '2025', '2015', '2019', '2017', '2028', '2020', '2027']\n",
            "Formulario_EX00_I28202503542693.pdf → []\n",
            "Formulario_EX00_I28202503542693_signed.pdf → []\n",
            "JOtracosa de prueba.pdf → []\n",
            "Justificante de Presentación REG.pdf → []\n",
            "Libros 2º Bac HH-CCSS.xls → []\n",
            "modelo_contrato_alquiler_temporada.docx → []\n",
            "modelo-contrato-alquiler-finca-rustica_arquitasa.pdf → ['legal', 'justificante', 'prórroga', 'registro', 'registro', 'test', 'proyecto', 'proyecto', 'inventario', 'vivienda', 'cursos', 'temporada', 'OEPM', 'contrato', 'datos', 'educación', 'empresa', 'alquiler', 'personal', 'informe', 'freelancer', 'admitidos', 'reserva', 'csv', 'UE', 'arrendamiento', 'formulario', 'prueba', 'finca rústica', 'NDA', 'anexo', 'confidencialidad', '2010', 'HH-CCSS', 'rescisión', '2011', 'administrativo', 'modelo', '2012', 'contabilidad', 'inmueble', 'presentación', 'análisis', 'biblioteca', 'unilateral', 'acuerdo', 'plantilla', '2018', '2016', '2030', '2019', 'bachillerato', 'opción de compra', 'monográficos', '2027', '2014', 'estados financieros', 'académico', '2013', '2029', '2024', 'inmobiliaria', '2015', '2028', '2023', '2017', '2025', '2021', '2020', '2026', '2022']\n",
            "modelo-rescision-contrato-alquiler-vivienda_arquitasa.docx → ['justificante', 'inmueble', 'arrendamiento', 'administrativo', 'inventario', 'inmobiliaria', 'confidencialidad', 'registro', 'registro', 'proyecto', 'proyecto', 'temporada', 'reserva', 'vivienda', 'admitidos', 'estados financieros', 'alquiler', 'empresa', 'datos', 'opción de compra', 'HH-CCSS', 'cursos', 'biblioteca', 'contabilidad', 'legal', 'anexo', 'presentación', 'unilateral', 'prórroga', 'OEPM', 'educación', 'csv', 'bachillerato', 'UE', 'contrato', 'monográficos', 'formulario', 'prueba', 'informe', 'rescisión', 'NDA', 'freelancer', 'finca rústica', 'análisis', 'académico', 'acuerdo', 'modelo', 'test', 'plantilla', 'personal', '2010', '2012', '2011', '2016', '2018', '2014', '2013', '2015', '2017', '2019', '2030', '2020', '2029', '2021', '2028', '2025', '2024', '2023', '2027', '2022', '2026']\n",
            "OscarJair_RiveraGordillo_EditYohana_DiazMuñoz_2018_Anexo1.pptx → ['proyecto', 'proyecto', 'empresa', 'test', '2011', 'análisis', 'legal', 'OEPM', '2013', 'estados financieros', 'NDA', 'unilateral', 'educación', 'registro', 'registro', 'csv', 'reserva', 'cursos', 'justificante', 'datos', 'UE', 'freelancer', 'anexo', 'HH-CCSS', 'contabilidad', 'prórroga', '2012', 'admitidos', 'alquiler', 'formulario', 'temporada', 'informe', 'rescisión', 'monográficos', 'inventario', 'opción de compra', 'arrendamiento', '2010', 'inmueble', 'vivienda', 'contrato', 'académico', 'personal', 'prueba', 'administrativo', 'inmobiliaria', 'biblioteca', 'presentación', 'bachillerato', '2030', 'modelo', 'acuerdo', '2014', 'plantilla', 'confidencialidad', 'finca rústica', '2016', '2024', '2026', '2015', '2028', '2022', '2029', '2017', '2023', '2018', '2025', '2019', '2021', '2027', '2020']\n",
            "presentacic3b3n-def-santoto.pptx → ['administrativo', 'contabilidad', 'empresa', 'registro', 'registro', 'educación', 'informe', 'arrendamiento', 'csv', 'OEPM', 'contrato', 'unilateral', 'test', 'formulario', 'temporada', 'personal', 'monográficos', 'inventario', 'vivienda', 'confidencialidad', 'NDA', 'biblioteca', 'legal', 'finca rústica', 'cursos', 'inmobiliaria', 'anexo', 'reserva', 'admitidos', 'rescisión', 'justificante', 'datos', 'acuerdo', 'proyecto', 'proyecto', 'opción de compra', 'alquiler', 'estados financieros', 'HH-CCSS', 'presentación', 'prueba', '2011', 'prórroga', 'inmueble', '2013', 'análisis', '2010', '2030', 'UE', '2014', '2012', 'freelancer', 'modelo', 'plantilla', 'bachillerato', '2026', 'académico', '2016', '2022', '2024', '2023', '2015', '2029', '2017', '2025', '2018', '2019', '2020', '2028', '2021', '2027']\n",
            "Prorroga_estancia_estudios.pdf.pdf.pdf → ['biblioteca', 'administrativo', 'contabilidad', 'unilateral', 'confidencialidad', 'inmobiliaria', 'arrendamiento', 'opción de compra', 'proyecto', 'proyecto', 'inmueble', 'monográficos', 'HH-CCSS', 'educación', 'registro', 'registro', 'finca rústica', 'estados financieros', 'alquiler', 'empresa', 'bachillerato', '2028', '2027', 'vivienda', 'cursos', 'admitidos', 'reserva', 'inventario', 'OEPM', 'justificante', 'csv', 'prórroga', '2022', 'formulario', 'contrato', 'informe', 'temporada', '2024', 'UE', 'anexo', 'prueba', '2030', 'análisis', 'datos', 'personal', 'test', 'NDA', 'acuerdo', 'freelancer', 'legal', '2026', '2023', '2029', '2025', 'presentación', '2010', '2011', 'plantilla', 'rescisión', '2017', '2014', '2013', '2018', '2012', '2015', 'modelo', '2016', '2019', 'académico', '2021', '2020']\n"
          ]
        }
      ],
      "source": [
        "limite_palabras = 500\n",
        "response = requests.get(url, headers=headers)\n",
        "data = response.json()\n",
        "\n",
        "resultados = {}\n",
        "for item in data.get(\"value\", []):  # Procesar todos los archivos\n",
        "    nombre = item[\"name\"]\n",
        "    if not any(nombre.lower().endswith(ext) for ext in ext_permitidas):\n",
        "        continue\n",
        "    download_url = item[\"@microsoft.graph.downloadUrl\"]\n",
        "    file_bytes = requests.get(download_url).content\n",
        "    texto = leer_archivo(nombre, file_bytes, limite_palabras)\n",
        "    resultados[nombre] = etiquetar_texto(texto) if texto else []\n",
        "\n",
        "for nombre, etiquetas_detectadas in resultados.items():\n",
        "    print(f\"{nombre} → {etiquetas_detectadas}\")"
      ]
    },
    {
      "cell_type": "markdown",
      "id": "MTA1Lj9jFgy1",
      "metadata": {
        "id": "MTA1Lj9jFgy1"
      },
      "source": [
        "#Guardar resultados"
      ]
    },
    {
      "cell_type": "code",
      "execution_count": null,
      "id": "LG0oigjOFgiy",
      "metadata": {
        "id": "LG0oigjOFgiy"
      },
      "outputs": [],
      "source": [
        "with open(\"etiquetas_onedrive.csv\", \"w\", newline=\"\", encoding=\"utf-8-sig\") as f:\n",
        "    writer = csv.writer(f)\n",
        "    writer.writerow([\"Archivo\", \"Etiquetas\"])\n",
        "    for nombre, etiquetas_detectadas in resultados.items():\n",
        "        # Si no hay etiquetas, poner 'Sin etiquetas'\n",
        "        etiquetas_str = \", \".join(etiquetas_detectadas) if etiquetas_detectadas else \"Sin etiquetas\"\n",
        "        writer.writerow([nombre, etiquetas_str])\n",
        "\n",
        "print(\"Resultados guardados en etiquetas_onedrive.csv\")\n"
      ]
    },
    {
      "cell_type": "markdown",
      "source": [
        "## Codigo para cargar en la etiqueta de descripcion en onedrive"
      ],
      "metadata": {
        "id": "PqEIKeX8zwJm"
      },
      "id": "PqEIKeX8zwJm"
    },
    {
      "cell_type": "code",
      "execution_count": null,
      "id": "e3005d25",
      "metadata": {
        "id": "e3005d25"
      },
      "outputs": [],
      "source": [
        "\"\"\"\n",
        "# ============================\n",
        "# Configuración\n",
        "# ============================\n",
        "json_path = \"etiquetas_onedrive.json\"\n",
        "headers = {\"Authorization\": f\"Bearer {access_token}\"}\n",
        "\n",
        "# Carpeta objetivo en OneDrive\n",
        "carpeta_objetivo = \"Etiquetados\"\n",
        "\n",
        "# ============================\n",
        "# Cargar JSON de etiquetas\n",
        "# ============================\n",
        "with open(json_path, \"r\", encoding=\"utf-8\") as f:\n",
        "    etiquetas_data = json.load(f)\n",
        "\n",
        "# ============================\n",
        "# Aplicar etiquetas en la descripción\n",
        "# ============================\n",
        "for archivo, etiquetas in etiquetas_data.items():\n",
        "    if not etiquetas:\n",
        "        continue\n",
        "\n",
        "    # Buscar archivo en OneDrive\n",
        "    url_file = f\"https://graph.microsoft.com/v1.0/me/drive/root:/{carpeta_objetivo}/{archivo}\"\n",
        "    resp_file = requests.get(url_file, headers=headers)\n",
        "\n",
        "    if resp_file.status_code != 200:\n",
        "        print(f\"⚠️ No se encontró {archivo} en OneDrive\")\n",
        "        continue\n",
        "\n",
        "    file_id = resp_file.json()[\"id\"]\n",
        "\n",
        "    # Guardamos etiquetas en el campo \"description\"\n",
        "    url_update = f\"https://graph.microsoft.com/v1.0/me/drive/items/{file_id}\"\n",
        "    payload = {\"description\": \", \".join(etiquetas)}\n",
        "\n",
        "    response_update = requests.patch(\n",
        "        url_update,\n",
        "        headers={**headers, \"Content-Type\": \"application/json\"},\n",
        "        json=payload\n",
        "    )\n",
        "\n",
        "    if response_update.status_code in [200, 204]:\n",
        "        print(f\"✅ Etiquetas {etiquetas} aplicadas a {archivo} en la descripción\")\n",
        "    else:\n",
        "        print(f\"⚠️ Error al actualizar {archivo}: {response_update.text}\")\n",
        "\"\"\""
      ]
    }
  ],
  "metadata": {
    "colab": {
      "provenance": []
    },
    "kernelspec": {
      "display_name": "Python 3",
      "name": "python3"
    },
    "language_info": {
      "codemirror_mode": {
        "name": "ipython",
        "version": 3
      },
      "file_extension": ".py",
      "mimetype": "text/x-python",
      "name": "python",
      "nbconvert_exporter": "python",
      "pygments_lexer": "ipython3",
      "version": "3.13.1"
    }
  },
  "nbformat": 4,
  "nbformat_minor": 5
}