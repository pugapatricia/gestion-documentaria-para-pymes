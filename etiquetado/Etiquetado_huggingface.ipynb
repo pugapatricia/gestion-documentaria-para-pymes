{
  "cells": [
    {
      "cell_type": "markdown",
      "id": "f3a71b3b",
      "metadata": {
        "id": "f3a71b3b"
      },
      "source": [
        "[![Abrir en Colab](https://colab.research.google.com/assets/colab-badge.svg)](https://colab.research.google.com/github/pugapatricia/gestion-documentaria-para-pymes/blob/main/etiquetado/Etiquetado_openai.ipynb)"
      ]
    },
    {
      "cell_type": "markdown",
      "id": "e5bcb24e",
      "metadata": {
        "id": "e5bcb24e"
      },
      "source": [
        "[![Ver en GitHub](https://img.shields.io/badge/GitHub-Repo-black?logo=github)](https://github.com/pugapatricia/gestion-documentaria-para-pymes/tree/main/etiquetado)"
      ]
    },
    {
      "cell_type": "markdown",
      "source": [
        "#Importaciones"
      ],
      "metadata": {
        "id": "H1Hm8SLMn6sz"
      },
      "id": "H1Hm8SLMn6sz"
    },
    {
      "cell_type": "code",
      "execution_count": 1,
      "id": "3SC0UKYxGlvk",
      "metadata": {
        "id": "3SC0UKYxGlvk",
        "colab": {
          "base_uri": "https://localhost:8080/"
        },
        "outputId": "5667578b-8658-43f3-a1de-6468ce7a248b"
      },
      "outputs": [
        {
          "output_type": "stream",
          "name": "stdout",
          "text": [
            "\u001b[?25l   \u001b[90m━━━━━━━━━━━━━━━━━━━━━━━━━━━━━━━━━━━━━━━━\u001b[0m \u001b[32m0.0/232.6 kB\u001b[0m \u001b[31m?\u001b[0m eta \u001b[36m-:--:--\u001b[0m\r\u001b[2K   \u001b[90m━━━━━━━━━━━━━━━━━━━━━━━━━━━━━━━━━━━━━━━━\u001b[0m \u001b[32m232.6/232.6 kB\u001b[0m \u001b[31m7.2 MB/s\u001b[0m eta \u001b[36m0:00:00\u001b[0m\n",
            "\u001b[?25h\u001b[?25l   \u001b[90m━━━━━━━━━━━━━━━━━━━━━━━━━━━━━━━━━━━━━━━━\u001b[0m \u001b[32m0.0/253.0 kB\u001b[0m \u001b[31m?\u001b[0m eta \u001b[36m-:--:--\u001b[0m\r\u001b[2K   \u001b[90m━━━━━━━━━━━━━━━━━━━━━━━━━━━━━━━━━━━━━━━━\u001b[0m \u001b[32m253.0/253.0 kB\u001b[0m \u001b[31m11.2 MB/s\u001b[0m eta \u001b[36m0:00:00\u001b[0m\n",
            "\u001b[2K   \u001b[90m━━━━━━━━━━━━━━━━━━━━━━━━━━━━━━━━━━━━━━━━\u001b[0m \u001b[32m472.8/472.8 kB\u001b[0m \u001b[31m22.6 MB/s\u001b[0m eta \u001b[36m0:00:00\u001b[0m\n",
            "\u001b[2K   \u001b[90m━━━━━━━━━━━━━━━━━━━━━━━━━━━━━━━━━━━━━━━━\u001b[0m \u001b[32m1.3/1.3 MB\u001b[0m \u001b[31m26.9 MB/s\u001b[0m eta \u001b[36m0:00:00\u001b[0m\n",
            "\u001b[2K   \u001b[90m━━━━━━━━━━━━━━━━━━━━━━━━━━━━━━━━━━━━━━━━\u001b[0m \u001b[32m117.0/117.0 kB\u001b[0m \u001b[31m6.5 MB/s\u001b[0m eta \u001b[36m0:00:00\u001b[0m\n",
            "\u001b[2K   \u001b[90m━━━━━━━━━━━━━━━━━━━━━━━━━━━━━━━━━━━━━━━━\u001b[0m \u001b[32m175.3/175.3 kB\u001b[0m \u001b[31m9.0 MB/s\u001b[0m eta \u001b[36m0:00:00\u001b[0m\n",
            "\u001b[?25h"
          ]
        }
      ],
      "source": [
        "!pip install -q PyPDF2 python-docx openpyxl python-pptx xlrd transformers office365-rest-python-client msal requests"
      ]
    },
    {
      "cell_type": "code",
      "execution_count": 41,
      "id": "mdG952zUC6cM",
      "metadata": {
        "id": "mdG952zUC6cM"
      },
      "outputs": [],
      "source": [
        "import os\n",
        "import io\n",
        "import re\n",
        "import json\n",
        "from pathlib import Path\n",
        "from PyPDF2 import PdfReader\n",
        "import docx\n",
        "import openpyxl\n",
        "from pptx import Presentation\n",
        "import xlrd\n",
        "from transformers import pipeline\n",
        "from office365.sharepoint.client_context import ClientContext\n",
        "from office365.runtime.auth.user_credential import UserCredential\n",
        "import os\n",
        "import requests\n",
        "import msal\n",
        "import csv\n",
        "import getpass\n",
        "from openai import OpenAI\n",
        "from transformers import pipeline\n",
        "import time\n",
        "import openai\n",
        "import requests"
      ]
    },
    {
      "cell_type": "code",
      "source": [
        "api_key = getpass.getpass(\"Introduce tu OpenAI API Key: \")\n",
        "client = OpenAI(api_key=api_key)\n",
        "token = getpass.getpass(\"Introduce tu GitHub token: \")"
      ],
      "metadata": {
        "colab": {
          "base_uri": "https://localhost:8080/"
        },
        "id": "9o-5YwwnFdYe",
        "outputId": "70854528-1d62-40d4-a387-6d172fb82954"
      },
      "id": "9o-5YwwnFdYe",
      "execution_count": 25,
      "outputs": [
        {
          "name": "stdout",
          "output_type": "stream",
          "text": [
            "Introduce tu OpenAI API Key: ··········\n",
            "Introduce tu GitHub token: ··········\n"
          ]
        }
      ]
    },
    {
      "cell_type": "code",
      "source": [
        "!apt-get install git -y"
      ],
      "metadata": {
        "colab": {
          "base_uri": "https://localhost:8080/"
        },
        "id": "CAx7lFFZDqOw",
        "outputId": "4a3297c6-925e-4117-e289-da19021fd11f"
      },
      "id": "CAx7lFFZDqOw",
      "execution_count": 26,
      "outputs": [
        {
          "output_type": "stream",
          "name": "stdout",
          "text": [
            "Reading package lists... Done\n",
            "Building dependency tree... Done\n",
            "Reading state information... Done\n",
            "git is already the newest version (1:2.34.1-1ubuntu1.15).\n",
            "0 upgraded, 0 newly installed, 0 to remove and 38 not upgraded.\n"
          ]
        }
      ]
    },
    {
      "cell_type": "markdown",
      "id": "ptKdGUIiEaHz",
      "metadata": {
        "id": "ptKdGUIiEaHz"
      },
      "source": [
        "# Configuración"
      ]
    },
    {
      "cell_type": "code",
      "execution_count": 27,
      "id": "UAkFWDSoEgGa",
      "metadata": {
        "id": "UAkFWDSoEgGa",
        "outputId": "3bcb64bb-dc78-4a47-e8a6-f56bced3215a",
        "colab": {
          "base_uri": "https://localhost:8080/"
        }
      },
      "outputs": [
        {
          "output_type": "stream",
          "name": "stderr",
          "text": [
            "Device set to use cuda:0\n"
          ]
        }
      ],
      "source": [
        "CLIENT_ID = \"e3f2393e-7348-47d1-9c64-8d8efe6a5e95\"  # tu nuevo Client ID\n",
        "AUTHORITY = \"https://login.microsoftonline.com/consumers\"\n",
        "SCOPE = [\"User.Read\", \"Files.ReadWrite\"]\n",
        "\n",
        "ext_permitidas = {\"pdf\", \"docx\", \"xlsx\", \"xls\", \"pptx\", \"txt\", \"csv\"}\n",
        "classifier = pipeline(\"zero-shot-classification\",\n",
        "    model=\"typeform/distilbert-base-uncased-mnli\")\n",
        "url = \"https://graph.microsoft.com/v1.0/me/drive/root:/Etiquetados:/children\""
      ]
    },
    {
      "cell_type": "code",
      "source": [
        "!git config --global user.email \"marcomendieta08@gmail.com\"\n",
        "!git config --global user.name \"marcomendieta08\"\n",
        "!git clone https://github.com/pugapatricia/gestion-documentaria-para-pymes.git"
      ],
      "metadata": {
        "colab": {
          "base_uri": "https://localhost:8080/"
        },
        "id": "fdxiSsgKv341",
        "outputId": "46e1a385-7be4-4f2c-e87f-b1e41a0509b2"
      },
      "id": "fdxiSsgKv341",
      "execution_count": 28,
      "outputs": [
        {
          "output_type": "stream",
          "name": "stdout",
          "text": [
            "Cloning into 'gestion-documentaria-para-pymes'...\n",
            "remote: Enumerating objects: 276, done.\u001b[K\n",
            "remote: Counting objects: 100% (68/68), done.\u001b[K\n",
            "remote: Compressing objects: 100% (59/59), done.\u001b[K\n",
            "remote: Total 276 (delta 39), reused 16 (delta 8), pack-reused 208 (from 1)\u001b[K\n",
            "Receiving objects: 100% (276/276), 6.47 MiB | 13.44 MiB/s, done.\n",
            "Resolving deltas: 100% (145/145), done.\n"
          ]
        }
      ]
    },
    {
      "cell_type": "markdown",
      "id": "lKu0-R84Ei__",
      "metadata": {
        "id": "lKu0-R84Ei__"
      },
      "source": [
        "# Conección con OneDrive\n"
      ]
    },
    {
      "cell_type": "code",
      "execution_count": 6,
      "id": "4SfZ6bYUEpzF",
      "metadata": {
        "colab": {
          "base_uri": "https://localhost:8080/"
        },
        "id": "4SfZ6bYUEpzF",
        "outputId": "ea49d3f1-9140-4670-e484-90dc1f41411f"
      },
      "outputs": [
        {
          "output_type": "stream",
          "name": "stdout",
          "text": [
            "To sign in, use a web browser to open the page https://www.microsoft.com/link and enter the code T9RMTAVR to authenticate.\n"
          ]
        }
      ],
      "source": [
        "app = msal.PublicClientApplication(CLIENT_ID, authority=AUTHORITY)\n",
        "\n",
        "flow = app.initiate_device_flow(scopes=SCOPE)\n",
        "if \"user_code\" not in flow:\n",
        "    raise Exception(\"No se pudo iniciar el device flow. Revisa tu configuración en Azure.\")\n",
        "\n",
        "print(flow[\"message\"])  # 👉 Copia el código en https://microsoft.com/devicelogin\n",
        "result = app.acquire_token_by_device_flow(flow)\n",
        "\n",
        "if \"access_token\" not in result:\n",
        "    raise Exception(f\"Error autenticación: {result.get('error_description')}\")\n",
        "\n",
        "access_token = result[\"access_token\"]\n",
        "headers = {\"Authorization\": f\"Bearer {access_token}\"}\n",
        "\n",
        "# Llamada a la API con tu token de acceso\n",
        "resp = requests.get(url, headers=headers)\n",
        "if resp.status_code != 200:\n",
        "    raise Exception(f\"Error al obtener archivos: {resp.text}\")\n",
        "data = resp.json()"
      ]
    },
    {
      "cell_type": "markdown",
      "source": [
        "#Funciones"
      ],
      "metadata": {
        "id": "IYoSk_6voooa"
      },
      "id": "IYoSk_6voooa"
    },
    {
      "cell_type": "code",
      "source": [
        "ticketsTXT = \"https://raw.githubusercontent.com/pugapatricia/gestion-documentaria-para-pymes/refs/heads/main/etiquetado/tickers.txt\"\n",
        "response = requests.get(ticketsTXT)\n",
        "etiquetas = response.text.strip().split(\", \")\n",
        "print(etiquetas)\n",
        "\n"
      ],
      "metadata": {
        "colab": {
          "base_uri": "https://localhost:8080/"
        },
        "id": "xbRaQYOUwNNa",
        "outputId": "943c5619-ef8f-4304-c8d5-2ec729a35146"
      },
      "id": "xbRaQYOUwNNa",
      "execution_count": 7,
      "outputs": [
        {
          "output_type": "stream",
          "name": "stdout",
          "text": [
            "['tauromaquia', 'pasaporte', 'señal', 'medioambiente', 'universidad', 'arqueología', 'financiero', 'contaduría', 'restitución', 'materias', 'regresión', 'extranjero', 'renta', 'análisis', 'puente', 'servicios', 'inquilino', 'optativa', 'arrendador', 'seguridad', 'notificaciones', 'vigilancia', 'depreciación', 'empresa', 'geografía', 'monográficos', 'estancia', 'balance', 'divulgación', 'autorización', 'master', 'madrid', 'interpretación', 'ingresos', 'métodos', 'fuentes', 'idiomas', 'silvopastoril', 'extranjería', 'receptor', 'proyecto', 'interés', 'apalancamiento', 'propiedad', 'incumplimiento', 'estudios', 'nie', 'datascience', 'complutense', 'mediación', 'firma', 'liquidez', 'valoracion', 'desalojo', 'compraventa', 'alquiler', 'sociales', 'jarama', 'partes', 'contrato', 'tasas', 'humanidades', 'estudiantes', 'activos', 'actividad', 'pasivos', 'financieros', 'registro', 'divulgador', 'cesión', 'poesía', 'temporada', 'documentación', 'rentabilidad', 'comisiones', 'flujodecaja', 'patrimonio', 'proyección', 'arganda', '2016-2017', 'indicadores', 'suministros', 'arrendamiento', 'cursos', 'empaques', 'devolución', 'nda', 'costos', 'admitidos', 'información', 'solicitud', 'panama', 'matrícula', 'reserva', 'cartera', 'vivienda', 'habitación', 'mendieta', 'consorcio', 'autorizacion', 'acuerdo', 'curso', 'arrendatario', 'egresos', 'duración', 'simulación', 'decisiones', 'jurisdicción', 'prorroga', 'transporte', 'eva', 'rescisión', 'secreto', 'prórroga', 'van', 'obligaciones', 'contabilidad', 'máster', 'inventarios', 'envíos', 'tir', 'confidencialidad', 'historia', 'cláusulas', 'inversión', 'vino', 'amortización', 'penalizaciones', 'propietario', 'astrofísica', 'créditos', 'alumnos', 'inmueble', 'batalla', 'cultivo', 'finca', 'fianza', 'estados', 'flujo', 'visado', 'endeudamiento', 'subarriendo', 'propiedadintelectual', 'comparación', 'seguro', 'proyeccion', 'matemáticas', 'financiera', 'lau', 'archivo', 'cauca', 'marco', 'arte', 'bachillerato']\n"
          ]
        }
      ]
    },
    {
      "cell_type": "markdown",
      "source": [
        "Lector de documentos"
      ],
      "metadata": {
        "id": "SVuMqyREoznw"
      },
      "id": "SVuMqyREoznw"
    },
    {
      "cell_type": "code",
      "execution_count": 8,
      "id": "RTR5h05bFUDm",
      "metadata": {
        "id": "RTR5h05bFUDm"
      },
      "outputs": [],
      "source": [
        "def leer_pdf(contenido, limite_palabras):\n",
        "    texto = \"\"\n",
        "    reader = PdfReader(io.BytesIO(contenido))\n",
        "    for page in reader.pages:\n",
        "        if page.extract_text():\n",
        "            texto += page.extract_text() + \"\\n\"\n",
        "            if len(texto.split()) >= limite_palabras:\n",
        "                break\n",
        "    return texto\n",
        "\n",
        "\n",
        "def leer_docx(contenido, limite_palabras):\n",
        "    texto = \"\"\n",
        "    doc = docx.Document(io.BytesIO(contenido))\n",
        "    for p in doc.paragraphs:\n",
        "        if p.text.strip():\n",
        "            texto += p.text + \"\\n\"\n",
        "            if len(texto.split()) >= limite_palabras:\n",
        "                break\n",
        "    return texto\n",
        "\n",
        "\n",
        "def leer_excel(contenido, limite_palabras):\n",
        "    texto = \"\"\n",
        "    wb = openpyxl.load_workbook(io.BytesIO(contenido), data_only=True, read_only=True)\n",
        "    for sheet in wb.worksheets:\n",
        "        for row in sheet.iter_rows(values_only=True):\n",
        "            texto += \" \".join([str(cell) for cell in row if cell]) + \"\\n\"\n",
        "            if len(texto.split()) >= limite_palabras:\n",
        "                break\n",
        "        if len(texto.split()) >= limite_palabras:\n",
        "            break\n",
        "    return texto\n",
        "\n",
        "\n",
        "def leer_xls(contenido, limite_palabras):\n",
        "    texto = \"\"\n",
        "    temp_file = \"temp.xls\"\n",
        "    with open(temp_file, \"wb\") as f:\n",
        "        f.write(contenido)\n",
        "    wb = xlrd.open_workbook(temp_file)\n",
        "    for sheet in wb.sheets():\n",
        "        for row_idx in range(sheet.nrows):\n",
        "            row = sheet.row_values(row_idx)\n",
        "            texto += \" \".join([str(cell) for cell in row if cell]) + \"\\n\"\n",
        "            if len(texto.split()) >= limite_palabras:\n",
        "                break\n",
        "        if len(texto.split()) >= limite_palabras:\n",
        "            break\n",
        "    os.remove(temp_file)\n",
        "    return texto\n",
        "\n",
        "\n",
        "def leer_pptx(contenido, limite_palabras):\n",
        "    texto = \"\"\n",
        "    temp_file = \"temp.pptx\"\n",
        "    with open(temp_file, \"wb\") as f:\n",
        "        f.write(contenido)\n",
        "    prs = Presentation(temp_file)\n",
        "    for slide in prs.slides:\n",
        "        for shape in slide.shapes:\n",
        "            if hasattr(shape, \"text\") and shape.text.strip():\n",
        "                texto += shape.text + \"\\n\"\n",
        "                if len(texto.split()) >= limite_palabras:\n",
        "                    break\n",
        "        if len(texto.split()) >= limite_palabras:\n",
        "            break\n",
        "    os.remove(temp_file)\n",
        "    return texto\n",
        "\n",
        "\n",
        "def leer_txt_csv(contenido, limite_palabras):\n",
        "    texto = contenido.decode(\"utf-8\", errors=\"ignore\")\n",
        "    return \" \".join(texto.split()[:limite_palabras])\n",
        "\n",
        "def leer_archivo(nombre, contenido, limite_palabras=None):\n",
        "    ext = nombre.split(\".\")[-1].lower()\n",
        "    if ext == \"pdf\":\n",
        "        return leer_pdf(contenido, limite_palabras)\n",
        "    elif ext == \"docx\":\n",
        "        return leer_docx(contenido, limite_palabras)\n",
        "    elif ext == \"xlsx\":\n",
        "        return leer_excel(contenido, limite_palabras)\n",
        "    elif ext == \"xls\":\n",
        "        return leer_xls(contenido, limite_palabras)\n",
        "    elif ext == \"pptx\":\n",
        "        return leer_pptx(contenido, limite_palabras)\n",
        "    elif ext in {\"txt\", \"csv\"}:\n",
        "        return leer_txt_csv(contenido, limite_palabras)\n",
        "    return \"\""
      ]
    },
    {
      "cell_type": "markdown",
      "id": "fGLBYpx2FJqW",
      "metadata": {
        "id": "fGLBYpx2FJqW"
      },
      "source": [
        "Clasificador Hugging Face Zero-Shot\n"
      ]
    },
    {
      "cell_type": "code",
      "source": [
        "def limpiar_texto(texto: str) -> str:\n",
        "    if not texto:\n",
        "        return \"\"\n",
        "    texto = texto.lower()\n",
        "    texto = re.sub(r\"[\\r\\n\\t]+\", \" \", texto)\n",
        "    texto = re.sub(r\"[^a-záéíóúüñ0-9\\s]\", \"\", texto)\n",
        "    texto = re.sub(r\"\\s+\", \" \", texto)\n",
        "    return texto.strip()\n",
        "\n",
        "def etiquetar_texto(texto, umbral=0.3, min_etiquetas=5, max_etiquetas=10):\n",
        "    res = classifier(texto, candidate_labels=etiquetas, multi_label=True)\n",
        "    etiquetas_filtradas = [label for label, score in zip(res[\"labels\"], res[\"scores\"]) if score >= umbral]\n",
        "    if len(etiquetas_filtradas) < min_etiquetas:\n",
        "\n",
        "        etiquetas_ordenadas = [label for _, label in sorted(zip(res[\"scores\"], res[\"labels\"]), reverse=True)]\n",
        "        for label in etiquetas_ordenadas:\n",
        "            if label not in etiquetas_filtradas:\n",
        "                etiquetas_filtradas.append(label)\n",
        "            if len(etiquetas_filtradas) >= min_etiquetas:\n",
        "                break\n",
        "    etiquetas_filtradas = etiquetas_filtradas[:max_etiquetas]\n",
        "\n",
        "    return etiquetas_filtradas\n"
      ],
      "metadata": {
        "id": "Vi-KeohEC6Qg"
      },
      "id": "Vi-KeohEC6Qg",
      "execution_count": 40,
      "outputs": []
    },
    {
      "cell_type": "code",
      "source": [
        "def generar_descripcion(texto):\n",
        "    try:\n",
        "        response = client.chat.completions.create(\n",
        "            model=\"gpt-4o-mini\",  # o \"gpt-4-turbo\" si quieres más calidad\n",
        "            messages=[\n",
        "                {\"role\": \"system\", \"content\": \"Eres un asistente que resume documentos brevemente.\"},\n",
        "                {\"role\": \"user\", \"content\": f\"Resume en 2 líneas el siguiente texto:\\n\\n{texto}\"}\n",
        "            ],\n",
        "            max_tokens=100\n",
        "        )\n",
        "        return response.choices[0].message.content.strip()\n",
        "    except Exception as e:\n",
        "        return f\"Error generando descripción: {e}\"\n"
      ],
      "metadata": {
        "id": "6OKAwDeYJu9f"
      },
      "id": "6OKAwDeYJu9f",
      "execution_count": 42,
      "outputs": []
    },
    {
      "cell_type": "markdown",
      "id": "eFJR7GKaFaRk",
      "metadata": {
        "id": "eFJR7GKaFaRk"
      },
      "source": [
        "# Leer archivos de OneDrive"
      ]
    },
    {
      "cell_type": "code",
      "source": [
        "limite_palabras = 2000\n",
        "response = requests.get(url, headers=headers)\n",
        "data = response.json()\n",
        "\n",
        "resultados = {}\n",
        "descripciones = {}\n",
        "\n",
        "for item in data.get(\"value\", []):  # Procesar todos los archivos\n",
        "    nombre = item[\"name\"]\n",
        "    if not any(nombre.lower().endswith(ext) for ext in ext_permitidas):\n",
        "        continue\n",
        "    download_url = item[\"@microsoft.graph.downloadUrl\"]\n",
        "    file_bytes = requests.get(download_url).content\n",
        "    texto = leer_archivo(nombre, file_bytes, limite_palabras)\n",
        "\n",
        "    # Mantienes tu lógica actual\n",
        "    resultados[nombre] = etiquetar_texto(texto) if texto else []\n",
        "\n",
        "    # Agregas la descripción nueva\n",
        "    descripciones[nombre] = describir_texto(texto) if texto else \"No se pudo leer el archivo\"\n",
        "\n",
        "# Mostrar resultados\n",
        "for nombre, etiquetas_detectadas in resultados.items():\n",
        "    print(f\"{nombre} → {etiquetas_detectadas}\")\n",
        "    print(f\"Descripción: {descripciones[nombre]}\\n\")\n"
      ],
      "metadata": {
        "id": "4Z1GGS7MJy0M",
        "outputId": "28ea8eaa-e63e-4ef7-f132-7c5ffe0ace7a",
        "colab": {
          "base_uri": "https://localhost:8080/"
        }
      },
      "id": "4Z1GGS7MJy0M",
      "execution_count": 43,
      "outputs": [
        {
          "output_type": "stream",
          "name": "stdout",
          "text": [
            "11_07_2019_modelo_orientativo_de_contrato_de_arrendamiento_de_vivienda.pdf → ['registro', 'propiedad', 'arrendador', 'indicadores', 'empaques', 'propiedadintelectual', 'inventarios', 'jurisdicción', 'temporada', 'divulgación']\n",
            "Descripción: Error generando descripción: \n",
            "\n",
            "You tried to access openai.ChatCompletion, but this is no longer supported in openai>=1.0.0 - see the README at https://github.com/openai/openai-python for the API.\n",
            "\n",
            "You can run `openai migrate` to automatically upgrade your codebase to use the 1.0.0 interface. \n",
            "\n",
            "Alternatively, you can pin your installation to the old version, e.g. `pip install openai==0.28`\n",
            "\n",
            "A detailed migration guide is available here: https://github.com/openai/openai-python/discussions/742\n",
            "\n",
            "\n",
            "2016-admitidos_Segundo ciclo- Cursos monográficos.xls → ['historia', 'confidencialidad', 'arte', 'medioambiente', 'divulgador']\n",
            "Descripción: Error generando descripción: \n",
            "\n",
            "You tried to access openai.ChatCompletion, but this is no longer supported in openai>=1.0.0 - see the README at https://github.com/openai/openai-python for the API.\n",
            "\n",
            "You can run `openai migrate` to automatically upgrade your codebase to use the 1.0.0 interface. \n",
            "\n",
            "Alternatively, you can pin your installation to the old version, e.g. `pip install openai==0.28`\n",
            "\n",
            "A detailed migration guide is available here: https://github.com/openai/openai-python/discussions/742\n",
            "\n",
            "\n",
            "2023_05-Modelo_Documento_reserva_inmueble_en_alquiler_v.reducida.docx → ['seguro', 'seguridad', 'obligaciones', 'solicitud', 'jurisdicción', 'ingresos', 'reserva', 'cursos', 'contaduría', 'regresión']\n",
            "Descripción: Error generando descripción: \n",
            "\n",
            "You tried to access openai.ChatCompletion, but this is no longer supported in openai>=1.0.0 - see the README at https://github.com/openai/openai-python for the API.\n",
            "\n",
            "You can run `openai migrate` to automatically upgrade your codebase to use the 1.0.0 interface. \n",
            "\n",
            "Alternatively, you can pin your installation to the old version, e.g. `pip install openai==0.28`\n",
            "\n",
            "A detailed migration guide is available here: https://github.com/openai/openai-python/discussions/742\n",
            "\n",
            "\n",
            "660d1bfb7c43622a597a4000_Non-disclosure agreement nda template contract.pdf → ['solicitud', 'propiedadintelectual', 'balance', 'incumplimiento', 'restitución', 'endeudamiento', 'indicadores', 'vigilancia', 'datascience', 'arrendamiento']\n",
            "Descripción: Error generando descripción: \n",
            "\n",
            "You tried to access openai.ChatCompletion, but this is no longer supported in openai>=1.0.0 - see the README at https://github.com/openai/openai-python for the API.\n",
            "\n",
            "You can run `openai migrate` to automatically upgrade your codebase to use the 1.0.0 interface. \n",
            "\n",
            "Alternatively, you can pin your installation to the old version, e.g. `pip install openai==0.28`\n",
            "\n",
            "A detailed migration guide is available here: https://github.com/openai/openai-python/discussions/742\n",
            "\n",
            "\n",
            "Acuerdo_no_Divulgacion_Unilateral_UE.pdf → ['cesión', 'medioambiente', 'arrendatario', 'registro', 'arte', 'confidencialidad', 'divulgación', 'silvopastoril', 'tir', 'cultivo']\n",
            "Descripción: Error generando descripción: \n",
            "\n",
            "You tried to access openai.ChatCompletion, but this is no longer supported in openai>=1.0.0 - see the README at https://github.com/openai/openai-python for the API.\n",
            "\n",
            "You can run `openai migrate` to automatically upgrade your codebase to use the 1.0.0 interface. \n",
            "\n",
            "Alternatively, you can pin your installation to the old version, e.g. `pip install openai==0.28`\n",
            "\n",
            "A detailed migration guide is available here: https://github.com/openai/openai-python/discussions/742\n",
            "\n",
            "\n",
            "Acuerdo-de-Confidencialidad-OEPM.pdf → ['acuerdo', 'receptor', 'van', 'inversión', 'lau', 'arte', 'máster', 'master', 'balance', 'eva']\n",
            "Descripción: Error generando descripción: \n",
            "\n",
            "You tried to access openai.ChatCompletion, but this is no longer supported in openai>=1.0.0 - see the README at https://github.com/openai/openai-python for the API.\n",
            "\n",
            "You can run `openai migrate` to automatically upgrade your codebase to use the 1.0.0 interface. \n",
            "\n",
            "Alternatively, you can pin your installation to the old version, e.g. `pip install openai==0.28`\n",
            "\n",
            "A detailed migration guide is available here: https://github.com/openai/openai-python/discussions/742\n",
            "\n",
            "\n",
            "AnaLiliana_SuarezHerrera_WelmarFernandoRinconTorres_2018_Anexo1.pptx → ['financiera', 'materias', 'rentabilidad', 'empresa', 'arqueología', 'contrato', 'pasaporte', 'propiedad', 'tir', 'empaques']\n",
            "Descripción: Error generando descripción: \n",
            "\n",
            "You tried to access openai.ChatCompletion, but this is no longer supported in openai>=1.0.0 - see the README at https://github.com/openai/openai-python for the API.\n",
            "\n",
            "You can run `openai migrate` to automatically upgrade your codebase to use the 1.0.0 interface. \n",
            "\n",
            "Alternatively, you can pin your installation to the old version, e.g. `pip install openai==0.28`\n",
            "\n",
            "A detailed migration guide is available here: https://github.com/openai/openai-python/discussions/742\n",
            "\n",
            "\n",
            "Analisis de interpretacion de estados financieros.pptx → ['alumnos', 'divulgador', 'financiero', 'financieros', 'silvopastoril', 'métodos', 'financiera', 'registro', 'desalojo', 'arrendatario']\n",
            "Descripción: Error generando descripción: \n",
            "\n",
            "You tried to access openai.ChatCompletion, but this is no longer supported in openai>=1.0.0 - see the README at https://github.com/openai/openai-python for the API.\n",
            "\n",
            "You can run `openai migrate` to automatically upgrade your codebase to use the 1.0.0 interface. \n",
            "\n",
            "Alternatively, you can pin your installation to the old version, e.g. `pip install openai==0.28`\n",
            "\n",
            "A detailed migration guide is available here: https://github.com/openai/openai-python/discussions/742\n",
            "\n",
            "\n",
            "Análisis Financiero del Proyecto.xls → ['ingresos', 'silvopastoril', 'suministros', 'estudios', 'métodos', 'propiedadintelectual', 'admitidos', 'análisis', 'servicios', 'monográficos']\n",
            "Descripción: Error generando descripción: \n",
            "\n",
            "You tried to access openai.ChatCompletion, but this is no longer supported in openai>=1.0.0 - see the README at https://github.com/openai/openai-python for the API.\n",
            "\n",
            "You can run `openai migrate` to automatically upgrade your codebase to use the 1.0.0 interface. \n",
            "\n",
            "Alternatively, you can pin your installation to the old version, e.g. `pip install openai==0.28`\n",
            "\n",
            "A detailed migration guide is available here: https://github.com/openai/openai-python/discussions/742\n",
            "\n",
            "\n",
            "ANALISIS FINANCIERO.xls → ['silvopastoril', 'suministros', 'inmueble', 'egresos', 'depreciación']\n",
            "Descripción: Error generando descripción: \n",
            "\n",
            "You tried to access openai.ChatCompletion, but this is no longer supported in openai>=1.0.0 - see the README at https://github.com/openai/openai-python for the API.\n",
            "\n",
            "You can run `openai migrate` to automatically upgrade your codebase to use the 1.0.0 interface. \n",
            "\n",
            "Alternatively, you can pin your installation to the old version, e.g. `pip install openai==0.28`\n",
            "\n",
            "A detailed migration guide is available here: https://github.com/openai/openai-python/discussions/742\n",
            "\n",
            "\n",
            "biblioteca2-csv.xls → ['propiedadintelectual', 'arrendatario', 'divulgador', 'arrendador', 'archivo', 'propiedad', 'arqueología', 'silvopastoril', 'flujodecaja', 'puente']\n",
            "Descripción: Error generando descripción: \n",
            "\n",
            "You tried to access openai.ChatCompletion, but this is no longer supported in openai>=1.0.0 - see the README at https://github.com/openai/openai-python for the API.\n",
            "\n",
            "You can run `openai migrate` to automatically upgrade your codebase to use the 1.0.0 interface. \n",
            "\n",
            "Alternatively, you can pin your installation to the old version, e.g. `pip install openai==0.28`\n",
            "\n",
            "A detailed migration guide is available here: https://github.com/openai/openai-python/discussions/742\n",
            "\n",
            "\n",
            "contrato_alquiler_opcion_compra.pdf → ['arrendamiento', 'arrendatario', 'endeudamiento', 'incumplimiento', 'arrendador', 'inquilino', 'silvopastoril', 'confidencialidad', '2016-2017', 'vivienda']\n",
            "Descripción: Error generando descripción: \n",
            "\n",
            "You tried to access openai.ChatCompletion, but this is no longer supported in openai>=1.0.0 - see the README at https://github.com/openai/openai-python for the API.\n",
            "\n",
            "You can run `openai migrate` to automatically upgrade your codebase to use the 1.0.0 interface. \n",
            "\n",
            "Alternatively, you can pin your installation to the old version, e.g. `pip install openai==0.28`\n",
            "\n",
            "A detailed migration guide is available here: https://github.com/openai/openai-python/discussions/742\n",
            "\n",
            "\n",
            "ContratoAlquiler_reducido.pdf → ['mendieta', 'arrendatario', 'arte', 'medioambiente', 'arrendamiento', 'panama', 'incumplimiento', 'van', 'propiedadintelectual', 'confidencialidad']\n",
            "Descripción: Error generando descripción: \n",
            "\n",
            "You tried to access openai.ChatCompletion, but this is no longer supported in openai>=1.0.0 - see the README at https://github.com/openai/openai-python for the API.\n",
            "\n",
            "You can run `openai migrate` to automatically upgrade your codebase to use the 1.0.0 interface. \n",
            "\n",
            "Alternatively, you can pin your installation to the old version, e.g. `pip install openai==0.28`\n",
            "\n",
            "A detailed migration guide is available here: https://github.com/openai/openai-python/discussions/742\n",
            "\n",
            "\n",
            "contrato-de-confidencialidad-freelancer-plantilla-gratis-word.docx → ['financieros', 'financiero', 'financiera', 'suministros', 'finca', 'acuerdo', 'ingresos', 'estudios', 'métodos', 'divulgador']\n",
            "Descripción: Error generando descripción: \n",
            "\n",
            "You tried to access openai.ChatCompletion, but this is no longer supported in openai>=1.0.0 - see the README at https://github.com/openai/openai-python for the API.\n",
            "\n",
            "You can run `openai migrate` to automatically upgrade your codebase to use the 1.0.0 interface. \n",
            "\n",
            "Alternatively, you can pin your installation to the old version, e.g. `pip install openai==0.28`\n",
            "\n",
            "A detailed migration guide is available here: https://github.com/openai/openai-python/discussions/742\n",
            "\n",
            "\n",
            "Formulario_EX00_I28202503542693.pdf → ['balance', 'prórroga', 'prorroga', 'interpretación', 'materias']\n",
            "Descripción: Error generando descripción: \n",
            "\n",
            "You tried to access openai.ChatCompletion, but this is no longer supported in openai>=1.0.0 - see the README at https://github.com/openai/openai-python for the API.\n",
            "\n",
            "You can run `openai migrate` to automatically upgrade your codebase to use the 1.0.0 interface. \n",
            "\n",
            "Alternatively, you can pin your installation to the old version, e.g. `pip install openai==0.28`\n",
            "\n",
            "A detailed migration guide is available here: https://github.com/openai/openai-python/discussions/742\n",
            "\n",
            "\n",
            "Formulario_EX00_I28202503542693_signed.pdf → ['balance', 'prórroga', 'prorroga', 'interpretación', 'materias']\n",
            "Descripción: Error generando descripción: \n",
            "\n",
            "You tried to access openai.ChatCompletion, but this is no longer supported in openai>=1.0.0 - see the README at https://github.com/openai/openai-python for the API.\n",
            "\n",
            "You can run `openai migrate` to automatically upgrade your codebase to use the 1.0.0 interface. \n",
            "\n",
            "Alternatively, you can pin your installation to the old version, e.g. `pip install openai==0.28`\n",
            "\n",
            "A detailed migration guide is available here: https://github.com/openai/openai-python/discussions/742\n",
            "\n",
            "\n",
            "JOtracosa de prueba.pdf → ['datascience', 'silvopastoril', 'matrícula', 'confidencialidad', 'nie']\n",
            "Descripción: Error generando descripción: \n",
            "\n",
            "You tried to access openai.ChatCompletion, but this is no longer supported in openai>=1.0.0 - see the README at https://github.com/openai/openai-python for the API.\n",
            "\n",
            "You can run `openai migrate` to automatically upgrade your codebase to use the 1.0.0 interface. \n",
            "\n",
            "Alternatively, you can pin your installation to the old version, e.g. `pip install openai==0.28`\n",
            "\n",
            "A detailed migration guide is available here: https://github.com/openai/openai-python/discussions/742\n",
            "\n",
            "\n",
            "Justificante de Presentación REG.pdf → ['datascience', 'silvopastoril', 'matrícula', 'confidencialidad', 'nie']\n",
            "Descripción: Error generando descripción: \n",
            "\n",
            "You tried to access openai.ChatCompletion, but this is no longer supported in openai>=1.0.0 - see the README at https://github.com/openai/openai-python for the API.\n",
            "\n",
            "You can run `openai migrate` to automatically upgrade your codebase to use the 1.0.0 interface. \n",
            "\n",
            "Alternatively, you can pin your installation to the old version, e.g. `pip install openai==0.28`\n",
            "\n",
            "A detailed migration guide is available here: https://github.com/openai/openai-python/discussions/742\n",
            "\n",
            "\n",
            "Libros 2º Bac HH-CCSS.xls → ['arte', 'historia', 'lau', 'inversión', 'van']\n",
            "Descripción: Error generando descripción: \n",
            "\n",
            "You tried to access openai.ChatCompletion, but this is no longer supported in openai>=1.0.0 - see the README at https://github.com/openai/openai-python for the API.\n",
            "\n",
            "You can run `openai migrate` to automatically upgrade your codebase to use the 1.0.0 interface. \n",
            "\n",
            "Alternatively, you can pin your installation to the old version, e.g. `pip install openai==0.28`\n",
            "\n",
            "A detailed migration guide is available here: https://github.com/openai/openai-python/discussions/742\n",
            "\n",
            "\n",
            "modelo_contrato_alquiler_temporada.docx → ['divulgador', 'indicadores', 'inmueble', 'patrimonio', 'proyección']\n",
            "Descripción: Error generando descripción: \n",
            "\n",
            "You tried to access openai.ChatCompletion, but this is no longer supported in openai>=1.0.0 - see the README at https://github.com/openai/openai-python for the API.\n",
            "\n",
            "You can run `openai migrate` to automatically upgrade your codebase to use the 1.0.0 interface. \n",
            "\n",
            "Alternatively, you can pin your installation to the old version, e.g. `pip install openai==0.28`\n",
            "\n",
            "A detailed migration guide is available here: https://github.com/openai/openai-python/discussions/742\n",
            "\n",
            "\n",
            "modelo-contrato-alquiler-finca-rustica_arquitasa.pdf → ['activos', 'arrendador', 'jurisdicción', 'vigilancia', 'indicadores', 'estancia', 'tir', 'prorroga', 'prórroga', 'máster']\n",
            "Descripción: Error generando descripción: \n",
            "\n",
            "You tried to access openai.ChatCompletion, but this is no longer supported in openai>=1.0.0 - see the README at https://github.com/openai/openai-python for the API.\n",
            "\n",
            "You can run `openai migrate` to automatically upgrade your codebase to use the 1.0.0 interface. \n",
            "\n",
            "Alternatively, you can pin your installation to the old version, e.g. `pip install openai==0.28`\n",
            "\n",
            "A detailed migration guide is available here: https://github.com/openai/openai-python/discussions/742\n",
            "\n",
            "\n",
            "modelo-rescision-contrato-alquiler-vivienda_arquitasa.docx → ['indicadores', 'inmueble', 'propiedadintelectual', 'arrendamiento', 'métodos', 'silvopastoril', 'endeudamiento', 'pasaporte', 'devolución', 'inventarios']\n",
            "Descripción: Error generando descripción: \n",
            "\n",
            "You tried to access openai.ChatCompletion, but this is no longer supported in openai>=1.0.0 - see the README at https://github.com/openai/openai-python for the API.\n",
            "\n",
            "You can run `openai migrate` to automatically upgrade your codebase to use the 1.0.0 interface. \n",
            "\n",
            "Alternatively, you can pin your installation to the old version, e.g. `pip install openai==0.28`\n",
            "\n",
            "A detailed migration guide is available here: https://github.com/openai/openai-python/discussions/742\n",
            "\n",
            "\n",
            "OscarJair_RiveraGordillo_EditYohana_DiazMuñoz_2018_Anexo1.pptx → ['proyecto', 'apalancamiento', 'estancia', 'empresa', 'arqueología', 'contaduría', 'van', 'eva', 'análisis', 'indicadores']\n",
            "Descripción: Error generando descripción: \n",
            "\n",
            "You tried to access openai.ChatCompletion, but this is no longer supported in openai>=1.0.0 - see the README at https://github.com/openai/openai-python for the API.\n",
            "\n",
            "You can run `openai migrate` to automatically upgrade your codebase to use the 1.0.0 interface. \n",
            "\n",
            "Alternatively, you can pin your installation to the old version, e.g. `pip install openai==0.28`\n",
            "\n",
            "A detailed migration guide is available here: https://github.com/openai/openai-python/discussions/742\n",
            "\n",
            "\n",
            "presentacic3b3n-def-santoto.pptx → ['depreciación', 'servicios', 'costos', 'obligaciones', 'vigilancia', 'arrendatario', 'divulgación', 'divulgador', 'rentabilidad', 'financiero']\n",
            "Descripción: Error generando descripción: \n",
            "\n",
            "You tried to access openai.ChatCompletion, but this is no longer supported in openai>=1.0.0 - see the README at https://github.com/openai/openai-python for the API.\n",
            "\n",
            "You can run `openai migrate` to automatically upgrade your codebase to use the 1.0.0 interface. \n",
            "\n",
            "Alternatively, you can pin your installation to the old version, e.g. `pip install openai==0.28`\n",
            "\n",
            "A detailed migration guide is available here: https://github.com/openai/openai-python/discussions/742\n",
            "\n",
            "\n",
            "Prorroga_estancia_estudios.pdf → ['madrid', 'arrendatario', 'indicadores', 'extranjería', 'flujodecaja', 'divulgación', 'arqueología', 'vigilancia', 'divulgador', 'compraventa']\n",
            "Descripción: Error generando descripción: \n",
            "\n",
            "You tried to access openai.ChatCompletion, but this is no longer supported in openai>=1.0.0 - see the README at https://github.com/openai/openai-python for the API.\n",
            "\n",
            "You can run `openai migrate` to automatically upgrade your codebase to use the 1.0.0 interface. \n",
            "\n",
            "Alternatively, you can pin your installation to the old version, e.g. `pip install openai==0.28`\n",
            "\n",
            "A detailed migration guide is available here: https://github.com/openai/openai-python/discussions/742\n",
            "\n",
            "\n"
          ]
        }
      ]
    },
    {
      "cell_type": "code",
      "execution_count": 14,
      "id": "r8dBhXbyFfLP",
      "metadata": {
        "colab": {
          "base_uri": "https://localhost:8080/"
        },
        "id": "r8dBhXbyFfLP",
        "outputId": "1c4a5e94-573d-4e16-ba40-924e96463c6e"
      },
      "outputs": [
        {
          "output_type": "stream",
          "name": "stdout",
          "text": [
            "11_07_2019_modelo_orientativo_de_contrato_de_arrendamiento_de_vivienda.pdf → ['registro', 'propiedad', 'arrendador', 'indicadores', 'empaques', 'propiedadintelectual', 'inventarios', 'jurisdicción', 'temporada', 'divulgación']\n",
            "2016-admitidos_Segundo ciclo- Cursos monográficos.xls → ['historia', 'confidencialidad', 'arte', 'medioambiente', 'divulgador']\n",
            "2023_05-Modelo_Documento_reserva_inmueble_en_alquiler_v.reducida.docx → ['seguro', 'seguridad', 'obligaciones', 'solicitud', 'jurisdicción', 'ingresos', 'reserva', 'cursos', 'contaduría', 'regresión']\n",
            "660d1bfb7c43622a597a4000_Non-disclosure agreement nda template contract.pdf → ['solicitud', 'propiedadintelectual', 'balance', 'incumplimiento', 'restitución', 'endeudamiento', 'indicadores', 'vigilancia', 'datascience', 'arrendamiento']\n",
            "Acuerdo_no_Divulgacion_Unilateral_UE.pdf → ['cesión', 'medioambiente', 'arrendatario', 'registro', 'arte', 'confidencialidad', 'divulgación', 'silvopastoril', 'tir', 'cultivo']\n",
            "Acuerdo-de-Confidencialidad-OEPM.pdf → ['acuerdo', 'receptor', 'van', 'inversión', 'lau', 'arte', 'máster', 'master', 'balance', 'eva']\n",
            "AnaLiliana_SuarezHerrera_WelmarFernandoRinconTorres_2018_Anexo1.pptx → ['financiera', 'materias', 'rentabilidad', 'empresa', 'arqueología', 'contrato', 'pasaporte', 'propiedad', 'tir', 'empaques']\n",
            "Analisis de interpretacion de estados financieros.pptx → ['alumnos', 'divulgador', 'financiero', 'financieros', 'silvopastoril', 'métodos', 'financiera', 'registro', 'desalojo', 'arrendatario']\n",
            "Análisis Financiero del Proyecto.xls → ['ingresos', 'silvopastoril', 'suministros', 'estudios', 'métodos', 'propiedadintelectual', 'admitidos', 'análisis', 'servicios', 'monográficos']\n",
            "ANALISIS FINANCIERO.xls → ['silvopastoril', 'suministros', 'inmueble', 'egresos', 'depreciación']\n",
            "biblioteca2-csv.xls → ['propiedadintelectual', 'arrendatario', 'divulgador', 'arrendador', 'archivo', 'propiedad', 'arqueología', 'silvopastoril', 'flujodecaja', 'puente']\n",
            "contrato_alquiler_opcion_compra.pdf → ['arrendamiento', 'arrendatario', 'endeudamiento', 'incumplimiento', 'arrendador', 'inquilino', 'silvopastoril', 'confidencialidad', '2016-2017', 'vivienda']\n",
            "ContratoAlquiler_reducido.pdf → ['mendieta', 'arrendatario', 'arte', 'medioambiente', 'arrendamiento', 'panama', 'incumplimiento', 'van', 'propiedadintelectual', 'confidencialidad']\n",
            "contrato-de-confidencialidad-freelancer-plantilla-gratis-word.docx → ['financieros', 'financiero', 'financiera', 'suministros', 'finca', 'acuerdo', 'ingresos', 'estudios', 'métodos', 'divulgador']\n",
            "Formulario_EX00_I28202503542693.pdf → ['balance', 'prórroga', 'prorroga', 'interpretación', 'materias']\n",
            "Formulario_EX00_I28202503542693_signed.pdf → ['balance', 'prórroga', 'prorroga', 'interpretación', 'materias']\n",
            "JOtracosa de prueba.pdf → ['datascience', 'silvopastoril', 'matrícula', 'confidencialidad', 'nie']\n",
            "Justificante de Presentación REG.pdf → ['datascience', 'silvopastoril', 'matrícula', 'confidencialidad', 'nie']\n",
            "Libros 2º Bac HH-CCSS.xls → ['arte', 'historia', 'lau', 'inversión', 'van']\n",
            "modelo_contrato_alquiler_temporada.docx → ['divulgador', 'indicadores', 'inmueble', 'patrimonio', 'proyección']\n",
            "modelo-contrato-alquiler-finca-rustica_arquitasa.pdf → ['activos', 'arrendador', 'jurisdicción', 'vigilancia', 'indicadores', 'estancia', 'tir', 'prorroga', 'prórroga', 'máster']\n",
            "modelo-rescision-contrato-alquiler-vivienda_arquitasa.docx → ['indicadores', 'inmueble', 'propiedadintelectual', 'arrendamiento', 'métodos', 'silvopastoril', 'endeudamiento', 'pasaporte', 'devolución', 'inventarios']\n",
            "OscarJair_RiveraGordillo_EditYohana_DiazMuñoz_2018_Anexo1.pptx → ['proyecto', 'apalancamiento', 'estancia', 'empresa', 'arqueología', 'contaduría', 'van', 'eva', 'análisis', 'indicadores']\n",
            "presentacic3b3n-def-santoto.pptx → ['depreciación', 'servicios', 'costos', 'obligaciones', 'vigilancia', 'arrendatario', 'divulgación', 'divulgador', 'rentabilidad', 'financiero']\n",
            "Prorroga_estancia_estudios.pdf → ['madrid', 'arrendatario', 'indicadores', 'extranjería', 'flujodecaja', 'divulgación', 'arqueología', 'vigilancia', 'divulgador', 'compraventa']\n"
          ]
        }
      ],
      "source": [
        "limite_palabras = 2000\n",
        "response = requests.get(url, headers=headers)\n",
        "data = response.json()\n",
        "\n",
        "resultados = {}\n",
        "for item in data.get(\"value\", []):  # Procesar todos los archivos\n",
        "    nombre = item[\"name\"]\n",
        "    if not any(nombre.lower().endswith(ext) for ext in ext_permitidas):\n",
        "        continue\n",
        "    download_url = item[\"@microsoft.graph.downloadUrl\"]\n",
        "    file_bytes = requests.get(download_url).content\n",
        "    texto = leer_archivo(nombre, file_bytes, limite_palabras)\n",
        "    resultados[nombre] = etiquetar_texto(texto) if texto else []\n",
        "\n",
        "for nombre, etiquetas_detectadas in resultados.items():\n",
        "    print(f\"{nombre} → {etiquetas_detectadas}\")"
      ]
    },
    {
      "cell_type": "code",
      "source": [
        "def describir_texto(texto: str) -> str:\n",
        "    \"\"\"Genera una breve descripción del contenido usando OpenAI.\"\"\"\n",
        "    if not texto.strip():\n",
        "        return \"Sin contenido legible\"\n",
        "\n",
        "    prompt = f\"\"\"\n",
        "    Resume brevemente de qué trata el siguiente texto en máximo 3 líneas.\n",
        "    Sé claro y directo, sin inventar información.\n",
        "\n",
        "    Texto:\n",
        "    {texto[:4000]}  # límite de caracteres para evitar sobrecarga\n",
        "    \"\"\"\n",
        "\n",
        "    try:\n",
        "        respuesta = openai.ChatCompletion.create(\n",
        "            model=\"gpt-5-mini\",  # puedes usar gpt-4o, gpt-4o-mini o gpt-3.5-turbo\n",
        "            messages=[{\"role\": \"user\", \"content\": prompt}],\n",
        "            max_tokens=150\n",
        "        )\n",
        "        descripcion = respuesta.choices[0].message.content.strip()\n",
        "        return descripcion\n",
        "    except Exception as e:\n",
        "        return f\"Error generando descripción: {e}\"\n",
        "\n",
        "# === PROCESAMIENTO ===\n",
        "limite_palabras = 2000\n",
        "response = requests.get(url, headers=headers)\n",
        "data = response.json()\n",
        "\n",
        "resultados = {}\n",
        "descripciones = {}\n",
        "\n",
        "for item in data.get(\"value\", []):\n",
        "    nombre = item[\"name\"]\n",
        "    if not any(nombre.lower().endswith(ext) for ext in ext_permitidas):\n",
        "        continue\n",
        "\n",
        "    download_url = item[\"@microsoft.graph.downloadUrl\"]\n",
        "    file_bytes = requests.get(download_url).content\n",
        "    texto = leer_archivo(nombre, file_bytes, limite_palabras)\n",
        "\n",
        "    if texto:\n",
        "        resultados[nombre] = etiquetar_texto(texto)\n",
        "        descripciones[nombre] = describir_texto(texto)\n",
        "    else:\n",
        "        resultados[nombre] = []\n",
        "        descripciones[nombre] = \"No se pudo leer el archivo\"\n",
        "\n",
        "# === MOSTRAR RESULTADOS ===\n",
        "for nombre in resultados:\n",
        "    print(f\"📄 {nombre}\")\n",
        "    print(f\"   🏷️ Etiquetas: {resultados[nombre]}\")\n",
        "    print(f\"   📝 Descripción: {descripciones[nombre]}\")\n",
        "    print(\"-\" * 60)\n"
      ],
      "metadata": {
        "id": "S9LvOO74JP7l"
      },
      "id": "S9LvOO74JP7l",
      "execution_count": null,
      "outputs": []
    },
    {
      "cell_type": "markdown",
      "id": "MTA1Lj9jFgy1",
      "metadata": {
        "id": "MTA1Lj9jFgy1"
      },
      "source": [
        "#Guardar resultados"
      ]
    },
    {
      "cell_type": "code",
      "source": [
        "%cd /content/gestion-documentaria-para-pymes"
      ],
      "metadata": {
        "colab": {
          "base_uri": "https://localhost:8080/"
        },
        "id": "syEzI5ArEwFe",
        "outputId": "5c9432a5-c5f2-4b84-97cd-a73cde81acd6"
      },
      "id": "syEzI5ArEwFe",
      "execution_count": 20,
      "outputs": [
        {
          "output_type": "stream",
          "name": "stdout",
          "text": [
            "/content/gestion-documentaria-para-pymes\n"
          ]
        }
      ]
    },
    {
      "cell_type": "code",
      "execution_count": 37,
      "id": "LG0oigjOFgiy",
      "metadata": {
        "id": "LG0oigjOFgiy",
        "colab": {
          "base_uri": "https://localhost:8080/"
        },
        "outputId": "d19be540-55c0-4444-a013-c5d05235d1d4"
      },
      "outputs": [
        {
          "output_type": "stream",
          "name": "stdout",
          "text": [
            "✅ Resultados guardados en etiquetado/etiquetas_onedrive.csv\n"
          ]
        }
      ],
      "source": [
        "\n",
        "os.makedirs(\"etiquetado\", exist_ok=True)\n",
        "csv_path = \"etiquetado/etiquetas_onedrive.csv\"\n",
        "with open(csv_path, \"w\", newline=\"\", encoding=\"utf-8-sig\") as f:\n",
        "    writer = csv.writer(f)\n",
        "    writer.writerow([\"Archivo\", \"Etiquetas\"])\n",
        "    for nombre, etiquetas_detectadas in resultados.items():\n",
        "        etiquetas_str = \", \".join(etiquetas_detectadas) if etiquetas_detectadas else \"Sin etiquetas\"\n",
        "        writer.writerow([nombre, etiquetas_str])\n",
        "print(f\"✅ Resultados guardados en {csv_path}\")\n"
      ]
    },
    {
      "cell_type": "code",
      "source": [
        "!ls etiquetado/"
      ],
      "metadata": {
        "colab": {
          "base_uri": "https://localhost:8080/"
        },
        "id": "stvdoz1OIJeW",
        "outputId": "a1566943-01ab-4b1d-a82f-16382c1bd35f"
      },
      "id": "stvdoz1OIJeW",
      "execution_count": 38,
      "outputs": [
        {
          "output_type": "stream",
          "name": "stdout",
          "text": [
            "Etiquetado_huggingface.ipynb  Generador_etiquetasHF.ipynb\n",
            "Etiquetado_openai.ipynb       Generador_etiquetas.ipynb\n",
            "etiquetas_onedrive.csv\t      tickers.txt\n",
            "flujo-de-proceso.md\t      UnionEtiquetado_open.ipynb\n"
          ]
        }
      ]
    },
    {
      "cell_type": "code",
      "source": [
        "!git add etiquetado/etiquetas_onedrive.csv\n",
        "!git diff --cached --quiet || git commit -m \"Actualizar etiquetas_onedrive.csv desde Colab\"\n",
        "!git pull https://{token}@github.com/pugapatricia/gestion-documentaria-para-pymes.git main\n",
        "!git push https://{token}@github.com/pugapatricia/gestion-documentaria-para-pymes.git main"
      ],
      "metadata": {
        "colab": {
          "base_uri": "https://localhost:8080/"
        },
        "id": "fZxYM06pEwuJ",
        "outputId": "5eac6580-62a4-45bc-ce89-e7804421b6e0"
      },
      "id": "fZxYM06pEwuJ",
      "execution_count": 39,
      "outputs": [
        {
          "output_type": "stream",
          "name": "stdout",
          "text": [
            "[main 172cda4] Actualizar etiquetas_onedrive.csv desde Colab\n",
            " 1 file changed, 26 insertions(+)\n",
            " create mode 100644 etiquetado/etiquetas_onedrive.csv\n",
            "From https://github.com/pugapatricia/gestion-documentaria-para-pymes\n",
            " * branch            main       -> FETCH_HEAD\n",
            "Already up to date.\n",
            "Enumerating objects: 5, done.\n",
            "Counting objects: 100% (5/5), done.\n",
            "Delta compression using up to 2 threads\n",
            "Compressing objects: 100% (3/3), done.\n",
            "Writing objects: 100% (3/3), 358 bytes | 358.00 KiB/s, done.\n",
            "Total 3 (delta 2), reused 0 (delta 0), pack-reused 0\n",
            "remote: Resolving deltas: 100% (2/2), completed with 2 local objects.\u001b[K\n",
            "To https://github.com/pugapatricia/gestion-documentaria-para-pymes.git\n",
            "   5ff777a..172cda4  main -> main\n"
          ]
        }
      ]
    },
    {
      "cell_type": "markdown",
      "source": [
        "## Codigo para cargar en la etiqueta de descripcion en onedrive"
      ],
      "metadata": {
        "id": "PqEIKeX8zwJm"
      },
      "id": "PqEIKeX8zwJm"
    },
    {
      "cell_type": "code",
      "execution_count": null,
      "id": "e3005d25",
      "metadata": {
        "id": "e3005d25"
      },
      "outputs": [],
      "source": [
        "\"\"\"\n",
        "# ============================\n",
        "# Configuración\n",
        "# ============================\n",
        "json_path = \"etiquetas_onedrive.json\"\n",
        "headers = {\"Authorization\": f\"Bearer {access_token}\"}\n",
        "\n",
        "# Carpeta objetivo en OneDrive\n",
        "carpeta_objetivo = \"Etiquetados\"\n",
        "\n",
        "# ============================\n",
        "# Cargar JSON de etiquetas\n",
        "# ============================\n",
        "with open(json_path, \"r\", encoding=\"utf-8\") as f:\n",
        "    etiquetas_data = json.load(f)\n",
        "\n",
        "# ============================\n",
        "# Aplicar etiquetas en la descripción\n",
        "# ============================\n",
        "for archivo, etiquetas in etiquetas_data.items():\n",
        "    if not etiquetas:\n",
        "        continue\n",
        "\n",
        "    # Buscar archivo en OneDrive\n",
        "    url_file = f\"https://graph.microsoft.com/v1.0/me/drive/root:/{carpeta_objetivo}/{archivo}\"\n",
        "    resp_file = requests.get(url_file, headers=headers)\n",
        "\n",
        "    if resp_file.status_code != 200:\n",
        "        print(f\"⚠️ No se encontró {archivo} en OneDrive\")\n",
        "        continue\n",
        "\n",
        "    file_id = resp_file.json()[\"id\"]\n",
        "\n",
        "    # Guardamos etiquetas en el campo \"description\"\n",
        "    url_update = f\"https://graph.microsoft.com/v1.0/me/drive/items/{file_id}\"\n",
        "    payload = {\"description\": \", \".join(etiquetas)}\n",
        "\n",
        "    response_update = requests.patch(\n",
        "        url_update,\n",
        "        headers={**headers, \"Content-Type\": \"application/json\"},\n",
        "        json=payload\n",
        "    )\n",
        "\n",
        "    if response_update.status_code in [200, 204]:\n",
        "        print(f\"✅ Etiquetas {etiquetas} aplicadas a {archivo} en la descripción\")\n",
        "    else:\n",
        "        print(f\"⚠️ Error al actualizar {archivo}: {response_update.text}\")\n",
        "\"\"\""
      ]
    }
  ],
  "metadata": {
    "colab": {
      "provenance": [],
      "gpuType": "T4"
    },
    "kernelspec": {
      "display_name": "Python 3",
      "name": "python3"
    },
    "language_info": {
      "codemirror_mode": {
        "name": "ipython",
        "version": 3
      },
      "file_extension": ".py",
      "mimetype": "text/x-python",
      "name": "python",
      "nbconvert_exporter": "python",
      "pygments_lexer": "ipython3",
      "version": "3.13.1"
    },
    "accelerator": "GPU"
  },
  "nbformat": 4,
  "nbformat_minor": 5
}