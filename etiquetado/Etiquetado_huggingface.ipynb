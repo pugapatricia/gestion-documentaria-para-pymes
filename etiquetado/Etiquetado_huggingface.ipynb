{
  "cells": [
    {
      "cell_type": "markdown",
      "id": "f3a71b3b",
      "metadata": {
        "id": "f3a71b3b"
      },
      "source": [
        "[![Abrir en Colab](https://colab.research.google.com/assets/colab-badge.svg)](https://colab.research.google.com/github/pugapatricia/gestion-documentaria-para-pymes/blob/main/etiquetado/Etiquetado_openai.ipynb)"
      ]
    },
    {
      "cell_type": "markdown",
      "id": "e5bcb24e",
      "metadata": {
        "id": "e5bcb24e"
      },
      "source": [
        "[![Ver en GitHub](https://img.shields.io/badge/GitHub-Repo-black?logo=github)](https://github.com/pugapatricia/gestion-documentaria-para-pymes/tree/main/etiquetado)"
      ]
    },
    {
      "cell_type": "markdown",
      "source": [
        "#Importaciones"
      ],
      "metadata": {
        "id": "H1Hm8SLMn6sz"
      },
      "id": "H1Hm8SLMn6sz"
    },
    {
      "cell_type": "code",
      "execution_count": 66,
      "id": "3SC0UKYxGlvk",
      "metadata": {
        "id": "3SC0UKYxGlvk"
      },
      "outputs": [],
      "source": [
        "!pip install -q PyPDF2 python-docx openpyxl python-pptx xlrd transformers office365-rest-python-client msal requests"
      ]
    },
    {
      "cell_type": "code",
      "execution_count": 67,
      "id": "mdG952zUC6cM",
      "metadata": {
        "id": "mdG952zUC6cM"
      },
      "outputs": [],
      "source": [
        "import os\n",
        "import io\n",
        "import re\n",
        "import json\n",
        "from pathlib import Path\n",
        "from PyPDF2 import PdfReader\n",
        "import docx\n",
        "import openpyxl\n",
        "from pptx import Presentation\n",
        "import xlrd\n",
        "from transformers import pipeline\n",
        "from office365.sharepoint.client_context import ClientContext\n",
        "from office365.runtime.auth.user_credential import UserCredential\n",
        "import os\n",
        "import requests\n",
        "import msal\n",
        "import csv\n",
        "import getpass\n",
        "from openai import OpenAI\n",
        "from transformers import pipeline\n",
        "import time\n",
        "import openai\n",
        "import requests\n",
        "import pandas as pd"
      ]
    },
    {
      "cell_type": "code",
      "source": [
        "api_key = getpass.getpass(\"Introduce tu OpenAI API Key: \")\n",
        "client = OpenAI(api_key=api_key)\n",
        "token = getpass.getpass(\"Introduce tu GitHub token: \")"
      ],
      "metadata": {
        "colab": {
          "base_uri": "https://localhost:8080/"
        },
        "id": "9o-5YwwnFdYe",
        "outputId": "17a315eb-c111-4a6f-e9b9-079347236b30"
      },
      "id": "9o-5YwwnFdYe",
      "execution_count": 68,
      "outputs": [
        {
          "name": "stdout",
          "output_type": "stream",
          "text": [
            "Introduce tu OpenAI API Key: ··········\n",
            "Introduce tu GitHub token: ··········\n"
          ]
        }
      ]
    },
    {
      "cell_type": "code",
      "source": [
        "!apt-get install git -y"
      ],
      "metadata": {
        "colab": {
          "base_uri": "https://localhost:8080/"
        },
        "id": "CAx7lFFZDqOw",
        "outputId": "803ea44f-085b-4ae5-9d96-8f6f542efe8b"
      },
      "id": "CAx7lFFZDqOw",
      "execution_count": 69,
      "outputs": [
        {
          "output_type": "stream",
          "name": "stdout",
          "text": [
            "Reading package lists... Done\n",
            "Building dependency tree... Done\n",
            "Reading state information... Done\n",
            "git is already the newest version (1:2.34.1-1ubuntu1.15).\n",
            "0 upgraded, 0 newly installed, 0 to remove and 38 not upgraded.\n"
          ]
        }
      ]
    },
    {
      "cell_type": "markdown",
      "id": "ptKdGUIiEaHz",
      "metadata": {
        "id": "ptKdGUIiEaHz"
      },
      "source": [
        "# Configuración"
      ]
    },
    {
      "cell_type": "code",
      "execution_count": 70,
      "id": "UAkFWDSoEgGa",
      "metadata": {
        "id": "UAkFWDSoEgGa",
        "outputId": "a343f63d-d02f-455e-90c3-64d1f614c163",
        "colab": {
          "base_uri": "https://localhost:8080/"
        }
      },
      "outputs": [
        {
          "output_type": "stream",
          "name": "stderr",
          "text": [
            "Device set to use cuda:0\n"
          ]
        }
      ],
      "source": [
        "CLIENT_ID = \"e3f2393e-7348-47d1-9c64-8d8efe6a5e95\"  # tu nuevo Client ID\n",
        "AUTHORITY = \"https://login.microsoftonline.com/consumers\"\n",
        "SCOPE = [\"User.Read\", \"Files.ReadWrite\"]\n",
        "\n",
        "ext_permitidas = {\"pdf\", \"docx\", \"xlsx\", \"xls\", \"pptx\", \"txt\", \"csv\"}\n",
        "classifier = pipeline(\"zero-shot-classification\",\n",
        "    model=\"typeform/distilbert-base-uncased-mnli\")\n",
        "url = \"https://graph.microsoft.com/v1.0/me/drive/root:/Etiquetados:/children\""
      ]
    },
    {
      "cell_type": "code",
      "source": [
        "!git config --global user.email \"marcomendieta08@gmail.com\"\n",
        "!git config --global user.name \"marcomendieta08\"\n",
        "!git clone https://github.com/pugapatricia/gestion-documentaria-para-pymes.git"
      ],
      "metadata": {
        "colab": {
          "base_uri": "https://localhost:8080/"
        },
        "id": "fdxiSsgKv341",
        "outputId": "1570905e-ce36-42f5-9640-ce7fa459e994"
      },
      "id": "fdxiSsgKv341",
      "execution_count": 71,
      "outputs": [
        {
          "output_type": "stream",
          "name": "stdout",
          "text": [
            "fatal: destination path 'gestion-documentaria-para-pymes' already exists and is not an empty directory.\n"
          ]
        }
      ]
    },
    {
      "cell_type": "markdown",
      "id": "lKu0-R84Ei__",
      "metadata": {
        "id": "lKu0-R84Ei__"
      },
      "source": [
        "# Conección con OneDrive\n"
      ]
    },
    {
      "cell_type": "code",
      "execution_count": 72,
      "id": "4SfZ6bYUEpzF",
      "metadata": {
        "colab": {
          "base_uri": "https://localhost:8080/"
        },
        "id": "4SfZ6bYUEpzF",
        "outputId": "2f47d738-c379-4b9b-8f71-ee63eaa58910"
      },
      "outputs": [
        {
          "output_type": "stream",
          "name": "stdout",
          "text": [
            "To sign in, use a web browser to open the page https://www.microsoft.com/link and enter the code 93PNW4FA to authenticate.\n"
          ]
        }
      ],
      "source": [
        "app = msal.PublicClientApplication(CLIENT_ID, authority=AUTHORITY)\n",
        "\n",
        "flow = app.initiate_device_flow(scopes=SCOPE)\n",
        "if \"user_code\" not in flow:\n",
        "    raise Exception(\"No se pudo iniciar el device flow. Revisa tu configuración en Azure.\")\n",
        "\n",
        "print(flow[\"message\"])  # 👉 Copia el código en https://microsoft.com/devicelogin\n",
        "result = app.acquire_token_by_device_flow(flow)\n",
        "\n",
        "if \"access_token\" not in result:\n",
        "    raise Exception(f\"Error autenticación: {result.get('error_description')}\")\n",
        "\n",
        "access_token = result[\"access_token\"]\n",
        "headers = {\"Authorization\": f\"Bearer {access_token}\"}\n",
        "\n",
        "# Llamada a la API con tu token de acceso\n",
        "resp = requests.get(url, headers=headers)\n",
        "if resp.status_code != 200:\n",
        "    raise Exception(f\"Error al obtener archivos: {resp.text}\")\n",
        "data = resp.json()"
      ]
    },
    {
      "cell_type": "markdown",
      "source": [
        "#Funciones"
      ],
      "metadata": {
        "id": "IYoSk_6voooa"
      },
      "id": "IYoSk_6voooa"
    },
    {
      "cell_type": "code",
      "source": [
        "ticketsTXT = \"https://raw.githubusercontent.com/pugapatricia/gestion-documentaria-para-pymes/refs/heads/main/etiquetado/tickers.txt\"\n",
        "response = requests.get(ticketsTXT)\n",
        "etiquetas = response.text.strip().split(\", \")\n",
        "print(etiquetas)"
      ],
      "metadata": {
        "colab": {
          "base_uri": "https://localhost:8080/"
        },
        "id": "xbRaQYOUwNNa",
        "outputId": "1ab95aee-cd77-4130-e545-d9ecb8717db0"
      },
      "id": "xbRaQYOUwNNa",
      "execution_count": 73,
      "outputs": [
        {
          "output_type": "stream",
          "name": "stdout",
          "text": [
            "['tauromaquia', 'pasaporte', 'señal', 'medioambiente', 'universidad', 'arqueología', 'financiero', 'contaduría', 'restitución', 'materias', 'regresión', 'extranjero', 'renta', 'análisis', 'puente', 'servicios', 'inquilino', 'optativa', 'arrendador', 'seguridad', 'notificaciones', 'vigilancia', 'depreciación', 'empresa', 'geografía', 'monográficos', 'estancia', 'balance', 'divulgación', 'autorización', 'master', 'madrid', 'interpretación', 'ingresos', 'métodos', 'fuentes', 'idiomas', 'silvopastoril', 'extranjería', 'receptor', 'proyecto', 'interés', 'apalancamiento', 'propiedad', 'incumplimiento', 'estudios', 'nie', 'datascience', 'complutense', 'mediación', 'firma', 'liquidez', 'valoracion', 'desalojo', 'compraventa', 'alquiler', 'sociales', 'jarama', 'partes', 'contrato', 'tasas', 'humanidades', 'estudiantes', 'activos', 'actividad', 'pasivos', 'financieros', 'registro', 'divulgador', 'cesión', 'poesía', 'temporada', 'documentación', 'rentabilidad', 'comisiones', 'flujodecaja', 'patrimonio', 'proyección', 'arganda', '2016-2017', 'indicadores', 'suministros', 'arrendamiento', 'cursos', 'empaques', 'devolución', 'nda', 'costos', 'admitidos', 'información', 'solicitud', 'panama', 'matrícula', 'reserva', 'cartera', 'vivienda', 'habitación', 'mendieta', 'consorcio', 'autorizacion', 'acuerdo', 'curso', 'arrendatario', 'egresos', 'duración', 'simulación', 'decisiones', 'jurisdicción', 'prorroga', 'transporte', 'eva', 'rescisión', 'secreto', 'prórroga', 'van', 'obligaciones', 'contabilidad', 'máster', 'inventarios', 'envíos', 'tir', 'confidencialidad', 'historia', 'cláusulas', 'inversión', 'vino', 'amortización', 'penalizaciones', 'propietario', 'astrofísica', 'créditos', 'alumnos', 'inmueble', 'batalla', 'cultivo', 'finca', 'fianza', 'estados', 'flujo', 'visado', 'endeudamiento', 'subarriendo', 'propiedadintelectual', 'comparación', 'seguro', 'proyeccion', 'matemáticas', 'financiera', 'lau', 'archivo', 'cauca', 'marco', 'arte', 'bachillerato']\n"
          ]
        }
      ]
    },
    {
      "cell_type": "markdown",
      "source": [
        "Lector de documentos"
      ],
      "metadata": {
        "id": "SVuMqyREoznw"
      },
      "id": "SVuMqyREoznw"
    },
    {
      "cell_type": "code",
      "execution_count": 74,
      "id": "RTR5h05bFUDm",
      "metadata": {
        "id": "RTR5h05bFUDm"
      },
      "outputs": [],
      "source": [
        "def leer_pdf(contenido, limite_palabras):\n",
        "    texto = \"\"\n",
        "    reader = PdfReader(io.BytesIO(contenido))\n",
        "    for page in reader.pages:\n",
        "        if page.extract_text():\n",
        "            texto += page.extract_text() + \"\\n\"\n",
        "            if len(texto.split()) >= limite_palabras:\n",
        "                break\n",
        "    return texto\n",
        "\n",
        "\n",
        "def leer_docx(contenido, limite_palabras):\n",
        "    texto = \"\"\n",
        "    doc = docx.Document(io.BytesIO(contenido))\n",
        "    for p in doc.paragraphs:\n",
        "        if p.text.strip():\n",
        "            texto += p.text + \"\\n\"\n",
        "            if len(texto.split()) >= limite_palabras:\n",
        "                break\n",
        "    return texto\n",
        "\n",
        "\n",
        "def leer_excel(contenido, limite_palabras):\n",
        "    texto = \"\"\n",
        "    wb = openpyxl.load_workbook(io.BytesIO(contenido), data_only=True, read_only=True)\n",
        "    for sheet in wb.worksheets:\n",
        "        for row in sheet.iter_rows(values_only=True):\n",
        "            texto += \" \".join([str(cell) for cell in row if cell]) + \"\\n\"\n",
        "            if len(texto.split()) >= limite_palabras:\n",
        "                break\n",
        "        if len(texto.split()) >= limite_palabras:\n",
        "            break\n",
        "    return texto\n",
        "\n",
        "\n",
        "def leer_xls(contenido, limite_palabras):\n",
        "    texto = \"\"\n",
        "    temp_file = \"temp.xls\"\n",
        "    with open(temp_file, \"wb\") as f:\n",
        "        f.write(contenido)\n",
        "    wb = xlrd.open_workbook(temp_file)\n",
        "    for sheet in wb.sheets():\n",
        "        for row_idx in range(sheet.nrows):\n",
        "            row = sheet.row_values(row_idx)\n",
        "            texto += \" \".join([str(cell) for cell in row if cell]) + \"\\n\"\n",
        "            if len(texto.split()) >= limite_palabras:\n",
        "                break\n",
        "        if len(texto.split()) >= limite_palabras:\n",
        "            break\n",
        "    os.remove(temp_file)\n",
        "    return texto\n",
        "\n",
        "\n",
        "def leer_pptx(contenido, limite_palabras):\n",
        "    texto = \"\"\n",
        "    temp_file = \"temp.pptx\"\n",
        "    with open(temp_file, \"wb\") as f:\n",
        "        f.write(contenido)\n",
        "    prs = Presentation(temp_file)\n",
        "    for slide in prs.slides:\n",
        "        for shape in slide.shapes:\n",
        "            if hasattr(shape, \"text\") and shape.text.strip():\n",
        "                texto += shape.text + \"\\n\"\n",
        "                if len(texto.split()) >= limite_palabras:\n",
        "                    break\n",
        "        if len(texto.split()) >= limite_palabras:\n",
        "            break\n",
        "    os.remove(temp_file)\n",
        "    return texto\n",
        "\n",
        "\n",
        "def leer_txt_csv(contenido, limite_palabras):\n",
        "    texto = contenido.decode(\"utf-8\", errors=\"ignore\")\n",
        "    return \" \".join(texto.split()[:limite_palabras])\n",
        "\n",
        "def leer_archivo(nombre, contenido, limite_palabras=None):\n",
        "    ext = nombre.split(\".\")[-1].lower()\n",
        "    if ext == \"pdf\":\n",
        "        return leer_pdf(contenido, limite_palabras)\n",
        "    elif ext == \"docx\":\n",
        "        return leer_docx(contenido, limite_palabras)\n",
        "    elif ext == \"xlsx\":\n",
        "        return leer_excel(contenido, limite_palabras)\n",
        "    elif ext == \"xls\":\n",
        "        return leer_xls(contenido, limite_palabras)\n",
        "    elif ext == \"pptx\":\n",
        "        return leer_pptx(contenido, limite_palabras)\n",
        "    elif ext in {\"txt\", \"csv\"}:\n",
        "        return leer_txt_csv(contenido, limite_palabras)\n",
        "    return \"\""
      ]
    },
    {
      "cell_type": "markdown",
      "id": "fGLBYpx2FJqW",
      "metadata": {
        "id": "fGLBYpx2FJqW"
      },
      "source": [
        "Clasificador Hugging Face Zero-Shot\n"
      ]
    },
    {
      "cell_type": "code",
      "source": [
        "def limpiar_texto(texto: str) -> str:\n",
        "    if not texto:\n",
        "        return \"\"\n",
        "    texto = texto.lower()\n",
        "    texto = re.sub(r\"[\\r\\n\\t]+\", \" \", texto)\n",
        "    texto = re.sub(r\"[^a-záéíóúüñ0-9\\s]\", \"\", texto)\n",
        "    texto = re.sub(r\"\\s+\", \" \", texto)\n",
        "    return texto.strip()\n",
        "\n",
        "def etiquetar_texto(texto, umbral=0.3, min_etiquetas=5, max_etiquetas=10):\n",
        "    res = classifier(texto, candidate_labels=etiquetas, multi_label=True)\n",
        "    etiquetas_filtradas = [label for label, score in zip(res[\"labels\"], res[\"scores\"]) if score >= umbral]\n",
        "    if len(etiquetas_filtradas) < min_etiquetas:\n",
        "\n",
        "        etiquetas_ordenadas = [label for _, label in sorted(zip(res[\"scores\"], res[\"labels\"]), reverse=True)]\n",
        "        for label in etiquetas_ordenadas:\n",
        "            if label not in etiquetas_filtradas:\n",
        "                etiquetas_filtradas.append(label)\n",
        "            if len(etiquetas_filtradas) >= min_etiquetas:\n",
        "                break\n",
        "    etiquetas_filtradas = etiquetas_filtradas[:max_etiquetas]\n",
        "\n",
        "    return etiquetas_filtradas\n"
      ],
      "metadata": {
        "id": "Vi-KeohEC6Qg"
      },
      "id": "Vi-KeohEC6Qg",
      "execution_count": 75,
      "outputs": []
    },
    {
      "cell_type": "code",
      "source": [
        "def generar_descripcion(texto, max_palabras=300):\n",
        "    try:\n",
        "        # Tomar solo las primeras N palabras para no sobrecargar al modelo\n",
        "        texto_corto = \" \".join(texto.split()[:max_palabras])\n",
        "        response = client.chat.completions.create(\n",
        "            model=\"gpt-5-mini\",\n",
        "            messages=[\n",
        "                {\"role\": \"system\", \"content\": \"Eres un asistente que resume documentos brevemente en una sola línea.\"},\n",
        "                {\"role\": \"user\", \"content\": f\"Resume el siguiente texto en una sola línea:\\n\\n{texto_corto}\"}\n",
        "            ],\n",
        "            max_completion_tokens=50  # suficiente para una línea\n",
        "        )\n",
        "        return response.choices[0].message.content.strip()\n",
        "    except Exception as e:\n",
        "        return f\"Error generando descripción: {e}\"\n"
      ],
      "metadata": {
        "id": "6OKAwDeYJu9f"
      },
      "id": "6OKAwDeYJu9f",
      "execution_count": 83,
      "outputs": []
    },
    {
      "cell_type": "markdown",
      "id": "eFJR7GKaFaRk",
      "metadata": {
        "id": "eFJR7GKaFaRk"
      },
      "source": [
        "# Leer archivos de OneDrive"
      ]
    },
    {
      "cell_type": "code",
      "source": [
        "resultados = {}\n",
        "descripciones = {}\n",
        "\n",
        "for item in data.get(\"value\", []):\n",
        "    nombre = item[\"name\"]\n",
        "    if not any(nombre.lower().endswith(ext) for ext in ext_permitidas):\n",
        "        continue\n",
        "    download_url = item[\"@microsoft.graph.downloadUrl\"]\n",
        "    file_bytes = requests.get(download_url).content\n",
        "    texto = leer_archivo(nombre, file_bytes, limite_palabras)\n",
        "\n",
        "    if texto:\n",
        "        resultados[nombre] = etiquetar_texto(texto)\n",
        "        descripciones[nombre] = generar_descripcion(texto)\n",
        "    else:\n",
        "        resultados[nombre] = []\n",
        "        descripciones[nombre] = \"No se pudo leer el archivo\"\n",
        "\n",
        "# Crear DataFrame final con dos columnas: Etiquetas y Descripción\n",
        "df_final = pd.DataFrame({\n",
        "    \"Archivo\": list(resultados.keys()),\n",
        "    \"Etiquetas\": list(resultados.values()),\n",
        "    \"Descripcion\": [descripciones[a] for a in resultados.keys()]\n",
        "})"
      ],
      "metadata": {
        "id": "GvxDpBx0ZkUc",
        "outputId": "a0ea3697-6394-48ac-ab78-63c76416dea8",
        "colab": {
          "base_uri": "https://localhost:8080/"
        }
      },
      "id": "GvxDpBx0ZkUc",
      "execution_count": 84,
      "outputs": [
        {
          "output_type": "stream",
          "name": "stdout",
          "text": [
            "                                              Archivo  \\\n",
            "0   11_07_2019_modelo_orientativo_de_contrato_de_a...   \n",
            "1   2016-admitidos_Segundo ciclo- Cursos monográfi...   \n",
            "2   2023_05-Modelo_Documento_reserva_inmueble_en_a...   \n",
            "3   660d1bfb7c43622a597a4000_Non-disclosure agreem...   \n",
            "4            Acuerdo_no_Divulgacion_Unilateral_UE.pdf   \n",
            "5                Acuerdo-de-Confidencialidad-OEPM.pdf   \n",
            "6   AnaLiliana_SuarezHerrera_WelmarFernandoRinconT...   \n",
            "7   Analisis de interpretacion de estados financie...   \n",
            "8                Análisis Financiero del Proyecto.xls   \n",
            "9                             ANALISIS FINANCIERO.xls   \n",
            "10                                biblioteca2-csv.xls   \n",
            "11                contrato_alquiler_opcion_compra.pdf   \n",
            "12                      ContratoAlquiler_reducido.pdf   \n",
            "13  contrato-de-confidencialidad-freelancer-planti...   \n",
            "14                Formulario_EX00_I28202503542693.pdf   \n",
            "15         Formulario_EX00_I28202503542693_signed.pdf   \n",
            "16                            JOtracosa de prueba.pdf   \n",
            "17               Justificante de Presentación REG.pdf   \n",
            "18                          Libros 2º Bac HH-CCSS.xls   \n",
            "19            modelo_contrato_alquiler_temporada.docx   \n",
            "20  modelo-contrato-alquiler-finca-rustica_arquita...   \n",
            "21  modelo-rescision-contrato-alquiler-vivienda_ar...   \n",
            "22  OscarJair_RiveraGordillo_EditYohana_DiazMuñoz_...   \n",
            "23                   presentacic3b3n-def-santoto.pptx   \n",
            "24                     Prorroga_estancia_estudios.pdf   \n",
            "\n",
            "                                            Etiquetas Descripcion  \n",
            "0   [registro, propiedad, arrendador, indicadores,...              \n",
            "1   [historia, confidencialidad, arte, medioambien...              \n",
            "2   [seguro, seguridad, obligaciones, solicitud, j...              \n",
            "3   [solicitud, propiedadintelectual, balance, inc...              \n",
            "4   [cesión, medioambiente, arrendatario, registro...              \n",
            "5   [acuerdo, receptor, van, inversión, lau, arte,...              \n",
            "6   [financiera, materias, rentabilidad, empresa, ...              \n",
            "7   [alumnos, divulgador, financiero, financieros,...              \n",
            "8   [ingresos, silvopastoril, suministros, estudio...              \n",
            "9   [silvopastoril, suministros, inmueble, egresos...              \n",
            "10  [propiedadintelectual, arrendatario, divulgado...              \n",
            "11  [arrendamiento, arrendatario, endeudamiento, i...              \n",
            "12  [mendieta, arrendatario, arte, medioambiente, ...              \n",
            "13  [financieros, financiero, financiera, suminist...              \n",
            "14  [balance, prórroga, prorroga, interpretación, ...              \n",
            "15  [balance, prórroga, prorroga, interpretación, ...              \n",
            "16  [datascience, silvopastoril, matrícula, confid...              \n",
            "17  [datascience, silvopastoril, matrícula, confid...              \n",
            "18              [arte, historia, lau, inversión, van]              \n",
            "19  [divulgador, indicadores, inmueble, patrimonio...              \n",
            "20  [activos, arrendador, jurisdicción, vigilancia...              \n",
            "21  [indicadores, inmueble, propiedadintelectual, ...              \n",
            "22  [proyecto, apalancamiento, estancia, empresa, ...              \n",
            "23  [depreciación, servicios, costos, obligaciones...              \n",
            "24  [madrid, arrendatario, indicadores, extranjerí...              \n"
          ]
        }
      ]
    },
    {
      "cell_type": "code",
      "source": [
        "df_final\n"
      ],
      "metadata": {
        "id": "e8Xnt6_Barl4",
        "outputId": "4b8f31d2-5bd4-4b48-a3a3-c739ccdca0de",
        "colab": {
          "base_uri": "https://localhost:8080/",
          "height": 833
        }
      },
      "id": "e8Xnt6_Barl4",
      "execution_count": 85,
      "outputs": [
        {
          "output_type": "execute_result",
          "data": {
            "text/plain": [
              "                                              Archivo  \\\n",
              "0   11_07_2019_modelo_orientativo_de_contrato_de_a...   \n",
              "1   2016-admitidos_Segundo ciclo- Cursos monográfi...   \n",
              "2   2023_05-Modelo_Documento_reserva_inmueble_en_a...   \n",
              "3   660d1bfb7c43622a597a4000_Non-disclosure agreem...   \n",
              "4            Acuerdo_no_Divulgacion_Unilateral_UE.pdf   \n",
              "5                Acuerdo-de-Confidencialidad-OEPM.pdf   \n",
              "6   AnaLiliana_SuarezHerrera_WelmarFernandoRinconT...   \n",
              "7   Analisis de interpretacion de estados financie...   \n",
              "8                Análisis Financiero del Proyecto.xls   \n",
              "9                             ANALISIS FINANCIERO.xls   \n",
              "10                                biblioteca2-csv.xls   \n",
              "11                contrato_alquiler_opcion_compra.pdf   \n",
              "12                      ContratoAlquiler_reducido.pdf   \n",
              "13  contrato-de-confidencialidad-freelancer-planti...   \n",
              "14                Formulario_EX00_I28202503542693.pdf   \n",
              "15         Formulario_EX00_I28202503542693_signed.pdf   \n",
              "16                            JOtracosa de prueba.pdf   \n",
              "17               Justificante de Presentación REG.pdf   \n",
              "18                          Libros 2º Bac HH-CCSS.xls   \n",
              "19            modelo_contrato_alquiler_temporada.docx   \n",
              "20  modelo-contrato-alquiler-finca-rustica_arquita...   \n",
              "21  modelo-rescision-contrato-alquiler-vivienda_ar...   \n",
              "22  OscarJair_RiveraGordillo_EditYohana_DiazMuñoz_...   \n",
              "23                   presentacic3b3n-def-santoto.pptx   \n",
              "24                     Prorroga_estancia_estudios.pdf   \n",
              "\n",
              "                                            Etiquetas Descripcion  \n",
              "0   [registro, propiedad, arrendador, indicadores,...              \n",
              "1   [historia, confidencialidad, arte, medioambien...              \n",
              "2   [seguro, seguridad, obligaciones, solicitud, j...              \n",
              "3   [solicitud, propiedadintelectual, balance, inc...              \n",
              "4   [cesión, medioambiente, arrendatario, registro...              \n",
              "5   [acuerdo, receptor, van, inversión, lau, arte,...              \n",
              "6   [financiera, materias, rentabilidad, empresa, ...              \n",
              "7   [alumnos, divulgador, financiero, financieros,...              \n",
              "8   [ingresos, silvopastoril, suministros, estudio...              \n",
              "9   [silvopastoril, suministros, inmueble, egresos...              \n",
              "10  [propiedadintelectual, arrendatario, divulgado...              \n",
              "11  [arrendamiento, arrendatario, endeudamiento, i...              \n",
              "12  [mendieta, arrendatario, arte, medioambiente, ...              \n",
              "13  [financieros, financiero, financiera, suminist...              \n",
              "14  [balance, prórroga, prorroga, interpretación, ...              \n",
              "15  [balance, prórroga, prorroga, interpretación, ...              \n",
              "16  [datascience, silvopastoril, matrícula, confid...              \n",
              "17  [datascience, silvopastoril, matrícula, confid...              \n",
              "18              [arte, historia, lau, inversión, van]              \n",
              "19  [divulgador, indicadores, inmueble, patrimonio...              \n",
              "20  [activos, arrendador, jurisdicción, vigilancia...              \n",
              "21  [indicadores, inmueble, propiedadintelectual, ...              \n",
              "22  [proyecto, apalancamiento, estancia, empresa, ...              \n",
              "23  [depreciación, servicios, costos, obligaciones...              \n",
              "24  [madrid, arrendatario, indicadores, extranjerí...              "
            ],
            "text/html": [
              "\n",
              "  <div id=\"df-de74b232-1a46-4e09-8f0d-7260fcb0fa5b\" class=\"colab-df-container\">\n",
              "    <div>\n",
              "<style scoped>\n",
              "    .dataframe tbody tr th:only-of-type {\n",
              "        vertical-align: middle;\n",
              "    }\n",
              "\n",
              "    .dataframe tbody tr th {\n",
              "        vertical-align: top;\n",
              "    }\n",
              "\n",
              "    .dataframe thead th {\n",
              "        text-align: right;\n",
              "    }\n",
              "</style>\n",
              "<table border=\"1\" class=\"dataframe\">\n",
              "  <thead>\n",
              "    <tr style=\"text-align: right;\">\n",
              "      <th></th>\n",
              "      <th>Archivo</th>\n",
              "      <th>Etiquetas</th>\n",
              "      <th>Descripcion</th>\n",
              "    </tr>\n",
              "  </thead>\n",
              "  <tbody>\n",
              "    <tr>\n",
              "      <th>0</th>\n",
              "      <td>11_07_2019_modelo_orientativo_de_contrato_de_a...</td>\n",
              "      <td>[registro, propiedad, arrendador, indicadores,...</td>\n",
              "      <td></td>\n",
              "    </tr>\n",
              "    <tr>\n",
              "      <th>1</th>\n",
              "      <td>2016-admitidos_Segundo ciclo- Cursos monográfi...</td>\n",
              "      <td>[historia, confidencialidad, arte, medioambien...</td>\n",
              "      <td></td>\n",
              "    </tr>\n",
              "    <tr>\n",
              "      <th>2</th>\n",
              "      <td>2023_05-Modelo_Documento_reserva_inmueble_en_a...</td>\n",
              "      <td>[seguro, seguridad, obligaciones, solicitud, j...</td>\n",
              "      <td></td>\n",
              "    </tr>\n",
              "    <tr>\n",
              "      <th>3</th>\n",
              "      <td>660d1bfb7c43622a597a4000_Non-disclosure agreem...</td>\n",
              "      <td>[solicitud, propiedadintelectual, balance, inc...</td>\n",
              "      <td></td>\n",
              "    </tr>\n",
              "    <tr>\n",
              "      <th>4</th>\n",
              "      <td>Acuerdo_no_Divulgacion_Unilateral_UE.pdf</td>\n",
              "      <td>[cesión, medioambiente, arrendatario, registro...</td>\n",
              "      <td></td>\n",
              "    </tr>\n",
              "    <tr>\n",
              "      <th>5</th>\n",
              "      <td>Acuerdo-de-Confidencialidad-OEPM.pdf</td>\n",
              "      <td>[acuerdo, receptor, van, inversión, lau, arte,...</td>\n",
              "      <td></td>\n",
              "    </tr>\n",
              "    <tr>\n",
              "      <th>6</th>\n",
              "      <td>AnaLiliana_SuarezHerrera_WelmarFernandoRinconT...</td>\n",
              "      <td>[financiera, materias, rentabilidad, empresa, ...</td>\n",
              "      <td></td>\n",
              "    </tr>\n",
              "    <tr>\n",
              "      <th>7</th>\n",
              "      <td>Analisis de interpretacion de estados financie...</td>\n",
              "      <td>[alumnos, divulgador, financiero, financieros,...</td>\n",
              "      <td></td>\n",
              "    </tr>\n",
              "    <tr>\n",
              "      <th>8</th>\n",
              "      <td>Análisis Financiero del Proyecto.xls</td>\n",
              "      <td>[ingresos, silvopastoril, suministros, estudio...</td>\n",
              "      <td></td>\n",
              "    </tr>\n",
              "    <tr>\n",
              "      <th>9</th>\n",
              "      <td>ANALISIS FINANCIERO.xls</td>\n",
              "      <td>[silvopastoril, suministros, inmueble, egresos...</td>\n",
              "      <td></td>\n",
              "    </tr>\n",
              "    <tr>\n",
              "      <th>10</th>\n",
              "      <td>biblioteca2-csv.xls</td>\n",
              "      <td>[propiedadintelectual, arrendatario, divulgado...</td>\n",
              "      <td></td>\n",
              "    </tr>\n",
              "    <tr>\n",
              "      <th>11</th>\n",
              "      <td>contrato_alquiler_opcion_compra.pdf</td>\n",
              "      <td>[arrendamiento, arrendatario, endeudamiento, i...</td>\n",
              "      <td></td>\n",
              "    </tr>\n",
              "    <tr>\n",
              "      <th>12</th>\n",
              "      <td>ContratoAlquiler_reducido.pdf</td>\n",
              "      <td>[mendieta, arrendatario, arte, medioambiente, ...</td>\n",
              "      <td></td>\n",
              "    </tr>\n",
              "    <tr>\n",
              "      <th>13</th>\n",
              "      <td>contrato-de-confidencialidad-freelancer-planti...</td>\n",
              "      <td>[financieros, financiero, financiera, suminist...</td>\n",
              "      <td></td>\n",
              "    </tr>\n",
              "    <tr>\n",
              "      <th>14</th>\n",
              "      <td>Formulario_EX00_I28202503542693.pdf</td>\n",
              "      <td>[balance, prórroga, prorroga, interpretación, ...</td>\n",
              "      <td></td>\n",
              "    </tr>\n",
              "    <tr>\n",
              "      <th>15</th>\n",
              "      <td>Formulario_EX00_I28202503542693_signed.pdf</td>\n",
              "      <td>[balance, prórroga, prorroga, interpretación, ...</td>\n",
              "      <td></td>\n",
              "    </tr>\n",
              "    <tr>\n",
              "      <th>16</th>\n",
              "      <td>JOtracosa de prueba.pdf</td>\n",
              "      <td>[datascience, silvopastoril, matrícula, confid...</td>\n",
              "      <td></td>\n",
              "    </tr>\n",
              "    <tr>\n",
              "      <th>17</th>\n",
              "      <td>Justificante de Presentación REG.pdf</td>\n",
              "      <td>[datascience, silvopastoril, matrícula, confid...</td>\n",
              "      <td></td>\n",
              "    </tr>\n",
              "    <tr>\n",
              "      <th>18</th>\n",
              "      <td>Libros 2º Bac HH-CCSS.xls</td>\n",
              "      <td>[arte, historia, lau, inversión, van]</td>\n",
              "      <td></td>\n",
              "    </tr>\n",
              "    <tr>\n",
              "      <th>19</th>\n",
              "      <td>modelo_contrato_alquiler_temporada.docx</td>\n",
              "      <td>[divulgador, indicadores, inmueble, patrimonio...</td>\n",
              "      <td></td>\n",
              "    </tr>\n",
              "    <tr>\n",
              "      <th>20</th>\n",
              "      <td>modelo-contrato-alquiler-finca-rustica_arquita...</td>\n",
              "      <td>[activos, arrendador, jurisdicción, vigilancia...</td>\n",
              "      <td></td>\n",
              "    </tr>\n",
              "    <tr>\n",
              "      <th>21</th>\n",
              "      <td>modelo-rescision-contrato-alquiler-vivienda_ar...</td>\n",
              "      <td>[indicadores, inmueble, propiedadintelectual, ...</td>\n",
              "      <td></td>\n",
              "    </tr>\n",
              "    <tr>\n",
              "      <th>22</th>\n",
              "      <td>OscarJair_RiveraGordillo_EditYohana_DiazMuñoz_...</td>\n",
              "      <td>[proyecto, apalancamiento, estancia, empresa, ...</td>\n",
              "      <td></td>\n",
              "    </tr>\n",
              "    <tr>\n",
              "      <th>23</th>\n",
              "      <td>presentacic3b3n-def-santoto.pptx</td>\n",
              "      <td>[depreciación, servicios, costos, obligaciones...</td>\n",
              "      <td></td>\n",
              "    </tr>\n",
              "    <tr>\n",
              "      <th>24</th>\n",
              "      <td>Prorroga_estancia_estudios.pdf</td>\n",
              "      <td>[madrid, arrendatario, indicadores, extranjerí...</td>\n",
              "      <td></td>\n",
              "    </tr>\n",
              "  </tbody>\n",
              "</table>\n",
              "</div>\n",
              "    <div class=\"colab-df-buttons\">\n",
              "\n",
              "  <div class=\"colab-df-container\">\n",
              "    <button class=\"colab-df-convert\" onclick=\"convertToInteractive('df-de74b232-1a46-4e09-8f0d-7260fcb0fa5b')\"\n",
              "            title=\"Convert this dataframe to an interactive table.\"\n",
              "            style=\"display:none;\">\n",
              "\n",
              "  <svg xmlns=\"http://www.w3.org/2000/svg\" height=\"24px\" viewBox=\"0 -960 960 960\">\n",
              "    <path d=\"M120-120v-720h720v720H120Zm60-500h600v-160H180v160Zm220 220h160v-160H400v160Zm0 220h160v-160H400v160ZM180-400h160v-160H180v160Zm440 0h160v-160H620v160ZM180-180h160v-160H180v160Zm440 0h160v-160H620v160Z\"/>\n",
              "  </svg>\n",
              "    </button>\n",
              "\n",
              "  <style>\n",
              "    .colab-df-container {\n",
              "      display:flex;\n",
              "      gap: 12px;\n",
              "    }\n",
              "\n",
              "    .colab-df-convert {\n",
              "      background-color: #E8F0FE;\n",
              "      border: none;\n",
              "      border-radius: 50%;\n",
              "      cursor: pointer;\n",
              "      display: none;\n",
              "      fill: #1967D2;\n",
              "      height: 32px;\n",
              "      padding: 0 0 0 0;\n",
              "      width: 32px;\n",
              "    }\n",
              "\n",
              "    .colab-df-convert:hover {\n",
              "      background-color: #E2EBFA;\n",
              "      box-shadow: 0px 1px 2px rgba(60, 64, 67, 0.3), 0px 1px 3px 1px rgba(60, 64, 67, 0.15);\n",
              "      fill: #174EA6;\n",
              "    }\n",
              "\n",
              "    .colab-df-buttons div {\n",
              "      margin-bottom: 4px;\n",
              "    }\n",
              "\n",
              "    [theme=dark] .colab-df-convert {\n",
              "      background-color: #3B4455;\n",
              "      fill: #D2E3FC;\n",
              "    }\n",
              "\n",
              "    [theme=dark] .colab-df-convert:hover {\n",
              "      background-color: #434B5C;\n",
              "      box-shadow: 0px 1px 3px 1px rgba(0, 0, 0, 0.15);\n",
              "      filter: drop-shadow(0px 1px 2px rgba(0, 0, 0, 0.3));\n",
              "      fill: #FFFFFF;\n",
              "    }\n",
              "  </style>\n",
              "\n",
              "    <script>\n",
              "      const buttonEl =\n",
              "        document.querySelector('#df-de74b232-1a46-4e09-8f0d-7260fcb0fa5b button.colab-df-convert');\n",
              "      buttonEl.style.display =\n",
              "        google.colab.kernel.accessAllowed ? 'block' : 'none';\n",
              "\n",
              "      async function convertToInteractive(key) {\n",
              "        const element = document.querySelector('#df-de74b232-1a46-4e09-8f0d-7260fcb0fa5b');\n",
              "        const dataTable =\n",
              "          await google.colab.kernel.invokeFunction('convertToInteractive',\n",
              "                                                    [key], {});\n",
              "        if (!dataTable) return;\n",
              "\n",
              "        const docLinkHtml = 'Like what you see? Visit the ' +\n",
              "          '<a target=\"_blank\" href=https://colab.research.google.com/notebooks/data_table.ipynb>data table notebook</a>'\n",
              "          + ' to learn more about interactive tables.';\n",
              "        element.innerHTML = '';\n",
              "        dataTable['output_type'] = 'display_data';\n",
              "        await google.colab.output.renderOutput(dataTable, element);\n",
              "        const docLink = document.createElement('div');\n",
              "        docLink.innerHTML = docLinkHtml;\n",
              "        element.appendChild(docLink);\n",
              "      }\n",
              "    </script>\n",
              "  </div>\n",
              "\n",
              "\n",
              "    <div id=\"df-0bb0a16e-9a53-4715-8839-92a825e4afcb\">\n",
              "      <button class=\"colab-df-quickchart\" onclick=\"quickchart('df-0bb0a16e-9a53-4715-8839-92a825e4afcb')\"\n",
              "                title=\"Suggest charts\"\n",
              "                style=\"display:none;\">\n",
              "\n",
              "<svg xmlns=\"http://www.w3.org/2000/svg\" height=\"24px\"viewBox=\"0 0 24 24\"\n",
              "     width=\"24px\">\n",
              "    <g>\n",
              "        <path d=\"M19 3H5c-1.1 0-2 .9-2 2v14c0 1.1.9 2 2 2h14c1.1 0 2-.9 2-2V5c0-1.1-.9-2-2-2zM9 17H7v-7h2v7zm4 0h-2V7h2v10zm4 0h-2v-4h2v4z\"/>\n",
              "    </g>\n",
              "</svg>\n",
              "      </button>\n",
              "\n",
              "<style>\n",
              "  .colab-df-quickchart {\n",
              "      --bg-color: #E8F0FE;\n",
              "      --fill-color: #1967D2;\n",
              "      --hover-bg-color: #E2EBFA;\n",
              "      --hover-fill-color: #174EA6;\n",
              "      --disabled-fill-color: #AAA;\n",
              "      --disabled-bg-color: #DDD;\n",
              "  }\n",
              "\n",
              "  [theme=dark] .colab-df-quickchart {\n",
              "      --bg-color: #3B4455;\n",
              "      --fill-color: #D2E3FC;\n",
              "      --hover-bg-color: #434B5C;\n",
              "      --hover-fill-color: #FFFFFF;\n",
              "      --disabled-bg-color: #3B4455;\n",
              "      --disabled-fill-color: #666;\n",
              "  }\n",
              "\n",
              "  .colab-df-quickchart {\n",
              "    background-color: var(--bg-color);\n",
              "    border: none;\n",
              "    border-radius: 50%;\n",
              "    cursor: pointer;\n",
              "    display: none;\n",
              "    fill: var(--fill-color);\n",
              "    height: 32px;\n",
              "    padding: 0;\n",
              "    width: 32px;\n",
              "  }\n",
              "\n",
              "  .colab-df-quickchart:hover {\n",
              "    background-color: var(--hover-bg-color);\n",
              "    box-shadow: 0 1px 2px rgba(60, 64, 67, 0.3), 0 1px 3px 1px rgba(60, 64, 67, 0.15);\n",
              "    fill: var(--button-hover-fill-color);\n",
              "  }\n",
              "\n",
              "  .colab-df-quickchart-complete:disabled,\n",
              "  .colab-df-quickchart-complete:disabled:hover {\n",
              "    background-color: var(--disabled-bg-color);\n",
              "    fill: var(--disabled-fill-color);\n",
              "    box-shadow: none;\n",
              "  }\n",
              "\n",
              "  .colab-df-spinner {\n",
              "    border: 2px solid var(--fill-color);\n",
              "    border-color: transparent;\n",
              "    border-bottom-color: var(--fill-color);\n",
              "    animation:\n",
              "      spin 1s steps(1) infinite;\n",
              "  }\n",
              "\n",
              "  @keyframes spin {\n",
              "    0% {\n",
              "      border-color: transparent;\n",
              "      border-bottom-color: var(--fill-color);\n",
              "      border-left-color: var(--fill-color);\n",
              "    }\n",
              "    20% {\n",
              "      border-color: transparent;\n",
              "      border-left-color: var(--fill-color);\n",
              "      border-top-color: var(--fill-color);\n",
              "    }\n",
              "    30% {\n",
              "      border-color: transparent;\n",
              "      border-left-color: var(--fill-color);\n",
              "      border-top-color: var(--fill-color);\n",
              "      border-right-color: var(--fill-color);\n",
              "    }\n",
              "    40% {\n",
              "      border-color: transparent;\n",
              "      border-right-color: var(--fill-color);\n",
              "      border-top-color: var(--fill-color);\n",
              "    }\n",
              "    60% {\n",
              "      border-color: transparent;\n",
              "      border-right-color: var(--fill-color);\n",
              "    }\n",
              "    80% {\n",
              "      border-color: transparent;\n",
              "      border-right-color: var(--fill-color);\n",
              "      border-bottom-color: var(--fill-color);\n",
              "    }\n",
              "    90% {\n",
              "      border-color: transparent;\n",
              "      border-bottom-color: var(--fill-color);\n",
              "    }\n",
              "  }\n",
              "</style>\n",
              "\n",
              "      <script>\n",
              "        async function quickchart(key) {\n",
              "          const quickchartButtonEl =\n",
              "            document.querySelector('#' + key + ' button');\n",
              "          quickchartButtonEl.disabled = true;  // To prevent multiple clicks.\n",
              "          quickchartButtonEl.classList.add('colab-df-spinner');\n",
              "          try {\n",
              "            const charts = await google.colab.kernel.invokeFunction(\n",
              "                'suggestCharts', [key], {});\n",
              "          } catch (error) {\n",
              "            console.error('Error during call to suggestCharts:', error);\n",
              "          }\n",
              "          quickchartButtonEl.classList.remove('colab-df-spinner');\n",
              "          quickchartButtonEl.classList.add('colab-df-quickchart-complete');\n",
              "        }\n",
              "        (() => {\n",
              "          let quickchartButtonEl =\n",
              "            document.querySelector('#df-0bb0a16e-9a53-4715-8839-92a825e4afcb button');\n",
              "          quickchartButtonEl.style.display =\n",
              "            google.colab.kernel.accessAllowed ? 'block' : 'none';\n",
              "        })();\n",
              "      </script>\n",
              "    </div>\n",
              "\n",
              "  <div id=\"id_1f60feee-a6aa-4d98-be74-b25fb3c2f80c\">\n",
              "    <style>\n",
              "      .colab-df-generate {\n",
              "        background-color: #E8F0FE;\n",
              "        border: none;\n",
              "        border-radius: 50%;\n",
              "        cursor: pointer;\n",
              "        display: none;\n",
              "        fill: #1967D2;\n",
              "        height: 32px;\n",
              "        padding: 0 0 0 0;\n",
              "        width: 32px;\n",
              "      }\n",
              "\n",
              "      .colab-df-generate:hover {\n",
              "        background-color: #E2EBFA;\n",
              "        box-shadow: 0px 1px 2px rgba(60, 64, 67, 0.3), 0px 1px 3px 1px rgba(60, 64, 67, 0.15);\n",
              "        fill: #174EA6;\n",
              "      }\n",
              "\n",
              "      [theme=dark] .colab-df-generate {\n",
              "        background-color: #3B4455;\n",
              "        fill: #D2E3FC;\n",
              "      }\n",
              "\n",
              "      [theme=dark] .colab-df-generate:hover {\n",
              "        background-color: #434B5C;\n",
              "        box-shadow: 0px 1px 3px 1px rgba(0, 0, 0, 0.15);\n",
              "        filter: drop-shadow(0px 1px 2px rgba(0, 0, 0, 0.3));\n",
              "        fill: #FFFFFF;\n",
              "      }\n",
              "    </style>\n",
              "    <button class=\"colab-df-generate\" onclick=\"generateWithVariable('df_final')\"\n",
              "            title=\"Generate code using this dataframe.\"\n",
              "            style=\"display:none;\">\n",
              "\n",
              "  <svg xmlns=\"http://www.w3.org/2000/svg\" height=\"24px\"viewBox=\"0 0 24 24\"\n",
              "       width=\"24px\">\n",
              "    <path d=\"M7,19H8.4L18.45,9,17,7.55,7,17.6ZM5,21V16.75L18.45,3.32a2,2,0,0,1,2.83,0l1.4,1.43a1.91,1.91,0,0,1,.58,1.4,1.91,1.91,0,0,1-.58,1.4L9.25,21ZM18.45,9,17,7.55Zm-12,3A5.31,5.31,0,0,0,4.9,8.1,5.31,5.31,0,0,0,1,6.5,5.31,5.31,0,0,0,4.9,4.9,5.31,5.31,0,0,0,6.5,1,5.31,5.31,0,0,0,8.1,4.9,5.31,5.31,0,0,0,12,6.5,5.46,5.46,0,0,0,6.5,12Z\"/>\n",
              "  </svg>\n",
              "    </button>\n",
              "    <script>\n",
              "      (() => {\n",
              "      const buttonEl =\n",
              "        document.querySelector('#id_1f60feee-a6aa-4d98-be74-b25fb3c2f80c button.colab-df-generate');\n",
              "      buttonEl.style.display =\n",
              "        google.colab.kernel.accessAllowed ? 'block' : 'none';\n",
              "\n",
              "      buttonEl.onclick = () => {\n",
              "        google.colab.notebook.generateWithVariable('df_final');\n",
              "      }\n",
              "      })();\n",
              "    </script>\n",
              "  </div>\n",
              "\n",
              "    </div>\n",
              "  </div>\n"
            ],
            "application/vnd.google.colaboratory.intrinsic+json": {
              "type": "dataframe",
              "variable_name": "df_final",
              "summary": "{\n  \"name\": \"df_final\",\n  \"rows\": 25,\n  \"fields\": [\n    {\n      \"column\": \"Archivo\",\n      \"properties\": {\n        \"dtype\": \"string\",\n        \"num_unique_values\": 25,\n        \"samples\": [\n          \"An\\u00e1lisis Financiero del Proyecto.xls\",\n          \"JOtracosa de prueba.pdf\",\n          \"11_07_2019_modelo_orientativo_de_contrato_de_arrendamiento_de_vivienda.pdf\"\n        ],\n        \"semantic_type\": \"\",\n        \"description\": \"\"\n      }\n    },\n    {\n      \"column\": \"Etiquetas\",\n      \"properties\": {\n        \"dtype\": \"object\",\n        \"semantic_type\": \"\",\n        \"description\": \"\"\n      }\n    },\n    {\n      \"column\": \"Descripcion\",\n      \"properties\": {\n        \"dtype\": \"object\",\n        \"num_unique_values\": 1,\n        \"samples\": [\n          \"\"\n        ],\n        \"semantic_type\": \"\",\n        \"description\": \"\"\n      }\n    }\n  ]\n}"
            }
          },
          "metadata": {},
          "execution_count": 85
        }
      ]
    },
    {
      "cell_type": "markdown",
      "id": "MTA1Lj9jFgy1",
      "metadata": {
        "id": "MTA1Lj9jFgy1"
      },
      "source": [
        "#Guardar resultados"
      ]
    },
    {
      "cell_type": "code",
      "source": [
        "%cd /content/gestion-documentaria-para-pymes"
      ],
      "metadata": {
        "colab": {
          "base_uri": "https://localhost:8080/"
        },
        "id": "syEzI5ArEwFe",
        "outputId": "5c9432a5-c5f2-4b84-97cd-a73cde81acd6"
      },
      "id": "syEzI5ArEwFe",
      "execution_count": 20,
      "outputs": [
        {
          "output_type": "stream",
          "name": "stdout",
          "text": [
            "/content/gestion-documentaria-para-pymes\n"
          ]
        }
      ]
    },
    {
      "cell_type": "code",
      "execution_count": 37,
      "id": "LG0oigjOFgiy",
      "metadata": {
        "id": "LG0oigjOFgiy",
        "colab": {
          "base_uri": "https://localhost:8080/"
        },
        "outputId": "d19be540-55c0-4444-a013-c5d05235d1d4"
      },
      "outputs": [
        {
          "output_type": "stream",
          "name": "stdout",
          "text": [
            "✅ Resultados guardados en etiquetado/etiquetas_onedrive.csv\n"
          ]
        }
      ],
      "source": [
        "\n",
        "os.makedirs(\"etiquetado\", exist_ok=True)\n",
        "csv_path = \"etiquetado/etiquetas_onedrive.csv\"\n",
        "with open(csv_path, \"w\", newline=\"\", encoding=\"utf-8-sig\") as f:\n",
        "    writer = csv.writer(f)\n",
        "    writer.writerow([\"Archivo\", \"Etiquetas\"])\n",
        "    for nombre, etiquetas_detectadas in resultados.items():\n",
        "        etiquetas_str = \", \".join(etiquetas_detectadas) if etiquetas_detectadas else \"Sin etiquetas\"\n",
        "        writer.writerow([nombre, etiquetas_str])\n",
        "print(f\"✅ Resultados guardados en {csv_path}\")\n"
      ]
    },
    {
      "cell_type": "code",
      "source": [
        "!ls etiquetado/"
      ],
      "metadata": {
        "colab": {
          "base_uri": "https://localhost:8080/"
        },
        "id": "stvdoz1OIJeW",
        "outputId": "a1566943-01ab-4b1d-a82f-16382c1bd35f"
      },
      "id": "stvdoz1OIJeW",
      "execution_count": 38,
      "outputs": [
        {
          "output_type": "stream",
          "name": "stdout",
          "text": [
            "Etiquetado_huggingface.ipynb  Generador_etiquetasHF.ipynb\n",
            "Etiquetado_openai.ipynb       Generador_etiquetas.ipynb\n",
            "etiquetas_onedrive.csv\t      tickers.txt\n",
            "flujo-de-proceso.md\t      UnionEtiquetado_open.ipynb\n"
          ]
        }
      ]
    },
    {
      "cell_type": "code",
      "source": [
        "!git add etiquetado/etiquetas_onedrive.csv\n",
        "!git diff --cached --quiet || git commit -m \"Actualizar etiquetas_onedrive.csv desde Colab\"\n",
        "!git pull https://{token}@github.com/pugapatricia/gestion-documentaria-para-pymes.git main\n",
        "!git push https://{token}@github.com/pugapatricia/gestion-documentaria-para-pymes.git main"
      ],
      "metadata": {
        "colab": {
          "base_uri": "https://localhost:8080/"
        },
        "id": "fZxYM06pEwuJ",
        "outputId": "5eac6580-62a4-45bc-ce89-e7804421b6e0"
      },
      "id": "fZxYM06pEwuJ",
      "execution_count": 39,
      "outputs": [
        {
          "output_type": "stream",
          "name": "stdout",
          "text": [
            "[main 172cda4] Actualizar etiquetas_onedrive.csv desde Colab\n",
            " 1 file changed, 26 insertions(+)\n",
            " create mode 100644 etiquetado/etiquetas_onedrive.csv\n",
            "From https://github.com/pugapatricia/gestion-documentaria-para-pymes\n",
            " * branch            main       -> FETCH_HEAD\n",
            "Already up to date.\n",
            "Enumerating objects: 5, done.\n",
            "Counting objects: 100% (5/5), done.\n",
            "Delta compression using up to 2 threads\n",
            "Compressing objects: 100% (3/3), done.\n",
            "Writing objects: 100% (3/3), 358 bytes | 358.00 KiB/s, done.\n",
            "Total 3 (delta 2), reused 0 (delta 0), pack-reused 0\n",
            "remote: Resolving deltas: 100% (2/2), completed with 2 local objects.\u001b[K\n",
            "To https://github.com/pugapatricia/gestion-documentaria-para-pymes.git\n",
            "   5ff777a..172cda4  main -> main\n"
          ]
        }
      ]
    },
    {
      "cell_type": "markdown",
      "source": [
        "## Codigo para cargar en la etiqueta de descripcion en onedrive"
      ],
      "metadata": {
        "id": "PqEIKeX8zwJm"
      },
      "id": "PqEIKeX8zwJm"
    },
    {
      "cell_type": "code",
      "execution_count": null,
      "id": "e3005d25",
      "metadata": {
        "id": "e3005d25"
      },
      "outputs": [],
      "source": [
        "\"\"\"\n",
        "# ============================\n",
        "# Configuración\n",
        "# ============================\n",
        "json_path = \"etiquetas_onedrive.json\"\n",
        "headers = {\"Authorization\": f\"Bearer {access_token}\"}\n",
        "\n",
        "# Carpeta objetivo en OneDrive\n",
        "carpeta_objetivo = \"Etiquetados\"\n",
        "\n",
        "# ============================\n",
        "# Cargar JSON de etiquetas\n",
        "# ============================\n",
        "with open(json_path, \"r\", encoding=\"utf-8\") as f:\n",
        "    etiquetas_data = json.load(f)\n",
        "\n",
        "# ============================\n",
        "# Aplicar etiquetas en la descripción\n",
        "# ============================\n",
        "for archivo, etiquetas in etiquetas_data.items():\n",
        "    if not etiquetas:\n",
        "        continue\n",
        "\n",
        "    # Buscar archivo en OneDrive\n",
        "    url_file = f\"https://graph.microsoft.com/v1.0/me/drive/root:/{carpeta_objetivo}/{archivo}\"\n",
        "    resp_file = requests.get(url_file, headers=headers)\n",
        "\n",
        "    if resp_file.status_code != 200:\n",
        "        print(f\"⚠️ No se encontró {archivo} en OneDrive\")\n",
        "        continue\n",
        "\n",
        "    file_id = resp_file.json()[\"id\"]\n",
        "\n",
        "    # Guardamos etiquetas en el campo \"description\"\n",
        "    url_update = f\"https://graph.microsoft.com/v1.0/me/drive/items/{file_id}\"\n",
        "    payload = {\"description\": \", \".join(etiquetas)}\n",
        "\n",
        "    response_update = requests.patch(\n",
        "        url_update,\n",
        "        headers={**headers, \"Content-Type\": \"application/json\"},\n",
        "        json=payload\n",
        "    )\n",
        "\n",
        "    if response_update.status_code in [200, 204]:\n",
        "        print(f\"✅ Etiquetas {etiquetas} aplicadas a {archivo} en la descripción\")\n",
        "    else:\n",
        "        print(f\"⚠️ Error al actualizar {archivo}: {response_update.text}\")\n",
        "\"\"\""
      ]
    }
  ],
  "metadata": {
    "colab": {
      "provenance": [],
      "gpuType": "T4"
    },
    "kernelspec": {
      "display_name": "Python 3",
      "name": "python3"
    },
    "language_info": {
      "codemirror_mode": {
        "name": "ipython",
        "version": 3
      },
      "file_extension": ".py",
      "mimetype": "text/x-python",
      "name": "python",
      "nbconvert_exporter": "python",
      "pygments_lexer": "ipython3",
      "version": "3.13.1"
    },
    "accelerator": "GPU"
  },
  "nbformat": 4,
  "nbformat_minor": 5
}