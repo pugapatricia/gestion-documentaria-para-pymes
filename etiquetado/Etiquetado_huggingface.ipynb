{
  "cells": [
    {
      "cell_type": "markdown",
      "id": "f3a71b3b",
      "metadata": {
        "id": "f3a71b3b"
      },
      "source": [
        "[![Abrir en Colab](https://colab.research.google.com/assets/colab-badge.svg)](https://colab.research.google.com/github/pugapatricia/gestion-documentaria-para-pymes/blob/main/etiquetado/Etiquetado_openai.ipynb)"
      ]
    },
    {
      "cell_type": "markdown",
      "id": "e5bcb24e",
      "metadata": {
        "id": "e5bcb24e"
      },
      "source": [
        "[![Ver en GitHub](https://img.shields.io/badge/GitHub-Repo-black?logo=github)](https://github.com/pugapatricia/gestion-documentaria-para-pymes/tree/main/etiquetado)"
      ]
    },
    {
      "cell_type": "markdown",
      "source": [
        "#Importaciones"
      ],
      "metadata": {
        "id": "H1Hm8SLMn6sz"
      },
      "id": "H1Hm8SLMn6sz"
    },
    {
      "cell_type": "code",
      "execution_count": 2,
      "id": "3SC0UKYxGlvk",
      "metadata": {
        "id": "3SC0UKYxGlvk",
        "colab": {
          "base_uri": "https://localhost:8080/"
        },
        "outputId": "7fc82dee-6d83-423a-8326-9987ccf90acc"
      },
      "outputs": [
        {
          "output_type": "stream",
          "name": "stdout",
          "text": [
            "\u001b[?25l   \u001b[90m━━━━━━━━━━━━━━━━━━━━━━━━━━━━━━━━━━━━━━━━\u001b[0m \u001b[32m0.0/232.6 kB\u001b[0m \u001b[31m?\u001b[0m eta \u001b[36m-:--:--\u001b[0m\r\u001b[2K   \u001b[90m━━━━━━━━━━━━━━━━━━━━━━━━━━━━━━━━━━━━━━━━\u001b[0m \u001b[32m232.6/232.6 kB\u001b[0m \u001b[31m9.8 MB/s\u001b[0m eta \u001b[36m0:00:00\u001b[0m\n",
            "\u001b[?25h\u001b[?25l   \u001b[90m━━━━━━━━━━━━━━━━━━━━━━━━━━━━━━━━━━━━━━━━\u001b[0m \u001b[32m0.0/253.0 kB\u001b[0m \u001b[31m?\u001b[0m eta \u001b[36m-:--:--\u001b[0m\r\u001b[2K   \u001b[90m━━━━━━━━━━━━━━━━━━━━━━━━━━━━━━━━━━━━━━━━\u001b[0m \u001b[32m253.0/253.0 kB\u001b[0m \u001b[31m24.3 MB/s\u001b[0m eta \u001b[36m0:00:00\u001b[0m\n",
            "\u001b[?25h\u001b[?25l   \u001b[90m━━━━━━━━━━━━━━━━━━━━━━━━━━━━━━━━━━━━━━━━\u001b[0m \u001b[32m0.0/472.8 kB\u001b[0m \u001b[31m?\u001b[0m eta \u001b[36m-:--:--\u001b[0m\r\u001b[2K   \u001b[90m━━━━━━━━━━━━━━━━━━━━━━━━━━━━━━━━━━━━━━━━\u001b[0m \u001b[32m472.8/472.8 kB\u001b[0m \u001b[31m40.2 MB/s\u001b[0m eta \u001b[36m0:00:00\u001b[0m\n",
            "\u001b[2K   \u001b[90m━━━━━━━━━━━━━━━━━━━━━━━━━━━━━━━━━━━━━━━━\u001b[0m \u001b[32m1.3/1.3 MB\u001b[0m \u001b[31m36.1 MB/s\u001b[0m eta \u001b[36m0:00:00\u001b[0m\n",
            "\u001b[2K   \u001b[90m━━━━━━━━━━━━━━━━━━━━━━━━━━━━━━━━━━━━━━━━\u001b[0m \u001b[32m117.0/117.0 kB\u001b[0m \u001b[31m9.0 MB/s\u001b[0m eta \u001b[36m0:00:00\u001b[0m\n",
            "\u001b[2K   \u001b[90m━━━━━━━━━━━━━━━━━━━━━━━━━━━━━━━━━━━━━━━━\u001b[0m \u001b[32m175.3/175.3 kB\u001b[0m \u001b[31m18.4 MB/s\u001b[0m eta \u001b[36m0:00:00\u001b[0m\n",
            "\u001b[?25h"
          ]
        }
      ],
      "source": [
        "!pip install -q PyPDF2 python-docx openpyxl python-pptx xlrd transformers office365-rest-python-client msal requests"
      ]
    },
    {
      "cell_type": "code",
      "execution_count": 3,
      "id": "mdG952zUC6cM",
      "metadata": {
        "id": "mdG952zUC6cM"
      },
      "outputs": [],
      "source": [
        "import os\n",
        "import io\n",
        "import re\n",
        "import json\n",
        "from pathlib import Path\n",
        "from PyPDF2 import PdfReader\n",
        "import docx\n",
        "import openpyxl\n",
        "from pptx import Presentation\n",
        "import xlrd\n",
        "from transformers import pipeline\n",
        "from office365.sharepoint.client_context import ClientContext\n",
        "from office365.runtime.auth.user_credential import UserCredential\n",
        "import os\n",
        "import requests\n",
        "import msal\n",
        "import csv"
      ]
    },
    {
      "cell_type": "markdown",
      "id": "ptKdGUIiEaHz",
      "metadata": {
        "id": "ptKdGUIiEaHz"
      },
      "source": [
        "# Configuración"
      ]
    },
    {
      "cell_type": "code",
      "execution_count": 4,
      "id": "UAkFWDSoEgGa",
      "metadata": {
        "id": "UAkFWDSoEgGa",
        "outputId": "86d3b675-d7f3-4f1d-d4f3-f405ef1ae110",
        "colab": {
          "base_uri": "https://localhost:8080/",
          "height": 322,
          "referenced_widgets": [
            "42c2063156b34ed6923ea6f82dc35801",
            "b4b792c89410441cb667d83ea44286f7",
            "14bc843494494b1bb3d4b05ad1b45c6f",
            "d2130af8613b42f99de53eff5d17774c",
            "623c1e59382b4e7abe022e4ee1b5551d",
            "1a690b1e9e3a416994d4b164192fd26f",
            "e29d078acfe347e1b582fa467fa86966",
            "e0103d7015d041dea0103c39af60caa0",
            "c4deb1e10a8c41af96674f138785bcf7",
            "ac91692110ca4f43bf7f4e6d08bc50ca",
            "c073347b49664d87b000a463b66998b3",
            "69c2a483a77e48a5bd6f4a1f9f13e3b2",
            "61793441555f43738a11b4c2fec09d2a",
            "6e9aef3ba21c4f788f1c986739bf6b7c",
            "3cef1d99ff224a5595e000019a92de36",
            "1c3e2ed4151449188df18bddbce949da",
            "462101a6d962415bb1737054f1ae6e91",
            "aa60e136fb094f2ab5fe7d9861f8b52a",
            "819d0d65ae5e47ab9213b422af25f46e",
            "084641b998954f2e80ab7a15039aa105",
            "3a895a6a9b6a473ba96312be78b6bc61",
            "dfbe2eafa640413386aa1d030108c461",
            "8929544d3019461db623707233c55d7c",
            "12dd2ce7c4ff42fa80ba0d8b5dfedf76",
            "73513d64ac9c4681b9a958fc1a5c7e4b",
            "c3db7adc5dfa495582561f6a93d1beb3",
            "bec857e980634b4e90480b7e13598a55",
            "78a6a501064843ddac4a06844c3c083c",
            "4e683e90a4fe474e88aa25492058e1fe",
            "472cde99eee44cf68c679d4985a6e7e0",
            "05f5e1d13c90417ba684c27878c30e53",
            "9f38df0bc9ca4c0f989cdeb25afb8240",
            "96fac4d337f546489c555bc409993b76",
            "4c34d439d90546df92d8754e26b04dec",
            "00a93504f4344328a13a9e344840832b",
            "731b8e465e3348a8b65e02d70ffbff6b",
            "522b608b5e0d48dca9e2172db06afc7e",
            "8620f12aee784075949360b205fbbfb1",
            "4e8a3265a19c4d57b1dcfa1ce23b5d69",
            "327d0c2957de4d0e890179a833bc841f",
            "f27869b8d2b244b8aa61b03455c93dea",
            "e7b0f8472f8e4ad9a9123224e0f9930a",
            "99059a1f4ccf4e479b7a02bbce16983c",
            "c40fd8d072b540d7aa859a9ce6cedfd0",
            "3362e92475394bb7b2301afa671b6db4",
            "b2884c9194204f2c90260739e55512f5",
            "f291ab255c95491cb9da696b0259e838",
            "9299c819d94e47d484502ad3de658033",
            "bf07530e81634889aa9f49c0352af9b1",
            "2207de2bd27c4d8aba6839c41bd5c490",
            "2d3e5bfa430d4e65ad00ce12def145cc",
            "fe5c231b6c4b4717a3ba341446d54c92",
            "d8de3cf2cd2e44a9bf8e860ec7ee6d52",
            "8f2807992c3b485ca01cbe5f52a2b1ee",
            "4031eb1209854c11b0018fb5f80a8e04"
          ]
        }
      },
      "outputs": [
        {
          "output_type": "stream",
          "name": "stderr",
          "text": [
            "/usr/local/lib/python3.12/dist-packages/huggingface_hub/utils/_auth.py:94: UserWarning: \n",
            "The secret `HF_TOKEN` does not exist in your Colab secrets.\n",
            "To authenticate with the Hugging Face Hub, create a token in your settings tab (https://huggingface.co/settings/tokens), set it as secret in your Google Colab and restart your session.\n",
            "You will be able to reuse this secret in all of your notebooks.\n",
            "Please note that authentication is recommended but still optional to access public models or datasets.\n",
            "  warnings.warn(\n"
          ]
        },
        {
          "output_type": "display_data",
          "data": {
            "text/plain": [
              "config.json:   0%|          | 0.00/776 [00:00<?, ?B/s]"
            ],
            "application/vnd.jupyter.widget-view+json": {
              "version_major": 2,
              "version_minor": 0,
              "model_id": "42c2063156b34ed6923ea6f82dc35801"
            }
          },
          "metadata": {}
        },
        {
          "output_type": "display_data",
          "data": {
            "text/plain": [
              "model.safetensors:   0%|          | 0.00/268M [00:00<?, ?B/s]"
            ],
            "application/vnd.jupyter.widget-view+json": {
              "version_major": 2,
              "version_minor": 0,
              "model_id": "69c2a483a77e48a5bd6f4a1f9f13e3b2"
            }
          },
          "metadata": {}
        },
        {
          "output_type": "display_data",
          "data": {
            "text/plain": [
              "tokenizer_config.json:   0%|          | 0.00/258 [00:00<?, ?B/s]"
            ],
            "application/vnd.jupyter.widget-view+json": {
              "version_major": 2,
              "version_minor": 0,
              "model_id": "8929544d3019461db623707233c55d7c"
            }
          },
          "metadata": {}
        },
        {
          "output_type": "display_data",
          "data": {
            "text/plain": [
              "vocab.txt: 0.00B [00:00, ?B/s]"
            ],
            "application/vnd.jupyter.widget-view+json": {
              "version_major": 2,
              "version_minor": 0,
              "model_id": "4c34d439d90546df92d8754e26b04dec"
            }
          },
          "metadata": {}
        },
        {
          "output_type": "display_data",
          "data": {
            "text/plain": [
              "special_tokens_map.json:   0%|          | 0.00/112 [00:00<?, ?B/s]"
            ],
            "application/vnd.jupyter.widget-view+json": {
              "version_major": 2,
              "version_minor": 0,
              "model_id": "3362e92475394bb7b2301afa671b6db4"
            }
          },
          "metadata": {}
        },
        {
          "output_type": "stream",
          "name": "stderr",
          "text": [
            "Device set to use cuda:0\n"
          ]
        }
      ],
      "source": [
        "CLIENT_ID = \"e3f2393e-7348-47d1-9c64-8d8efe6a5e95\"  # tu nuevo Client ID\n",
        "AUTHORITY = \"https://login.microsoftonline.com/consumers\"\n",
        "SCOPE = [\"User.Read\", \"Files.ReadWrite\"]\n",
        "\n",
        "ext_permitidas = {\"pdf\", \"docx\", \"xlsx\", \"xls\", \"pptx\", \"txt\", \"csv\"}\n",
        "classifier = pipeline(\"zero-shot-classification\",\n",
        "    model=\"typeform/distilbert-base-uncased-mnli\")\n",
        "url = \"https://graph.microsoft.com/v1.0/me/drive/root:/Etiquetados:/children\""
      ]
    },
    {
      "cell_type": "code",
      "source": [
        "!git config --global user.email \"marcomendieta08@gmail.com\"\n",
        "!git config --global user.name \"marcomendieta08\"\n",
        "!git clone https://github.com/pugapatricia/gestion-documentaria-para-pymes.git"
      ],
      "metadata": {
        "colab": {
          "base_uri": "https://localhost:8080/"
        },
        "id": "fdxiSsgKv341",
        "outputId": "db8ed015-3894-4428-d46b-c1b6bddd86ae"
      },
      "id": "fdxiSsgKv341",
      "execution_count": 5,
      "outputs": [
        {
          "output_type": "stream",
          "name": "stdout",
          "text": [
            "Cloning into 'gestion-documentaria-para-pymes'...\n",
            "remote: Enumerating objects: 264, done.\u001b[K\n",
            "remote: Counting objects: 100% (56/56), done.\u001b[K\n",
            "remote: Compressing objects: 100% (47/47), done.\u001b[K\n",
            "remote: Total 264 (delta 31), reused 16 (delta 8), pack-reused 208 (from 1)\u001b[K\n",
            "Receiving objects: 100% (264/264), 6.46 MiB | 12.27 MiB/s, done.\n",
            "Resolving deltas: 100% (137/137), done.\n"
          ]
        }
      ]
    },
    {
      "cell_type": "markdown",
      "id": "lKu0-R84Ei__",
      "metadata": {
        "id": "lKu0-R84Ei__"
      },
      "source": [
        "# Conección con OneDrive\n"
      ]
    },
    {
      "cell_type": "code",
      "execution_count": 6,
      "id": "4SfZ6bYUEpzF",
      "metadata": {
        "colab": {
          "base_uri": "https://localhost:8080/"
        },
        "id": "4SfZ6bYUEpzF",
        "outputId": "76d2a0ad-4b2b-43b8-81db-bba5d6ff8478"
      },
      "outputs": [
        {
          "output_type": "stream",
          "name": "stdout",
          "text": [
            "To sign in, use a web browser to open the page https://www.microsoft.com/link and enter the code DTFTTX65 to authenticate.\n"
          ]
        }
      ],
      "source": [
        "app = msal.PublicClientApplication(CLIENT_ID, authority=AUTHORITY)\n",
        "\n",
        "flow = app.initiate_device_flow(scopes=SCOPE)\n",
        "if \"user_code\" not in flow:\n",
        "    raise Exception(\"No se pudo iniciar el device flow. Revisa tu configuración en Azure.\")\n",
        "\n",
        "print(flow[\"message\"])  # 👉 Copia el código en https://microsoft.com/devicelogin\n",
        "result = app.acquire_token_by_device_flow(flow)\n",
        "\n",
        "if \"access_token\" not in result:\n",
        "    raise Exception(f\"Error autenticación: {result.get('error_description')}\")\n",
        "\n",
        "access_token = result[\"access_token\"]\n",
        "headers = {\"Authorization\": f\"Bearer {access_token}\"}\n",
        "\n",
        "# Llamada a la API con tu token de acceso\n",
        "resp = requests.get(url, headers=headers)\n",
        "if resp.status_code != 200:\n",
        "    raise Exception(f\"Error al obtener archivos: {resp.text}\")\n",
        "data = resp.json()"
      ]
    },
    {
      "cell_type": "markdown",
      "source": [
        "#Funciones"
      ],
      "metadata": {
        "id": "IYoSk_6voooa"
      },
      "id": "IYoSk_6voooa"
    },
    {
      "cell_type": "code",
      "source": [
        "ticketsTXT = \"https://raw.githubusercontent.com/pugapatricia/gestion-documentaria-para-pymes/refs/heads/main/etiquetado/tickers.txt\"\n",
        "response = requests.get(ticketsTXT)\n",
        "etiquetas = response.text.strip().split(\", \")\n",
        "print(etiquetas)"
      ],
      "metadata": {
        "colab": {
          "base_uri": "https://localhost:8080/"
        },
        "id": "xbRaQYOUwNNa",
        "outputId": "52882838-2bba-41ba-dbf9-93376d6637b1"
      },
      "id": "xbRaQYOUwNNa",
      "execution_count": 7,
      "outputs": [
        {
          "output_type": "stream",
          "name": "stdout",
          "text": [
            "['tauromaquia', 'pasaporte', 'señal', 'medioambiente', 'universidad', 'arqueología', 'financiero', 'contaduría', 'restitución', 'materias', 'regresión', 'extranjero', 'renta', 'análisis', 'puente', 'servicios', 'inquilino', 'optativa', 'arrendador', 'seguridad', 'notificaciones', 'vigilancia', 'depreciación', 'empresa', 'geografía', 'monográficos', 'estancia', 'balance', 'divulgación', 'autorización', 'master', 'madrid', 'interpretación', 'ingresos', 'métodos', 'fuentes', 'idiomas', 'silvopastoril', 'extranjería', 'receptor', 'proyecto', 'interés', 'apalancamiento', 'propiedad', 'incumplimiento', 'estudios', 'nie', 'datascience', 'complutense', 'mediación', 'firma', 'liquidez', 'valoracion', 'desalojo', 'compraventa', 'alquiler', 'sociales', 'jarama', 'partes', 'contrato', 'tasas', 'humanidades', 'estudiantes', 'activos', 'actividad', 'pasivos', 'financieros', 'registro', 'divulgador', 'cesión', 'poesía', 'temporada', 'documentación', 'rentabilidad', 'comisiones', 'flujodecaja', 'patrimonio', 'proyección', 'arganda', '2016-2017', 'indicadores', 'suministros', 'arrendamiento', 'cursos', 'empaques', 'devolución', 'nda', 'costos', 'admitidos', 'información', 'solicitud', 'panama', 'matrícula', 'reserva', 'cartera', 'vivienda', 'habitación', 'mendieta', 'consorcio', 'autorizacion', 'acuerdo', 'curso', 'arrendatario', 'egresos', 'duración', 'simulación', 'decisiones', 'jurisdicción', 'prorroga', 'transporte', 'eva', 'rescisión', 'secreto', 'prórroga', 'van', 'obligaciones', 'contabilidad', 'máster', 'inventarios', 'envíos', 'tir', 'confidencialidad', 'historia', 'cláusulas', 'inversión', 'vino', 'amortización', 'penalizaciones', 'propietario', 'astrofísica', 'créditos', 'alumnos', 'inmueble', 'batalla', 'cultivo', 'finca', 'fianza', 'estados', 'flujo', 'visado', 'endeudamiento', 'subarriendo', 'propiedadintelectual', 'comparación', 'seguro', 'proyeccion', 'matemáticas', 'financiera', 'lau', 'archivo', 'cauca', 'marco', 'arte', 'bachillerato']\n"
          ]
        }
      ]
    },
    {
      "cell_type": "markdown",
      "source": [
        "Lector de documentos"
      ],
      "metadata": {
        "id": "SVuMqyREoznw"
      },
      "id": "SVuMqyREoznw"
    },
    {
      "cell_type": "code",
      "execution_count": 8,
      "id": "RTR5h05bFUDm",
      "metadata": {
        "id": "RTR5h05bFUDm"
      },
      "outputs": [],
      "source": [
        "def leer_pdf(contenido, limite_palabras):\n",
        "    texto = \"\"\n",
        "    reader = PdfReader(io.BytesIO(contenido))\n",
        "    for page in reader.pages:\n",
        "        if page.extract_text():\n",
        "            texto += page.extract_text() + \"\\n\"\n",
        "            if len(texto.split()) >= limite_palabras:\n",
        "                break\n",
        "    return texto\n",
        "\n",
        "\n",
        "def leer_docx(contenido, limite_palabras):\n",
        "    texto = \"\"\n",
        "    doc = docx.Document(io.BytesIO(contenido))\n",
        "    for p in doc.paragraphs:\n",
        "        if p.text.strip():\n",
        "            texto += p.text + \"\\n\"\n",
        "            if len(texto.split()) >= limite_palabras:\n",
        "                break\n",
        "    return texto\n",
        "\n",
        "\n",
        "def leer_excel(contenido, limite_palabras):\n",
        "    texto = \"\"\n",
        "    wb = openpyxl.load_workbook(io.BytesIO(contenido), data_only=True, read_only=True)\n",
        "    for sheet in wb.worksheets:\n",
        "        for row in sheet.iter_rows(values_only=True):\n",
        "            texto += \" \".join([str(cell) for cell in row if cell]) + \"\\n\"\n",
        "            if len(texto.split()) >= limite_palabras:\n",
        "                break\n",
        "        if len(texto.split()) >= limite_palabras:\n",
        "            break\n",
        "    return texto\n",
        "\n",
        "\n",
        "def leer_xls(contenido, limite_palabras):\n",
        "    texto = \"\"\n",
        "    temp_file = \"temp.xls\"\n",
        "    with open(temp_file, \"wb\") as f:\n",
        "        f.write(contenido)\n",
        "    wb = xlrd.open_workbook(temp_file)\n",
        "    for sheet in wb.sheets():\n",
        "        for row_idx in range(sheet.nrows):\n",
        "            row = sheet.row_values(row_idx)\n",
        "            texto += \" \".join([str(cell) for cell in row if cell]) + \"\\n\"\n",
        "            if len(texto.split()) >= limite_palabras:\n",
        "                break\n",
        "        if len(texto.split()) >= limite_palabras:\n",
        "            break\n",
        "    os.remove(temp_file)\n",
        "    return texto\n",
        "\n",
        "\n",
        "def leer_pptx(contenido, limite_palabras):\n",
        "    texto = \"\"\n",
        "    temp_file = \"temp.pptx\"\n",
        "    with open(temp_file, \"wb\") as f:\n",
        "        f.write(contenido)\n",
        "    prs = Presentation(temp_file)\n",
        "    for slide in prs.slides:\n",
        "        for shape in slide.shapes:\n",
        "            if hasattr(shape, \"text\") and shape.text.strip():\n",
        "                texto += shape.text + \"\\n\"\n",
        "                if len(texto.split()) >= limite_palabras:\n",
        "                    break\n",
        "        if len(texto.split()) >= limite_palabras:\n",
        "            break\n",
        "    os.remove(temp_file)\n",
        "    return texto\n",
        "\n",
        "\n",
        "def leer_txt_csv(contenido, limite_palabras):\n",
        "    texto = contenido.decode(\"utf-8\", errors=\"ignore\")\n",
        "    return \" \".join(texto.split()[:limite_palabras])\n",
        "\n",
        "def leer_archivo(nombre, contenido, limite_palabras=None):\n",
        "    ext = nombre.split(\".\")[-1].lower()\n",
        "    if ext == \"pdf\":\n",
        "        return leer_pdf(contenido, limite_palabras)\n",
        "    elif ext == \"docx\":\n",
        "        return leer_docx(contenido, limite_palabras)\n",
        "    elif ext == \"xlsx\":\n",
        "        return leer_excel(contenido, limite_palabras)\n",
        "    elif ext == \"xls\":\n",
        "        return leer_xls(contenido, limite_palabras)\n",
        "    elif ext == \"pptx\":\n",
        "        return leer_pptx(contenido, limite_palabras)\n",
        "    elif ext in {\"txt\", \"csv\"}:\n",
        "        return leer_txt_csv(contenido, limite_palabras)\n",
        "    return \"\""
      ]
    },
    {
      "cell_type": "markdown",
      "id": "fGLBYpx2FJqW",
      "metadata": {
        "id": "fGLBYpx2FJqW"
      },
      "source": [
        "Clasificador Hugging Face Zero-Shot\n"
      ]
    },
    {
      "cell_type": "code",
      "execution_count": 15,
      "id": "XqETdx4wFL4e",
      "metadata": {
        "id": "XqETdx4wFL4e"
      },
      "outputs": [],
      "source": [
        "def limpiar_texto(texto: str) -> str:\n",
        "    if not texto:\n",
        "        return \"\"\n",
        "    texto = texto.lower()\n",
        "    texto = re.sub(r\"[\\r\\n\\t]+\", \" \", texto)\n",
        "    texto = re.sub(r\"[^a-záéíóúüñ0-9\\s]\", \"\", texto)\n",
        "    texto = re.sub(r\"\\s+\", \" \", texto)\n",
        "    return texto.strip()\n",
        "\n",
        "def etiquetar_texto(texto, umbral=0.3):\n",
        "    res = classifier(texto, candidate_labels=etiquetas, multi_label=True)\n",
        "\n",
        "    # Filtrar etiquetas por score\n",
        "    etiquetas_filtradas = [\n",
        "        label for label, score in zip(res[\"labels\"], res[\"scores\"]) if score >= umbral\n",
        "    ]\n",
        "\n",
        "    # Si no hay etiquetas por encima del umbral, tomar la de mayor score\n",
        "    if not etiquetas_filtradas and res[\"labels\"]:\n",
        "        max_index = res[\"scores\"].index(max(res[\"scores\"]))\n",
        "        etiquetas_filtradas = [res[\"labels\"][max_index]]\n",
        "\n",
        "    return etiquetas_filtradas\n",
        "\n",
        "\n",
        "def etiquetar_texto(texto, umbral=0.3):\n",
        "    res = classifier(texto, candidate_labels=etiquetas, multi_label=True)\n",
        "    # Filtrar etiquetas por score\n",
        "    etiquetas_filtradas = [\n",
        "        label for label, score in zip(res[\"labels\"], res[\"scores\"]) if score >= umbral\n",
        "    ]\n",
        "    return etiquetas_filtradas\n"
      ]
    },
    {
      "cell_type": "markdown",
      "id": "iP-8OQLNFVA_",
      "metadata": {
        "id": "iP-8OQLNFVA_"
      },
      "source": [
        "# 6. Función de etiquetado"
      ]
    },
    {
      "cell_type": "code",
      "execution_count": 16,
      "id": "wPL4R9b-FY-D",
      "metadata": {
        "id": "wPL4R9b-FY-D"
      },
      "outputs": [],
      "source": [
        "def etiquetar_texto(texto, umbral=0.3):\n",
        "    res = classifier(texto, candidate_labels=etiquetas, multi_label=True)\n",
        "    # Filtrar etiquetas por score\n",
        "    etiquetas_filtradas = [\n",
        "        label for label, score in zip(res[\"labels\"], res[\"scores\"]) if score >= umbral\n",
        "    ]\n",
        "    return etiquetas_filtradas\n"
      ]
    },
    {
      "cell_type": "markdown",
      "id": "eFJR7GKaFaRk",
      "metadata": {
        "id": "eFJR7GKaFaRk"
      },
      "source": [
        "# Leer archivos de OneDrive"
      ]
    },
    {
      "cell_type": "code",
      "execution_count": null,
      "id": "r8dBhXbyFfLP",
      "metadata": {
        "id": "r8dBhXbyFfLP"
      },
      "outputs": [],
      "source": [
        "limite_palabras = 2000\n",
        "response = requests.get(url, headers=headers)\n",
        "data = response.json()\n",
        "\n",
        "resultados = {}\n",
        "for item in data.get(\"value\", []):  # Procesar todos los archivos\n",
        "    nombre = item[\"name\"]\n",
        "    if not any(nombre.lower().endswith(ext) for ext in ext_permitidas):\n",
        "        continue\n",
        "    download_url = item[\"@microsoft.graph.downloadUrl\"]\n",
        "    file_bytes = requests.get(download_url).content\n",
        "    texto = leer_archivo(nombre, file_bytes, limite_palabras)\n",
        "    resultados[nombre] = etiquetar_texto(texto) if texto else []\n",
        "\n",
        "for nombre, etiquetas_detectadas in resultados.items():\n",
        "    print(f\"{nombre} → {etiquetas_detectadas}\")"
      ]
    },
    {
      "cell_type": "markdown",
      "id": "MTA1Lj9jFgy1",
      "metadata": {
        "id": "MTA1Lj9jFgy1"
      },
      "source": [
        "#Guardar resultados"
      ]
    },
    {
      "cell_type": "code",
      "execution_count": 12,
      "id": "LG0oigjOFgiy",
      "metadata": {
        "id": "LG0oigjOFgiy",
        "colab": {
          "base_uri": "https://localhost:8080/"
        },
        "outputId": "70afc9c7-9fac-4aa8-9dc5-0716c9cd5f4d"
      },
      "outputs": [
        {
          "output_type": "stream",
          "name": "stdout",
          "text": [
            "Resultados guardados en etiquetas_onedrive.csv\n"
          ]
        }
      ],
      "source": [
        "with open(\"etiquetas_onedrive.csv\", \"w\", newline=\"\", encoding=\"utf-8-sig\") as f:\n",
        "    writer = csv.writer(f)\n",
        "    writer.writerow([\"Archivo\", \"Etiquetas\"])\n",
        "    for nombre, etiquetas_detectadas in resultados.items():\n",
        "        # Si no hay etiquetas, poner 'Sin etiquetas'\n",
        "        etiquetas_str = \", \".join(etiquetas_detectadas) if etiquetas_detectadas else \"Sin etiquetas\"\n",
        "        writer.writerow([nombre, etiquetas_str])\n",
        "\n",
        "print(\"Resultados guardados en etiquetas_onedrive.csv\")\n"
      ]
    },
    {
      "cell_type": "markdown",
      "source": [
        "## Codigo para cargar en la etiqueta de descripcion en onedrive"
      ],
      "metadata": {
        "id": "PqEIKeX8zwJm"
      },
      "id": "PqEIKeX8zwJm"
    },
    {
      "cell_type": "code",
      "execution_count": 13,
      "id": "e3005d25",
      "metadata": {
        "id": "e3005d25",
        "colab": {
          "base_uri": "https://localhost:8080/",
          "height": 0
        },
        "outputId": "146ce39d-86ee-4f35-d3b3-ed0d4bb95a48"
      },
      "outputs": [
        {
          "output_type": "execute_result",
          "data": {
            "text/plain": [
              "'\\n# ============================\\n# Configuración\\n# ============================\\njson_path = \"etiquetas_onedrive.json\"\\nheaders = {\"Authorization\": f\"Bearer {access_token}\"}\\n\\n# Carpeta objetivo en OneDrive\\ncarpeta_objetivo = \"Etiquetados\"\\n\\n# ============================\\n# Cargar JSON de etiquetas\\n# ============================\\nwith open(json_path, \"r\", encoding=\"utf-8\") as f:\\n    etiquetas_data = json.load(f)\\n\\n# ============================\\n# Aplicar etiquetas en la descripción\\n# ============================\\nfor archivo, etiquetas in etiquetas_data.items():\\n    if not etiquetas:\\n        continue\\n\\n    # Buscar archivo en OneDrive\\n    url_file = f\"https://graph.microsoft.com/v1.0/me/drive/root:/{carpeta_objetivo}/{archivo}\"\\n    resp_file = requests.get(url_file, headers=headers)\\n\\n    if resp_file.status_code != 200:\\n        print(f\"⚠️ No se encontró {archivo} en OneDrive\")\\n        continue\\n\\n    file_id = resp_file.json()[\"id\"]\\n\\n    # Guardamos etiquetas en el campo \"description\"\\n    url_update = f\"https://graph.microsoft.com/v1.0/me/drive/items/{file_id}\"\\n    payload = {\"description\": \", \".join(etiquetas)}\\n\\n    response_update = requests.patch(\\n        url_update,\\n        headers={**headers, \"Content-Type\": \"application/json\"},\\n        json=payload\\n    )\\n\\n    if response_update.status_code in [200, 204]:\\n        print(f\"✅ Etiquetas {etiquetas} aplicadas a {archivo} en la descripción\")\\n    else:\\n        print(f\"⚠️ Error al actualizar {archivo}: {response_update.text}\")\\n'"
            ],
            "application/vnd.google.colaboratory.intrinsic+json": {
              "type": "string"
            }
          },
          "metadata": {},
          "execution_count": 13
        }
      ],
      "source": [
        "\"\"\"\n",
        "# ============================\n",
        "# Configuración\n",
        "# ============================\n",
        "json_path = \"etiquetas_onedrive.json\"\n",
        "headers = {\"Authorization\": f\"Bearer {access_token}\"}\n",
        "\n",
        "# Carpeta objetivo en OneDrive\n",
        "carpeta_objetivo = \"Etiquetados\"\n",
        "\n",
        "# ============================\n",
        "# Cargar JSON de etiquetas\n",
        "# ============================\n",
        "with open(json_path, \"r\", encoding=\"utf-8\") as f:\n",
        "    etiquetas_data = json.load(f)\n",
        "\n",
        "# ============================\n",
        "# Aplicar etiquetas en la descripción\n",
        "# ============================\n",
        "for archivo, etiquetas in etiquetas_data.items():\n",
        "    if not etiquetas:\n",
        "        continue\n",
        "\n",
        "    # Buscar archivo en OneDrive\n",
        "    url_file = f\"https://graph.microsoft.com/v1.0/me/drive/root:/{carpeta_objetivo}/{archivo}\"\n",
        "    resp_file = requests.get(url_file, headers=headers)\n",
        "\n",
        "    if resp_file.status_code != 200:\n",
        "        print(f\"⚠️ No se encontró {archivo} en OneDrive\")\n",
        "        continue\n",
        "\n",
        "    file_id = resp_file.json()[\"id\"]\n",
        "\n",
        "    # Guardamos etiquetas en el campo \"description\"\n",
        "    url_update = f\"https://graph.microsoft.com/v1.0/me/drive/items/{file_id}\"\n",
        "    payload = {\"description\": \", \".join(etiquetas)}\n",
        "\n",
        "    response_update = requests.patch(\n",
        "        url_update,\n",
        "        headers={**headers, \"Content-Type\": \"application/json\"},\n",
        "        json=payload\n",
        "    )\n",
        "\n",
        "    if response_update.status_code in [200, 204]:\n",
        "        print(f\"✅ Etiquetas {etiquetas} aplicadas a {archivo} en la descripción\")\n",
        "    else:\n",
        "        print(f\"⚠️ Error al actualizar {archivo}: {response_update.text}\")\n",
        "\"\"\""
      ]
    }
  ],
  "metadata": {
    "colab": {
      "provenance": [],
      "gpuType": "T4"
    },
    "kernelspec": {
      "display_name": "Python 3",
      "name": "python3"
    },
    "language_info": {
      "codemirror_mode": {
        "name": "ipython",
        "version": 3
      },
      "file_extension": ".py",
      "mimetype": "text/x-python",
      "name": "python",
      "nbconvert_exporter": "python",
      "pygments_lexer": "ipython3",
      "version": "3.13.1"
    },
    "accelerator": "GPU",
    "widgets": {
      "application/vnd.jupyter.widget-state+json": {
        "42c2063156b34ed6923ea6f82dc35801": {
          "model_module": "@jupyter-widgets/controls",
          "model_name": "HBoxModel",
          "model_module_version": "1.5.0",
          "state": {
            "_dom_classes": [],
            "_model_module": "@jupyter-widgets/controls",
            "_model_module_version": "1.5.0",
            "_model_name": "HBoxModel",
            "_view_count": null,
            "_view_module": "@jupyter-widgets/controls",
            "_view_module_version": "1.5.0",
            "_view_name": "HBoxView",
            "box_style": "",
            "children": [
              "IPY_MODEL_b4b792c89410441cb667d83ea44286f7",
              "IPY_MODEL_14bc843494494b1bb3d4b05ad1b45c6f",
              "IPY_MODEL_d2130af8613b42f99de53eff5d17774c"
            ],
            "layout": "IPY_MODEL_623c1e59382b4e7abe022e4ee1b5551d"
          }
        },
        "b4b792c89410441cb667d83ea44286f7": {
          "model_module": "@jupyter-widgets/controls",
          "model_name": "HTMLModel",
          "model_module_version": "1.5.0",
          "state": {
            "_dom_classes": [],
            "_model_module": "@jupyter-widgets/controls",
            "_model_module_version": "1.5.0",
            "_model_name": "HTMLModel",
            "_view_count": null,
            "_view_module": "@jupyter-widgets/controls",
            "_view_module_version": "1.5.0",
            "_view_name": "HTMLView",
            "description": "",
            "description_tooltip": null,
            "layout": "IPY_MODEL_1a690b1e9e3a416994d4b164192fd26f",
            "placeholder": "​",
            "style": "IPY_MODEL_e29d078acfe347e1b582fa467fa86966",
            "value": "config.json: 100%"
          }
        },
        "14bc843494494b1bb3d4b05ad1b45c6f": {
          "model_module": "@jupyter-widgets/controls",
          "model_name": "FloatProgressModel",
          "model_module_version": "1.5.0",
          "state": {
            "_dom_classes": [],
            "_model_module": "@jupyter-widgets/controls",
            "_model_module_version": "1.5.0",
            "_model_name": "FloatProgressModel",
            "_view_count": null,
            "_view_module": "@jupyter-widgets/controls",
            "_view_module_version": "1.5.0",
            "_view_name": "ProgressView",
            "bar_style": "success",
            "description": "",
            "description_tooltip": null,
            "layout": "IPY_MODEL_e0103d7015d041dea0103c39af60caa0",
            "max": 776,
            "min": 0,
            "orientation": "horizontal",
            "style": "IPY_MODEL_c4deb1e10a8c41af96674f138785bcf7",
            "value": 776
          }
        },
        "d2130af8613b42f99de53eff5d17774c": {
          "model_module": "@jupyter-widgets/controls",
          "model_name": "HTMLModel",
          "model_module_version": "1.5.0",
          "state": {
            "_dom_classes": [],
            "_model_module": "@jupyter-widgets/controls",
            "_model_module_version": "1.5.0",
            "_model_name": "HTMLModel",
            "_view_count": null,
            "_view_module": "@jupyter-widgets/controls",
            "_view_module_version": "1.5.0",
            "_view_name": "HTMLView",
            "description": "",
            "description_tooltip": null,
            "layout": "IPY_MODEL_ac91692110ca4f43bf7f4e6d08bc50ca",
            "placeholder": "​",
            "style": "IPY_MODEL_c073347b49664d87b000a463b66998b3",
            "value": " 776/776 [00:00&lt;00:00, 85.7kB/s]"
          }
        },
        "623c1e59382b4e7abe022e4ee1b5551d": {
          "model_module": "@jupyter-widgets/base",
          "model_name": "LayoutModel",
          "model_module_version": "1.2.0",
          "state": {
            "_model_module": "@jupyter-widgets/base",
            "_model_module_version": "1.2.0",
            "_model_name": "LayoutModel",
            "_view_count": null,
            "_view_module": "@jupyter-widgets/base",
            "_view_module_version": "1.2.0",
            "_view_name": "LayoutView",
            "align_content": null,
            "align_items": null,
            "align_self": null,
            "border": null,
            "bottom": null,
            "display": null,
            "flex": null,
            "flex_flow": null,
            "grid_area": null,
            "grid_auto_columns": null,
            "grid_auto_flow": null,
            "grid_auto_rows": null,
            "grid_column": null,
            "grid_gap": null,
            "grid_row": null,
            "grid_template_areas": null,
            "grid_template_columns": null,
            "grid_template_rows": null,
            "height": null,
            "justify_content": null,
            "justify_items": null,
            "left": null,
            "margin": null,
            "max_height": null,
            "max_width": null,
            "min_height": null,
            "min_width": null,
            "object_fit": null,
            "object_position": null,
            "order": null,
            "overflow": null,
            "overflow_x": null,
            "overflow_y": null,
            "padding": null,
            "right": null,
            "top": null,
            "visibility": null,
            "width": null
          }
        },
        "1a690b1e9e3a416994d4b164192fd26f": {
          "model_module": "@jupyter-widgets/base",
          "model_name": "LayoutModel",
          "model_module_version": "1.2.0",
          "state": {
            "_model_module": "@jupyter-widgets/base",
            "_model_module_version": "1.2.0",
            "_model_name": "LayoutModel",
            "_view_count": null,
            "_view_module": "@jupyter-widgets/base",
            "_view_module_version": "1.2.0",
            "_view_name": "LayoutView",
            "align_content": null,
            "align_items": null,
            "align_self": null,
            "border": null,
            "bottom": null,
            "display": null,
            "flex": null,
            "flex_flow": null,
            "grid_area": null,
            "grid_auto_columns": null,
            "grid_auto_flow": null,
            "grid_auto_rows": null,
            "grid_column": null,
            "grid_gap": null,
            "grid_row": null,
            "grid_template_areas": null,
            "grid_template_columns": null,
            "grid_template_rows": null,
            "height": null,
            "justify_content": null,
            "justify_items": null,
            "left": null,
            "margin": null,
            "max_height": null,
            "max_width": null,
            "min_height": null,
            "min_width": null,
            "object_fit": null,
            "object_position": null,
            "order": null,
            "overflow": null,
            "overflow_x": null,
            "overflow_y": null,
            "padding": null,
            "right": null,
            "top": null,
            "visibility": null,
            "width": null
          }
        },
        "e29d078acfe347e1b582fa467fa86966": {
          "model_module": "@jupyter-widgets/controls",
          "model_name": "DescriptionStyleModel",
          "model_module_version": "1.5.0",
          "state": {
            "_model_module": "@jupyter-widgets/controls",
            "_model_module_version": "1.5.0",
            "_model_name": "DescriptionStyleModel",
            "_view_count": null,
            "_view_module": "@jupyter-widgets/base",
            "_view_module_version": "1.2.0",
            "_view_name": "StyleView",
            "description_width": ""
          }
        },
        "e0103d7015d041dea0103c39af60caa0": {
          "model_module": "@jupyter-widgets/base",
          "model_name": "LayoutModel",
          "model_module_version": "1.2.0",
          "state": {
            "_model_module": "@jupyter-widgets/base",
            "_model_module_version": "1.2.0",
            "_model_name": "LayoutModel",
            "_view_count": null,
            "_view_module": "@jupyter-widgets/base",
            "_view_module_version": "1.2.0",
            "_view_name": "LayoutView",
            "align_content": null,
            "align_items": null,
            "align_self": null,
            "border": null,
            "bottom": null,
            "display": null,
            "flex": null,
            "flex_flow": null,
            "grid_area": null,
            "grid_auto_columns": null,
            "grid_auto_flow": null,
            "grid_auto_rows": null,
            "grid_column": null,
            "grid_gap": null,
            "grid_row": null,
            "grid_template_areas": null,
            "grid_template_columns": null,
            "grid_template_rows": null,
            "height": null,
            "justify_content": null,
            "justify_items": null,
            "left": null,
            "margin": null,
            "max_height": null,
            "max_width": null,
            "min_height": null,
            "min_width": null,
            "object_fit": null,
            "object_position": null,
            "order": null,
            "overflow": null,
            "overflow_x": null,
            "overflow_y": null,
            "padding": null,
            "right": null,
            "top": null,
            "visibility": null,
            "width": null
          }
        },
        "c4deb1e10a8c41af96674f138785bcf7": {
          "model_module": "@jupyter-widgets/controls",
          "model_name": "ProgressStyleModel",
          "model_module_version": "1.5.0",
          "state": {
            "_model_module": "@jupyter-widgets/controls",
            "_model_module_version": "1.5.0",
            "_model_name": "ProgressStyleModel",
            "_view_count": null,
            "_view_module": "@jupyter-widgets/base",
            "_view_module_version": "1.2.0",
            "_view_name": "StyleView",
            "bar_color": null,
            "description_width": ""
          }
        },
        "ac91692110ca4f43bf7f4e6d08bc50ca": {
          "model_module": "@jupyter-widgets/base",
          "model_name": "LayoutModel",
          "model_module_version": "1.2.0",
          "state": {
            "_model_module": "@jupyter-widgets/base",
            "_model_module_version": "1.2.0",
            "_model_name": "LayoutModel",
            "_view_count": null,
            "_view_module": "@jupyter-widgets/base",
            "_view_module_version": "1.2.0",
            "_view_name": "LayoutView",
            "align_content": null,
            "align_items": null,
            "align_self": null,
            "border": null,
            "bottom": null,
            "display": null,
            "flex": null,
            "flex_flow": null,
            "grid_area": null,
            "grid_auto_columns": null,
            "grid_auto_flow": null,
            "grid_auto_rows": null,
            "grid_column": null,
            "grid_gap": null,
            "grid_row": null,
            "grid_template_areas": null,
            "grid_template_columns": null,
            "grid_template_rows": null,
            "height": null,
            "justify_content": null,
            "justify_items": null,
            "left": null,
            "margin": null,
            "max_height": null,
            "max_width": null,
            "min_height": null,
            "min_width": null,
            "object_fit": null,
            "object_position": null,
            "order": null,
            "overflow": null,
            "overflow_x": null,
            "overflow_y": null,
            "padding": null,
            "right": null,
            "top": null,
            "visibility": null,
            "width": null
          }
        },
        "c073347b49664d87b000a463b66998b3": {
          "model_module": "@jupyter-widgets/controls",
          "model_name": "DescriptionStyleModel",
          "model_module_version": "1.5.0",
          "state": {
            "_model_module": "@jupyter-widgets/controls",
            "_model_module_version": "1.5.0",
            "_model_name": "DescriptionStyleModel",
            "_view_count": null,
            "_view_module": "@jupyter-widgets/base",
            "_view_module_version": "1.2.0",
            "_view_name": "StyleView",
            "description_width": ""
          }
        },
        "69c2a483a77e48a5bd6f4a1f9f13e3b2": {
          "model_module": "@jupyter-widgets/controls",
          "model_name": "HBoxModel",
          "model_module_version": "1.5.0",
          "state": {
            "_dom_classes": [],
            "_model_module": "@jupyter-widgets/controls",
            "_model_module_version": "1.5.0",
            "_model_name": "HBoxModel",
            "_view_count": null,
            "_view_module": "@jupyter-widgets/controls",
            "_view_module_version": "1.5.0",
            "_view_name": "HBoxView",
            "box_style": "",
            "children": [
              "IPY_MODEL_61793441555f43738a11b4c2fec09d2a",
              "IPY_MODEL_6e9aef3ba21c4f788f1c986739bf6b7c",
              "IPY_MODEL_3cef1d99ff224a5595e000019a92de36"
            ],
            "layout": "IPY_MODEL_1c3e2ed4151449188df18bddbce949da"
          }
        },
        "61793441555f43738a11b4c2fec09d2a": {
          "model_module": "@jupyter-widgets/controls",
          "model_name": "HTMLModel",
          "model_module_version": "1.5.0",
          "state": {
            "_dom_classes": [],
            "_model_module": "@jupyter-widgets/controls",
            "_model_module_version": "1.5.0",
            "_model_name": "HTMLModel",
            "_view_count": null,
            "_view_module": "@jupyter-widgets/controls",
            "_view_module_version": "1.5.0",
            "_view_name": "HTMLView",
            "description": "",
            "description_tooltip": null,
            "layout": "IPY_MODEL_462101a6d962415bb1737054f1ae6e91",
            "placeholder": "​",
            "style": "IPY_MODEL_aa60e136fb094f2ab5fe7d9861f8b52a",
            "value": "model.safetensors: 100%"
          }
        },
        "6e9aef3ba21c4f788f1c986739bf6b7c": {
          "model_module": "@jupyter-widgets/controls",
          "model_name": "FloatProgressModel",
          "model_module_version": "1.5.0",
          "state": {
            "_dom_classes": [],
            "_model_module": "@jupyter-widgets/controls",
            "_model_module_version": "1.5.0",
            "_model_name": "FloatProgressModel",
            "_view_count": null,
            "_view_module": "@jupyter-widgets/controls",
            "_view_module_version": "1.5.0",
            "_view_name": "ProgressView",
            "bar_style": "success",
            "description": "",
            "description_tooltip": null,
            "layout": "IPY_MODEL_819d0d65ae5e47ab9213b422af25f46e",
            "max": 267835640,
            "min": 0,
            "orientation": "horizontal",
            "style": "IPY_MODEL_084641b998954f2e80ab7a15039aa105",
            "value": 267835640
          }
        },
        "3cef1d99ff224a5595e000019a92de36": {
          "model_module": "@jupyter-widgets/controls",
          "model_name": "HTMLModel",
          "model_module_version": "1.5.0",
          "state": {
            "_dom_classes": [],
            "_model_module": "@jupyter-widgets/controls",
            "_model_module_version": "1.5.0",
            "_model_name": "HTMLModel",
            "_view_count": null,
            "_view_module": "@jupyter-widgets/controls",
            "_view_module_version": "1.5.0",
            "_view_name": "HTMLView",
            "description": "",
            "description_tooltip": null,
            "layout": "IPY_MODEL_3a895a6a9b6a473ba96312be78b6bc61",
            "placeholder": "​",
            "style": "IPY_MODEL_dfbe2eafa640413386aa1d030108c461",
            "value": " 268M/268M [00:03&lt;00:00, 111MB/s]"
          }
        },
        "1c3e2ed4151449188df18bddbce949da": {
          "model_module": "@jupyter-widgets/base",
          "model_name": "LayoutModel",
          "model_module_version": "1.2.0",
          "state": {
            "_model_module": "@jupyter-widgets/base",
            "_model_module_version": "1.2.0",
            "_model_name": "LayoutModel",
            "_view_count": null,
            "_view_module": "@jupyter-widgets/base",
            "_view_module_version": "1.2.0",
            "_view_name": "LayoutView",
            "align_content": null,
            "align_items": null,
            "align_self": null,
            "border": null,
            "bottom": null,
            "display": null,
            "flex": null,
            "flex_flow": null,
            "grid_area": null,
            "grid_auto_columns": null,
            "grid_auto_flow": null,
            "grid_auto_rows": null,
            "grid_column": null,
            "grid_gap": null,
            "grid_row": null,
            "grid_template_areas": null,
            "grid_template_columns": null,
            "grid_template_rows": null,
            "height": null,
            "justify_content": null,
            "justify_items": null,
            "left": null,
            "margin": null,
            "max_height": null,
            "max_width": null,
            "min_height": null,
            "min_width": null,
            "object_fit": null,
            "object_position": null,
            "order": null,
            "overflow": null,
            "overflow_x": null,
            "overflow_y": null,
            "padding": null,
            "right": null,
            "top": null,
            "visibility": null,
            "width": null
          }
        },
        "462101a6d962415bb1737054f1ae6e91": {
          "model_module": "@jupyter-widgets/base",
          "model_name": "LayoutModel",
          "model_module_version": "1.2.0",
          "state": {
            "_model_module": "@jupyter-widgets/base",
            "_model_module_version": "1.2.0",
            "_model_name": "LayoutModel",
            "_view_count": null,
            "_view_module": "@jupyter-widgets/base",
            "_view_module_version": "1.2.0",
            "_view_name": "LayoutView",
            "align_content": null,
            "align_items": null,
            "align_self": null,
            "border": null,
            "bottom": null,
            "display": null,
            "flex": null,
            "flex_flow": null,
            "grid_area": null,
            "grid_auto_columns": null,
            "grid_auto_flow": null,
            "grid_auto_rows": null,
            "grid_column": null,
            "grid_gap": null,
            "grid_row": null,
            "grid_template_areas": null,
            "grid_template_columns": null,
            "grid_template_rows": null,
            "height": null,
            "justify_content": null,
            "justify_items": null,
            "left": null,
            "margin": null,
            "max_height": null,
            "max_width": null,
            "min_height": null,
            "min_width": null,
            "object_fit": null,
            "object_position": null,
            "order": null,
            "overflow": null,
            "overflow_x": null,
            "overflow_y": null,
            "padding": null,
            "right": null,
            "top": null,
            "visibility": null,
            "width": null
          }
        },
        "aa60e136fb094f2ab5fe7d9861f8b52a": {
          "model_module": "@jupyter-widgets/controls",
          "model_name": "DescriptionStyleModel",
          "model_module_version": "1.5.0",
          "state": {
            "_model_module": "@jupyter-widgets/controls",
            "_model_module_version": "1.5.0",
            "_model_name": "DescriptionStyleModel",
            "_view_count": null,
            "_view_module": "@jupyter-widgets/base",
            "_view_module_version": "1.2.0",
            "_view_name": "StyleView",
            "description_width": ""
          }
        },
        "819d0d65ae5e47ab9213b422af25f46e": {
          "model_module": "@jupyter-widgets/base",
          "model_name": "LayoutModel",
          "model_module_version": "1.2.0",
          "state": {
            "_model_module": "@jupyter-widgets/base",
            "_model_module_version": "1.2.0",
            "_model_name": "LayoutModel",
            "_view_count": null,
            "_view_module": "@jupyter-widgets/base",
            "_view_module_version": "1.2.0",
            "_view_name": "LayoutView",
            "align_content": null,
            "align_items": null,
            "align_self": null,
            "border": null,
            "bottom": null,
            "display": null,
            "flex": null,
            "flex_flow": null,
            "grid_area": null,
            "grid_auto_columns": null,
            "grid_auto_flow": null,
            "grid_auto_rows": null,
            "grid_column": null,
            "grid_gap": null,
            "grid_row": null,
            "grid_template_areas": null,
            "grid_template_columns": null,
            "grid_template_rows": null,
            "height": null,
            "justify_content": null,
            "justify_items": null,
            "left": null,
            "margin": null,
            "max_height": null,
            "max_width": null,
            "min_height": null,
            "min_width": null,
            "object_fit": null,
            "object_position": null,
            "order": null,
            "overflow": null,
            "overflow_x": null,
            "overflow_y": null,
            "padding": null,
            "right": null,
            "top": null,
            "visibility": null,
            "width": null
          }
        },
        "084641b998954f2e80ab7a15039aa105": {
          "model_module": "@jupyter-widgets/controls",
          "model_name": "ProgressStyleModel",
          "model_module_version": "1.5.0",
          "state": {
            "_model_module": "@jupyter-widgets/controls",
            "_model_module_version": "1.5.0",
            "_model_name": "ProgressStyleModel",
            "_view_count": null,
            "_view_module": "@jupyter-widgets/base",
            "_view_module_version": "1.2.0",
            "_view_name": "StyleView",
            "bar_color": null,
            "description_width": ""
          }
        },
        "3a895a6a9b6a473ba96312be78b6bc61": {
          "model_module": "@jupyter-widgets/base",
          "model_name": "LayoutModel",
          "model_module_version": "1.2.0",
          "state": {
            "_model_module": "@jupyter-widgets/base",
            "_model_module_version": "1.2.0",
            "_model_name": "LayoutModel",
            "_view_count": null,
            "_view_module": "@jupyter-widgets/base",
            "_view_module_version": "1.2.0",
            "_view_name": "LayoutView",
            "align_content": null,
            "align_items": null,
            "align_self": null,
            "border": null,
            "bottom": null,
            "display": null,
            "flex": null,
            "flex_flow": null,
            "grid_area": null,
            "grid_auto_columns": null,
            "grid_auto_flow": null,
            "grid_auto_rows": null,
            "grid_column": null,
            "grid_gap": null,
            "grid_row": null,
            "grid_template_areas": null,
            "grid_template_columns": null,
            "grid_template_rows": null,
            "height": null,
            "justify_content": null,
            "justify_items": null,
            "left": null,
            "margin": null,
            "max_height": null,
            "max_width": null,
            "min_height": null,
            "min_width": null,
            "object_fit": null,
            "object_position": null,
            "order": null,
            "overflow": null,
            "overflow_x": null,
            "overflow_y": null,
            "padding": null,
            "right": null,
            "top": null,
            "visibility": null,
            "width": null
          }
        },
        "dfbe2eafa640413386aa1d030108c461": {
          "model_module": "@jupyter-widgets/controls",
          "model_name": "DescriptionStyleModel",
          "model_module_version": "1.5.0",
          "state": {
            "_model_module": "@jupyter-widgets/controls",
            "_model_module_version": "1.5.0",
            "_model_name": "DescriptionStyleModel",
            "_view_count": null,
            "_view_module": "@jupyter-widgets/base",
            "_view_module_version": "1.2.0",
            "_view_name": "StyleView",
            "description_width": ""
          }
        },
        "8929544d3019461db623707233c55d7c": {
          "model_module": "@jupyter-widgets/controls",
          "model_name": "HBoxModel",
          "model_module_version": "1.5.0",
          "state": {
            "_dom_classes": [],
            "_model_module": "@jupyter-widgets/controls",
            "_model_module_version": "1.5.0",
            "_model_name": "HBoxModel",
            "_view_count": null,
            "_view_module": "@jupyter-widgets/controls",
            "_view_module_version": "1.5.0",
            "_view_name": "HBoxView",
            "box_style": "",
            "children": [
              "IPY_MODEL_12dd2ce7c4ff42fa80ba0d8b5dfedf76",
              "IPY_MODEL_73513d64ac9c4681b9a958fc1a5c7e4b",
              "IPY_MODEL_c3db7adc5dfa495582561f6a93d1beb3"
            ],
            "layout": "IPY_MODEL_bec857e980634b4e90480b7e13598a55"
          }
        },
        "12dd2ce7c4ff42fa80ba0d8b5dfedf76": {
          "model_module": "@jupyter-widgets/controls",
          "model_name": "HTMLModel",
          "model_module_version": "1.5.0",
          "state": {
            "_dom_classes": [],
            "_model_module": "@jupyter-widgets/controls",
            "_model_module_version": "1.5.0",
            "_model_name": "HTMLModel",
            "_view_count": null,
            "_view_module": "@jupyter-widgets/controls",
            "_view_module_version": "1.5.0",
            "_view_name": "HTMLView",
            "description": "",
            "description_tooltip": null,
            "layout": "IPY_MODEL_78a6a501064843ddac4a06844c3c083c",
            "placeholder": "​",
            "style": "IPY_MODEL_4e683e90a4fe474e88aa25492058e1fe",
            "value": "tokenizer_config.json: 100%"
          }
        },
        "73513d64ac9c4681b9a958fc1a5c7e4b": {
          "model_module": "@jupyter-widgets/controls",
          "model_name": "FloatProgressModel",
          "model_module_version": "1.5.0",
          "state": {
            "_dom_classes": [],
            "_model_module": "@jupyter-widgets/controls",
            "_model_module_version": "1.5.0",
            "_model_name": "FloatProgressModel",
            "_view_count": null,
            "_view_module": "@jupyter-widgets/controls",
            "_view_module_version": "1.5.0",
            "_view_name": "ProgressView",
            "bar_style": "success",
            "description": "",
            "description_tooltip": null,
            "layout": "IPY_MODEL_472cde99eee44cf68c679d4985a6e7e0",
            "max": 258,
            "min": 0,
            "orientation": "horizontal",
            "style": "IPY_MODEL_05f5e1d13c90417ba684c27878c30e53",
            "value": 258
          }
        },
        "c3db7adc5dfa495582561f6a93d1beb3": {
          "model_module": "@jupyter-widgets/controls",
          "model_name": "HTMLModel",
          "model_module_version": "1.5.0",
          "state": {
            "_dom_classes": [],
            "_model_module": "@jupyter-widgets/controls",
            "_model_module_version": "1.5.0",
            "_model_name": "HTMLModel",
            "_view_count": null,
            "_view_module": "@jupyter-widgets/controls",
            "_view_module_version": "1.5.0",
            "_view_name": "HTMLView",
            "description": "",
            "description_tooltip": null,
            "layout": "IPY_MODEL_9f38df0bc9ca4c0f989cdeb25afb8240",
            "placeholder": "​",
            "style": "IPY_MODEL_96fac4d337f546489c555bc409993b76",
            "value": " 258/258 [00:00&lt;00:00, 7.19kB/s]"
          }
        },
        "bec857e980634b4e90480b7e13598a55": {
          "model_module": "@jupyter-widgets/base",
          "model_name": "LayoutModel",
          "model_module_version": "1.2.0",
          "state": {
            "_model_module": "@jupyter-widgets/base",
            "_model_module_version": "1.2.0",
            "_model_name": "LayoutModel",
            "_view_count": null,
            "_view_module": "@jupyter-widgets/base",
            "_view_module_version": "1.2.0",
            "_view_name": "LayoutView",
            "align_content": null,
            "align_items": null,
            "align_self": null,
            "border": null,
            "bottom": null,
            "display": null,
            "flex": null,
            "flex_flow": null,
            "grid_area": null,
            "grid_auto_columns": null,
            "grid_auto_flow": null,
            "grid_auto_rows": null,
            "grid_column": null,
            "grid_gap": null,
            "grid_row": null,
            "grid_template_areas": null,
            "grid_template_columns": null,
            "grid_template_rows": null,
            "height": null,
            "justify_content": null,
            "justify_items": null,
            "left": null,
            "margin": null,
            "max_height": null,
            "max_width": null,
            "min_height": null,
            "min_width": null,
            "object_fit": null,
            "object_position": null,
            "order": null,
            "overflow": null,
            "overflow_x": null,
            "overflow_y": null,
            "padding": null,
            "right": null,
            "top": null,
            "visibility": null,
            "width": null
          }
        },
        "78a6a501064843ddac4a06844c3c083c": {
          "model_module": "@jupyter-widgets/base",
          "model_name": "LayoutModel",
          "model_module_version": "1.2.0",
          "state": {
            "_model_module": "@jupyter-widgets/base",
            "_model_module_version": "1.2.0",
            "_model_name": "LayoutModel",
            "_view_count": null,
            "_view_module": "@jupyter-widgets/base",
            "_view_module_version": "1.2.0",
            "_view_name": "LayoutView",
            "align_content": null,
            "align_items": null,
            "align_self": null,
            "border": null,
            "bottom": null,
            "display": null,
            "flex": null,
            "flex_flow": null,
            "grid_area": null,
            "grid_auto_columns": null,
            "grid_auto_flow": null,
            "grid_auto_rows": null,
            "grid_column": null,
            "grid_gap": null,
            "grid_row": null,
            "grid_template_areas": null,
            "grid_template_columns": null,
            "grid_template_rows": null,
            "height": null,
            "justify_content": null,
            "justify_items": null,
            "left": null,
            "margin": null,
            "max_height": null,
            "max_width": null,
            "min_height": null,
            "min_width": null,
            "object_fit": null,
            "object_position": null,
            "order": null,
            "overflow": null,
            "overflow_x": null,
            "overflow_y": null,
            "padding": null,
            "right": null,
            "top": null,
            "visibility": null,
            "width": null
          }
        },
        "4e683e90a4fe474e88aa25492058e1fe": {
          "model_module": "@jupyter-widgets/controls",
          "model_name": "DescriptionStyleModel",
          "model_module_version": "1.5.0",
          "state": {
            "_model_module": "@jupyter-widgets/controls",
            "_model_module_version": "1.5.0",
            "_model_name": "DescriptionStyleModel",
            "_view_count": null,
            "_view_module": "@jupyter-widgets/base",
            "_view_module_version": "1.2.0",
            "_view_name": "StyleView",
            "description_width": ""
          }
        },
        "472cde99eee44cf68c679d4985a6e7e0": {
          "model_module": "@jupyter-widgets/base",
          "model_name": "LayoutModel",
          "model_module_version": "1.2.0",
          "state": {
            "_model_module": "@jupyter-widgets/base",
            "_model_module_version": "1.2.0",
            "_model_name": "LayoutModel",
            "_view_count": null,
            "_view_module": "@jupyter-widgets/base",
            "_view_module_version": "1.2.0",
            "_view_name": "LayoutView",
            "align_content": null,
            "align_items": null,
            "align_self": null,
            "border": null,
            "bottom": null,
            "display": null,
            "flex": null,
            "flex_flow": null,
            "grid_area": null,
            "grid_auto_columns": null,
            "grid_auto_flow": null,
            "grid_auto_rows": null,
            "grid_column": null,
            "grid_gap": null,
            "grid_row": null,
            "grid_template_areas": null,
            "grid_template_columns": null,
            "grid_template_rows": null,
            "height": null,
            "justify_content": null,
            "justify_items": null,
            "left": null,
            "margin": null,
            "max_height": null,
            "max_width": null,
            "min_height": null,
            "min_width": null,
            "object_fit": null,
            "object_position": null,
            "order": null,
            "overflow": null,
            "overflow_x": null,
            "overflow_y": null,
            "padding": null,
            "right": null,
            "top": null,
            "visibility": null,
            "width": null
          }
        },
        "05f5e1d13c90417ba684c27878c30e53": {
          "model_module": "@jupyter-widgets/controls",
          "model_name": "ProgressStyleModel",
          "model_module_version": "1.5.0",
          "state": {
            "_model_module": "@jupyter-widgets/controls",
            "_model_module_version": "1.5.0",
            "_model_name": "ProgressStyleModel",
            "_view_count": null,
            "_view_module": "@jupyter-widgets/base",
            "_view_module_version": "1.2.0",
            "_view_name": "StyleView",
            "bar_color": null,
            "description_width": ""
          }
        },
        "9f38df0bc9ca4c0f989cdeb25afb8240": {
          "model_module": "@jupyter-widgets/base",
          "model_name": "LayoutModel",
          "model_module_version": "1.2.0",
          "state": {
            "_model_module": "@jupyter-widgets/base",
            "_model_module_version": "1.2.0",
            "_model_name": "LayoutModel",
            "_view_count": null,
            "_view_module": "@jupyter-widgets/base",
            "_view_module_version": "1.2.0",
            "_view_name": "LayoutView",
            "align_content": null,
            "align_items": null,
            "align_self": null,
            "border": null,
            "bottom": null,
            "display": null,
            "flex": null,
            "flex_flow": null,
            "grid_area": null,
            "grid_auto_columns": null,
            "grid_auto_flow": null,
            "grid_auto_rows": null,
            "grid_column": null,
            "grid_gap": null,
            "grid_row": null,
            "grid_template_areas": null,
            "grid_template_columns": null,
            "grid_template_rows": null,
            "height": null,
            "justify_content": null,
            "justify_items": null,
            "left": null,
            "margin": null,
            "max_height": null,
            "max_width": null,
            "min_height": null,
            "min_width": null,
            "object_fit": null,
            "object_position": null,
            "order": null,
            "overflow": null,
            "overflow_x": null,
            "overflow_y": null,
            "padding": null,
            "right": null,
            "top": null,
            "visibility": null,
            "width": null
          }
        },
        "96fac4d337f546489c555bc409993b76": {
          "model_module": "@jupyter-widgets/controls",
          "model_name": "DescriptionStyleModel",
          "model_module_version": "1.5.0",
          "state": {
            "_model_module": "@jupyter-widgets/controls",
            "_model_module_version": "1.5.0",
            "_model_name": "DescriptionStyleModel",
            "_view_count": null,
            "_view_module": "@jupyter-widgets/base",
            "_view_module_version": "1.2.0",
            "_view_name": "StyleView",
            "description_width": ""
          }
        },
        "4c34d439d90546df92d8754e26b04dec": {
          "model_module": "@jupyter-widgets/controls",
          "model_name": "HBoxModel",
          "model_module_version": "1.5.0",
          "state": {
            "_dom_classes": [],
            "_model_module": "@jupyter-widgets/controls",
            "_model_module_version": "1.5.0",
            "_model_name": "HBoxModel",
            "_view_count": null,
            "_view_module": "@jupyter-widgets/controls",
            "_view_module_version": "1.5.0",
            "_view_name": "HBoxView",
            "box_style": "",
            "children": [
              "IPY_MODEL_00a93504f4344328a13a9e344840832b",
              "IPY_MODEL_731b8e465e3348a8b65e02d70ffbff6b",
              "IPY_MODEL_522b608b5e0d48dca9e2172db06afc7e"
            ],
            "layout": "IPY_MODEL_8620f12aee784075949360b205fbbfb1"
          }
        },
        "00a93504f4344328a13a9e344840832b": {
          "model_module": "@jupyter-widgets/controls",
          "model_name": "HTMLModel",
          "model_module_version": "1.5.0",
          "state": {
            "_dom_classes": [],
            "_model_module": "@jupyter-widgets/controls",
            "_model_module_version": "1.5.0",
            "_model_name": "HTMLModel",
            "_view_count": null,
            "_view_module": "@jupyter-widgets/controls",
            "_view_module_version": "1.5.0",
            "_view_name": "HTMLView",
            "description": "",
            "description_tooltip": null,
            "layout": "IPY_MODEL_4e8a3265a19c4d57b1dcfa1ce23b5d69",
            "placeholder": "​",
            "style": "IPY_MODEL_327d0c2957de4d0e890179a833bc841f",
            "value": "vocab.txt: "
          }
        },
        "731b8e465e3348a8b65e02d70ffbff6b": {
          "model_module": "@jupyter-widgets/controls",
          "model_name": "FloatProgressModel",
          "model_module_version": "1.5.0",
          "state": {
            "_dom_classes": [],
            "_model_module": "@jupyter-widgets/controls",
            "_model_module_version": "1.5.0",
            "_model_name": "FloatProgressModel",
            "_view_count": null,
            "_view_module": "@jupyter-widgets/controls",
            "_view_module_version": "1.5.0",
            "_view_name": "ProgressView",
            "bar_style": "success",
            "description": "",
            "description_tooltip": null,
            "layout": "IPY_MODEL_f27869b8d2b244b8aa61b03455c93dea",
            "max": 1,
            "min": 0,
            "orientation": "horizontal",
            "style": "IPY_MODEL_e7b0f8472f8e4ad9a9123224e0f9930a",
            "value": 1
          }
        },
        "522b608b5e0d48dca9e2172db06afc7e": {
          "model_module": "@jupyter-widgets/controls",
          "model_name": "HTMLModel",
          "model_module_version": "1.5.0",
          "state": {
            "_dom_classes": [],
            "_model_module": "@jupyter-widgets/controls",
            "_model_module_version": "1.5.0",
            "_model_name": "HTMLModel",
            "_view_count": null,
            "_view_module": "@jupyter-widgets/controls",
            "_view_module_version": "1.5.0",
            "_view_name": "HTMLView",
            "description": "",
            "description_tooltip": null,
            "layout": "IPY_MODEL_99059a1f4ccf4e479b7a02bbce16983c",
            "placeholder": "​",
            "style": "IPY_MODEL_c40fd8d072b540d7aa859a9ce6cedfd0",
            "value": " 232k/? [00:00&lt;00:00, 3.43MB/s]"
          }
        },
        "8620f12aee784075949360b205fbbfb1": {
          "model_module": "@jupyter-widgets/base",
          "model_name": "LayoutModel",
          "model_module_version": "1.2.0",
          "state": {
            "_model_module": "@jupyter-widgets/base",
            "_model_module_version": "1.2.0",
            "_model_name": "LayoutModel",
            "_view_count": null,
            "_view_module": "@jupyter-widgets/base",
            "_view_module_version": "1.2.0",
            "_view_name": "LayoutView",
            "align_content": null,
            "align_items": null,
            "align_self": null,
            "border": null,
            "bottom": null,
            "display": null,
            "flex": null,
            "flex_flow": null,
            "grid_area": null,
            "grid_auto_columns": null,
            "grid_auto_flow": null,
            "grid_auto_rows": null,
            "grid_column": null,
            "grid_gap": null,
            "grid_row": null,
            "grid_template_areas": null,
            "grid_template_columns": null,
            "grid_template_rows": null,
            "height": null,
            "justify_content": null,
            "justify_items": null,
            "left": null,
            "margin": null,
            "max_height": null,
            "max_width": null,
            "min_height": null,
            "min_width": null,
            "object_fit": null,
            "object_position": null,
            "order": null,
            "overflow": null,
            "overflow_x": null,
            "overflow_y": null,
            "padding": null,
            "right": null,
            "top": null,
            "visibility": null,
            "width": null
          }
        },
        "4e8a3265a19c4d57b1dcfa1ce23b5d69": {
          "model_module": "@jupyter-widgets/base",
          "model_name": "LayoutModel",
          "model_module_version": "1.2.0",
          "state": {
            "_model_module": "@jupyter-widgets/base",
            "_model_module_version": "1.2.0",
            "_model_name": "LayoutModel",
            "_view_count": null,
            "_view_module": "@jupyter-widgets/base",
            "_view_module_version": "1.2.0",
            "_view_name": "LayoutView",
            "align_content": null,
            "align_items": null,
            "align_self": null,
            "border": null,
            "bottom": null,
            "display": null,
            "flex": null,
            "flex_flow": null,
            "grid_area": null,
            "grid_auto_columns": null,
            "grid_auto_flow": null,
            "grid_auto_rows": null,
            "grid_column": null,
            "grid_gap": null,
            "grid_row": null,
            "grid_template_areas": null,
            "grid_template_columns": null,
            "grid_template_rows": null,
            "height": null,
            "justify_content": null,
            "justify_items": null,
            "left": null,
            "margin": null,
            "max_height": null,
            "max_width": null,
            "min_height": null,
            "min_width": null,
            "object_fit": null,
            "object_position": null,
            "order": null,
            "overflow": null,
            "overflow_x": null,
            "overflow_y": null,
            "padding": null,
            "right": null,
            "top": null,
            "visibility": null,
            "width": null
          }
        },
        "327d0c2957de4d0e890179a833bc841f": {
          "model_module": "@jupyter-widgets/controls",
          "model_name": "DescriptionStyleModel",
          "model_module_version": "1.5.0",
          "state": {
            "_model_module": "@jupyter-widgets/controls",
            "_model_module_version": "1.5.0",
            "_model_name": "DescriptionStyleModel",
            "_view_count": null,
            "_view_module": "@jupyter-widgets/base",
            "_view_module_version": "1.2.0",
            "_view_name": "StyleView",
            "description_width": ""
          }
        },
        "f27869b8d2b244b8aa61b03455c93dea": {
          "model_module": "@jupyter-widgets/base",
          "model_name": "LayoutModel",
          "model_module_version": "1.2.0",
          "state": {
            "_model_module": "@jupyter-widgets/base",
            "_model_module_version": "1.2.0",
            "_model_name": "LayoutModel",
            "_view_count": null,
            "_view_module": "@jupyter-widgets/base",
            "_view_module_version": "1.2.0",
            "_view_name": "LayoutView",
            "align_content": null,
            "align_items": null,
            "align_self": null,
            "border": null,
            "bottom": null,
            "display": null,
            "flex": null,
            "flex_flow": null,
            "grid_area": null,
            "grid_auto_columns": null,
            "grid_auto_flow": null,
            "grid_auto_rows": null,
            "grid_column": null,
            "grid_gap": null,
            "grid_row": null,
            "grid_template_areas": null,
            "grid_template_columns": null,
            "grid_template_rows": null,
            "height": null,
            "justify_content": null,
            "justify_items": null,
            "left": null,
            "margin": null,
            "max_height": null,
            "max_width": null,
            "min_height": null,
            "min_width": null,
            "object_fit": null,
            "object_position": null,
            "order": null,
            "overflow": null,
            "overflow_x": null,
            "overflow_y": null,
            "padding": null,
            "right": null,
            "top": null,
            "visibility": null,
            "width": "20px"
          }
        },
        "e7b0f8472f8e4ad9a9123224e0f9930a": {
          "model_module": "@jupyter-widgets/controls",
          "model_name": "ProgressStyleModel",
          "model_module_version": "1.5.0",
          "state": {
            "_model_module": "@jupyter-widgets/controls",
            "_model_module_version": "1.5.0",
            "_model_name": "ProgressStyleModel",
            "_view_count": null,
            "_view_module": "@jupyter-widgets/base",
            "_view_module_version": "1.2.0",
            "_view_name": "StyleView",
            "bar_color": null,
            "description_width": ""
          }
        },
        "99059a1f4ccf4e479b7a02bbce16983c": {
          "model_module": "@jupyter-widgets/base",
          "model_name": "LayoutModel",
          "model_module_version": "1.2.0",
          "state": {
            "_model_module": "@jupyter-widgets/base",
            "_model_module_version": "1.2.0",
            "_model_name": "LayoutModel",
            "_view_count": null,
            "_view_module": "@jupyter-widgets/base",
            "_view_module_version": "1.2.0",
            "_view_name": "LayoutView",
            "align_content": null,
            "align_items": null,
            "align_self": null,
            "border": null,
            "bottom": null,
            "display": null,
            "flex": null,
            "flex_flow": null,
            "grid_area": null,
            "grid_auto_columns": null,
            "grid_auto_flow": null,
            "grid_auto_rows": null,
            "grid_column": null,
            "grid_gap": null,
            "grid_row": null,
            "grid_template_areas": null,
            "grid_template_columns": null,
            "grid_template_rows": null,
            "height": null,
            "justify_content": null,
            "justify_items": null,
            "left": null,
            "margin": null,
            "max_height": null,
            "max_width": null,
            "min_height": null,
            "min_width": null,
            "object_fit": null,
            "object_position": null,
            "order": null,
            "overflow": null,
            "overflow_x": null,
            "overflow_y": null,
            "padding": null,
            "right": null,
            "top": null,
            "visibility": null,
            "width": null
          }
        },
        "c40fd8d072b540d7aa859a9ce6cedfd0": {
          "model_module": "@jupyter-widgets/controls",
          "model_name": "DescriptionStyleModel",
          "model_module_version": "1.5.0",
          "state": {
            "_model_module": "@jupyter-widgets/controls",
            "_model_module_version": "1.5.0",
            "_model_name": "DescriptionStyleModel",
            "_view_count": null,
            "_view_module": "@jupyter-widgets/base",
            "_view_module_version": "1.2.0",
            "_view_name": "StyleView",
            "description_width": ""
          }
        },
        "3362e92475394bb7b2301afa671b6db4": {
          "model_module": "@jupyter-widgets/controls",
          "model_name": "HBoxModel",
          "model_module_version": "1.5.0",
          "state": {
            "_dom_classes": [],
            "_model_module": "@jupyter-widgets/controls",
            "_model_module_version": "1.5.0",
            "_model_name": "HBoxModel",
            "_view_count": null,
            "_view_module": "@jupyter-widgets/controls",
            "_view_module_version": "1.5.0",
            "_view_name": "HBoxView",
            "box_style": "",
            "children": [
              "IPY_MODEL_b2884c9194204f2c90260739e55512f5",
              "IPY_MODEL_f291ab255c95491cb9da696b0259e838",
              "IPY_MODEL_9299c819d94e47d484502ad3de658033"
            ],
            "layout": "IPY_MODEL_bf07530e81634889aa9f49c0352af9b1"
          }
        },
        "b2884c9194204f2c90260739e55512f5": {
          "model_module": "@jupyter-widgets/controls",
          "model_name": "HTMLModel",
          "model_module_version": "1.5.0",
          "state": {
            "_dom_classes": [],
            "_model_module": "@jupyter-widgets/controls",
            "_model_module_version": "1.5.0",
            "_model_name": "HTMLModel",
            "_view_count": null,
            "_view_module": "@jupyter-widgets/controls",
            "_view_module_version": "1.5.0",
            "_view_name": "HTMLView",
            "description": "",
            "description_tooltip": null,
            "layout": "IPY_MODEL_2207de2bd27c4d8aba6839c41bd5c490",
            "placeholder": "​",
            "style": "IPY_MODEL_2d3e5bfa430d4e65ad00ce12def145cc",
            "value": "special_tokens_map.json: 100%"
          }
        },
        "f291ab255c95491cb9da696b0259e838": {
          "model_module": "@jupyter-widgets/controls",
          "model_name": "FloatProgressModel",
          "model_module_version": "1.5.0",
          "state": {
            "_dom_classes": [],
            "_model_module": "@jupyter-widgets/controls",
            "_model_module_version": "1.5.0",
            "_model_name": "FloatProgressModel",
            "_view_count": null,
            "_view_module": "@jupyter-widgets/controls",
            "_view_module_version": "1.5.0",
            "_view_name": "ProgressView",
            "bar_style": "success",
            "description": "",
            "description_tooltip": null,
            "layout": "IPY_MODEL_fe5c231b6c4b4717a3ba341446d54c92",
            "max": 112,
            "min": 0,
            "orientation": "horizontal",
            "style": "IPY_MODEL_d8de3cf2cd2e44a9bf8e860ec7ee6d52",
            "value": 112
          }
        },
        "9299c819d94e47d484502ad3de658033": {
          "model_module": "@jupyter-widgets/controls",
          "model_name": "HTMLModel",
          "model_module_version": "1.5.0",
          "state": {
            "_dom_classes": [],
            "_model_module": "@jupyter-widgets/controls",
            "_model_module_version": "1.5.0",
            "_model_name": "HTMLModel",
            "_view_count": null,
            "_view_module": "@jupyter-widgets/controls",
            "_view_module_version": "1.5.0",
            "_view_name": "HTMLView",
            "description": "",
            "description_tooltip": null,
            "layout": "IPY_MODEL_8f2807992c3b485ca01cbe5f52a2b1ee",
            "placeholder": "​",
            "style": "IPY_MODEL_4031eb1209854c11b0018fb5f80a8e04",
            "value": " 112/112 [00:00&lt;00:00, 3.36kB/s]"
          }
        },
        "bf07530e81634889aa9f49c0352af9b1": {
          "model_module": "@jupyter-widgets/base",
          "model_name": "LayoutModel",
          "model_module_version": "1.2.0",
          "state": {
            "_model_module": "@jupyter-widgets/base",
            "_model_module_version": "1.2.0",
            "_model_name": "LayoutModel",
            "_view_count": null,
            "_view_module": "@jupyter-widgets/base",
            "_view_module_version": "1.2.0",
            "_view_name": "LayoutView",
            "align_content": null,
            "align_items": null,
            "align_self": null,
            "border": null,
            "bottom": null,
            "display": null,
            "flex": null,
            "flex_flow": null,
            "grid_area": null,
            "grid_auto_columns": null,
            "grid_auto_flow": null,
            "grid_auto_rows": null,
            "grid_column": null,
            "grid_gap": null,
            "grid_row": null,
            "grid_template_areas": null,
            "grid_template_columns": null,
            "grid_template_rows": null,
            "height": null,
            "justify_content": null,
            "justify_items": null,
            "left": null,
            "margin": null,
            "max_height": null,
            "max_width": null,
            "min_height": null,
            "min_width": null,
            "object_fit": null,
            "object_position": null,
            "order": null,
            "overflow": null,
            "overflow_x": null,
            "overflow_y": null,
            "padding": null,
            "right": null,
            "top": null,
            "visibility": null,
            "width": null
          }
        },
        "2207de2bd27c4d8aba6839c41bd5c490": {
          "model_module": "@jupyter-widgets/base",
          "model_name": "LayoutModel",
          "model_module_version": "1.2.0",
          "state": {
            "_model_module": "@jupyter-widgets/base",
            "_model_module_version": "1.2.0",
            "_model_name": "LayoutModel",
            "_view_count": null,
            "_view_module": "@jupyter-widgets/base",
            "_view_module_version": "1.2.0",
            "_view_name": "LayoutView",
            "align_content": null,
            "align_items": null,
            "align_self": null,
            "border": null,
            "bottom": null,
            "display": null,
            "flex": null,
            "flex_flow": null,
            "grid_area": null,
            "grid_auto_columns": null,
            "grid_auto_flow": null,
            "grid_auto_rows": null,
            "grid_column": null,
            "grid_gap": null,
            "grid_row": null,
            "grid_template_areas": null,
            "grid_template_columns": null,
            "grid_template_rows": null,
            "height": null,
            "justify_content": null,
            "justify_items": null,
            "left": null,
            "margin": null,
            "max_height": null,
            "max_width": null,
            "min_height": null,
            "min_width": null,
            "object_fit": null,
            "object_position": null,
            "order": null,
            "overflow": null,
            "overflow_x": null,
            "overflow_y": null,
            "padding": null,
            "right": null,
            "top": null,
            "visibility": null,
            "width": null
          }
        },
        "2d3e5bfa430d4e65ad00ce12def145cc": {
          "model_module": "@jupyter-widgets/controls",
          "model_name": "DescriptionStyleModel",
          "model_module_version": "1.5.0",
          "state": {
            "_model_module": "@jupyter-widgets/controls",
            "_model_module_version": "1.5.0",
            "_model_name": "DescriptionStyleModel",
            "_view_count": null,
            "_view_module": "@jupyter-widgets/base",
            "_view_module_version": "1.2.0",
            "_view_name": "StyleView",
            "description_width": ""
          }
        },
        "fe5c231b6c4b4717a3ba341446d54c92": {
          "model_module": "@jupyter-widgets/base",
          "model_name": "LayoutModel",
          "model_module_version": "1.2.0",
          "state": {
            "_model_module": "@jupyter-widgets/base",
            "_model_module_version": "1.2.0",
            "_model_name": "LayoutModel",
            "_view_count": null,
            "_view_module": "@jupyter-widgets/base",
            "_view_module_version": "1.2.0",
            "_view_name": "LayoutView",
            "align_content": null,
            "align_items": null,
            "align_self": null,
            "border": null,
            "bottom": null,
            "display": null,
            "flex": null,
            "flex_flow": null,
            "grid_area": null,
            "grid_auto_columns": null,
            "grid_auto_flow": null,
            "grid_auto_rows": null,
            "grid_column": null,
            "grid_gap": null,
            "grid_row": null,
            "grid_template_areas": null,
            "grid_template_columns": null,
            "grid_template_rows": null,
            "height": null,
            "justify_content": null,
            "justify_items": null,
            "left": null,
            "margin": null,
            "max_height": null,
            "max_width": null,
            "min_height": null,
            "min_width": null,
            "object_fit": null,
            "object_position": null,
            "order": null,
            "overflow": null,
            "overflow_x": null,
            "overflow_y": null,
            "padding": null,
            "right": null,
            "top": null,
            "visibility": null,
            "width": null
          }
        },
        "d8de3cf2cd2e44a9bf8e860ec7ee6d52": {
          "model_module": "@jupyter-widgets/controls",
          "model_name": "ProgressStyleModel",
          "model_module_version": "1.5.0",
          "state": {
            "_model_module": "@jupyter-widgets/controls",
            "_model_module_version": "1.5.0",
            "_model_name": "ProgressStyleModel",
            "_view_count": null,
            "_view_module": "@jupyter-widgets/base",
            "_view_module_version": "1.2.0",
            "_view_name": "StyleView",
            "bar_color": null,
            "description_width": ""
          }
        },
        "8f2807992c3b485ca01cbe5f52a2b1ee": {
          "model_module": "@jupyter-widgets/base",
          "model_name": "LayoutModel",
          "model_module_version": "1.2.0",
          "state": {
            "_model_module": "@jupyter-widgets/base",
            "_model_module_version": "1.2.0",
            "_model_name": "LayoutModel",
            "_view_count": null,
            "_view_module": "@jupyter-widgets/base",
            "_view_module_version": "1.2.0",
            "_view_name": "LayoutView",
            "align_content": null,
            "align_items": null,
            "align_self": null,
            "border": null,
            "bottom": null,
            "display": null,
            "flex": null,
            "flex_flow": null,
            "grid_area": null,
            "grid_auto_columns": null,
            "grid_auto_flow": null,
            "grid_auto_rows": null,
            "grid_column": null,
            "grid_gap": null,
            "grid_row": null,
            "grid_template_areas": null,
            "grid_template_columns": null,
            "grid_template_rows": null,
            "height": null,
            "justify_content": null,
            "justify_items": null,
            "left": null,
            "margin": null,
            "max_height": null,
            "max_width": null,
            "min_height": null,
            "min_width": null,
            "object_fit": null,
            "object_position": null,
            "order": null,
            "overflow": null,
            "overflow_x": null,
            "overflow_y": null,
            "padding": null,
            "right": null,
            "top": null,
            "visibility": null,
            "width": null
          }
        },
        "4031eb1209854c11b0018fb5f80a8e04": {
          "model_module": "@jupyter-widgets/controls",
          "model_name": "DescriptionStyleModel",
          "model_module_version": "1.5.0",
          "state": {
            "_model_module": "@jupyter-widgets/controls",
            "_model_module_version": "1.5.0",
            "_model_name": "DescriptionStyleModel",
            "_view_count": null,
            "_view_module": "@jupyter-widgets/base",
            "_view_module_version": "1.2.0",
            "_view_name": "StyleView",
            "description_width": ""
          }
        }
      }
    }
  },
  "nbformat": 4,
  "nbformat_minor": 5
}