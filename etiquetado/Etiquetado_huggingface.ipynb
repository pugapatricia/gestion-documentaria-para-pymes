{
  "cells": [
    {
      "cell_type": "markdown",
      "id": "f3a71b3b",
      "metadata": {
        "id": "f3a71b3b"
      },
      "source": [
        "[![Abrir en Colab](https://colab.research.google.com/assets/colab-badge.svg)](https://colab.research.google.com/github/pugapatricia/gestion-documentaria-para-pymes/blob/main/etiquetado/Etiquetado_openai.ipynb)"
      ]
    },
    {
      "cell_type": "markdown",
      "id": "e5bcb24e",
      "metadata": {
        "id": "e5bcb24e"
      },
      "source": [
        "[![Ver en GitHub](https://img.shields.io/badge/GitHub-Repo-black?logo=github)](https://github.com/pugapatricia/gestion-documentaria-para-pymes/tree/main/etiquetado)"
      ]
    },
    {
      "cell_type": "markdown",
      "source": [
        "#Importaciones"
      ],
      "metadata": {
        "id": "H1Hm8SLMn6sz"
      },
      "id": "H1Hm8SLMn6sz"
    },
    {
      "cell_type": "code",
      "execution_count": 1,
      "id": "3SC0UKYxGlvk",
      "metadata": {
        "id": "3SC0UKYxGlvk",
        "outputId": "d097eaa8-a8d2-4714-d3a6-16c91009ab1d",
        "colab": {
          "base_uri": "https://localhost:8080/"
        }
      },
      "outputs": [
        {
          "output_type": "stream",
          "name": "stdout",
          "text": [
            "\u001b[?25l   \u001b[90m━━━━━━━━━━━━━━━━━━━━━━━━━━━━━━━━━━━━━━━━\u001b[0m \u001b[32m0.0/232.6 kB\u001b[0m \u001b[31m?\u001b[0m eta \u001b[36m-:--:--\u001b[0m\r\u001b[2K   \u001b[90m━━━━━━━━━━━━━━━━━━━━━━━━━━━━━━━━━━━━━━━━\u001b[0m \u001b[32m232.6/232.6 kB\u001b[0m \u001b[31m8.2 MB/s\u001b[0m eta \u001b[36m0:00:00\u001b[0m\n",
            "\u001b[?25h\u001b[?25l   \u001b[90m━━━━━━━━━━━━━━━━━━━━━━━━━━━━━━━━━━━━━━━━\u001b[0m \u001b[32m0.0/253.0 kB\u001b[0m \u001b[31m?\u001b[0m eta \u001b[36m-:--:--\u001b[0m\r\u001b[2K   \u001b[90m━━━━━━━━━━━━━━━━━━━━━━━━━━━━━━━━━━━━━━━━\u001b[0m \u001b[32m253.0/253.0 kB\u001b[0m \u001b[31m22.2 MB/s\u001b[0m eta \u001b[36m0:00:00\u001b[0m\n",
            "\u001b[2K   \u001b[90m━━━━━━━━━━━━━━━━━━━━━━━━━━━━━━━━━━━━━━━━\u001b[0m \u001b[32m472.8/472.8 kB\u001b[0m \u001b[31m30.3 MB/s\u001b[0m eta \u001b[36m0:00:00\u001b[0m\n",
            "\u001b[2K   \u001b[90m━━━━━━━━━━━━━━━━━━━━━━━━━━━━━━━━━━━━━━━━\u001b[0m \u001b[32m1.3/1.3 MB\u001b[0m \u001b[31m54.2 MB/s\u001b[0m eta \u001b[36m0:00:00\u001b[0m\n",
            "\u001b[2K   \u001b[90m━━━━━━━━━━━━━━━━━━━━━━━━━━━━━━━━━━━━━━━━\u001b[0m \u001b[32m117.0/117.0 kB\u001b[0m \u001b[31m4.8 MB/s\u001b[0m eta \u001b[36m0:00:00\u001b[0m\n",
            "\u001b[2K   \u001b[90m━━━━━━━━━━━━━━━━━━━━━━━━━━━━━━━━━━━━━━━━\u001b[0m \u001b[32m175.3/175.3 kB\u001b[0m \u001b[31m7.9 MB/s\u001b[0m eta \u001b[36m0:00:00\u001b[0m\n",
            "\u001b[?25h"
          ]
        }
      ],
      "source": [
        "!pip install -q PyPDF2 python-docx openpyxl python-pptx xlrd transformers office365-rest-python-client msal requests"
      ]
    },
    {
      "cell_type": "code",
      "execution_count": 2,
      "id": "mdG952zUC6cM",
      "metadata": {
        "id": "mdG952zUC6cM"
      },
      "outputs": [],
      "source": [
        "import os\n",
        "import io\n",
        "import re\n",
        "import json\n",
        "from pathlib import Path\n",
        "from PyPDF2 import PdfReader\n",
        "import docx\n",
        "import openpyxl\n",
        "from pptx import Presentation\n",
        "import xlrd\n",
        "from transformers import pipeline\n",
        "from office365.sharepoint.client_context import ClientContext\n",
        "from office365.runtime.auth.user_credential import UserCredential\n",
        "import os\n",
        "import requests\n",
        "import msal\n",
        "import csv\n",
        "import getpass\n",
        "from openai import OpenAI\n",
        "from transformers import pipeline\n",
        "import time\n",
        "import openai\n",
        "import requests\n",
        "import pandas as pd"
      ]
    },
    {
      "cell_type": "code",
      "source": [
        "api_key = getpass.getpass(\"Introduce tu OpenAI API Key: \")\n",
        "client = OpenAI(api_key=api_key)\n",
        "token = getpass.getpass(\"Introduce tu GitHub token: \")"
      ],
      "metadata": {
        "colab": {
          "base_uri": "https://localhost:8080/"
        },
        "id": "9o-5YwwnFdYe",
        "outputId": "07566afd-c5e8-464b-d62f-abaa3530cc20"
      },
      "id": "9o-5YwwnFdYe",
      "execution_count": 3,
      "outputs": [
        {
          "name": "stdout",
          "output_type": "stream",
          "text": [
            "Introduce tu OpenAI API Key: ··········\n",
            "Introduce tu GitHub token: ··········\n"
          ]
        }
      ]
    },
    {
      "cell_type": "code",
      "source": [
        "!apt-get install git -y"
      ],
      "metadata": {
        "colab": {
          "base_uri": "https://localhost:8080/"
        },
        "id": "CAx7lFFZDqOw",
        "outputId": "2117d7b1-871f-4a4d-f107-5a645e002908"
      },
      "id": "CAx7lFFZDqOw",
      "execution_count": 4,
      "outputs": [
        {
          "output_type": "stream",
          "name": "stdout",
          "text": [
            "Reading package lists... Done\n",
            "Building dependency tree... Done\n",
            "Reading state information... Done\n",
            "git is already the newest version (1:2.34.1-1ubuntu1.15).\n",
            "0 upgraded, 0 newly installed, 0 to remove and 38 not upgraded.\n"
          ]
        }
      ]
    },
    {
      "cell_type": "markdown",
      "id": "ptKdGUIiEaHz",
      "metadata": {
        "id": "ptKdGUIiEaHz"
      },
      "source": [
        "# Configuración"
      ]
    },
    {
      "cell_type": "code",
      "execution_count": 5,
      "id": "UAkFWDSoEgGa",
      "metadata": {
        "id": "UAkFWDSoEgGa",
        "outputId": "f2d1cd27-2f28-426f-f733-46f85494de3d",
        "colab": {
          "base_uri": "https://localhost:8080/",
          "height": 299,
          "referenced_widgets": [
            "8b7120c742a04c369e2c59b6389cd919",
            "e7f003a7ab444a6a8103094f3ec81e49",
            "d15ed61877194b18947ce2e860e66006",
            "65064758c6e6484396d23ca0f232214e",
            "d44d2e802d12422fbf28ff2e1494fb9c",
            "745f1cc12406477a8d0665b00b5a8b2f",
            "d34954ecf2fc48409e233e2c581980c1",
            "a46691e1f2174db19f16d4be87e5add9",
            "f7005f1c02ec49718c786df0daca5d4e",
            "90f14141569a416e8b0dc8d69768f96e",
            "7c7f191c93704c07b1948034bc8203d9",
            "48c27d2c6ea547f7ba03585112ce09a0",
            "88f2a6db8b544bdca6a82b2d92d72496",
            "662d98014c52494f8b7abbcdf597a063",
            "4fc9dfd5c085406c8fd2ce4457c169c3",
            "aaff33e5078d4aa99485de6aa991dc12",
            "91d8d147ec884ec38841bcffec113c0d",
            "02947f39ac694198b708bd2639aac045",
            "e73d512a7db342d183d33d16ccdce881",
            "787f164843af439ba0459d1b716ca432",
            "d8307190525845b1bec493a07c8900ca",
            "00f633ba66fc418b8ea91b7427290368",
            "3514b817e736493ca1659aace827ec12",
            "0032550d11ba41d4bfb099767e384dbf",
            "7f22cbf268fc4c3c95a64400802cd06d",
            "e1ae735b48b34ee38c3eb0c04e83e375",
            "40f8513cdfce4a6191a38186b0864f7f",
            "8c602b39c7f4474587a621662ff1ec2e",
            "6e45ffe41e87417fb7109960af23cb06",
            "7156064aa4c248aeb1d0a2c22c4e785f",
            "0092d41d4b664ac7b1941389014ccaad",
            "3dac9c672a4d4076a9b34974fd74ff1c",
            "7a1633b5a73b425a90573467035ce49a",
            "932f1d449a6b497bb160d35485643ab4",
            "0619f27b940b495ea3b11a094b5b9295",
            "5964b9c081ee4592b71e6100a456f144",
            "f833f33ecabb49f992814c99501eb4fd",
            "19653e2b08844880ab56f9129e732d5e",
            "66fafbcc4e4e48c1a06aa2adf6523a3a",
            "bbe36d7c6b2f4a74b31cd5c9c8cc72c9",
            "ec73a7c5cd79443d9daa93652d6e66ff",
            "93df073ce8f84bfd8480c1cc5a16f4ad",
            "37a74aab2b024614a17fec46bf61e05c",
            "0ef8d1c210f14b98aa734775c3cae652",
            "2062622bcb544235834e5c222db0242b",
            "74b0d79813e34997a72babe49e7b74ff",
            "dc15e06a029c43608377b160b9df2ed5",
            "4b9038c149cc47dbb9c19249eead01e7",
            "92e101652e6e499c8fd46bcc00c42d8c",
            "96f03431e5b74dc48a05c505d9d6df88",
            "aa4c371da7424d63bd57322f755737ee",
            "b6d11e84fbff41d99122c8d3fad77a3f",
            "ef2c3887d0d44b0da54f89d221dca903",
            "607719beb18b481d8f9ea24a96d7e62e",
            "cc0930472480448db3d02c63d3f317a3"
          ]
        }
      },
      "outputs": [
        {
          "output_type": "stream",
          "name": "stderr",
          "text": [
            "/usr/local/lib/python3.12/dist-packages/huggingface_hub/utils/_auth.py:94: UserWarning: \n",
            "The secret `HF_TOKEN` does not exist in your Colab secrets.\n",
            "To authenticate with the Hugging Face Hub, create a token in your settings tab (https://huggingface.co/settings/tokens), set it as secret in your Google Colab and restart your session.\n",
            "You will be able to reuse this secret in all of your notebooks.\n",
            "Please note that authentication is recommended but still optional to access public models or datasets.\n",
            "  warnings.warn(\n"
          ]
        },
        {
          "output_type": "display_data",
          "data": {
            "text/plain": [
              "config.json:   0%|          | 0.00/776 [00:00<?, ?B/s]"
            ],
            "application/vnd.jupyter.widget-view+json": {
              "version_major": 2,
              "version_minor": 0,
              "model_id": "8b7120c742a04c369e2c59b6389cd919"
            }
          },
          "metadata": {}
        },
        {
          "output_type": "display_data",
          "data": {
            "text/plain": [
              "model.safetensors:   0%|          | 0.00/268M [00:00<?, ?B/s]"
            ],
            "application/vnd.jupyter.widget-view+json": {
              "version_major": 2,
              "version_minor": 0,
              "model_id": "48c27d2c6ea547f7ba03585112ce09a0"
            }
          },
          "metadata": {}
        },
        {
          "output_type": "display_data",
          "data": {
            "text/plain": [
              "tokenizer_config.json:   0%|          | 0.00/258 [00:00<?, ?B/s]"
            ],
            "application/vnd.jupyter.widget-view+json": {
              "version_major": 2,
              "version_minor": 0,
              "model_id": "3514b817e736493ca1659aace827ec12"
            }
          },
          "metadata": {}
        },
        {
          "output_type": "display_data",
          "data": {
            "text/plain": [
              "vocab.txt: 0.00B [00:00, ?B/s]"
            ],
            "application/vnd.jupyter.widget-view+json": {
              "version_major": 2,
              "version_minor": 0,
              "model_id": "932f1d449a6b497bb160d35485643ab4"
            }
          },
          "metadata": {}
        },
        {
          "output_type": "display_data",
          "data": {
            "text/plain": [
              "special_tokens_map.json:   0%|          | 0.00/112 [00:00<?, ?B/s]"
            ],
            "application/vnd.jupyter.widget-view+json": {
              "version_major": 2,
              "version_minor": 0,
              "model_id": "2062622bcb544235834e5c222db0242b"
            }
          },
          "metadata": {}
        },
        {
          "output_type": "stream",
          "name": "stderr",
          "text": [
            "Device set to use cuda:0\n"
          ]
        }
      ],
      "source": [
        "CLIENT_ID = \"e3f2393e-7348-47d1-9c64-8d8efe6a5e95\"  # tu nuevo Client ID\n",
        "AUTHORITY = \"https://login.microsoftonline.com/consumers\"\n",
        "SCOPE = [\"User.Read\", \"Files.ReadWrite\"]\n",
        "\n",
        "ext_permitidas = {\"pdf\", \"docx\", \"xlsx\", \"xls\", \"pptx\", \"txt\", \"csv\"}\n",
        "classifier = pipeline(\"zero-shot-classification\",\n",
        "    model=\"typeform/distilbert-base-uncased-mnli\")\n",
        "url = \"https://graph.microsoft.com/v1.0/me/drive/root:/Etiquetados:/children\""
      ]
    },
    {
      "cell_type": "code",
      "source": [
        "!git config --global user.email \"marcomendieta08@gmail.com\"\n",
        "!git config --global user.name \"marcomendieta08\"\n",
        "!git clone https://github.com/pugapatricia/gestion-documentaria-para-pymes.git"
      ],
      "metadata": {
        "colab": {
          "base_uri": "https://localhost:8080/"
        },
        "id": "fdxiSsgKv341",
        "outputId": "c094aae5-742b-491b-bcc4-eaee3070f6a8"
      },
      "id": "fdxiSsgKv341",
      "execution_count": 6,
      "outputs": [
        {
          "output_type": "stream",
          "name": "stdout",
          "text": [
            "Cloning into 'gestion-documentaria-para-pymes'...\n",
            "remote: Enumerating objects: 314, done.\u001b[K\n",
            "remote: Counting objects: 100% (106/106), done.\u001b[K\n",
            "remote: Compressing objects: 100% (95/95), done.\u001b[K\n",
            "remote: Total 314 (delta 60), reused 21 (delta 10), pack-reused 208 (from 1)\u001b[K\n",
            "Receiving objects: 100% (314/314), 6.51 MiB | 36.81 MiB/s, done.\n",
            "Resolving deltas: 100% (166/166), done.\n"
          ]
        }
      ]
    },
    {
      "cell_type": "markdown",
      "id": "lKu0-R84Ei__",
      "metadata": {
        "id": "lKu0-R84Ei__"
      },
      "source": [
        "# Conección con OneDrive\n"
      ]
    },
    {
      "cell_type": "code",
      "execution_count": 7,
      "id": "4SfZ6bYUEpzF",
      "metadata": {
        "colab": {
          "base_uri": "https://localhost:8080/"
        },
        "id": "4SfZ6bYUEpzF",
        "outputId": "710442d6-4464-4909-803e-e9fee676d39b"
      },
      "outputs": [
        {
          "output_type": "stream",
          "name": "stdout",
          "text": [
            "To sign in, use a web browser to open the page https://www.microsoft.com/link and enter the code XPCVRJVN to authenticate.\n"
          ]
        }
      ],
      "source": [
        "app = msal.PublicClientApplication(CLIENT_ID, authority=AUTHORITY)\n",
        "\n",
        "flow = app.initiate_device_flow(scopes=SCOPE)\n",
        "if \"user_code\" not in flow:\n",
        "    raise Exception(\"No se pudo iniciar el device flow. Revisa tu configuración en Azure.\")\n",
        "\n",
        "print(flow[\"message\"])  # 👉 Copia el código en https://microsoft.com/devicelogin\n",
        "result = app.acquire_token_by_device_flow(flow)\n",
        "\n",
        "if \"access_token\" not in result:\n",
        "    raise Exception(f\"Error autenticación: {result.get('error_description')}\")\n",
        "\n",
        "access_token = result[\"access_token\"]\n",
        "headers = {\"Authorization\": f\"Bearer {access_token}\"}\n",
        "\n",
        "# Llamada a la API con tu token de acceso\n",
        "resp = requests.get(url, headers=headers)\n",
        "if resp.status_code != 200:\n",
        "    raise Exception(f\"Error al obtener archivos: {resp.text}\")\n",
        "data = resp.json()"
      ]
    },
    {
      "cell_type": "markdown",
      "source": [
        "#Funciones"
      ],
      "metadata": {
        "id": "IYoSk_6voooa"
      },
      "id": "IYoSk_6voooa"
    },
    {
      "cell_type": "code",
      "source": [
        "ticketsTXT = \"https://raw.githubusercontent.com/pugapatricia/gestion-documentaria-para-pymes/refs/heads/main/etiquetado/tickers.txt\"\n",
        "response = requests.get(ticketsTXT)\n",
        "etiquetas = response.text.strip().split(\", \")\n",
        "print(etiquetas)"
      ],
      "metadata": {
        "colab": {
          "base_uri": "https://localhost:8080/"
        },
        "id": "xbRaQYOUwNNa",
        "outputId": "e538f336-6032-401b-9bb3-7ed2d9d8588f"
      },
      "id": "xbRaQYOUwNNa",
      "execution_count": 8,
      "outputs": [
        {
          "output_type": "stream",
          "name": "stdout",
          "text": [
            "['tauromaquia', 'pasaporte', 'señal', 'medioambiente', 'universidad', 'arqueología', 'financiero', 'contaduría', 'restitución', 'materias', 'regresión', 'extranjero', 'renta', 'análisis', 'puente', 'servicios', 'inquilino', 'optativa', 'arrendador', 'seguridad', 'notificaciones', 'vigilancia', 'depreciación', 'empresa', 'geografía', 'monográficos', 'estancia', 'balance', 'divulgación', 'autorización', 'master', 'madrid', 'interpretación', 'ingresos', 'métodos', 'fuentes', 'idiomas', 'silvopastoril', 'extranjería', 'receptor', 'proyecto', 'interés', 'apalancamiento', 'propiedad', 'incumplimiento', 'estudios', 'nie', 'datascience', 'complutense', 'mediación', 'firma', 'liquidez', 'valoracion', 'desalojo', 'compraventa', 'alquiler', 'sociales', 'jarama', 'partes', 'contrato', 'tasas', 'humanidades', 'estudiantes', 'activos', 'actividad', 'pasivos', 'financieros', 'registro', 'divulgador', 'cesión', 'poesía', 'temporada', 'documentación', 'rentabilidad', 'comisiones', 'flujodecaja', 'patrimonio', 'proyección', 'arganda', '2016-2017', 'indicadores', 'suministros', 'arrendamiento', 'cursos', 'empaques', 'devolución', 'nda', 'costos', 'admitidos', 'información', 'solicitud', 'panama', 'matrícula', 'reserva', 'cartera', 'vivienda', 'habitación', 'mendieta', 'consorcio', 'autorizacion', 'acuerdo', 'curso', 'arrendatario', 'egresos', 'duración', 'simulación', 'decisiones', 'jurisdicción', 'prorroga', 'transporte', 'eva', 'rescisión', 'secreto', 'prórroga', 'van', 'obligaciones', 'contabilidad', 'máster', 'inventarios', 'envíos', 'tir', 'confidencialidad', 'historia', 'cláusulas', 'inversión', 'vino', 'amortización', 'penalizaciones', 'propietario', 'astrofísica', 'créditos', 'alumnos', 'inmueble', 'batalla', 'cultivo', 'finca', 'fianza', 'estados', 'flujo', 'visado', 'endeudamiento', 'subarriendo', 'propiedadintelectual', 'comparación', 'seguro', 'proyeccion', 'matemáticas', 'financiera', 'lau', 'archivo', 'cauca', 'marco', 'arte', 'bachillerato']\n"
          ]
        }
      ]
    },
    {
      "cell_type": "markdown",
      "source": [
        "Lector de documentos"
      ],
      "metadata": {
        "id": "SVuMqyREoznw"
      },
      "id": "SVuMqyREoznw"
    },
    {
      "cell_type": "code",
      "execution_count": 9,
      "id": "RTR5h05bFUDm",
      "metadata": {
        "id": "RTR5h05bFUDm"
      },
      "outputs": [],
      "source": [
        "def leer_pdf(contenido, limite_palabras):\n",
        "    texto = \"\"\n",
        "    reader = PdfReader(io.BytesIO(contenido))\n",
        "    for page in reader.pages:\n",
        "        if page.extract_text():\n",
        "            texto += page.extract_text() + \"\\n\"\n",
        "            if len(texto.split()) >= limite_palabras:\n",
        "                break\n",
        "    return texto\n",
        "\n",
        "\n",
        "def leer_docx(contenido, limite_palabras):\n",
        "    texto = \"\"\n",
        "    doc = docx.Document(io.BytesIO(contenido))\n",
        "    for p in doc.paragraphs:\n",
        "        if p.text.strip():\n",
        "            texto += p.text + \"\\n\"\n",
        "            if len(texto.split()) >= limite_palabras:\n",
        "                break\n",
        "    return texto\n",
        "\n",
        "\n",
        "def leer_excel(contenido, limite_palabras):\n",
        "    texto = \"\"\n",
        "    wb = openpyxl.load_workbook(io.BytesIO(contenido), data_only=True, read_only=True)\n",
        "    for sheet in wb.worksheets:\n",
        "        for row in sheet.iter_rows(values_only=True):\n",
        "            texto += \" \".join([str(cell) for cell in row if cell]) + \"\\n\"\n",
        "            if len(texto.split()) >= limite_palabras:\n",
        "                break\n",
        "        if len(texto.split()) >= limite_palabras:\n",
        "            break\n",
        "    return texto\n",
        "\n",
        "\n",
        "def leer_xls(contenido, limite_palabras):\n",
        "    texto = \"\"\n",
        "    temp_file = \"temp.xls\"\n",
        "    with open(temp_file, \"wb\") as f:\n",
        "        f.write(contenido)\n",
        "    wb = xlrd.open_workbook(temp_file)\n",
        "    for sheet in wb.sheets():\n",
        "        for row_idx in range(sheet.nrows):\n",
        "            row = sheet.row_values(row_idx)\n",
        "            texto += \" \".join([str(cell) for cell in row if cell]) + \"\\n\"\n",
        "            if len(texto.split()) >= limite_palabras:\n",
        "                break\n",
        "        if len(texto.split()) >= limite_palabras:\n",
        "            break\n",
        "    os.remove(temp_file)\n",
        "    return texto\n",
        "\n",
        "\n",
        "def leer_pptx(contenido, limite_palabras):\n",
        "    texto = \"\"\n",
        "    temp_file = \"temp.pptx\"\n",
        "    with open(temp_file, \"wb\") as f:\n",
        "        f.write(contenido)\n",
        "    prs = Presentation(temp_file)\n",
        "    for slide in prs.slides:\n",
        "        for shape in slide.shapes:\n",
        "            if hasattr(shape, \"text\") and shape.text.strip():\n",
        "                texto += shape.text + \"\\n\"\n",
        "                if len(texto.split()) >= limite_palabras:\n",
        "                    break\n",
        "        if len(texto.split()) >= limite_palabras:\n",
        "            break\n",
        "    os.remove(temp_file)\n",
        "    return texto\n",
        "\n",
        "\n",
        "def leer_txt_csv(contenido, limite_palabras):\n",
        "    texto = contenido.decode(\"utf-8\", errors=\"ignore\")\n",
        "    return \" \".join(texto.split()[:limite_palabras])\n",
        "\n",
        "def leer_archivo(nombre, contenido, limite_palabras=None):\n",
        "    ext = nombre.split(\".\")[-1].lower()\n",
        "    if ext == \"pdf\":\n",
        "        return leer_pdf(contenido, limite_palabras)\n",
        "    elif ext == \"docx\":\n",
        "        return leer_docx(contenido, limite_palabras)\n",
        "    elif ext == \"xlsx\":\n",
        "        return leer_excel(contenido, limite_palabras)\n",
        "    elif ext == \"xls\":\n",
        "        return leer_xls(contenido, limite_palabras)\n",
        "    elif ext == \"pptx\":\n",
        "        return leer_pptx(contenido, limite_palabras)\n",
        "    elif ext in {\"txt\", \"csv\"}:\n",
        "        return leer_txt_csv(contenido, limite_palabras)\n",
        "    return \"\""
      ]
    },
    {
      "cell_type": "markdown",
      "id": "fGLBYpx2FJqW",
      "metadata": {
        "id": "fGLBYpx2FJqW"
      },
      "source": [
        "Clasificador Hugging Face Zero-Shot\n"
      ]
    },
    {
      "cell_type": "code",
      "source": [
        "def limpiar_texto(texto: str) -> str:\n",
        "    if not texto:\n",
        "        return \"\"\n",
        "    texto = texto.lower()\n",
        "    texto = re.sub(r\"[\\r\\n\\t]+\", \" \", texto)\n",
        "    texto = re.sub(r\"[^a-záéíóúüñ0-9\\s]\", \"\", texto)\n",
        "    texto = re.sub(r\"\\s+\", \" \", texto)\n",
        "    return texto.strip()\n",
        "\n",
        "def etiquetar_texto(texto, umbral=0.3, min_etiquetas=5, max_etiquetas=10):\n",
        "    res = classifier(texto, candidate_labels=etiquetas, multi_label=True)\n",
        "    etiquetas_filtradas = [label for label, score in zip(res[\"labels\"], res[\"scores\"]) if score >= umbral]\n",
        "    if len(etiquetas_filtradas) < min_etiquetas:\n",
        "\n",
        "        etiquetas_ordenadas = [label for _, label in sorted(zip(res[\"scores\"], res[\"labels\"]), reverse=True)]\n",
        "        for label in etiquetas_ordenadas:\n",
        "            if label not in etiquetas_filtradas:\n",
        "                etiquetas_filtradas.append(label)\n",
        "            if len(etiquetas_filtradas) >= min_etiquetas:\n",
        "                break\n",
        "    etiquetas_filtradas = etiquetas_filtradas[:max_etiquetas]\n",
        "\n",
        "    return etiquetas_filtradas\n"
      ],
      "metadata": {
        "id": "Vi-KeohEC6Qg"
      },
      "id": "Vi-KeohEC6Qg",
      "execution_count": 10,
      "outputs": []
    },
    {
      "cell_type": "code",
      "source": [
        "def generar_descripcion(texto, max_palabras=300):\n",
        "    try:\n",
        "        # Tomar solo las primeras N palabras para no sobrecargar al modelo\n",
        "        texto_corto = \" \".join(texto.split()[:max_palabras])\n",
        "        response = client.chat.completions.create(\n",
        "            model=\"gpt-4o\",\n",
        "            messages=[\n",
        "                {\"role\": \"system\", \"content\": \"Eres un asistente que resume documentos brevemente en una sola línea.\"},\n",
        "                {\"role\": \"user\", \"content\": f\"Resume el siguiente texto en una sola línea:\\n\\n{texto_corto}\"}\n",
        "            ],\n",
        "            max_completion_tokens=50  # suficiente para una línea\n",
        "        )\n",
        "        return response.choices[0].message.content.strip()\n",
        "    except Exception as e:\n",
        "        return f\"Error generando descripción: {e}\"\n"
      ],
      "metadata": {
        "id": "6OKAwDeYJu9f"
      },
      "id": "6OKAwDeYJu9f",
      "execution_count": 11,
      "outputs": []
    },
    {
      "cell_type": "markdown",
      "id": "eFJR7GKaFaRk",
      "metadata": {
        "id": "eFJR7GKaFaRk"
      },
      "source": [
        "# Leer archivos de OneDrive"
      ]
    },
    {
      "cell_type": "code",
      "source": [
        "resultados = {}\n",
        "descripciones = {}\n",
        "\n",
        "for item in data.get(\"value\", []):\n",
        "    nombre = item[\"name\"]\n",
        "    if not any(nombre.lower().endswith(ext) for ext in ext_permitidas):\n",
        "        continue\n",
        "    download_url = item[\"@microsoft.graph.downloadUrl\"]\n",
        "    file_bytes = requests.get(download_url).content\n",
        "\n",
        "    # Leer archivo según extensión\n",
        "    texto = leer_archivo(nombre, file_bytes, limite_palabras = 300)\n",
        "    texto = limpiar_texto(texto)\n",
        "\n",
        "    if texto:\n",
        "        resultados[nombre] = etiquetar_texto(texto)\n",
        "        descripciones[nombre] = generar_descripcion(texto)\n",
        "    else:\n",
        "        resultados[nombre] = []\n",
        "        descripciones[nombre] = \"No se pudo leer el archivo\"\n",
        "\n",
        "# Crear DataFrame final\n",
        "df_final = pd.DataFrame({\n",
        "    \"Archivo\": list(resultados.keys()),\n",
        "    \"Etiquetas\": list(resultados.values()),\n",
        "    \"Descripcion\": [descripciones[a] for a in resultados.keys()]\n",
        "})\n"
      ],
      "metadata": {
        "id": "GvxDpBx0ZkUc"
      },
      "id": "GvxDpBx0ZkUc",
      "execution_count": 22,
      "outputs": []
    },
    {
      "cell_type": "code",
      "source": [
        "df_final\n"
      ],
      "metadata": {
        "id": "e8Xnt6_Barl4",
        "outputId": "bc8cde7f-003b-4037-a50d-a17c52e6e48d",
        "colab": {
          "base_uri": "https://localhost:8080/",
          "height": 141
        }
      },
      "id": "e8Xnt6_Barl4",
      "execution_count": 20,
      "outputs": [
        {
          "output_type": "error",
          "ename": "NameError",
          "evalue": "name 'df_final' is not defined",
          "traceback": [
            "\u001b[0;31m---------------------------------------------------------------------------\u001b[0m",
            "\u001b[0;31mNameError\u001b[0m                                 Traceback (most recent call last)",
            "\u001b[0;32m/tmp/ipython-input-191745688.py\u001b[0m in \u001b[0;36m<cell line: 0>\u001b[0;34m()\u001b[0m\n\u001b[0;32m----> 1\u001b[0;31m \u001b[0mdf_final\u001b[0m\u001b[0;34m\u001b[0m\u001b[0;34m\u001b[0m\u001b[0m\n\u001b[0m",
            "\u001b[0;31mNameError\u001b[0m: name 'df_final' is not defined"
          ]
        }
      ]
    },
    {
      "cell_type": "markdown",
      "id": "MTA1Lj9jFgy1",
      "metadata": {
        "id": "MTA1Lj9jFgy1"
      },
      "source": [
        "#Guardar resultados"
      ]
    },
    {
      "cell_type": "code",
      "source": [
        "%cd /content/gestion-documentaria-para-pymes"
      ],
      "metadata": {
        "id": "syEzI5ArEwFe"
      },
      "id": "syEzI5ArEwFe",
      "execution_count": null,
      "outputs": []
    },
    {
      "cell_type": "code",
      "execution_count": null,
      "id": "LG0oigjOFgiy",
      "metadata": {
        "id": "LG0oigjOFgiy"
      },
      "outputs": [],
      "source": [
        "\n",
        "os.makedirs(\"etiquetado\", exist_ok=True)\n",
        "csv_path = \"etiquetado/etiquetas_onedrive.csv\"\n",
        "with open(csv_path, \"w\", newline=\"\", encoding=\"utf-8-sig\") as f:\n",
        "    writer = csv.writer(f)\n",
        "    writer.writerow([\"Archivo\", \"Etiquetas\"])\n",
        "    for nombre, etiquetas_detectadas in resultados.items():\n",
        "        etiquetas_str = \", \".join(etiquetas_detectadas) if etiquetas_detectadas else \"Sin etiquetas\"\n",
        "        writer.writerow([nombre, etiquetas_str])\n",
        "print(f\"✅ Resultados guardados en {csv_path}\")\n"
      ]
    },
    {
      "cell_type": "code",
      "source": [
        "!ls etiquetado/"
      ],
      "metadata": {
        "id": "stvdoz1OIJeW"
      },
      "id": "stvdoz1OIJeW",
      "execution_count": null,
      "outputs": []
    },
    {
      "cell_type": "code",
      "source": [
        "!git add etiquetado/etiquetas_onedrive.csv\n",
        "!git diff --cached --quiet || git commit -m \"Actualizar etiquetas_onedrive.csv desde Colab\"\n",
        "!git pull https://{token}@github.com/pugapatricia/gestion-documentaria-para-pymes.git main\n",
        "!git push https://{token}@github.com/pugapatricia/gestion-documentaria-para-pymes.git main"
      ],
      "metadata": {
        "id": "fZxYM06pEwuJ"
      },
      "id": "fZxYM06pEwuJ",
      "execution_count": null,
      "outputs": []
    },
    {
      "cell_type": "markdown",
      "source": [
        "## Codigo para cargar en la etiqueta de descripcion en onedrive"
      ],
      "metadata": {
        "id": "PqEIKeX8zwJm"
      },
      "id": "PqEIKeX8zwJm"
    },
    {
      "cell_type": "code",
      "execution_count": null,
      "id": "e3005d25",
      "metadata": {
        "id": "e3005d25"
      },
      "outputs": [],
      "source": [
        "\"\"\"\n",
        "# ============================\n",
        "# Configuración\n",
        "# ============================\n",
        "json_path = \"etiquetas_onedrive.json\"\n",
        "headers = {\"Authorization\": f\"Bearer {access_token}\"}\n",
        "\n",
        "# Carpeta objetivo en OneDrive\n",
        "carpeta_objetivo = \"Etiquetados\"\n",
        "\n",
        "# ============================\n",
        "# Cargar JSON de etiquetas\n",
        "# ============================\n",
        "with open(json_path, \"r\", encoding=\"utf-8\") as f:\n",
        "    etiquetas_data = json.load(f)\n",
        "\n",
        "# ============================\n",
        "# Aplicar etiquetas en la descripción\n",
        "# ============================\n",
        "for archivo, etiquetas in etiquetas_data.items():\n",
        "    if not etiquetas:\n",
        "        continue\n",
        "\n",
        "    # Buscar archivo en OneDrive\n",
        "    url_file = f\"https://graph.microsoft.com/v1.0/me/drive/root:/{carpeta_objetivo}/{archivo}\"\n",
        "    resp_file = requests.get(url_file, headers=headers)\n",
        "\n",
        "    if resp_file.status_code != 200:\n",
        "        print(f\"⚠️ No se encontró {archivo} en OneDrive\")\n",
        "        continue\n",
        "\n",
        "    file_id = resp_file.json()[\"id\"]\n",
        "\n",
        "    # Guardamos etiquetas en el campo \"description\"\n",
        "    url_update = f\"https://graph.microsoft.com/v1.0/me/drive/items/{file_id}\"\n",
        "    payload = {\"description\": \", \".join(etiquetas)}\n",
        "\n",
        "    response_update = requests.patch(\n",
        "        url_update,\n",
        "        headers={**headers, \"Content-Type\": \"application/json\"},\n",
        "        json=payload\n",
        "    )\n",
        "\n",
        "    if response_update.status_code in [200, 204]:\n",
        "        print(f\"✅ Etiquetas {etiquetas} aplicadas a {archivo} en la descripción\")\n",
        "    else:\n",
        "        print(f\"⚠️ Error al actualizar {archivo}: {response_update.text}\")\n",
        "\"\"\""
      ]
    }
  ],
  "metadata": {
    "colab": {
      "provenance": [],
      "gpuType": "T4"
    },
    "kernelspec": {
      "display_name": "Python 3",
      "name": "python3"
    },
    "language_info": {
      "codemirror_mode": {
        "name": "ipython",
        "version": 3
      },
      "file_extension": ".py",
      "mimetype": "text/x-python",
      "name": "python",
      "nbconvert_exporter": "python",
      "pygments_lexer": "ipython3",
      "version": "3.13.1"
    },
    "accelerator": "GPU",
    "widgets": {
      "application/vnd.jupyter.widget-state+json": {
        "8b7120c742a04c369e2c59b6389cd919": {
          "model_module": "@jupyter-widgets/controls",
          "model_name": "HBoxModel",
          "model_module_version": "1.5.0",
          "state": {
            "_dom_classes": [],
            "_model_module": "@jupyter-widgets/controls",
            "_model_module_version": "1.5.0",
            "_model_name": "HBoxModel",
            "_view_count": null,
            "_view_module": "@jupyter-widgets/controls",
            "_view_module_version": "1.5.0",
            "_view_name": "HBoxView",
            "box_style": "",
            "children": [
              "IPY_MODEL_e7f003a7ab444a6a8103094f3ec81e49",
              "IPY_MODEL_d15ed61877194b18947ce2e860e66006",
              "IPY_MODEL_65064758c6e6484396d23ca0f232214e"
            ],
            "layout": "IPY_MODEL_d44d2e802d12422fbf28ff2e1494fb9c"
          }
        },
        "e7f003a7ab444a6a8103094f3ec81e49": {
          "model_module": "@jupyter-widgets/controls",
          "model_name": "HTMLModel",
          "model_module_version": "1.5.0",
          "state": {
            "_dom_classes": [],
            "_model_module": "@jupyter-widgets/controls",
            "_model_module_version": "1.5.0",
            "_model_name": "HTMLModel",
            "_view_count": null,
            "_view_module": "@jupyter-widgets/controls",
            "_view_module_version": "1.5.0",
            "_view_name": "HTMLView",
            "description": "",
            "description_tooltip": null,
            "layout": "IPY_MODEL_745f1cc12406477a8d0665b00b5a8b2f",
            "placeholder": "​",
            "style": "IPY_MODEL_d34954ecf2fc48409e233e2c581980c1",
            "value": "config.json: 100%"
          }
        },
        "d15ed61877194b18947ce2e860e66006": {
          "model_module": "@jupyter-widgets/controls",
          "model_name": "FloatProgressModel",
          "model_module_version": "1.5.0",
          "state": {
            "_dom_classes": [],
            "_model_module": "@jupyter-widgets/controls",
            "_model_module_version": "1.5.0",
            "_model_name": "FloatProgressModel",
            "_view_count": null,
            "_view_module": "@jupyter-widgets/controls",
            "_view_module_version": "1.5.0",
            "_view_name": "ProgressView",
            "bar_style": "success",
            "description": "",
            "description_tooltip": null,
            "layout": "IPY_MODEL_a46691e1f2174db19f16d4be87e5add9",
            "max": 776,
            "min": 0,
            "orientation": "horizontal",
            "style": "IPY_MODEL_f7005f1c02ec49718c786df0daca5d4e",
            "value": 776
          }
        },
        "65064758c6e6484396d23ca0f232214e": {
          "model_module": "@jupyter-widgets/controls",
          "model_name": "HTMLModel",
          "model_module_version": "1.5.0",
          "state": {
            "_dom_classes": [],
            "_model_module": "@jupyter-widgets/controls",
            "_model_module_version": "1.5.0",
            "_model_name": "HTMLModel",
            "_view_count": null,
            "_view_module": "@jupyter-widgets/controls",
            "_view_module_version": "1.5.0",
            "_view_name": "HTMLView",
            "description": "",
            "description_tooltip": null,
            "layout": "IPY_MODEL_90f14141569a416e8b0dc8d69768f96e",
            "placeholder": "​",
            "style": "IPY_MODEL_7c7f191c93704c07b1948034bc8203d9",
            "value": " 776/776 [00:00&lt;00:00, 83.6kB/s]"
          }
        },
        "d44d2e802d12422fbf28ff2e1494fb9c": {
          "model_module": "@jupyter-widgets/base",
          "model_name": "LayoutModel",
          "model_module_version": "1.2.0",
          "state": {
            "_model_module": "@jupyter-widgets/base",
            "_model_module_version": "1.2.0",
            "_model_name": "LayoutModel",
            "_view_count": null,
            "_view_module": "@jupyter-widgets/base",
            "_view_module_version": "1.2.0",
            "_view_name": "LayoutView",
            "align_content": null,
            "align_items": null,
            "align_self": null,
            "border": null,
            "bottom": null,
            "display": null,
            "flex": null,
            "flex_flow": null,
            "grid_area": null,
            "grid_auto_columns": null,
            "grid_auto_flow": null,
            "grid_auto_rows": null,
            "grid_column": null,
            "grid_gap": null,
            "grid_row": null,
            "grid_template_areas": null,
            "grid_template_columns": null,
            "grid_template_rows": null,
            "height": null,
            "justify_content": null,
            "justify_items": null,
            "left": null,
            "margin": null,
            "max_height": null,
            "max_width": null,
            "min_height": null,
            "min_width": null,
            "object_fit": null,
            "object_position": null,
            "order": null,
            "overflow": null,
            "overflow_x": null,
            "overflow_y": null,
            "padding": null,
            "right": null,
            "top": null,
            "visibility": null,
            "width": null
          }
        },
        "745f1cc12406477a8d0665b00b5a8b2f": {
          "model_module": "@jupyter-widgets/base",
          "model_name": "LayoutModel",
          "model_module_version": "1.2.0",
          "state": {
            "_model_module": "@jupyter-widgets/base",
            "_model_module_version": "1.2.0",
            "_model_name": "LayoutModel",
            "_view_count": null,
            "_view_module": "@jupyter-widgets/base",
            "_view_module_version": "1.2.0",
            "_view_name": "LayoutView",
            "align_content": null,
            "align_items": null,
            "align_self": null,
            "border": null,
            "bottom": null,
            "display": null,
            "flex": null,
            "flex_flow": null,
            "grid_area": null,
            "grid_auto_columns": null,
            "grid_auto_flow": null,
            "grid_auto_rows": null,
            "grid_column": null,
            "grid_gap": null,
            "grid_row": null,
            "grid_template_areas": null,
            "grid_template_columns": null,
            "grid_template_rows": null,
            "height": null,
            "justify_content": null,
            "justify_items": null,
            "left": null,
            "margin": null,
            "max_height": null,
            "max_width": null,
            "min_height": null,
            "min_width": null,
            "object_fit": null,
            "object_position": null,
            "order": null,
            "overflow": null,
            "overflow_x": null,
            "overflow_y": null,
            "padding": null,
            "right": null,
            "top": null,
            "visibility": null,
            "width": null
          }
        },
        "d34954ecf2fc48409e233e2c581980c1": {
          "model_module": "@jupyter-widgets/controls",
          "model_name": "DescriptionStyleModel",
          "model_module_version": "1.5.0",
          "state": {
            "_model_module": "@jupyter-widgets/controls",
            "_model_module_version": "1.5.0",
            "_model_name": "DescriptionStyleModel",
            "_view_count": null,
            "_view_module": "@jupyter-widgets/base",
            "_view_module_version": "1.2.0",
            "_view_name": "StyleView",
            "description_width": ""
          }
        },
        "a46691e1f2174db19f16d4be87e5add9": {
          "model_module": "@jupyter-widgets/base",
          "model_name": "LayoutModel",
          "model_module_version": "1.2.0",
          "state": {
            "_model_module": "@jupyter-widgets/base",
            "_model_module_version": "1.2.0",
            "_model_name": "LayoutModel",
            "_view_count": null,
            "_view_module": "@jupyter-widgets/base",
            "_view_module_version": "1.2.0",
            "_view_name": "LayoutView",
            "align_content": null,
            "align_items": null,
            "align_self": null,
            "border": null,
            "bottom": null,
            "display": null,
            "flex": null,
            "flex_flow": null,
            "grid_area": null,
            "grid_auto_columns": null,
            "grid_auto_flow": null,
            "grid_auto_rows": null,
            "grid_column": null,
            "grid_gap": null,
            "grid_row": null,
            "grid_template_areas": null,
            "grid_template_columns": null,
            "grid_template_rows": null,
            "height": null,
            "justify_content": null,
            "justify_items": null,
            "left": null,
            "margin": null,
            "max_height": null,
            "max_width": null,
            "min_height": null,
            "min_width": null,
            "object_fit": null,
            "object_position": null,
            "order": null,
            "overflow": null,
            "overflow_x": null,
            "overflow_y": null,
            "padding": null,
            "right": null,
            "top": null,
            "visibility": null,
            "width": null
          }
        },
        "f7005f1c02ec49718c786df0daca5d4e": {
          "model_module": "@jupyter-widgets/controls",
          "model_name": "ProgressStyleModel",
          "model_module_version": "1.5.0",
          "state": {
            "_model_module": "@jupyter-widgets/controls",
            "_model_module_version": "1.5.0",
            "_model_name": "ProgressStyleModel",
            "_view_count": null,
            "_view_module": "@jupyter-widgets/base",
            "_view_module_version": "1.2.0",
            "_view_name": "StyleView",
            "bar_color": null,
            "description_width": ""
          }
        },
        "90f14141569a416e8b0dc8d69768f96e": {
          "model_module": "@jupyter-widgets/base",
          "model_name": "LayoutModel",
          "model_module_version": "1.2.0",
          "state": {
            "_model_module": "@jupyter-widgets/base",
            "_model_module_version": "1.2.0",
            "_model_name": "LayoutModel",
            "_view_count": null,
            "_view_module": "@jupyter-widgets/base",
            "_view_module_version": "1.2.0",
            "_view_name": "LayoutView",
            "align_content": null,
            "align_items": null,
            "align_self": null,
            "border": null,
            "bottom": null,
            "display": null,
            "flex": null,
            "flex_flow": null,
            "grid_area": null,
            "grid_auto_columns": null,
            "grid_auto_flow": null,
            "grid_auto_rows": null,
            "grid_column": null,
            "grid_gap": null,
            "grid_row": null,
            "grid_template_areas": null,
            "grid_template_columns": null,
            "grid_template_rows": null,
            "height": null,
            "justify_content": null,
            "justify_items": null,
            "left": null,
            "margin": null,
            "max_height": null,
            "max_width": null,
            "min_height": null,
            "min_width": null,
            "object_fit": null,
            "object_position": null,
            "order": null,
            "overflow": null,
            "overflow_x": null,
            "overflow_y": null,
            "padding": null,
            "right": null,
            "top": null,
            "visibility": null,
            "width": null
          }
        },
        "7c7f191c93704c07b1948034bc8203d9": {
          "model_module": "@jupyter-widgets/controls",
          "model_name": "DescriptionStyleModel",
          "model_module_version": "1.5.0",
          "state": {
            "_model_module": "@jupyter-widgets/controls",
            "_model_module_version": "1.5.0",
            "_model_name": "DescriptionStyleModel",
            "_view_count": null,
            "_view_module": "@jupyter-widgets/base",
            "_view_module_version": "1.2.0",
            "_view_name": "StyleView",
            "description_width": ""
          }
        },
        "48c27d2c6ea547f7ba03585112ce09a0": {
          "model_module": "@jupyter-widgets/controls",
          "model_name": "HBoxModel",
          "model_module_version": "1.5.0",
          "state": {
            "_dom_classes": [],
            "_model_module": "@jupyter-widgets/controls",
            "_model_module_version": "1.5.0",
            "_model_name": "HBoxModel",
            "_view_count": null,
            "_view_module": "@jupyter-widgets/controls",
            "_view_module_version": "1.5.0",
            "_view_name": "HBoxView",
            "box_style": "",
            "children": [
              "IPY_MODEL_88f2a6db8b544bdca6a82b2d92d72496",
              "IPY_MODEL_662d98014c52494f8b7abbcdf597a063",
              "IPY_MODEL_4fc9dfd5c085406c8fd2ce4457c169c3"
            ],
            "layout": "IPY_MODEL_aaff33e5078d4aa99485de6aa991dc12"
          }
        },
        "88f2a6db8b544bdca6a82b2d92d72496": {
          "model_module": "@jupyter-widgets/controls",
          "model_name": "HTMLModel",
          "model_module_version": "1.5.0",
          "state": {
            "_dom_classes": [],
            "_model_module": "@jupyter-widgets/controls",
            "_model_module_version": "1.5.0",
            "_model_name": "HTMLModel",
            "_view_count": null,
            "_view_module": "@jupyter-widgets/controls",
            "_view_module_version": "1.5.0",
            "_view_name": "HTMLView",
            "description": "",
            "description_tooltip": null,
            "layout": "IPY_MODEL_91d8d147ec884ec38841bcffec113c0d",
            "placeholder": "​",
            "style": "IPY_MODEL_02947f39ac694198b708bd2639aac045",
            "value": "model.safetensors: 100%"
          }
        },
        "662d98014c52494f8b7abbcdf597a063": {
          "model_module": "@jupyter-widgets/controls",
          "model_name": "FloatProgressModel",
          "model_module_version": "1.5.0",
          "state": {
            "_dom_classes": [],
            "_model_module": "@jupyter-widgets/controls",
            "_model_module_version": "1.5.0",
            "_model_name": "FloatProgressModel",
            "_view_count": null,
            "_view_module": "@jupyter-widgets/controls",
            "_view_module_version": "1.5.0",
            "_view_name": "ProgressView",
            "bar_style": "success",
            "description": "",
            "description_tooltip": null,
            "layout": "IPY_MODEL_e73d512a7db342d183d33d16ccdce881",
            "max": 267835640,
            "min": 0,
            "orientation": "horizontal",
            "style": "IPY_MODEL_787f164843af439ba0459d1b716ca432",
            "value": 267835640
          }
        },
        "4fc9dfd5c085406c8fd2ce4457c169c3": {
          "model_module": "@jupyter-widgets/controls",
          "model_name": "HTMLModel",
          "model_module_version": "1.5.0",
          "state": {
            "_dom_classes": [],
            "_model_module": "@jupyter-widgets/controls",
            "_model_module_version": "1.5.0",
            "_model_name": "HTMLModel",
            "_view_count": null,
            "_view_module": "@jupyter-widgets/controls",
            "_view_module_version": "1.5.0",
            "_view_name": "HTMLView",
            "description": "",
            "description_tooltip": null,
            "layout": "IPY_MODEL_d8307190525845b1bec493a07c8900ca",
            "placeholder": "​",
            "style": "IPY_MODEL_00f633ba66fc418b8ea91b7427290368",
            "value": " 268M/268M [00:04&lt;00:00, 41.4MB/s]"
          }
        },
        "aaff33e5078d4aa99485de6aa991dc12": {
          "model_module": "@jupyter-widgets/base",
          "model_name": "LayoutModel",
          "model_module_version": "1.2.0",
          "state": {
            "_model_module": "@jupyter-widgets/base",
            "_model_module_version": "1.2.0",
            "_model_name": "LayoutModel",
            "_view_count": null,
            "_view_module": "@jupyter-widgets/base",
            "_view_module_version": "1.2.0",
            "_view_name": "LayoutView",
            "align_content": null,
            "align_items": null,
            "align_self": null,
            "border": null,
            "bottom": null,
            "display": null,
            "flex": null,
            "flex_flow": null,
            "grid_area": null,
            "grid_auto_columns": null,
            "grid_auto_flow": null,
            "grid_auto_rows": null,
            "grid_column": null,
            "grid_gap": null,
            "grid_row": null,
            "grid_template_areas": null,
            "grid_template_columns": null,
            "grid_template_rows": null,
            "height": null,
            "justify_content": null,
            "justify_items": null,
            "left": null,
            "margin": null,
            "max_height": null,
            "max_width": null,
            "min_height": null,
            "min_width": null,
            "object_fit": null,
            "object_position": null,
            "order": null,
            "overflow": null,
            "overflow_x": null,
            "overflow_y": null,
            "padding": null,
            "right": null,
            "top": null,
            "visibility": null,
            "width": null
          }
        },
        "91d8d147ec884ec38841bcffec113c0d": {
          "model_module": "@jupyter-widgets/base",
          "model_name": "LayoutModel",
          "model_module_version": "1.2.0",
          "state": {
            "_model_module": "@jupyter-widgets/base",
            "_model_module_version": "1.2.0",
            "_model_name": "LayoutModel",
            "_view_count": null,
            "_view_module": "@jupyter-widgets/base",
            "_view_module_version": "1.2.0",
            "_view_name": "LayoutView",
            "align_content": null,
            "align_items": null,
            "align_self": null,
            "border": null,
            "bottom": null,
            "display": null,
            "flex": null,
            "flex_flow": null,
            "grid_area": null,
            "grid_auto_columns": null,
            "grid_auto_flow": null,
            "grid_auto_rows": null,
            "grid_column": null,
            "grid_gap": null,
            "grid_row": null,
            "grid_template_areas": null,
            "grid_template_columns": null,
            "grid_template_rows": null,
            "height": null,
            "justify_content": null,
            "justify_items": null,
            "left": null,
            "margin": null,
            "max_height": null,
            "max_width": null,
            "min_height": null,
            "min_width": null,
            "object_fit": null,
            "object_position": null,
            "order": null,
            "overflow": null,
            "overflow_x": null,
            "overflow_y": null,
            "padding": null,
            "right": null,
            "top": null,
            "visibility": null,
            "width": null
          }
        },
        "02947f39ac694198b708bd2639aac045": {
          "model_module": "@jupyter-widgets/controls",
          "model_name": "DescriptionStyleModel",
          "model_module_version": "1.5.0",
          "state": {
            "_model_module": "@jupyter-widgets/controls",
            "_model_module_version": "1.5.0",
            "_model_name": "DescriptionStyleModel",
            "_view_count": null,
            "_view_module": "@jupyter-widgets/base",
            "_view_module_version": "1.2.0",
            "_view_name": "StyleView",
            "description_width": ""
          }
        },
        "e73d512a7db342d183d33d16ccdce881": {
          "model_module": "@jupyter-widgets/base",
          "model_name": "LayoutModel",
          "model_module_version": "1.2.0",
          "state": {
            "_model_module": "@jupyter-widgets/base",
            "_model_module_version": "1.2.0",
            "_model_name": "LayoutModel",
            "_view_count": null,
            "_view_module": "@jupyter-widgets/base",
            "_view_module_version": "1.2.0",
            "_view_name": "LayoutView",
            "align_content": null,
            "align_items": null,
            "align_self": null,
            "border": null,
            "bottom": null,
            "display": null,
            "flex": null,
            "flex_flow": null,
            "grid_area": null,
            "grid_auto_columns": null,
            "grid_auto_flow": null,
            "grid_auto_rows": null,
            "grid_column": null,
            "grid_gap": null,
            "grid_row": null,
            "grid_template_areas": null,
            "grid_template_columns": null,
            "grid_template_rows": null,
            "height": null,
            "justify_content": null,
            "justify_items": null,
            "left": null,
            "margin": null,
            "max_height": null,
            "max_width": null,
            "min_height": null,
            "min_width": null,
            "object_fit": null,
            "object_position": null,
            "order": null,
            "overflow": null,
            "overflow_x": null,
            "overflow_y": null,
            "padding": null,
            "right": null,
            "top": null,
            "visibility": null,
            "width": null
          }
        },
        "787f164843af439ba0459d1b716ca432": {
          "model_module": "@jupyter-widgets/controls",
          "model_name": "ProgressStyleModel",
          "model_module_version": "1.5.0",
          "state": {
            "_model_module": "@jupyter-widgets/controls",
            "_model_module_version": "1.5.0",
            "_model_name": "ProgressStyleModel",
            "_view_count": null,
            "_view_module": "@jupyter-widgets/base",
            "_view_module_version": "1.2.0",
            "_view_name": "StyleView",
            "bar_color": null,
            "description_width": ""
          }
        },
        "d8307190525845b1bec493a07c8900ca": {
          "model_module": "@jupyter-widgets/base",
          "model_name": "LayoutModel",
          "model_module_version": "1.2.0",
          "state": {
            "_model_module": "@jupyter-widgets/base",
            "_model_module_version": "1.2.0",
            "_model_name": "LayoutModel",
            "_view_count": null,
            "_view_module": "@jupyter-widgets/base",
            "_view_module_version": "1.2.0",
            "_view_name": "LayoutView",
            "align_content": null,
            "align_items": null,
            "align_self": null,
            "border": null,
            "bottom": null,
            "display": null,
            "flex": null,
            "flex_flow": null,
            "grid_area": null,
            "grid_auto_columns": null,
            "grid_auto_flow": null,
            "grid_auto_rows": null,
            "grid_column": null,
            "grid_gap": null,
            "grid_row": null,
            "grid_template_areas": null,
            "grid_template_columns": null,
            "grid_template_rows": null,
            "height": null,
            "justify_content": null,
            "justify_items": null,
            "left": null,
            "margin": null,
            "max_height": null,
            "max_width": null,
            "min_height": null,
            "min_width": null,
            "object_fit": null,
            "object_position": null,
            "order": null,
            "overflow": null,
            "overflow_x": null,
            "overflow_y": null,
            "padding": null,
            "right": null,
            "top": null,
            "visibility": null,
            "width": null
          }
        },
        "00f633ba66fc418b8ea91b7427290368": {
          "model_module": "@jupyter-widgets/controls",
          "model_name": "DescriptionStyleModel",
          "model_module_version": "1.5.0",
          "state": {
            "_model_module": "@jupyter-widgets/controls",
            "_model_module_version": "1.5.0",
            "_model_name": "DescriptionStyleModel",
            "_view_count": null,
            "_view_module": "@jupyter-widgets/base",
            "_view_module_version": "1.2.0",
            "_view_name": "StyleView",
            "description_width": ""
          }
        },
        "3514b817e736493ca1659aace827ec12": {
          "model_module": "@jupyter-widgets/controls",
          "model_name": "HBoxModel",
          "model_module_version": "1.5.0",
          "state": {
            "_dom_classes": [],
            "_model_module": "@jupyter-widgets/controls",
            "_model_module_version": "1.5.0",
            "_model_name": "HBoxModel",
            "_view_count": null,
            "_view_module": "@jupyter-widgets/controls",
            "_view_module_version": "1.5.0",
            "_view_name": "HBoxView",
            "box_style": "",
            "children": [
              "IPY_MODEL_0032550d11ba41d4bfb099767e384dbf",
              "IPY_MODEL_7f22cbf268fc4c3c95a64400802cd06d",
              "IPY_MODEL_e1ae735b48b34ee38c3eb0c04e83e375"
            ],
            "layout": "IPY_MODEL_40f8513cdfce4a6191a38186b0864f7f"
          }
        },
        "0032550d11ba41d4bfb099767e384dbf": {
          "model_module": "@jupyter-widgets/controls",
          "model_name": "HTMLModel",
          "model_module_version": "1.5.0",
          "state": {
            "_dom_classes": [],
            "_model_module": "@jupyter-widgets/controls",
            "_model_module_version": "1.5.0",
            "_model_name": "HTMLModel",
            "_view_count": null,
            "_view_module": "@jupyter-widgets/controls",
            "_view_module_version": "1.5.0",
            "_view_name": "HTMLView",
            "description": "",
            "description_tooltip": null,
            "layout": "IPY_MODEL_8c602b39c7f4474587a621662ff1ec2e",
            "placeholder": "​",
            "style": "IPY_MODEL_6e45ffe41e87417fb7109960af23cb06",
            "value": "tokenizer_config.json: 100%"
          }
        },
        "7f22cbf268fc4c3c95a64400802cd06d": {
          "model_module": "@jupyter-widgets/controls",
          "model_name": "FloatProgressModel",
          "model_module_version": "1.5.0",
          "state": {
            "_dom_classes": [],
            "_model_module": "@jupyter-widgets/controls",
            "_model_module_version": "1.5.0",
            "_model_name": "FloatProgressModel",
            "_view_count": null,
            "_view_module": "@jupyter-widgets/controls",
            "_view_module_version": "1.5.0",
            "_view_name": "ProgressView",
            "bar_style": "success",
            "description": "",
            "description_tooltip": null,
            "layout": "IPY_MODEL_7156064aa4c248aeb1d0a2c22c4e785f",
            "max": 258,
            "min": 0,
            "orientation": "horizontal",
            "style": "IPY_MODEL_0092d41d4b664ac7b1941389014ccaad",
            "value": 258
          }
        },
        "e1ae735b48b34ee38c3eb0c04e83e375": {
          "model_module": "@jupyter-widgets/controls",
          "model_name": "HTMLModel",
          "model_module_version": "1.5.0",
          "state": {
            "_dom_classes": [],
            "_model_module": "@jupyter-widgets/controls",
            "_model_module_version": "1.5.0",
            "_model_name": "HTMLModel",
            "_view_count": null,
            "_view_module": "@jupyter-widgets/controls",
            "_view_module_version": "1.5.0",
            "_view_name": "HTMLView",
            "description": "",
            "description_tooltip": null,
            "layout": "IPY_MODEL_3dac9c672a4d4076a9b34974fd74ff1c",
            "placeholder": "​",
            "style": "IPY_MODEL_7a1633b5a73b425a90573467035ce49a",
            "value": " 258/258 [00:00&lt;00:00, 22.4kB/s]"
          }
        },
        "40f8513cdfce4a6191a38186b0864f7f": {
          "model_module": "@jupyter-widgets/base",
          "model_name": "LayoutModel",
          "model_module_version": "1.2.0",
          "state": {
            "_model_module": "@jupyter-widgets/base",
            "_model_module_version": "1.2.0",
            "_model_name": "LayoutModel",
            "_view_count": null,
            "_view_module": "@jupyter-widgets/base",
            "_view_module_version": "1.2.0",
            "_view_name": "LayoutView",
            "align_content": null,
            "align_items": null,
            "align_self": null,
            "border": null,
            "bottom": null,
            "display": null,
            "flex": null,
            "flex_flow": null,
            "grid_area": null,
            "grid_auto_columns": null,
            "grid_auto_flow": null,
            "grid_auto_rows": null,
            "grid_column": null,
            "grid_gap": null,
            "grid_row": null,
            "grid_template_areas": null,
            "grid_template_columns": null,
            "grid_template_rows": null,
            "height": null,
            "justify_content": null,
            "justify_items": null,
            "left": null,
            "margin": null,
            "max_height": null,
            "max_width": null,
            "min_height": null,
            "min_width": null,
            "object_fit": null,
            "object_position": null,
            "order": null,
            "overflow": null,
            "overflow_x": null,
            "overflow_y": null,
            "padding": null,
            "right": null,
            "top": null,
            "visibility": null,
            "width": null
          }
        },
        "8c602b39c7f4474587a621662ff1ec2e": {
          "model_module": "@jupyter-widgets/base",
          "model_name": "LayoutModel",
          "model_module_version": "1.2.0",
          "state": {
            "_model_module": "@jupyter-widgets/base",
            "_model_module_version": "1.2.0",
            "_model_name": "LayoutModel",
            "_view_count": null,
            "_view_module": "@jupyter-widgets/base",
            "_view_module_version": "1.2.0",
            "_view_name": "LayoutView",
            "align_content": null,
            "align_items": null,
            "align_self": null,
            "border": null,
            "bottom": null,
            "display": null,
            "flex": null,
            "flex_flow": null,
            "grid_area": null,
            "grid_auto_columns": null,
            "grid_auto_flow": null,
            "grid_auto_rows": null,
            "grid_column": null,
            "grid_gap": null,
            "grid_row": null,
            "grid_template_areas": null,
            "grid_template_columns": null,
            "grid_template_rows": null,
            "height": null,
            "justify_content": null,
            "justify_items": null,
            "left": null,
            "margin": null,
            "max_height": null,
            "max_width": null,
            "min_height": null,
            "min_width": null,
            "object_fit": null,
            "object_position": null,
            "order": null,
            "overflow": null,
            "overflow_x": null,
            "overflow_y": null,
            "padding": null,
            "right": null,
            "top": null,
            "visibility": null,
            "width": null
          }
        },
        "6e45ffe41e87417fb7109960af23cb06": {
          "model_module": "@jupyter-widgets/controls",
          "model_name": "DescriptionStyleModel",
          "model_module_version": "1.5.0",
          "state": {
            "_model_module": "@jupyter-widgets/controls",
            "_model_module_version": "1.5.0",
            "_model_name": "DescriptionStyleModel",
            "_view_count": null,
            "_view_module": "@jupyter-widgets/base",
            "_view_module_version": "1.2.0",
            "_view_name": "StyleView",
            "description_width": ""
          }
        },
        "7156064aa4c248aeb1d0a2c22c4e785f": {
          "model_module": "@jupyter-widgets/base",
          "model_name": "LayoutModel",
          "model_module_version": "1.2.0",
          "state": {
            "_model_module": "@jupyter-widgets/base",
            "_model_module_version": "1.2.0",
            "_model_name": "LayoutModel",
            "_view_count": null,
            "_view_module": "@jupyter-widgets/base",
            "_view_module_version": "1.2.0",
            "_view_name": "LayoutView",
            "align_content": null,
            "align_items": null,
            "align_self": null,
            "border": null,
            "bottom": null,
            "display": null,
            "flex": null,
            "flex_flow": null,
            "grid_area": null,
            "grid_auto_columns": null,
            "grid_auto_flow": null,
            "grid_auto_rows": null,
            "grid_column": null,
            "grid_gap": null,
            "grid_row": null,
            "grid_template_areas": null,
            "grid_template_columns": null,
            "grid_template_rows": null,
            "height": null,
            "justify_content": null,
            "justify_items": null,
            "left": null,
            "margin": null,
            "max_height": null,
            "max_width": null,
            "min_height": null,
            "min_width": null,
            "object_fit": null,
            "object_position": null,
            "order": null,
            "overflow": null,
            "overflow_x": null,
            "overflow_y": null,
            "padding": null,
            "right": null,
            "top": null,
            "visibility": null,
            "width": null
          }
        },
        "0092d41d4b664ac7b1941389014ccaad": {
          "model_module": "@jupyter-widgets/controls",
          "model_name": "ProgressStyleModel",
          "model_module_version": "1.5.0",
          "state": {
            "_model_module": "@jupyter-widgets/controls",
            "_model_module_version": "1.5.0",
            "_model_name": "ProgressStyleModel",
            "_view_count": null,
            "_view_module": "@jupyter-widgets/base",
            "_view_module_version": "1.2.0",
            "_view_name": "StyleView",
            "bar_color": null,
            "description_width": ""
          }
        },
        "3dac9c672a4d4076a9b34974fd74ff1c": {
          "model_module": "@jupyter-widgets/base",
          "model_name": "LayoutModel",
          "model_module_version": "1.2.0",
          "state": {
            "_model_module": "@jupyter-widgets/base",
            "_model_module_version": "1.2.0",
            "_model_name": "LayoutModel",
            "_view_count": null,
            "_view_module": "@jupyter-widgets/base",
            "_view_module_version": "1.2.0",
            "_view_name": "LayoutView",
            "align_content": null,
            "align_items": null,
            "align_self": null,
            "border": null,
            "bottom": null,
            "display": null,
            "flex": null,
            "flex_flow": null,
            "grid_area": null,
            "grid_auto_columns": null,
            "grid_auto_flow": null,
            "grid_auto_rows": null,
            "grid_column": null,
            "grid_gap": null,
            "grid_row": null,
            "grid_template_areas": null,
            "grid_template_columns": null,
            "grid_template_rows": null,
            "height": null,
            "justify_content": null,
            "justify_items": null,
            "left": null,
            "margin": null,
            "max_height": null,
            "max_width": null,
            "min_height": null,
            "min_width": null,
            "object_fit": null,
            "object_position": null,
            "order": null,
            "overflow": null,
            "overflow_x": null,
            "overflow_y": null,
            "padding": null,
            "right": null,
            "top": null,
            "visibility": null,
            "width": null
          }
        },
        "7a1633b5a73b425a90573467035ce49a": {
          "model_module": "@jupyter-widgets/controls",
          "model_name": "DescriptionStyleModel",
          "model_module_version": "1.5.0",
          "state": {
            "_model_module": "@jupyter-widgets/controls",
            "_model_module_version": "1.5.0",
            "_model_name": "DescriptionStyleModel",
            "_view_count": null,
            "_view_module": "@jupyter-widgets/base",
            "_view_module_version": "1.2.0",
            "_view_name": "StyleView",
            "description_width": ""
          }
        },
        "932f1d449a6b497bb160d35485643ab4": {
          "model_module": "@jupyter-widgets/controls",
          "model_name": "HBoxModel",
          "model_module_version": "1.5.0",
          "state": {
            "_dom_classes": [],
            "_model_module": "@jupyter-widgets/controls",
            "_model_module_version": "1.5.0",
            "_model_name": "HBoxModel",
            "_view_count": null,
            "_view_module": "@jupyter-widgets/controls",
            "_view_module_version": "1.5.0",
            "_view_name": "HBoxView",
            "box_style": "",
            "children": [
              "IPY_MODEL_0619f27b940b495ea3b11a094b5b9295",
              "IPY_MODEL_5964b9c081ee4592b71e6100a456f144",
              "IPY_MODEL_f833f33ecabb49f992814c99501eb4fd"
            ],
            "layout": "IPY_MODEL_19653e2b08844880ab56f9129e732d5e"
          }
        },
        "0619f27b940b495ea3b11a094b5b9295": {
          "model_module": "@jupyter-widgets/controls",
          "model_name": "HTMLModel",
          "model_module_version": "1.5.0",
          "state": {
            "_dom_classes": [],
            "_model_module": "@jupyter-widgets/controls",
            "_model_module_version": "1.5.0",
            "_model_name": "HTMLModel",
            "_view_count": null,
            "_view_module": "@jupyter-widgets/controls",
            "_view_module_version": "1.5.0",
            "_view_name": "HTMLView",
            "description": "",
            "description_tooltip": null,
            "layout": "IPY_MODEL_66fafbcc4e4e48c1a06aa2adf6523a3a",
            "placeholder": "​",
            "style": "IPY_MODEL_bbe36d7c6b2f4a74b31cd5c9c8cc72c9",
            "value": "vocab.txt: "
          }
        },
        "5964b9c081ee4592b71e6100a456f144": {
          "model_module": "@jupyter-widgets/controls",
          "model_name": "FloatProgressModel",
          "model_module_version": "1.5.0",
          "state": {
            "_dom_classes": [],
            "_model_module": "@jupyter-widgets/controls",
            "_model_module_version": "1.5.0",
            "_model_name": "FloatProgressModel",
            "_view_count": null,
            "_view_module": "@jupyter-widgets/controls",
            "_view_module_version": "1.5.0",
            "_view_name": "ProgressView",
            "bar_style": "success",
            "description": "",
            "description_tooltip": null,
            "layout": "IPY_MODEL_ec73a7c5cd79443d9daa93652d6e66ff",
            "max": 1,
            "min": 0,
            "orientation": "horizontal",
            "style": "IPY_MODEL_93df073ce8f84bfd8480c1cc5a16f4ad",
            "value": 1
          }
        },
        "f833f33ecabb49f992814c99501eb4fd": {
          "model_module": "@jupyter-widgets/controls",
          "model_name": "HTMLModel",
          "model_module_version": "1.5.0",
          "state": {
            "_dom_classes": [],
            "_model_module": "@jupyter-widgets/controls",
            "_model_module_version": "1.5.0",
            "_model_name": "HTMLModel",
            "_view_count": null,
            "_view_module": "@jupyter-widgets/controls",
            "_view_module_version": "1.5.0",
            "_view_name": "HTMLView",
            "description": "",
            "description_tooltip": null,
            "layout": "IPY_MODEL_37a74aab2b024614a17fec46bf61e05c",
            "placeholder": "​",
            "style": "IPY_MODEL_0ef8d1c210f14b98aa734775c3cae652",
            "value": " 232k/? [00:00&lt;00:00, 12.5MB/s]"
          }
        },
        "19653e2b08844880ab56f9129e732d5e": {
          "model_module": "@jupyter-widgets/base",
          "model_name": "LayoutModel",
          "model_module_version": "1.2.0",
          "state": {
            "_model_module": "@jupyter-widgets/base",
            "_model_module_version": "1.2.0",
            "_model_name": "LayoutModel",
            "_view_count": null,
            "_view_module": "@jupyter-widgets/base",
            "_view_module_version": "1.2.0",
            "_view_name": "LayoutView",
            "align_content": null,
            "align_items": null,
            "align_self": null,
            "border": null,
            "bottom": null,
            "display": null,
            "flex": null,
            "flex_flow": null,
            "grid_area": null,
            "grid_auto_columns": null,
            "grid_auto_flow": null,
            "grid_auto_rows": null,
            "grid_column": null,
            "grid_gap": null,
            "grid_row": null,
            "grid_template_areas": null,
            "grid_template_columns": null,
            "grid_template_rows": null,
            "height": null,
            "justify_content": null,
            "justify_items": null,
            "left": null,
            "margin": null,
            "max_height": null,
            "max_width": null,
            "min_height": null,
            "min_width": null,
            "object_fit": null,
            "object_position": null,
            "order": null,
            "overflow": null,
            "overflow_x": null,
            "overflow_y": null,
            "padding": null,
            "right": null,
            "top": null,
            "visibility": null,
            "width": null
          }
        },
        "66fafbcc4e4e48c1a06aa2adf6523a3a": {
          "model_module": "@jupyter-widgets/base",
          "model_name": "LayoutModel",
          "model_module_version": "1.2.0",
          "state": {
            "_model_module": "@jupyter-widgets/base",
            "_model_module_version": "1.2.0",
            "_model_name": "LayoutModel",
            "_view_count": null,
            "_view_module": "@jupyter-widgets/base",
            "_view_module_version": "1.2.0",
            "_view_name": "LayoutView",
            "align_content": null,
            "align_items": null,
            "align_self": null,
            "border": null,
            "bottom": null,
            "display": null,
            "flex": null,
            "flex_flow": null,
            "grid_area": null,
            "grid_auto_columns": null,
            "grid_auto_flow": null,
            "grid_auto_rows": null,
            "grid_column": null,
            "grid_gap": null,
            "grid_row": null,
            "grid_template_areas": null,
            "grid_template_columns": null,
            "grid_template_rows": null,
            "height": null,
            "justify_content": null,
            "justify_items": null,
            "left": null,
            "margin": null,
            "max_height": null,
            "max_width": null,
            "min_height": null,
            "min_width": null,
            "object_fit": null,
            "object_position": null,
            "order": null,
            "overflow": null,
            "overflow_x": null,
            "overflow_y": null,
            "padding": null,
            "right": null,
            "top": null,
            "visibility": null,
            "width": null
          }
        },
        "bbe36d7c6b2f4a74b31cd5c9c8cc72c9": {
          "model_module": "@jupyter-widgets/controls",
          "model_name": "DescriptionStyleModel",
          "model_module_version": "1.5.0",
          "state": {
            "_model_module": "@jupyter-widgets/controls",
            "_model_module_version": "1.5.0",
            "_model_name": "DescriptionStyleModel",
            "_view_count": null,
            "_view_module": "@jupyter-widgets/base",
            "_view_module_version": "1.2.0",
            "_view_name": "StyleView",
            "description_width": ""
          }
        },
        "ec73a7c5cd79443d9daa93652d6e66ff": {
          "model_module": "@jupyter-widgets/base",
          "model_name": "LayoutModel",
          "model_module_version": "1.2.0",
          "state": {
            "_model_module": "@jupyter-widgets/base",
            "_model_module_version": "1.2.0",
            "_model_name": "LayoutModel",
            "_view_count": null,
            "_view_module": "@jupyter-widgets/base",
            "_view_module_version": "1.2.0",
            "_view_name": "LayoutView",
            "align_content": null,
            "align_items": null,
            "align_self": null,
            "border": null,
            "bottom": null,
            "display": null,
            "flex": null,
            "flex_flow": null,
            "grid_area": null,
            "grid_auto_columns": null,
            "grid_auto_flow": null,
            "grid_auto_rows": null,
            "grid_column": null,
            "grid_gap": null,
            "grid_row": null,
            "grid_template_areas": null,
            "grid_template_columns": null,
            "grid_template_rows": null,
            "height": null,
            "justify_content": null,
            "justify_items": null,
            "left": null,
            "margin": null,
            "max_height": null,
            "max_width": null,
            "min_height": null,
            "min_width": null,
            "object_fit": null,
            "object_position": null,
            "order": null,
            "overflow": null,
            "overflow_x": null,
            "overflow_y": null,
            "padding": null,
            "right": null,
            "top": null,
            "visibility": null,
            "width": "20px"
          }
        },
        "93df073ce8f84bfd8480c1cc5a16f4ad": {
          "model_module": "@jupyter-widgets/controls",
          "model_name": "ProgressStyleModel",
          "model_module_version": "1.5.0",
          "state": {
            "_model_module": "@jupyter-widgets/controls",
            "_model_module_version": "1.5.0",
            "_model_name": "ProgressStyleModel",
            "_view_count": null,
            "_view_module": "@jupyter-widgets/base",
            "_view_module_version": "1.2.0",
            "_view_name": "StyleView",
            "bar_color": null,
            "description_width": ""
          }
        },
        "37a74aab2b024614a17fec46bf61e05c": {
          "model_module": "@jupyter-widgets/base",
          "model_name": "LayoutModel",
          "model_module_version": "1.2.0",
          "state": {
            "_model_module": "@jupyter-widgets/base",
            "_model_module_version": "1.2.0",
            "_model_name": "LayoutModel",
            "_view_count": null,
            "_view_module": "@jupyter-widgets/base",
            "_view_module_version": "1.2.0",
            "_view_name": "LayoutView",
            "align_content": null,
            "align_items": null,
            "align_self": null,
            "border": null,
            "bottom": null,
            "display": null,
            "flex": null,
            "flex_flow": null,
            "grid_area": null,
            "grid_auto_columns": null,
            "grid_auto_flow": null,
            "grid_auto_rows": null,
            "grid_column": null,
            "grid_gap": null,
            "grid_row": null,
            "grid_template_areas": null,
            "grid_template_columns": null,
            "grid_template_rows": null,
            "height": null,
            "justify_content": null,
            "justify_items": null,
            "left": null,
            "margin": null,
            "max_height": null,
            "max_width": null,
            "min_height": null,
            "min_width": null,
            "object_fit": null,
            "object_position": null,
            "order": null,
            "overflow": null,
            "overflow_x": null,
            "overflow_y": null,
            "padding": null,
            "right": null,
            "top": null,
            "visibility": null,
            "width": null
          }
        },
        "0ef8d1c210f14b98aa734775c3cae652": {
          "model_module": "@jupyter-widgets/controls",
          "model_name": "DescriptionStyleModel",
          "model_module_version": "1.5.0",
          "state": {
            "_model_module": "@jupyter-widgets/controls",
            "_model_module_version": "1.5.0",
            "_model_name": "DescriptionStyleModel",
            "_view_count": null,
            "_view_module": "@jupyter-widgets/base",
            "_view_module_version": "1.2.0",
            "_view_name": "StyleView",
            "description_width": ""
          }
        },
        "2062622bcb544235834e5c222db0242b": {
          "model_module": "@jupyter-widgets/controls",
          "model_name": "HBoxModel",
          "model_module_version": "1.5.0",
          "state": {
            "_dom_classes": [],
            "_model_module": "@jupyter-widgets/controls",
            "_model_module_version": "1.5.0",
            "_model_name": "HBoxModel",
            "_view_count": null,
            "_view_module": "@jupyter-widgets/controls",
            "_view_module_version": "1.5.0",
            "_view_name": "HBoxView",
            "box_style": "",
            "children": [
              "IPY_MODEL_74b0d79813e34997a72babe49e7b74ff",
              "IPY_MODEL_dc15e06a029c43608377b160b9df2ed5",
              "IPY_MODEL_4b9038c149cc47dbb9c19249eead01e7"
            ],
            "layout": "IPY_MODEL_92e101652e6e499c8fd46bcc00c42d8c"
          }
        },
        "74b0d79813e34997a72babe49e7b74ff": {
          "model_module": "@jupyter-widgets/controls",
          "model_name": "HTMLModel",
          "model_module_version": "1.5.0",
          "state": {
            "_dom_classes": [],
            "_model_module": "@jupyter-widgets/controls",
            "_model_module_version": "1.5.0",
            "_model_name": "HTMLModel",
            "_view_count": null,
            "_view_module": "@jupyter-widgets/controls",
            "_view_module_version": "1.5.0",
            "_view_name": "HTMLView",
            "description": "",
            "description_tooltip": null,
            "layout": "IPY_MODEL_96f03431e5b74dc48a05c505d9d6df88",
            "placeholder": "​",
            "style": "IPY_MODEL_aa4c371da7424d63bd57322f755737ee",
            "value": "special_tokens_map.json: 100%"
          }
        },
        "dc15e06a029c43608377b160b9df2ed5": {
          "model_module": "@jupyter-widgets/controls",
          "model_name": "FloatProgressModel",
          "model_module_version": "1.5.0",
          "state": {
            "_dom_classes": [],
            "_model_module": "@jupyter-widgets/controls",
            "_model_module_version": "1.5.0",
            "_model_name": "FloatProgressModel",
            "_view_count": null,
            "_view_module": "@jupyter-widgets/controls",
            "_view_module_version": "1.5.0",
            "_view_name": "ProgressView",
            "bar_style": "success",
            "description": "",
            "description_tooltip": null,
            "layout": "IPY_MODEL_b6d11e84fbff41d99122c8d3fad77a3f",
            "max": 112,
            "min": 0,
            "orientation": "horizontal",
            "style": "IPY_MODEL_ef2c3887d0d44b0da54f89d221dca903",
            "value": 112
          }
        },
        "4b9038c149cc47dbb9c19249eead01e7": {
          "model_module": "@jupyter-widgets/controls",
          "model_name": "HTMLModel",
          "model_module_version": "1.5.0",
          "state": {
            "_dom_classes": [],
            "_model_module": "@jupyter-widgets/controls",
            "_model_module_version": "1.5.0",
            "_model_name": "HTMLModel",
            "_view_count": null,
            "_view_module": "@jupyter-widgets/controls",
            "_view_module_version": "1.5.0",
            "_view_name": "HTMLView",
            "description": "",
            "description_tooltip": null,
            "layout": "IPY_MODEL_607719beb18b481d8f9ea24a96d7e62e",
            "placeholder": "​",
            "style": "IPY_MODEL_cc0930472480448db3d02c63d3f317a3",
            "value": " 112/112 [00:00&lt;00:00, 13.2kB/s]"
          }
        },
        "92e101652e6e499c8fd46bcc00c42d8c": {
          "model_module": "@jupyter-widgets/base",
          "model_name": "LayoutModel",
          "model_module_version": "1.2.0",
          "state": {
            "_model_module": "@jupyter-widgets/base",
            "_model_module_version": "1.2.0",
            "_model_name": "LayoutModel",
            "_view_count": null,
            "_view_module": "@jupyter-widgets/base",
            "_view_module_version": "1.2.0",
            "_view_name": "LayoutView",
            "align_content": null,
            "align_items": null,
            "align_self": null,
            "border": null,
            "bottom": null,
            "display": null,
            "flex": null,
            "flex_flow": null,
            "grid_area": null,
            "grid_auto_columns": null,
            "grid_auto_flow": null,
            "grid_auto_rows": null,
            "grid_column": null,
            "grid_gap": null,
            "grid_row": null,
            "grid_template_areas": null,
            "grid_template_columns": null,
            "grid_template_rows": null,
            "height": null,
            "justify_content": null,
            "justify_items": null,
            "left": null,
            "margin": null,
            "max_height": null,
            "max_width": null,
            "min_height": null,
            "min_width": null,
            "object_fit": null,
            "object_position": null,
            "order": null,
            "overflow": null,
            "overflow_x": null,
            "overflow_y": null,
            "padding": null,
            "right": null,
            "top": null,
            "visibility": null,
            "width": null
          }
        },
        "96f03431e5b74dc48a05c505d9d6df88": {
          "model_module": "@jupyter-widgets/base",
          "model_name": "LayoutModel",
          "model_module_version": "1.2.0",
          "state": {
            "_model_module": "@jupyter-widgets/base",
            "_model_module_version": "1.2.0",
            "_model_name": "LayoutModel",
            "_view_count": null,
            "_view_module": "@jupyter-widgets/base",
            "_view_module_version": "1.2.0",
            "_view_name": "LayoutView",
            "align_content": null,
            "align_items": null,
            "align_self": null,
            "border": null,
            "bottom": null,
            "display": null,
            "flex": null,
            "flex_flow": null,
            "grid_area": null,
            "grid_auto_columns": null,
            "grid_auto_flow": null,
            "grid_auto_rows": null,
            "grid_column": null,
            "grid_gap": null,
            "grid_row": null,
            "grid_template_areas": null,
            "grid_template_columns": null,
            "grid_template_rows": null,
            "height": null,
            "justify_content": null,
            "justify_items": null,
            "left": null,
            "margin": null,
            "max_height": null,
            "max_width": null,
            "min_height": null,
            "min_width": null,
            "object_fit": null,
            "object_position": null,
            "order": null,
            "overflow": null,
            "overflow_x": null,
            "overflow_y": null,
            "padding": null,
            "right": null,
            "top": null,
            "visibility": null,
            "width": null
          }
        },
        "aa4c371da7424d63bd57322f755737ee": {
          "model_module": "@jupyter-widgets/controls",
          "model_name": "DescriptionStyleModel",
          "model_module_version": "1.5.0",
          "state": {
            "_model_module": "@jupyter-widgets/controls",
            "_model_module_version": "1.5.0",
            "_model_name": "DescriptionStyleModel",
            "_view_count": null,
            "_view_module": "@jupyter-widgets/base",
            "_view_module_version": "1.2.0",
            "_view_name": "StyleView",
            "description_width": ""
          }
        },
        "b6d11e84fbff41d99122c8d3fad77a3f": {
          "model_module": "@jupyter-widgets/base",
          "model_name": "LayoutModel",
          "model_module_version": "1.2.0",
          "state": {
            "_model_module": "@jupyter-widgets/base",
            "_model_module_version": "1.2.0",
            "_model_name": "LayoutModel",
            "_view_count": null,
            "_view_module": "@jupyter-widgets/base",
            "_view_module_version": "1.2.0",
            "_view_name": "LayoutView",
            "align_content": null,
            "align_items": null,
            "align_self": null,
            "border": null,
            "bottom": null,
            "display": null,
            "flex": null,
            "flex_flow": null,
            "grid_area": null,
            "grid_auto_columns": null,
            "grid_auto_flow": null,
            "grid_auto_rows": null,
            "grid_column": null,
            "grid_gap": null,
            "grid_row": null,
            "grid_template_areas": null,
            "grid_template_columns": null,
            "grid_template_rows": null,
            "height": null,
            "justify_content": null,
            "justify_items": null,
            "left": null,
            "margin": null,
            "max_height": null,
            "max_width": null,
            "min_height": null,
            "min_width": null,
            "object_fit": null,
            "object_position": null,
            "order": null,
            "overflow": null,
            "overflow_x": null,
            "overflow_y": null,
            "padding": null,
            "right": null,
            "top": null,
            "visibility": null,
            "width": null
          }
        },
        "ef2c3887d0d44b0da54f89d221dca903": {
          "model_module": "@jupyter-widgets/controls",
          "model_name": "ProgressStyleModel",
          "model_module_version": "1.5.0",
          "state": {
            "_model_module": "@jupyter-widgets/controls",
            "_model_module_version": "1.5.0",
            "_model_name": "ProgressStyleModel",
            "_view_count": null,
            "_view_module": "@jupyter-widgets/base",
            "_view_module_version": "1.2.0",
            "_view_name": "StyleView",
            "bar_color": null,
            "description_width": ""
          }
        },
        "607719beb18b481d8f9ea24a96d7e62e": {
          "model_module": "@jupyter-widgets/base",
          "model_name": "LayoutModel",
          "model_module_version": "1.2.0",
          "state": {
            "_model_module": "@jupyter-widgets/base",
            "_model_module_version": "1.2.0",
            "_model_name": "LayoutModel",
            "_view_count": null,
            "_view_module": "@jupyter-widgets/base",
            "_view_module_version": "1.2.0",
            "_view_name": "LayoutView",
            "align_content": null,
            "align_items": null,
            "align_self": null,
            "border": null,
            "bottom": null,
            "display": null,
            "flex": null,
            "flex_flow": null,
            "grid_area": null,
            "grid_auto_columns": null,
            "grid_auto_flow": null,
            "grid_auto_rows": null,
            "grid_column": null,
            "grid_gap": null,
            "grid_row": null,
            "grid_template_areas": null,
            "grid_template_columns": null,
            "grid_template_rows": null,
            "height": null,
            "justify_content": null,
            "justify_items": null,
            "left": null,
            "margin": null,
            "max_height": null,
            "max_width": null,
            "min_height": null,
            "min_width": null,
            "object_fit": null,
            "object_position": null,
            "order": null,
            "overflow": null,
            "overflow_x": null,
            "overflow_y": null,
            "padding": null,
            "right": null,
            "top": null,
            "visibility": null,
            "width": null
          }
        },
        "cc0930472480448db3d02c63d3f317a3": {
          "model_module": "@jupyter-widgets/controls",
          "model_name": "DescriptionStyleModel",
          "model_module_version": "1.5.0",
          "state": {
            "_model_module": "@jupyter-widgets/controls",
            "_model_module_version": "1.5.0",
            "_model_name": "DescriptionStyleModel",
            "_view_count": null,
            "_view_module": "@jupyter-widgets/base",
            "_view_module_version": "1.2.0",
            "_view_name": "StyleView",
            "description_width": ""
          }
        }
      }
    }
  },
  "nbformat": 4,
  "nbformat_minor": 5
}