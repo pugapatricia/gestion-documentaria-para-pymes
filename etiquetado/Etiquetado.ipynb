{
  "cells": [
    {
      "cell_type": "markdown",
      "id": "f3a71b3b",
      "metadata": {},
      "source": [
        "[![Abrir en Colab](https://colab.research.google.com/assets/colab-badge.svg)](https://colab.research.google.com/github/pugapatricia/gestion-documentaria-para-pymes/blob/main/etiquetado/clasificador.ipynb)"
      ]
    },
    {
      "cell_type": "code",
      "execution_count": 19,
      "id": "3SC0UKYxGlvk",
      "metadata": {
        "id": "3SC0UKYxGlvk"
      },
      "outputs": [],
      "source": [
        "!pip install -qq PyPDF2 python-docx openpyxl python-pptx xlrd transformers office365-rest-python-client msal requests"
      ]
    },
    {
      "cell_type": "code",
      "execution_count": 20,
      "id": "mdG952zUC6cM",
      "metadata": {
        "id": "mdG952zUC6cM"
      },
      "outputs": [],
      "source": [
        "import os\n",
        "import io\n",
        "import re\n",
        "import json\n",
        "from pathlib import Path\n",
        "from PyPDF2 import PdfReader\n",
        "import docx\n",
        "import openpyxl\n",
        "from pptx import Presentation\n",
        "import xlrd\n",
        "from transformers import pipeline\n",
        "from office365.sharepoint.client_context import ClientContext\n",
        "from office365.runtime.auth.user_credential import UserCredential\n",
        "import os\n",
        "import requests\n",
        "import msal\n"
      ]
    },
    {
      "cell_type": "markdown",
      "id": "ptKdGUIiEaHz",
      "metadata": {
        "id": "ptKdGUIiEaHz"
      },
      "source": [
        "# Configuración"
      ]
    },
    {
      "cell_type": "code",
      "execution_count": 35,
      "id": "UAkFWDSoEgGa",
      "metadata": {
        "id": "UAkFWDSoEgGa"
      },
      "outputs": [],
      "source": [
        "CLIENT_ID = \"e3f2393e-7348-47d1-9c64-8d8efe6a5e95\"  # tu nuevo Client ID\n",
        "AUTHORITY = \"https://login.microsoftonline.com/consumers\"\n",
        "SCOPE = [\"User.Read\", \"Files.ReadWrite\"]"
      ]
    },
    {
      "cell_type": "markdown",
      "id": "lKu0-R84Ei__",
      "metadata": {
        "id": "lKu0-R84Ei__"
      },
      "source": [
        "# Autenticación con Device Code Flow"
      ]
    },
    {
      "cell_type": "code",
      "execution_count": 36,
      "id": "4SfZ6bYUEpzF",
      "metadata": {
        "colab": {
          "base_uri": "https://localhost:8080/"
        },
        "id": "4SfZ6bYUEpzF",
        "outputId": "96bbe2c3-6187-4354-9699-38aa4d17a323"
      },
      "outputs": [
        {
          "name": "stdout",
          "output_type": "stream",
          "text": [
            "To sign in, use a web browser to open the page https://www.microsoft.com/link and enter the code 4JM94N9K to authenticate.\n"
          ]
        }
      ],
      "source": [
        "app = msal.PublicClientApplication(CLIENT_ID, authority=AUTHORITY)\n",
        "\n",
        "flow = app.initiate_device_flow(scopes=SCOPE)\n",
        "if \"user_code\" not in flow:\n",
        "    raise Exception(\"No se pudo iniciar el device flow. Revisa tu configuración en Azure.\")\n",
        "\n",
        "print(flow[\"message\"])\n",
        "result = app.acquire_token_by_device_flow(flow)\n",
        "\n",
        "if \"access_token\" not in result:\n",
        "    raise Exception(f\"Error autenticación: {result.get('error_description')}\")\n",
        "\n",
        "access_token = result[\"access_token\"]"
      ]
    },
    {
      "cell_type": "code",
      "execution_count": 37,
      "id": "PQElvs7-IXvz",
      "metadata": {
        "colab": {
          "base_uri": "https://localhost:8080/"
        },
        "id": "PQElvs7-IXvz",
        "outputId": "ba5924cd-c2c8-45a4-8b18-8f0828416ae3"
      },
      "outputs": [
        {
          "name": "stdout",
          "output_type": "stream",
          "text": [
            "✅ Usuario autenticado: marcomendieta08@gmail.com\n"
          ]
        }
      ],
      "source": [
        "me = requests.get(\n",
        "    \"https://graph.microsoft.com/v1.0/me\",\n",
        "    headers={\"Authorization\": f\"Bearer {access_token}\"}\n",
        ").json()\n",
        "print(\"✅ Usuario autenticado:\", me.get(\"userPrincipalName\"))"
      ]
    },
    {
      "cell_type": "code",
      "execution_count": 44,
      "id": "9f9VemX1Jb8W",
      "metadata": {
        "colab": {
          "base_uri": "https://localhost:8080/"
        },
        "id": "9f9VemX1Jb8W",
        "outputId": "83aba409-153e-45e6-8ad1-59f06ae035e2"
      },
      "outputs": [
        {
          "name": "stdout",
          "output_type": "stream",
          "text": [
            "\n",
            "Elementos en la raíz de tu OneDrive personal:\n",
            "- Attachments → 📁 Carpeta\n",
            "- Documents → 📁 Carpeta\n",
            "- Etiquetados → 📁 Carpeta\n"
          ]
        }
      ],
      "source": [
        "url = f\"https://graph.microsoft.com/v1.0/me/drive/root/children\"\n",
        "resp = requests.get(url, headers={\"Authorization\": f\"Bearer {access_token}\"})\n",
        "data = resp.json()\n",
        "\n",
        "print(\"\\nElementos en la raíz de tu OneDrive personal:\")\n",
        "for item in data.get(\"value\", []):\n",
        "    tipo = \"📁 Carpeta\" if \"folder\" in item else \"📄 Archivo\"\n",
        "    print(\"-\", item.get(\"name\"), \"→\", tipo)\n"
      ]
    },
    {
      "cell_type": "markdown",
      "id": "vEz8gZ5gEtgv",
      "metadata": {
        "id": "vEz8gZ5gEtgv"
      },
      "source": [
        "# Llamada a OneDrive"
      ]
    },
    {
      "cell_type": "code",
      "execution_count": 45,
      "id": "3Py7QbhKIaKO",
      "metadata": {
        "colab": {
          "base_uri": "https://localhost:8080/"
        },
        "id": "3Py7QbhKIaKO",
        "outputId": "1ad2c518-af81-46cb-dc13-0fd66022322e"
      },
      "outputs": [
        {
          "name": "stdout",
          "output_type": "stream",
          "text": [
            "\n",
            "Archivos en la carpeta Etiquetados:\n",
            "- .DS_Store → https://onedrive.live.com?cid=9F68595D59F0B70B&id=9F68595D59F0B70B!s49f62d124226477da7f2a291252612d9\n",
            "- 11_07_2019_modelo_orientativo_de_contrato_de_arrendamiento_de_vivienda.pdf → https://onedrive.live.com?cid=9F68595D59F0B70B&id=9F68595D59F0B70B!sc1bb0c8d90404e3f8ae92438b23c4747\n",
            "- 2016-admitidos_Segundo ciclo- Cursos monográficos.xls → https://onedrive.live.com/personal/9f68595d59f0b70b/_layouts/15/doc.aspx?resid=78aae573-4f90-4067-84d2-5ad06797bcc6&cid=9f68595d59f0b70b\n",
            "- 2023_05-Modelo_Documento_reserva_inmueble_en_alquiler_v.reducida.docx → https://onedrive.live.com/personal/9f68595d59f0b70b/_layouts/15/doc.aspx?resid=c776b69a-0375-4771-b022-1ba01443bd62&cid=9f68595d59f0b70b\n",
            "- 660d1bfb7c43622a597a4000_Non-disclosure agreement nda template contract.pdf → https://onedrive.live.com?cid=9F68595D59F0B70B&id=9F68595D59F0B70B!s4a608a7d57454825ad5d41ffb84e3a6b\n",
            "- Acuerdo_no_Divulgacion_Unilateral_UE.pdf → https://onedrive.live.com?cid=9F68595D59F0B70B&id=9F68595D59F0B70B!s4ec0c98b22a54efcbd5c24a5c48f443e\n",
            "- Acuerdo-de-Confidencialidad-OEPM.pdf → https://onedrive.live.com?cid=9F68595D59F0B70B&id=9F68595D59F0B70B!sf19ff522718c419a9b690306cc9c759d\n",
            "- AnaLiliana_SuarezHerrera_WelmarFernandoRinconTorres_2018_Anexo1.pptx → https://onedrive.live.com/personal/9f68595d59f0b70b/_layouts/15/doc.aspx?resid=c160a4c9-92a7-4df0-983d-e9055c5ffe4d&cid=9f68595d59f0b70b\n",
            "- Analisis de interpretacion de estados financieros.pptx → https://onedrive.live.com/personal/9f68595d59f0b70b/_layouts/15/doc.aspx?resid=5c094422-0e4c-44ee-b07c-fced191a48d7&cid=9f68595d59f0b70b\n",
            "- Análisis Financiero del Proyecto.xls → https://onedrive.live.com/personal/9f68595d59f0b70b/_layouts/15/doc.aspx?resid=a2793ac5-5ba5-4258-84bd-ea32e87716c9&cid=9f68595d59f0b70b\n",
            "- ANALISIS FINANCIERO.xls → https://onedrive.live.com/personal/9f68595d59f0b70b/_layouts/15/doc.aspx?resid=484f70c6-a292-45d6-bc1a-00e97ed0d4c8&cid=9f68595d59f0b70b\n",
            "- biblioteca2-csv.xls → https://onedrive.live.com/personal/9f68595d59f0b70b/_layouts/15/doc.aspx?resid=afcd78aa-1949-4673-a489-d154e05519e0&cid=9f68595d59f0b70b\n",
            "- contrato_alquiler_opcion_compra.pdf → https://onedrive.live.com?cid=9F68595D59F0B70B&id=9F68595D59F0B70B!s7f0b6b0175334312b943ef23ab771919\n",
            "- ContratoAlquiler_reducido.pdf → https://onedrive.live.com?cid=9F68595D59F0B70B&id=9F68595D59F0B70B!s2406759fbd0040dfa6aa1d47c6c04f56\n",
            "- contrato-de-confidencialidad-freelancer-plantilla-gratis-word.docx → https://onedrive.live.com/personal/9f68595d59f0b70b/_layouts/15/doc.aspx?resid=242c9733-061e-4c92-bf59-90acfbca19a1&cid=9f68595d59f0b70b\n",
            "- Etiquetado.ipynb → https://onedrive.live.com?cid=9F68595D59F0B70B&id=9F68595D59F0B70B!s3ef9edb0ba864da48c7571bebe33c88f\n",
            "- etiquetas_onedrive.json → https://onedrive.live.com?cid=9F68595D59F0B70B&id=9F68595D59F0B70B!s9957bb66214c4568b6819da44822d207\n",
            "- Formulario_EX00_I28202503542693.pdf → https://onedrive.live.com?cid=9F68595D59F0B70B&id=9F68595D59F0B70B!sb18616aedd5c4627a0492f1a54a1039e\n",
            "- Formulario_EX00_I28202503542693_signed.pdf → https://onedrive.live.com?cid=9F68595D59F0B70B&id=9F68595D59F0B70B!sf0bec9335707485cadff3d42915566be\n",
            "- Justificante de Presentación REG.pdf → https://onedrive.live.com?cid=9F68595D59F0B70B&id=9F68595D59F0B70B!s576284cde47b47c68a6357b173081139\n",
            "- Libros 2º Bac HH-CCSS.xls → https://onedrive.live.com/personal/9f68595d59f0b70b/_layouts/15/doc.aspx?resid=b70e4ba3-f579-4518-8105-c2b21be1e243&cid=9f68595d59f0b70b\n",
            "- modelo_contrato_alquiler_temporada.docx → https://onedrive.live.com/personal/9f68595d59f0b70b/_layouts/15/doc.aspx?resid=b35d9672-2d7d-4b5e-b3b6-996363c96351&cid=9f68595d59f0b70b\n",
            "- modelo-contrato-alquiler-finca-rustica_arquitasa.pdf → https://onedrive.live.com?cid=9F68595D59F0B70B&id=9F68595D59F0B70B!s4d4d2590b78348dc9da50a1fb319f776\n",
            "- modelo-rescision-contrato-alquiler-vivienda_arquitasa.docx → https://onedrive.live.com/personal/9f68595d59f0b70b/_layouts/15/doc.aspx?resid=11b6f7d0-1162-4306-afb4-089df63e98f2&cid=9f68595d59f0b70b\n",
            "- OscarJair_RiveraGordillo_EditYohana_DiazMuñoz_2018_Anexo1.pptx → https://onedrive.live.com/personal/9f68595d59f0b70b/_layouts/15/doc.aspx?resid=2395331c-5317-4e75-bb41-5fc19e1f9b46&cid=9f68595d59f0b70b\n",
            "- presentacic3b3n-def-santoto.pptx → https://onedrive.live.com/personal/9f68595d59f0b70b/_layouts/15/doc.aspx?resid=fa39b717-056d-40dd-99df-691f84ea9bc6&cid=9f68595d59f0b70b\n",
            "- Prorroga_estancia_estudios.pdf.pdf.pdf → https://onedrive.live.com?cid=9F68595D59F0B70B&id=9F68595D59F0B70B!sfae2b4f154304b29b65737e722ba5615\n"
          ]
        }
      ],
      "source": [
        "url = \"https://graph.microsoft.com/v1.0/me/drive/root:/Etiquetados:/children\"\n",
        "resp = requests.get(url, headers={\"Authorization\": f\"Bearer {access_token}\"})\n",
        "data = resp.json()\n",
        "\n",
        "print(\"\\nArchivos en la carpeta Etiquetados:\")\n",
        "for item in data.get(\"value\", []):\n",
        "    if \"folder\" not in item:  # 👉 esto asegura que sea archivo, no carpeta\n",
        "        print(\"-\", item.get(\"name\"), \"→\", item.get(\"webUrl\", \"sin URL\"))"
      ]
    },
    {
      "cell_type": "markdown",
      "id": "4DeQIjjMFAAx",
      "metadata": {
        "id": "4DeQIjjMFAAx"
      },
      "source": [
        "# Lista de etiquetas personalizadas"
      ]
    },
    {
      "cell_type": "code",
      "execution_count": 47,
      "id": "jwDw6yYoFC4S",
      "metadata": {
        "id": "jwDw6yYoFC4S"
      },
      "outputs": [],
      "source": [
        "etiquetas = [\n",
        "    \"Finanzas\", \"Contabilidad\", \"FacturasEmitidas\", \"FacturasRecibidas\",\n",
        "    \"Nóminas\", \"Bancos\", \"RecursosHumanos\", \"Contratos\", \"CVsCandidatos\",\n",
        "    \"Formación\", \"PolíticasInternas\", \"Legal\", \"Clientes\", \"Proveedores\",\n",
        "    \"LicenciasPermisos\", \"Operaciones\", \"Proyectos\", \"Procesos\", \"Calidad\"\n",
        "]\n",
        "\n",
        "ext_permitidas = {\"pdf\", \"docx\", \"xlsx\", \"xls\", \"pptx\", \"txt\", \"csv\"}\n"
      ]
    },
    {
      "cell_type": "markdown",
      "id": "fGLBYpx2FJqW",
      "metadata": {
        "id": "fGLBYpx2FJqW"
      },
      "source": [
        "# 4. Clasificador Hugging Face Zero-Shot\n"
      ]
    },
    {
      "cell_type": "code",
      "execution_count": 49,
      "id": "XqETdx4wFL4e",
      "metadata": {
        "colab": {
          "base_uri": "https://localhost:8080/"
        },
        "id": "XqETdx4wFL4e",
        "outputId": "41073be0-7669-4754-c872-85fa5e151647"
      },
      "outputs": [
        {
          "name": "stderr",
          "output_type": "stream",
          "text": [
            "Device set to use cuda:0\n"
          ]
        }
      ],
      "source": [
        "classifier = pipeline(\"zero-shot-classification\", model=\"facebook/bart-large-mnli\")\n",
        "\n",
        "def limpiar_texto(texto: str) -> str:\n",
        "    if not texto:\n",
        "        return \"\"\n",
        "    texto = texto.lower()\n",
        "    texto = re.sub(r\"\\s+\", \" \", texto)\n",
        "    texto = re.sub(r\"[^a-záéíóúñ0-9\\s]\", \"\", texto)  # elimina caracteres raros\n",
        "    return texto.strip()\n",
        "\n",
        "# =========================\n",
        "# Función para clasificar un texto\n",
        "# =========================\n",
        "def clasificar_texto(texto: str, etiquetas: list, threshold: float = 0.5) -> list:\n",
        "    \"\"\"\n",
        "    Clasifica un texto en base a las etiquetas definidas.\n",
        "    Devuelve solo las etiquetas cuyo score >= threshold.\n",
        "    \"\"\"\n",
        "    texto_limpio = limpiar_texto(texto)\n",
        "    result = classifier(\n",
        "        texto_limpio,\n",
        "        candidate_labels=etiquetas,\n",
        "        multi_label=True\n",
        "    )\n",
        "    # Filtrar etiquetas por score\n",
        "    etiquetas_finales = [\n",
        "        label for label, score in zip(result[\"labels\"], result[\"scores\"]) if score >= threshold\n",
        "    ]\n",
        "    return etiquetas_finales\n"
      ]
    },
    {
      "cell_type": "markdown",
      "id": "7Ef_77r5FO6p",
      "metadata": {
        "id": "7Ef_77r5FO6p"
      },
      "source": [
        "# 5. Lectores de documentos"
      ]
    },
    {
      "cell_type": "code",
      "execution_count": 11,
      "id": "RTR5h05bFUDm",
      "metadata": {
        "id": "RTR5h05bFUDm"
      },
      "outputs": [],
      "source": [
        "def leer_archivo(nombre, contenido, limite=2000):\n",
        "    ext = nombre.split(\".\")[-1].lower()\n",
        "    texto = \"\"\n",
        "    try:\n",
        "        if ext == \"pdf\":\n",
        "            reader = PdfReader(io.BytesIO(contenido))\n",
        "            for page in reader.pages:\n",
        "                if page.extract_text():\n",
        "                    texto += page.extract_text() + \"\\n\"\n",
        "                    if len(texto) >= limite: break\n",
        "        elif ext == \"docx\":\n",
        "            doc = docx.Document(io.BytesIO(contenido))\n",
        "            for p in doc.paragraphs:\n",
        "                if p.text.strip():\n",
        "                    texto += p.text + \"\\n\"\n",
        "                    if len(texto) >= limite: break\n",
        "        elif ext == \"xlsx\":\n",
        "            wb = openpyxl.load_workbook(io.BytesIO(contenido), data_only=True, read_only=True)\n",
        "            for sheet in wb.worksheets:\n",
        "                for row in sheet.iter_rows(values_only=True):\n",
        "                    texto += \" \".join([str(cell) for cell in row if cell]) + \"\\n\"\n",
        "                    if len(texto) >= limite: break\n",
        "        elif ext == \"xls\":\n",
        "            with open(\"temp.xls\", \"wb\") as f: f.write(contenido)\n",
        "            wb = xlrd.open_workbook(\"temp.xls\")\n",
        "            for sheet in wb.sheets():\n",
        "                for row_idx in range(sheet.nrows):\n",
        "                    row = sheet.row_values(row_idx)\n",
        "                    texto += \" \".join([str(cell) for cell in row if cell]) + \"\\n\"\n",
        "                    if len(texto) >= limite: break\n",
        "        elif ext == \"pptx\":\n",
        "            with open(\"temp.pptx\", \"wb\") as f: f.write(contenido)\n",
        "            prs = Presentation(\"temp.pptx\")\n",
        "            for slide in prs.slides:\n",
        "                for shape in slide.shapes:\n",
        "                    if hasattr(shape, \"text\") and shape.text.strip():\n",
        "                        texto += shape.text + \"\\n\"\n",
        "                        if len(texto) >= limite: break\n",
        "        elif ext in [\"txt\", \"csv\"]:\n",
        "            texto = contenido.decode(\"utf-8\", errors=\"ignore\")[:limite]\n",
        "    except Exception as e:\n",
        "        print(f\"⚠️ Error leyendo {nombre}: {e}\")\n",
        "        return \"\"\n",
        "    return limpiar_texto(texto[:limite])"
      ]
    },
    {
      "cell_type": "markdown",
      "id": "iP-8OQLNFVA_",
      "metadata": {
        "id": "iP-8OQLNFVA_"
      },
      "source": [
        "# 6. Función de etiquetado"
      ]
    },
    {
      "cell_type": "code",
      "execution_count": 12,
      "id": "wPL4R9b-FY-D",
      "metadata": {
        "id": "wPL4R9b-FY-D"
      },
      "outputs": [],
      "source": [
        "def etiquetar_texto(texto):\n",
        "    res = classifier(texto, candidate_labels=etiquetas, multi_label=True)\n",
        "    return [label for label, score in zip(res[\"labels\"], res[\"scores\"]) if score > 0.3]"
      ]
    },
    {
      "cell_type": "markdown",
      "id": "eFJR7GKaFaRk",
      "metadata": {
        "id": "eFJR7GKaFaRk"
      },
      "source": [
        "# 7. Leer archivos de OneDrive"
      ]
    },
    {
      "cell_type": "code",
      "execution_count": 13,
      "id": "r8dBhXbyFfLP",
      "metadata": {
        "colab": {
          "base_uri": "https://localhost:8080/"
        },
        "id": "r8dBhXbyFfLP",
        "outputId": "437128ef-0668-4983-dc5f-0b14699fcf2b"
      },
      "outputs": [
        {
          "name": "stdout",
          "output_type": "stream",
          "text": [
            "📂 Procesando Introducción a OneDrive.pdf...\n",
            "✅ Introducción a OneDrive.pdf → ['Proyectos', 'Contratos', 'Procesos', 'Contabilidad', 'Formación', 'Operaciones', 'Proveedores', 'Calidad', 'FacturasRecibidas', 'RecursosHumanos', 'FacturasEmitidas', 'Finanzas', 'Bancos', 'PolíticasInternas', 'Nóminas', 'Clientes', 'CVsCandidatos', 'LicenciasPermisos']\n"
          ]
        }
      ],
      "source": [
        "url = \"https://graph.microsoft.com/v1.0/me/drive/root/children\"\n",
        "response = requests.get(url, headers=headers)\n",
        "data = response.json()\n",
        "\n",
        "resultados = {}\n",
        "for item in data.get(\"value\", []):\n",
        "    nombre = item[\"name\"]\n",
        "    if not any(nombre.lower().endswith(ext) for ext in ext_permitidas):\n",
        "        continue\n",
        "    print(f\"📂 Procesando {nombre}...\")\n",
        "\n",
        "    # Descargar archivo\n",
        "    download_url = item[\"@microsoft.graph.downloadUrl\"]\n",
        "    file_bytes = requests.get(download_url).content\n",
        "\n",
        "    # Extraer texto\n",
        "    texto = leer_archivo(nombre, file_bytes)\n",
        "    if texto:\n",
        "        etiquetas_detectadas = etiquetar_texto(texto)\n",
        "        resultados[nombre] = etiquetas_detectadas\n",
        "        print(f\"✅ {nombre} → {etiquetas_detectadas}\")\n",
        "    else:\n",
        "        resultados[nombre] = []\n",
        "        print(f\"⚠️ No se pudo leer {nombre}\")"
      ]
    },
    {
      "cell_type": "markdown",
      "id": "MTA1Lj9jFgy1",
      "metadata": {
        "id": "MTA1Lj9jFgy1"
      },
      "source": [
        "# 8. Guardar resultados"
      ]
    },
    {
      "cell_type": "code",
      "execution_count": null,
      "id": "LG0oigjOFgiy",
      "metadata": {
        "id": "LG0oigjOFgiy"
      },
      "outputs": [],
      "source": [
        "with open(\"etiquetas_onedrive.json\", \"w\", encoding=\"utf-8\") as f:\n",
        "    json.dump(resultados, f, ensure_ascii=False, indent=4)\n",
        "\n",
        "print(\"📌 Resultados guardados en etiquetas_onedrive.json\")"
      ]
    },
    {
      "cell_type": "code",
      "execution_count": null,
      "id": "e3005d25",
      "metadata": {
        "id": "e3005d25"
      },
      "outputs": [],
      "source": [
        "# ============================\n",
        "# Configuración\n",
        "# ============================\n",
        "json_path = \"etiquetas_onedrive.json\"\n",
        "headers = {\"Authorization\": f\"Bearer {access_token}\"}\n",
        "\n",
        "# Carpeta objetivo en OneDrive\n",
        "carpeta_objetivo = \"Etiquetados\"\n",
        "\n",
        "# ============================\n",
        "# Cargar JSON de etiquetas\n",
        "# ============================\n",
        "with open(json_path, \"r\", encoding=\"utf-8\") as f:\n",
        "    etiquetas_data = json.load(f)\n",
        "\n",
        "# ============================\n",
        "# Aplicar etiquetas en la descripción\n",
        "# ============================\n",
        "for archivo, etiquetas in etiquetas_data.items():\n",
        "    if not etiquetas:\n",
        "        continue\n",
        "\n",
        "    # Buscar archivo en OneDrive\n",
        "    url_file = f\"https://graph.microsoft.com/v1.0/me/drive/root:/{carpeta_objetivo}/{archivo}\"\n",
        "    resp_file = requests.get(url_file, headers=headers)\n",
        "\n",
        "    if resp_file.status_code != 200:\n",
        "        print(f\"⚠️ No se encontró {archivo} en OneDrive\")\n",
        "        continue\n",
        "\n",
        "    file_id = resp_file.json()[\"id\"]\n",
        "\n",
        "    # Guardamos etiquetas en el campo \"description\"\n",
        "    url_update = f\"https://graph.microsoft.com/v1.0/me/drive/items/{file_id}\"\n",
        "    payload = {\"description\": \", \".join(etiquetas)}\n",
        "\n",
        "    response_update = requests.patch(\n",
        "        url_update,\n",
        "        headers={**headers, \"Content-Type\": \"application/json\"},\n",
        "        json=payload\n",
        "    )\n",
        "\n",
        "    if response_update.status_code in [200, 204]:\n",
        "        print(f\"✅ Etiquetas {etiquetas} aplicadas a {archivo} en la descripción\")\n",
        "    else:\n",
        "        print(f\"⚠️ Error al actualizar {archivo}: {response_update.text}\")\n"
      ]
    }
  ],
  "metadata": {
    "accelerator": "GPU",
    "colab": {
      "gpuType": "T4",
      "provenance": []
    },
    "kernelspec": {
      "display_name": "Python 3",
      "name": "python3"
    },
    "language_info": {
      "codemirror_mode": {
        "name": "ipython",
        "version": 3
      },
      "file_extension": ".py",
      "mimetype": "text/x-python",
      "name": "python",
      "nbconvert_exporter": "python",
      "pygments_lexer": "ipython3",
      "version": "3.13.1"
    }
  },
  "nbformat": 4,
  "nbformat_minor": 5
}
