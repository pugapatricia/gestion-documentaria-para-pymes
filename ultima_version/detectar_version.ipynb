{
  "cells": [
    {
      "cell_type": "markdown",
      "id": "f3a71b3b",
      "metadata": {
        "id": "f3a71b3b"
      },
      "source": [
        "[![Abrir en Colab](https://colab.research.google.com/assets/colab-badge.svg)](https://colab.research.google.com/github/pugapatricia/gestion-documentaria-para-pymes/blob/main/etiquetado/Etiquetado.ipynb)"
      ]
    },
    {
      "cell_type": "markdown",
      "id": "e5bcb24e",
      "metadata": {
        "id": "e5bcb24e"
      },
      "source": [
        "[![Ver en GitHub](https://img.shields.io/badge/GitHub-Repo-black?logo=github)](https://github.com/pugapatricia/gestion-documentaria-para-pymes/tree/main/etiquetado)"
      ]
    },
    {
      "cell_type": "code",
      "execution_count": null,
      "id": "3SC0UKYxGlvk",
      "metadata": {
        "id": "3SC0UKYxGlvk"
      },
      "outputs": [],
      "source": [
        "!pip install -qq requests pdfplumber python-docx openai scikit-learn sentence-transformers numpy"
      ]
    },
    {
      "cell_type": "code",
      "execution_count": null,
      "id": "mdG952zUC6cM",
      "metadata": {
        "id": "mdG952zUC6cM"
      },
      "outputs": [],
      "source": [
        "import requests\n",
        "import os\n",
        "from io import BytesIO\n",
        "from docx import Document\n",
        "import pdfplumber\n",
        "import openai\n",
        "from sklearn.metrics.pairwise import cosine_similarity\n",
        "from sentence_transformers import SentenceTransformer\n",
        "import numpy as np"
      ]
    },
    {
      "cell_type": "markdown",
      "id": "ptKdGUIiEaHz",
      "metadata": {
        "id": "ptKdGUIiEaHz"
      },
      "source": [
        "# Configuración"
      ]
    },
    {
      "cell_type": "code",
      "execution_count": null,
      "id": "UAkFWDSoEgGa",
      "metadata": {
        "id": "UAkFWDSoEgGa"
      },
      "outputs": [],
      "source": [
        "CLIENT_ID = \"e3f2393e-7348-47d1-9c64-8d8efe6a5e95\"  # tu nuevo Client ID\n",
        "AUTHORITY = \"https://login.microsoftonline.com/consumers\"\n",
        "SCOPE = [\"User.Read\", \"Files.ReadWrite\"]\n",
        "\n",
        "folder_name = \"Etiquetados\"\n",
        "local_temp_folder = \"temp_download\"\n",
        "os.makedirs(local_temp_folder, exist_ok=True)"
      ]
    },
    {
      "cell_type": "markdown",
      "id": "lKu0-R84Ei__",
      "metadata": {
        "id": "lKu0-R84Ei__"
      },
      "source": [
        "# Autenticación con Device Code Flow"
      ]
    },
    {
      "cell_type": "code",
      "execution_count": null,
      "id": "4SfZ6bYUEpzF",
      "metadata": {
        "id": "4SfZ6bYUEpzF"
      },
      "outputs": [],
      "source": [
        "app = msal.PublicClientApplication(CLIENT_ID, authority=AUTHORITY)\n",
        "\n",
        "flow = app.initiate_device_flow(scopes=SCOPE)\n",
        "if \"user_code\" not in flow:\n",
        "    raise Exception(\"No se pudo iniciar el device flow. Revisa tu configuración en Azure.\")\n",
        "\n",
        "print(flow[\"message\"])\n",
        "result = app.acquire_token_by_device_flow(flow)\n",
        "\n",
        "if \"access_token\" not in result:\n",
        "    raise Exception(f\"Error autenticación: {result.get('error_description')}\")\n",
        "\n",
        "access_token = result[\"access_token\"]\n",
        "\n",
        "# =========================\n",
        "# Definir headers para Graph API\n",
        "# =========================\n",
        "headers = {\"Authorization\": f\"Bearer {access_token}\"}\n",
        "\n",
        "# Verificar usuario autenticado\n",
        "me = requests.get(\n",
        "    \"https://graph.microsoft.com/v1.0/me\",\n",
        "    headers=headers\n",
        ").json()\n",
        "print(\"✅ Usuario autenticado:\", me.get(\"userPrincipalName\"))\n"
      ]
    },
    {
      "cell_type": "markdown",
      "id": "vEz8gZ5gEtgv",
      "metadata": {
        "id": "vEz8gZ5gEtgv"
      },
      "source": [
        "# Llamada a OneDrive"
      ]
    },
    {
      "cell_type": "code",
      "execution_count": null,
      "id": "3Py7QbhKIaKO",
      "metadata": {
        "id": "3Py7QbhKIaKO"
      },
      "outputs": [],
      "source": [
        "\n",
        "url = \"https://graph.microsoft.com/v1.0/me/drive/root:/Etiquetados:/children\"\n",
        "resp = requests.get(url, headers={\"Authorization\": f\"Bearer {access_token}\"})\n",
        "data = resp.json()\n",
        "\n",
        "print(\"\\nArchivos en la carpeta Etiquetados:\")\n",
        "for item in data.get(\"value\", []):\n",
        "    if \"folder\" not in item:  # 👉 esto asegura que sea archivo, no carpeta\n",
        "        print(\"-\", item.get(\"name\"), \"→\", item.get(\"webUrl\", \"sin URL\"))"
      ]
    },
    {
      "cell_type": "code",
      "source": [
        "# Modelo para embeddings (puedes usar OpenAI o sentence-transformers)\n",
        "model = SentenceTransformer('all-MiniLM-L6-v2')  # rápido y eficiente para similitud de texto"
      ],
      "metadata": {
        "id": "6OpaHVd7tEAl"
      },
      "id": "6OpaHVd7tEAl",
      "execution_count": null,
      "outputs": []
    },
    {
      "cell_type": "markdown",
      "source": [
        "# Funciones de extracción de texto"
      ],
      "metadata": {
        "id": "xd-3MSyatFEj"
      },
      "id": "xd-3MSyatFEj"
    },
    {
      "cell_type": "code",
      "source": [
        "def extract_text(file_name, file_bytes):\n",
        "    if file_name.lower().endswith(\".pdf\"):\n",
        "        with pdfplumber.open(BytesIO(file_bytes)) as pdf:\n",
        "            texto = \"\\n\".join(page.extract_text() or \"\" for page in pdf.pages)\n",
        "        return texto\n",
        "    elif file_name.lower().endswith(\".docx\"):\n",
        "        doc = Document(BytesIO(file_bytes))\n",
        "        texto = \"\\n\".join([p.text for p in doc.paragraphs])\n",
        "        return texto\n",
        "    else:\n",
        "        return None  # tipos de archivo no soportados"
      ],
      "metadata": {
        "id": "Vozqt9nOtIxR"
      },
      "id": "Vozqt9nOtIxR",
      "execution_count": null,
      "outputs": []
    },
    {
      "cell_type": "markdown",
      "source": [
        "# Descargar archivos y extraer texto"
      ],
      "metadata": {
        "id": "pjoG-wTEtKIy"
      },
      "id": "pjoG-wTEtKIy"
    },
    {
      "cell_type": "code",
      "source": [
        "archivos_texto = {}\n",
        "url = f\"https://graph.microsoft.com/v1.0/me/drive/root:/{folder_name}:/children\"\n",
        "resp = requests.get(url, headers=headers)\n",
        "data = resp.json()\n",
        "\n",
        "for item in data.get(\"value\", []):\n",
        "    if \"folder\" in item:\n",
        "        continue\n",
        "    file_name = item[\"name\"]\n",
        "    if file_name.startswith(\".\"):\n",
        "        continue\n",
        "\n",
        "    download_url = item[\"@microsoft.graph.downloadUrl\"]\n",
        "    file_bytes = requests.get(download_url).content\n",
        "\n",
        "    texto = extract_text(file_name, file_bytes)\n",
        "    if texto:\n",
        "        archivos_texto[file_name] = texto.lower().replace(\"\\n\", \" \").strip()"
      ],
      "metadata": {
        "id": "b8ozLXw3tNrh"
      },
      "id": "b8ozLXw3tNrh",
      "execution_count": null,
      "outputs": []
    },
    {
      "cell_type": "markdown",
      "source": [
        "# Calcular embeddings y similitud"
      ],
      "metadata": {
        "id": "J6-7ouEXtSaL"
      },
      "id": "J6-7ouEXtSaL"
    },
    {
      "cell_type": "code",
      "source": [
        "nombres = list(archivos_texto.keys())\n",
        "textos = [archivos_texto[n] for n in nombres]\n",
        "embeddings = model.encode(textos)\n",
        "\n",
        "duplicados = set()\n",
        "for i in range(len(embeddings)):\n",
        "    for j in range(i+1, len(embeddings)):\n",
        "        sim = cosine_similarity([embeddings[i]], [embeddings[j]])[0][0]\n",
        "        if sim > 0.95:  # umbral de similitud\n",
        "            duplicados.add((nombres[i], nombres[j]))"
      ],
      "metadata": {
        "id": "iR6bLPJFtUK5"
      },
      "id": "iR6bLPJFtUK5",
      "execution_count": null,
      "outputs": []
    },
    {
      "cell_type": "markdown",
      "source": [
        "# Resultado final"
      ],
      "metadata": {
        "id": "l5tZuxj4tXFA"
      },
      "id": "l5tZuxj4tXFA"
    },
    {
      "cell_type": "code",
      "source": [
        "print(f\"⚠️ Total de duplicados detectados: {len(duplicados)}\")\n",
        "for a, b in duplicados:\n",
        "    print(f\"   - {a} ≈ {b}\")"
      ],
      "metadata": {
        "id": "lRqu5EHQoH0p"
      },
      "id": "lRqu5EHQoH0p",
      "execution_count": null,
      "outputs": []
    }
  ],
  "metadata": {
    "colab": {
      "provenance": []
    },
    "kernelspec": {
      "display_name": "Python 3",
      "name": "python3"
    },
    "language_info": {
      "codemirror_mode": {
        "name": "ipython",
        "version": 3
      },
      "file_extension": ".py",
      "mimetype": "text/x-python",
      "name": "python",
      "nbconvert_exporter": "python",
      "pygments_lexer": "ipython3",
      "version": "3.13.1"
    }
  },
  "nbformat": 4,
  "nbformat_minor": 5
}