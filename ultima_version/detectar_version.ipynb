{
  "cells": [
    {
      "cell_type": "markdown",
      "id": "f3a71b3b",
      "metadata": {
        "id": "f3a71b3b"
      },
      "source": [
        "[![Abrir en Colab](https://colab.research.google.com/assets/colab-badge.svg)](https://colab.research.google.com/github/pugapatricia/gestion-documentaria-para-pymes/blob/main/etiquetado/Etiquetado.ipynb)"
      ]
    },
    {
      "cell_type": "markdown",
      "id": "e5bcb24e",
      "metadata": {
        "id": "e5bcb24e"
      },
      "source": [
        "[![Ver en GitHub](https://img.shields.io/badge/GitHub-Repo-black?logo=github)](https://github.com/pugapatricia/gestion-documentaria-para-pymes/tree/main/etiquetado)"
      ]
    },
    {
      "cell_type": "code",
      "execution_count": 20,
      "id": "3SC0UKYxGlvk",
      "metadata": {
        "id": "3SC0UKYxGlvk"
      },
      "outputs": [],
      "source": [
        "!pip install -qq requests pdfplumber python-docx openai scikit-learn sentence-transformers numpy"
      ]
    },
    {
      "cell_type": "code",
      "execution_count": 21,
      "id": "mdG952zUC6cM",
      "metadata": {
        "id": "mdG952zUC6cM"
      },
      "outputs": [],
      "source": [
        "import requests\n",
        "import os\n",
        "from io import BytesIO\n",
        "from docx import Document\n",
        "import pdfplumber\n",
        "import openai\n",
        "from sklearn.metrics.pairwise import cosine_similarity\n",
        "from sentence_transformers import SentenceTransformer\n",
        "import numpy as np"
      ]
    },
    {
      "cell_type": "markdown",
      "id": "ptKdGUIiEaHz",
      "metadata": {
        "id": "ptKdGUIiEaHz"
      },
      "source": [
        "# Configuración"
      ]
    },
    {
      "cell_type": "code",
      "execution_count": 24,
      "id": "UAkFWDSoEgGa",
      "metadata": {
        "id": "UAkFWDSoEgGa"
      },
      "outputs": [],
      "source": [
        "CLIENT_ID = \"e3f2393e-7348-47d1-9c64-8d8efe6a5e95\"  # tu nuevo Client ID\n",
        "AUTHORITY = \"https://login.microsoftonline.com/consumers\"\n",
        "SCOPE = [\"User.Read\", \"Files.ReadWrite\"]\n",
        "\n",
        "folder_name = \"Etiquetados\"\n",
        "local_temp_folder = \"temp_download\"\n",
        "os.makedirs(local_temp_folder, exist_ok=True)"
      ]
    },
    {
      "cell_type": "markdown",
      "id": "lKu0-R84Ei__",
      "metadata": {
        "id": "lKu0-R84Ei__"
      },
      "source": [
        "# Autenticación con Device Code Flow"
      ]
    },
    {
      "cell_type": "code",
      "execution_count": 13,
      "id": "4SfZ6bYUEpzF",
      "metadata": {
        "colab": {
          "base_uri": "https://localhost:8080/"
        },
        "id": "4SfZ6bYUEpzF",
        "outputId": "936aa178-1b4f-430b-d373-12e9de87ac7e"
      },
      "outputs": [
        {
          "output_type": "stream",
          "name": "stdout",
          "text": [
            "To sign in, use a web browser to open the page https://www.microsoft.com/link and enter the code XRNPT6YC to authenticate.\n",
            "✅ Usuario autenticado: marcomendieta08@gmail.com\n"
          ]
        }
      ],
      "source": [
        "app = msal.PublicClientApplication(CLIENT_ID, authority=AUTHORITY)\n",
        "\n",
        "flow = app.initiate_device_flow(scopes=SCOPE)\n",
        "if \"user_code\" not in flow:\n",
        "    raise Exception(\"No se pudo iniciar el device flow. Revisa tu configuración en Azure.\")\n",
        "\n",
        "print(flow[\"message\"])\n",
        "result = app.acquire_token_by_device_flow(flow)\n",
        "\n",
        "if \"access_token\" not in result:\n",
        "    raise Exception(f\"Error autenticación: {result.get('error_description')}\")\n",
        "\n",
        "access_token = result[\"access_token\"]\n",
        "\n",
        "# =========================\n",
        "# Definir headers para Graph API\n",
        "# =========================\n",
        "headers = {\"Authorization\": f\"Bearer {access_token}\"}\n",
        "\n",
        "# Verificar usuario autenticado\n",
        "me = requests.get(\n",
        "    \"https://graph.microsoft.com/v1.0/me\",\n",
        "    headers=headers\n",
        ").json()\n",
        "print(\"✅ Usuario autenticado:\", me.get(\"userPrincipalName\"))\n"
      ]
    },
    {
      "cell_type": "markdown",
      "id": "vEz8gZ5gEtgv",
      "metadata": {
        "id": "vEz8gZ5gEtgv"
      },
      "source": [
        "# Llamada a OneDrive"
      ]
    },
    {
      "cell_type": "code",
      "execution_count": 25,
      "id": "3Py7QbhKIaKO",
      "metadata": {
        "colab": {
          "base_uri": "https://localhost:8080/"
        },
        "id": "3Py7QbhKIaKO",
        "outputId": "bae288ba-ce34-4492-9074-b143f9fe3d1a"
      },
      "outputs": [
        {
          "output_type": "stream",
          "name": "stdout",
          "text": [
            "\n",
            "Archivos en la carpeta Etiquetados:\n",
            "- 11_07_2019_modelo_orientativo_de_contrato_de_arrendamiento_de_vivienda.pdf → https://onedrive.live.com?cid=9F68595D59F0B70B&id=9F68595D59F0B70B!sc1bb0c8d90404e3f8ae92438b23c4747\n",
            "- 2016-admitidos_Segundo ciclo- Cursos monográficos.xls → https://onedrive.live.com/personal/9f68595d59f0b70b/_layouts/15/doc.aspx?resid=78aae573-4f90-4067-84d2-5ad06797bcc6&cid=9f68595d59f0b70b\n",
            "- 2023_05-Modelo_Documento_reserva_inmueble_en_alquiler_v.reducida.docx → https://onedrive.live.com/personal/9f68595d59f0b70b/_layouts/15/doc.aspx?resid=c776b69a-0375-4771-b022-1ba01443bd62&cid=9f68595d59f0b70b\n",
            "- 660d1bfb7c43622a597a4000_Non-disclosure agreement nda template contract.pdf → https://onedrive.live.com?cid=9F68595D59F0B70B&id=9F68595D59F0B70B!s4a608a7d57454825ad5d41ffb84e3a6b\n",
            "- Acuerdo_no_Divulgacion_Unilateral_UE.pdf → https://onedrive.live.com?cid=9F68595D59F0B70B&id=9F68595D59F0B70B!s4ec0c98b22a54efcbd5c24a5c48f443e\n",
            "- Acuerdo-de-Confidencialidad-OEPM.pdf → https://onedrive.live.com?cid=9F68595D59F0B70B&id=9F68595D59F0B70B!sf19ff522718c419a9b690306cc9c759d\n",
            "- AnaLiliana_SuarezHerrera_WelmarFernandoRinconTorres_2018_Anexo1.pptx → https://onedrive.live.com/personal/9f68595d59f0b70b/_layouts/15/doc.aspx?resid=c160a4c9-92a7-4df0-983d-e9055c5ffe4d&cid=9f68595d59f0b70b\n",
            "- Analisis de interpretacion de estados financieros.pptx → https://onedrive.live.com/personal/9f68595d59f0b70b/_layouts/15/doc.aspx?resid=5c094422-0e4c-44ee-b07c-fced191a48d7&cid=9f68595d59f0b70b\n",
            "- Análisis Financiero del Proyecto.xls → https://onedrive.live.com/personal/9f68595d59f0b70b/_layouts/15/doc.aspx?resid=a2793ac5-5ba5-4258-84bd-ea32e87716c9&cid=9f68595d59f0b70b\n",
            "- ANALISIS FINANCIERO.xls → https://onedrive.live.com/personal/9f68595d59f0b70b/_layouts/15/doc.aspx?resid=484f70c6-a292-45d6-bc1a-00e97ed0d4c8&cid=9f68595d59f0b70b\n",
            "- biblioteca2-csv.xls → https://onedrive.live.com/personal/9f68595d59f0b70b/_layouts/15/doc.aspx?resid=afcd78aa-1949-4673-a489-d154e05519e0&cid=9f68595d59f0b70b\n",
            "- contrato_alquiler_opcion_compra.pdf → https://onedrive.live.com?cid=9F68595D59F0B70B&id=9F68595D59F0B70B!s7f0b6b0175334312b943ef23ab771919\n",
            "- ContratoAlquiler_reducido.pdf → https://onedrive.live.com?cid=9F68595D59F0B70B&id=9F68595D59F0B70B!s2406759fbd0040dfa6aa1d47c6c04f56\n",
            "- contrato-de-confidencialidad-freelancer-plantilla-gratis-word.docx → https://onedrive.live.com/personal/9f68595d59f0b70b/_layouts/15/doc.aspx?resid=242c9733-061e-4c92-bf59-90acfbca19a1&cid=9f68595d59f0b70b\n",
            "- Formulario_EX00_I28202503542693.pdf → https://onedrive.live.com?cid=9F68595D59F0B70B&id=9F68595D59F0B70B!sb18616aedd5c4627a0492f1a54a1039e\n",
            "- Formulario_EX00_I28202503542693_signed.pdf → https://onedrive.live.com?cid=9F68595D59F0B70B&id=9F68595D59F0B70B!sf0bec9335707485cadff3d42915566be\n",
            "- JOtracosa de prueba.pdf → https://onedrive.live.com?cid=9F68595D59F0B70B&id=9F68595D59F0B70B!sa523391572d1484da901a5dd0eb57005\n",
            "- Justificante de Presentación REG.pdf → https://onedrive.live.com?cid=9F68595D59F0B70B&id=9F68595D59F0B70B!s576284cde47b47c68a6357b173081139\n",
            "- Libros 2º Bac HH-CCSS.xls → https://onedrive.live.com/personal/9f68595d59f0b70b/_layouts/15/doc.aspx?resid=b70e4ba3-f579-4518-8105-c2b21be1e243&cid=9f68595d59f0b70b\n",
            "- modelo_contrato_alquiler_temporada.docx → https://onedrive.live.com/personal/9f68595d59f0b70b/_layouts/15/doc.aspx?resid=b35d9672-2d7d-4b5e-b3b6-996363c96351&cid=9f68595d59f0b70b\n",
            "- modelo-contrato-alquiler-finca-rustica_arquitasa.pdf → https://onedrive.live.com?cid=9F68595D59F0B70B&id=9F68595D59F0B70B!s4d4d2590b78348dc9da50a1fb319f776\n",
            "- modelo-rescision-contrato-alquiler-vivienda_arquitasa.docx → https://onedrive.live.com/personal/9f68595d59f0b70b/_layouts/15/doc.aspx?resid=11b6f7d0-1162-4306-afb4-089df63e98f2&cid=9f68595d59f0b70b\n",
            "- OscarJair_RiveraGordillo_EditYohana_DiazMuñoz_2018_Anexo1.pptx → https://onedrive.live.com/personal/9f68595d59f0b70b/_layouts/15/doc.aspx?resid=2395331c-5317-4e75-bb41-5fc19e1f9b46&cid=9f68595d59f0b70b\n",
            "- presentacic3b3n-def-santoto.pptx → https://onedrive.live.com/personal/9f68595d59f0b70b/_layouts/15/doc.aspx?resid=fa39b717-056d-40dd-99df-691f84ea9bc6&cid=9f68595d59f0b70b\n",
            "- Prorroga_estancia_estudios.pdf.pdf.pdf → https://onedrive.live.com?cid=9F68595D59F0B70B&id=9F68595D59F0B70B!sfae2b4f154304b29b65737e722ba5615\n"
          ]
        }
      ],
      "source": [
        "\n",
        "url = \"https://graph.microsoft.com/v1.0/me/drive/root:/Etiquetados:/children\"\n",
        "resp = requests.get(url, headers={\"Authorization\": f\"Bearer {access_token}\"})\n",
        "data = resp.json()\n",
        "\n",
        "print(\"\\nArchivos en la carpeta Etiquetados:\")\n",
        "for item in data.get(\"value\", []):\n",
        "    if \"folder\" not in item:  # 👉 esto asegura que sea archivo, no carpeta\n",
        "        print(\"-\", item.get(\"name\"), \"→\", item.get(\"webUrl\", \"sin URL\"))"
      ]
    },
    {
      "cell_type": "code",
      "source": [
        "# Modelo para embeddings (puedes usar OpenAI o sentence-transformers)\n",
        "model = SentenceTransformer('all-MiniLM-L6-v2')  # rápido y eficiente para similitud de texto"
      ],
      "metadata": {
        "id": "6OpaHVd7tEAl"
      },
      "id": "6OpaHVd7tEAl",
      "execution_count": 26,
      "outputs": []
    },
    {
      "cell_type": "markdown",
      "source": [
        "# Funciones de extracción de texto"
      ],
      "metadata": {
        "id": "xd-3MSyatFEj"
      },
      "id": "xd-3MSyatFEj"
    },
    {
      "cell_type": "code",
      "source": [
        "def extract_text(file_name, file_bytes):\n",
        "    if file_name.lower().endswith(\".pdf\"):\n",
        "        with pdfplumber.open(BytesIO(file_bytes)) as pdf:\n",
        "            texto = \"\\n\".join(page.extract_text() or \"\" for page in pdf.pages)\n",
        "        return texto\n",
        "    elif file_name.lower().endswith(\".docx\"):\n",
        "        doc = Document(BytesIO(file_bytes))\n",
        "        texto = \"\\n\".join([p.text for p in doc.paragraphs])\n",
        "        return texto\n",
        "    else:\n",
        "        return None  # tipos de archivo no soportados"
      ],
      "metadata": {
        "id": "Vozqt9nOtIxR"
      },
      "id": "Vozqt9nOtIxR",
      "execution_count": 27,
      "outputs": []
    },
    {
      "cell_type": "markdown",
      "source": [
        "# Descargar archivos y extraer texto"
      ],
      "metadata": {
        "id": "pjoG-wTEtKIy"
      },
      "id": "pjoG-wTEtKIy"
    },
    {
      "cell_type": "code",
      "source": [
        "archivos_texto = {}\n",
        "url = f\"https://graph.microsoft.com/v1.0/me/drive/root:/{folder_name}:/children\"\n",
        "resp = requests.get(url, headers=headers)\n",
        "data = resp.json()\n",
        "\n",
        "for item in data.get(\"value\", []):\n",
        "    if \"folder\" in item:\n",
        "        continue\n",
        "    file_name = item[\"name\"]\n",
        "    if file_name.startswith(\".\"):\n",
        "        continue\n",
        "\n",
        "    download_url = item[\"@microsoft.graph.downloadUrl\"]\n",
        "    file_bytes = requests.get(download_url).content\n",
        "\n",
        "    texto = extract_text(file_name, file_bytes)\n",
        "    if texto:\n",
        "        archivos_texto[file_name] = texto.lower().replace(\"\\n\", \" \").strip()"
      ],
      "metadata": {
        "id": "b8ozLXw3tNrh"
      },
      "id": "b8ozLXw3tNrh",
      "execution_count": 28,
      "outputs": []
    },
    {
      "cell_type": "markdown",
      "source": [
        "# Calcular embeddings y similitud"
      ],
      "metadata": {
        "id": "J6-7ouEXtSaL"
      },
      "id": "J6-7ouEXtSaL"
    },
    {
      "cell_type": "code",
      "source": [
        "nombres = list(archivos_texto.keys())\n",
        "textos = [archivos_texto[n] for n in nombres]\n",
        "embeddings = model.encode(textos)\n",
        "\n",
        "duplicados = set()\n",
        "for i in range(len(embeddings)):\n",
        "    for j in range(i+1, len(embeddings)):\n",
        "        sim = cosine_similarity([embeddings[i]], [embeddings[j]])[0][0]\n",
        "        if sim > 0.95:  # umbral de similitud\n",
        "            duplicados.add((nombres[i], nombres[j]))"
      ],
      "metadata": {
        "id": "iR6bLPJFtUK5"
      },
      "id": "iR6bLPJFtUK5",
      "execution_count": 29,
      "outputs": []
    },
    {
      "cell_type": "markdown",
      "source": [
        "# Resultado final"
      ],
      "metadata": {
        "id": "l5tZuxj4tXFA"
      },
      "id": "l5tZuxj4tXFA"
    },
    {
      "cell_type": "code",
      "source": [
        "print(f\"⚠️ Total de duplicados detectados: {len(duplicados)}\")\n",
        "for a, b in duplicados:\n",
        "    print(f\"   - {a} ≈ {b}\")"
      ],
      "metadata": {
        "id": "lRqu5EHQoH0p",
        "outputId": "accdf258-ef0d-4937-e0cd-f078e2e130dd",
        "colab": {
          "base_uri": "https://localhost:8080/"
        }
      },
      "id": "lRqu5EHQoH0p",
      "execution_count": 30,
      "outputs": [
        {
          "output_type": "stream",
          "name": "stdout",
          "text": [
            "⚠️ Total de duplicados detectados: 5\n",
            "   - modelo-contrato-alquiler-finca-rustica_arquitasa.pdf ≈ modelo-rescision-contrato-alquiler-vivienda_arquitasa.docx\n",
            "   - JOtracosa de prueba.pdf ≈ Justificante de Presentación REG.pdf\n",
            "   - 11_07_2019_modelo_orientativo_de_contrato_de_arrendamiento_de_vivienda.pdf ≈ modelo-contrato-alquiler-finca-rustica_arquitasa.pdf\n",
            "   - 11_07_2019_modelo_orientativo_de_contrato_de_arrendamiento_de_vivienda.pdf ≈ modelo-rescision-contrato-alquiler-vivienda_arquitasa.docx\n",
            "   - Formulario_EX00_I28202503542693.pdf ≈ Formulario_EX00_I28202503542693_signed.pdf\n"
          ]
        }
      ]
    }
  ],
  "metadata": {
    "colab": {
      "provenance": []
    },
    "kernelspec": {
      "display_name": "Python 3",
      "name": "python3"
    },
    "language_info": {
      "codemirror_mode": {
        "name": "ipython",
        "version": 3
      },
      "file_extension": ".py",
      "mimetype": "text/x-python",
      "name": "python",
      "nbconvert_exporter": "python",
      "pygments_lexer": "ipython3",
      "version": "3.13.1"
    }
  },
  "nbformat": 4,
  "nbformat_minor": 5
}